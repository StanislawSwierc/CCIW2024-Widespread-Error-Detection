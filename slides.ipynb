{
 "cells": [
  {
   "cell_type": "markdown",
   "id": "7c5fa4d7",
   "metadata": {
    "slideshow": {
     "slide_type": "slide"
    }
   },
   "source": [
    "# Widespread Error Detection in Large Scale Continuous Integration Systems\n",
    "\n",
    "---\n",
    "\n",
    "- Stanislaw Swierc (stansw)\n",
    "- James Lu (luchangj)\n",
    "- Thomas Yi (thomasyi)\n",
    "\n",
    "\\* @meta.com\n",
    "\n",
    "https://github.com/StanislawSwierc/CCIW2024-Widespread-Error-Detection\n",
    "\n",
    "<img src=\"http://s21.q4cdn.com/399680738/files/design/2022/01/Meta_lockup_positive-primary_RGB-(1).jpg\" style=\"float:right;\">"
   ]
  },
  {
   "cell_type": "markdown",
   "id": "b918cdd8",
   "metadata": {
    "slideshow": {
     "slide_type": "slide"
    }
   },
   "source": [
    "# Disclaimer\n",
    "\n",
    "> This presentation contains sample code with a basic pipeline for detecting widespread errors in the React open-source project.\n",
    ">\n",
    ">It does NOT contain any code, logs or data internal to Meta Platforms, Inc.\n"
   ]
  },
  {
   "cell_type": "markdown",
   "id": "372e44a7",
   "metadata": {
    "slideshow": {
     "slide_type": "notes"
    }
   },
   "source": [
    "# Notes: Goal\n",
    "\n",
    "> The goal of this presentation is to share enough ideas and sample code for you to go back from this conference, build a prototype and get a green light from your leadership to move forward! Then, you can extend it to meet the unique needs of your company."
   ]
  },
  {
   "cell_type": "markdown",
   "id": "e5d185dc",
   "metadata": {
    "slideshow": {
     "slide_type": "slide"
    }
   },
   "source": [
    "# Motivation\n",
    "\n",
    "> Improve developer productivity by quickly detecting and mitigating the impact of widespread errors.\n",
    "\n"
   ]
  },
  {
   "cell_type": "markdown",
   "id": "b7db93ba",
   "metadata": {
    "slideshow": {
     "slide_type": "subslide"
    }
   },
   "source": [
    "# Motivation: Widespread Errors\n",
    "\n",
    "Widespread errors are commonly infrastructural errors that falsely block developers from integrating their code changes into the mainline branch.\n",
    "\n",
    "Why is this bad?\n",
    "- **Productivity** - Developers waste time trying to fix code, when it is not at fault.\n",
    "- **Trust** - Erodes confidence in CI System's ability to produce validation signals.\n",
    "- **Efficiency** - Need to re-run failing validation, thus, wasting machine resources."
   ]
  },
  {
   "cell_type": "markdown",
   "id": "874dae0c",
   "metadata": {
    "slideshow": {
     "slide_type": "subslide"
    }
   },
   "source": [
    "# Motivation: Impact vs. Frequency\n",
    "\n",
    "We can organize errors by number of affected people and how common they are:\n",
    "\n"
   ]
  },
  {
   "cell_type": "markdown",
   "id": "82ad9103",
   "metadata": {
    "cell_style": "split"
   },
   "source": [
    "<img src=\"media/impact_vs_frequency.png\" style=\"width:550px;\"/>"
   ]
  },
  {
   "cell_type": "markdown",
   "id": "a1f22191",
   "metadata": {
    "cell_style": "split"
   },
   "source": [
    "Challenges\n",
    "- Rare, widespread errors may appear like a group of concentrated errors.\n",
    "- Capturing signatures of rare, widespread errors is only good for retroactive analysis, but not for detection.\n"
   ]
  },
  {
   "cell_type": "code",
   "execution_count": 1,
   "id": "85d0b87a",
   "metadata": {
    "slideshow": {
     "slide_type": "skip"
    }
   },
   "outputs": [],
   "source": [
    "import os\n",
    "import re2\n",
    "import requests\n",
    "import jsonlines\n",
    "import numpy as np\n",
    "import pandas as pd\n",
    "\n",
    "from datetime import datetime\n",
    "#from tqdm.notebook import trange, tqdm\n",
    "from tqdm import tqdm"
   ]
  },
  {
   "cell_type": "code",
   "execution_count": 2,
   "id": "fc74f1b0",
   "metadata": {
    "slideshow": {
     "slide_type": "skip"
    }
   },
   "outputs": [
    {
     "data": {
      "text/html": [
       "<style>.container { width:80% !important; }</style>"
      ],
      "text/plain": [
       "<IPython.core.display.HTML object>"
      ]
     },
     "metadata": {},
     "output_type": "display_data"
    }
   ],
   "source": [
    "from IPython.display import display, HTML\n",
    "display(HTML(\"<style>.container { width:80% !important; }</style>\"))"
   ]
  },
  {
   "cell_type": "code",
   "execution_count": 3,
   "id": "c1834c78",
   "metadata": {
    "slideshow": {
     "slide_type": "skip"
    }
   },
   "outputs": [],
   "source": [
    "import plotly.express as px\n",
    "import plotly.io as pio\n",
    "import plotly.figure_factory as ff\n",
    "import plotly.graph_objects as go\n",
    "\n",
    "pio.templates.default = \"plotly_white\"\n",
    "\n",
    "default_layout = dict(\n",
    "    width=1200,\n",
    "    legend=dict(\n",
    "        orientation=\"h\",\n",
    "        yanchor=\"bottom\",\n",
    "        y=1.02,\n",
    "        xanchor=\"right\",\n",
    "        x=1\n",
    "    ),\n",
    "    margin=dict(\n",
    "        l=10,\n",
    "        r=10,\n",
    "        b=10,\n",
    "        t=20,\n",
    "    ),\n",
    ")\n",
    "\n",
    "# https://plotly.com/python/renderers/\n",
    "# https://plotly.com/python/troubleshooting/#jupyter-classic-notebook-problems\n",
    "CLASSIC = True\n",
    "if CLASSIC:\n",
    "    pio.renderers.default=\"svg\""
   ]
  },
  {
   "cell_type": "markdown",
   "id": "3a8d7f47",
   "metadata": {
    "slideshow": {
     "slide_type": "slide"
    }
   },
   "source": [
    "# React Case Study\n",
    "\n",
    "React uses CircleCI to validate pull requests and the health of the mainline branch.\n",
    "\n",
    "- **Project** - validation configuration for the code repository\n",
    "  - **Pipeline** - group of workflows\n",
    "    - **Workflow** - graph of jobs\n",
    "      - **Job** - set of steps executed sequentially\n",
    "        - **Step/Action** - execution unit\n",
    "          - **Logs** - standard output and summary\n",
    "        \n",
    "        \n",
    "\n",
    "\n",
    "*https://circleci.com/docs/concepts*"
   ]
  },
  {
   "cell_type": "markdown",
   "id": "67803cbb",
   "metadata": {
    "slideshow": {
     "slide_type": "subslide"
    }
   },
   "source": [
    "# React Case Study: CircleCI API\n",
    "CircleCI offers an API to fetch information about pipelines and other resources all the way to individual logs."
   ]
  },
  {
   "cell_type": "code",
   "execution_count": 4,
   "id": "c0c625ab",
   "metadata": {
    "cell_style": "split",
    "slideshow": {
     "slide_type": "-"
    }
   },
   "outputs": [],
   "source": [
    "from pycircleci.api import Api\n",
    "\n",
    "ORG = \"facebook\"\n",
    "PROJECT = \"react\"\n",
    "TOKEN = \"{token}\" \n",
    "\n",
    "client = Api(token=TOKEN)"
   ]
  },
  {
   "cell_type": "code",
   "execution_count": 5,
   "id": "5461244e",
   "metadata": {
    "cell_style": "split"
   },
   "outputs": [],
   "source": [
    "%%script true\n",
    "\n",
    "client.get_project_pipelines(...\n",
    "client.get_pipeline_workflow(...\n",
    "client.get_workflow_jobs(...\n",
    "client.get_job_details_v1(...\n",
    "client._session.get(action[\"output_url\"])"
   ]
  },
  {
   "cell_type": "code",
   "execution_count": 6,
   "id": "5475bbf8",
   "metadata": {
    "slideshow": {
     "slide_type": "skip"
    }
   },
   "outputs": [],
   "source": [
    "from requests_ratelimiter import LimiterAdapter\n",
    "\n",
    "def configure_rate_limiting(client):\n",
    "    adapter = LimiterAdapter(per_second=5)\n",
    "    client._session.mount('http://', adapter)\n",
    "    client._session.mount('https://', adapter)\n",
    "\n",
    "configure_rate_limiting(client)"
   ]
  },
  {
   "cell_type": "code",
   "execution_count": 7,
   "id": "11c5e132",
   "metadata": {
    "slideshow": {
     "slide_type": "skip"
    }
   },
   "outputs": [],
   "source": [
    "# Monkey patch pycircleci.Api and add a new method.\n",
    "\n",
    "def get_job_details_v1(self, username, project, job_number, vcs_type=\"github\"):\n",
    "    \"\"\"Get job details using v1 api.\n",
    "\n",
    "    This api offers additional details about steps.\n",
    "    \"\"\"\n",
    "    slug = self.project_slug(username, project, vcs_type)\n",
    "    endpoint = f\"project/{slug}/{job_number}\"\n",
    "    resp = self._request(\"GET\", endpoint, api_version=\"v1.1\")\n",
    "    return resp\n",
    "\n",
    "Api.get_job_details_v1 = get_job_details_v1"
   ]
  },
  {
   "cell_type": "code",
   "execution_count": 8,
   "id": "7576e76f",
   "metadata": {
    "slideshow": {
     "slide_type": "skip"
    }
   },
   "outputs": [],
   "source": [
    "def update_workflows(client, org, project, pipeline):\n",
    "    \"\"\"Set information about workflows.\"\"\"\n",
    "    if \"workflows\" not in pipeline:\n",
    "        workflows = client.get_pipeline_workflow(pipeline[\"id\"], paginate=True)\n",
    "        pipeline[\"workflows\"] = workflows\n",
    "\n",
    "def update_jobs(client, org, project, pipeline):\n",
    "    \"\"\"Set information about jobs.\"\"\"\n",
    "    for workflow in [\n",
    "        w\n",
    "        for w in pipeline.get(\"workflows\", [])\n",
    "        if \"jobs\" not in w\n",
    "    ]:\n",
    "        jobs = client.get_workflow_jobs(workflow[\"id\"], paginate=True)\n",
    "        workflow[\"jobs\"] = jobs\n",
    "\n",
    "def update_job_details(client, org, project, pipeline, job_status=None):\n",
    "    \"\"\"Set detailed information about jobs.\"\"\"\n",
    "    for job in [\n",
    "        j \n",
    "        for w in pipeline.get(\"workflows\", [])\n",
    "        for j in w.get(\"jobs\", [])\n",
    "        if \"details\" not in j \n",
    "            and \"job_number\" in j \n",
    "            and (job_status is None or j[\"status\"] == job_status)\n",
    "    ]:\n",
    "        job_details = client.get_job_details(org, project, job[\"job_number\"])\n",
    "        job[\"details\"] = job_details\n",
    "\n",
    "def update_steps(client, org, project, pipeline, job_status=None, action_status=None):\n",
    "    \"\"\"Set very detailed information about jobs, steps and actions.\"\"\"\n",
    "    for job in tqdm([\n",
    "        j\n",
    "        for w in pipeline.get(\"workflows\", [])\n",
    "        for j in w.get(\"jobs\", [])\n",
    "        if \"details_v1\" not in j\n",
    "            and \"job_number\" in j\n",
    "            and (job_status is None or j[\"status\"] == job_status)\n",
    "    ], leave=False, desc=\"Jobs\"):\n",
    "        job_details = client.get_job_details_v1(org, project, job[\"job_number\"])\n",
    "\n",
    "        # Fetch output immediately because \"output_url\" has an access\n",
    "        # token, which is valid only for 5 minutes. \n",
    "        for action in [\n",
    "            a \n",
    "            for s in job_details[\"steps\"]\n",
    "            for a in s[\"actions\"]\n",
    "            if \"output_url\" in a \n",
    "                and \"output\" not in a\n",
    "                and (action_status is None or a[\"status\"] == action_status)\n",
    "        ]:\n",
    "            resp = client._session.get(action[\"output_url\"])\n",
    "            resp.raise_for_status()\n",
    "            action[\"output\"] = resp.json()\n",
    "\n",
    "        job[\"details_v1\"] = job_details"
   ]
  },
  {
   "cell_type": "code",
   "execution_count": 9,
   "id": "3c9640a7",
   "metadata": {
    "slideshow": {
     "slide_type": "skip"
    }
   },
   "outputs": [
    {
     "name": "stderr",
     "output_type": "stream",
     "text": [
      "5000it [00:17, 283.87it/s]\n"
     ]
    }
   ],
   "source": [
    "pipelines_path = 'pipelines.jsonl'\n",
    "\n",
    "if os.path.exists(pipelines_path):\n",
    "    with jsonlines.open(pipelines_path) as reader:\n",
    "        pipelines = list(tqdm(reader)) \n",
    "else:\n",
    "    pipelines = client.get_project_pipelines(org, project, paginate=True, limit=1000)\n",
    "\n",
    "    np.random.seed(42)\n",
    "    for pipeline in tqdm(pipelines, desc=\"Pipelines\"):\n",
    "        update_workflows(client, org, project, pipeline)   \n",
    "        update_jobs(client, org, project, pipeline)\n",
    "        if np.random.rand() < 0.99:\n",
    "            update_steps(client, org, project, pipeline,\n",
    "                job_status=\"failed\", action_status=\"failed\")\n",
    "        else:\n",
    "            update_steps(client, org, project, pipeline)\n",
    "\n",
    "    with jsonlines.open(pipelines_path, mode='w') as writer:\n",
    "        for p in pipelines:\n",
    "            writer.write(p)"
   ]
  },
  {
   "cell_type": "code",
   "execution_count": 10,
   "id": "3a8d9068",
   "metadata": {
    "slideshow": {
     "slide_type": "skip"
    }
   },
   "outputs": [],
   "source": [
    "# https://stackoverflow.com/questions/14693701\n",
    "ansi_escape_sequences_regex = re2.compile(\n",
    "    r'\\x1B(?:[@-Z\\\\-_]|\\[[0-?]*[ -/]*[@-~])')\n",
    "\n",
    "def remove_ansi_escape_sequences(text):\n",
    "    return ansi_escape_sequences_regex.sub(\"\", text)"
   ]
  },
  {
   "cell_type": "code",
   "execution_count": 11,
   "id": "40d17271",
   "metadata": {
    "slideshow": {
     "slide_type": "skip"
    }
   },
   "outputs": [
    {
     "name": "stderr",
     "output_type": "stream",
     "text": [
      "100%|██████████████████████████████████████████████████████| 5000/5000 [00:57<00:00, 86.24it/s]\n"
     ]
    }
   ],
   "source": [
    "actions = pd.DataFrame(\n",
    "[\n",
    "    { \n",
    "        \"pipeline_id\": p[\"id\"],\n",
    "        #\"pipeline_number\": p[\"number\"],\n",
    "        #\"pipeline_vcs_branch\": p[\"vcs\"][\"branch\"],\n",
    "        \"pipeline_actor_login\": p[\"trigger\"][\"actor\"][\"login\"],\n",
    "        \"workflow_id\": w[\"id\"],\n",
    "        \"workflow_name\": w[\"name\"],\n",
    "        \"workflow_status\": w[\"status\"],\n",
    "        \"job_id\": j[\"id\"],\n",
    "        #\"job_number\": j[\"job_number\"],\n",
    "        \"job_name\": j[\"name\"],\n",
    "        \"job_status\": j[\"status\"],\n",
    "        \"job_link\": f\"https://app.circleci.com/pipelines/github/facebook/react/{p[\"number\"]}/workflows/{w[\"id\"]}/jobs/{j[\"job_number\"]}/parallel-runs/{a[\"index\"]}?filterBy=ALL\",\n",
    "        \"action_name\": a[\"name\"],\n",
    "        \"action_fully_qualified_name\": \"/\".join([w[\"name\"], j[\"name\"], a[\"name\"]]),\n",
    "        \"action_index\": a[\"index\"],\n",
    "        \"action_status\": a[\"status\"],\n",
    "        \"action_output_time\": datetime.fromisoformat(o[\"time\"]),\n",
    "        \"action_output_message\": remove_ansi_escape_sequences(o[\"message\"]),\n",
    "        \"action_output_type\": o[\"type\"],        \n",
    "    }   \n",
    "    for p in tqdm(pipelines)\n",
    "    for w in p.get(\"workflows\", [])\n",
    "    for j in w.get(\"jobs\", [])\n",
    "    for s in j.get(\"details_v1\", {}).get(\"steps\", [])\n",
    "    for a in s.get(\"actions\", [])\n",
    "    for o in a.get(\"output\", [])\n",
    "]).assign(\n",
    "    action_output_date = lambda df: df[\"action_output_time\"].dt.round(\"1d\")\n",
    ")"
   ]
  },
  {
   "cell_type": "code",
   "execution_count": 12,
   "id": "fc7928f5",
   "metadata": {},
   "outputs": [
    {
     "name": "stdout",
     "output_type": "stream",
     "text": [
      "4.4G\tpipelines.jsonl\r\n"
     ]
    }
   ],
   "source": [
    "!du -h pipelines.jsonl"
   ]
  },
  {
   "cell_type": "markdown",
   "id": "dec5d529",
   "metadata": {},
   "source": [
    "*https://circleci.com/docs/api/v2/index.html*  \n",
    "*https://circleci.com/docs/managing-api-tokens*"
   ]
  },
  {
   "cell_type": "markdown",
   "id": "1d4f2147",
   "metadata": {
    "slideshow": {
     "slide_type": "subslide"
    }
   },
   "source": [
    "# # React Case Study: Actions Fact Table\n"
   ]
  },
  {
   "cell_type": "code",
   "execution_count": 13,
   "id": "e725bc2f",
   "metadata": {
    "slideshow": {
     "slide_type": "-"
    }
   },
   "outputs": [
    {
     "name": "stdout",
     "output_type": "stream",
     "text": [
      "<class 'pandas.core.frame.DataFrame'>\n",
      "RangeIndex: 341630 entries, 0 to 341629\n",
      "Data columns (total 17 columns):\n",
      " #   Column                       Non-Null Count   Dtype              \n",
      "---  ------                       --------------   -----              \n",
      " 0   pipeline_id                  341630 non-null  object             \n",
      " 1   pipeline_actor_login         341630 non-null  object             \n",
      " 2   workflow_id                  341630 non-null  object             \n",
      " 3   workflow_name                341630 non-null  object             \n",
      " 4   workflow_status              341630 non-null  object             \n",
      " 5   job_id                       341630 non-null  object             \n",
      " 6   job_name                     341630 non-null  object             \n",
      " 7   job_status                   341630 non-null  object             \n",
      " 8   job_link                     341630 non-null  object             \n",
      " 9   action_name                  341630 non-null  object             \n",
      " 10  action_fully_qualified_name  341630 non-null  object             \n",
      " 11  action_index                 341630 non-null  int64              \n",
      " 12  action_status                341630 non-null  object             \n",
      " 13  action_output_time           341630 non-null  datetime64[ns, UTC]\n",
      " 14  action_output_message        341630 non-null  object             \n",
      " 15  action_output_type           341630 non-null  object             \n",
      " 16  action_output_date           341630 non-null  datetime64[ns, UTC]\n",
      "dtypes: datetime64[ns, UTC](2), int64(1), object(14)\n",
      "memory usage: 44.3+ MB\n"
     ]
    }
   ],
   "source": [
    "actions.info()"
   ]
  },
  {
   "cell_type": "markdown",
   "id": "47791ce9",
   "metadata": {
    "slideshow": {
     "slide_type": "slide"
    }
   },
   "source": [
    "# Pipeline Design\n",
    "\n",
    "<img src=\"media/component_diagram_1.png\" style=\"height:700px;\"/>"
   ]
  },
  {
   "cell_type": "markdown",
   "id": "62fb3f89",
   "metadata": {
    "slideshow": {
     "slide_type": "slide"
    }
   },
   "source": [
    "# Extraction"
   ]
  },
  {
   "cell_type": "markdown",
   "id": "843a7e42",
   "metadata": {
    "slideshow": {
     "slide_type": "subslide"
    }
   },
   "source": [
    "# Extraction\n",
    "\n",
    "Given a log file for a failed build or tests, extracts the snippet describing the error.\n",
    "\n",
    "\n",
    "1. **Federated solution** - allow teams to provide custom rules for extracting relevant error snippets.\n",
    "2. **General solution** - find lines which appear only in logs of failed actions.\n"
   ]
  },
  {
   "cell_type": "markdown",
   "id": "b71d3240",
   "metadata": {
    "slideshow": {
     "slide_type": "subslide"
    }
   },
   "source": [
    "# Extraction: Example\n",
    "\n",
    "<!--![](media/error_snippet.png)-->\n",
    "\n",
    "<img src=\"media/error_snippet.png\" style=\"height:700px;\"/>"
   ]
  },
  {
   "cell_type": "markdown",
   "id": "c8dcfde6",
   "metadata": {
    "slideshow": {
     "slide_type": "skip"
    }
   },
   "source": [
    "https://app.circleci.com/pipelines/github/facebook/react/50369/workflows/a074d639-5829-4708-b5c1-3bb69610b578/jobs/780483/parallel-runs/10?filterBy=ALL"
   ]
  },
  {
   "cell_type": "markdown",
   "id": "5d41244c",
   "metadata": {
    "slideshow": {
     "slide_type": "subslide"
    }
   },
   "source": [
    "# Extraction: Sample Code"
   ]
  },
  {
   "cell_type": "code",
   "execution_count": 14,
   "id": "f349b0a8",
   "metadata": {
    "slideshow": {
     "slide_type": "skip"
    }
   },
   "outputs": [],
   "source": [
    "import cachetools\n",
    "from collections import defaultdict\n",
    "\n",
    "token_regex = re2.compile(r\"\\b[[:alpha:]_][[:alpha:][:digit:]_-]+\")\n",
    "\n",
    "def parse_line(text):\n",
    "    return \";\".join(token_regex.findall(text))"
   ]
  },
  {
   "cell_type": "code",
   "execution_count": 15,
   "id": "4a3ca80b",
   "metadata": {
    "slideshow": {
     "slide_type": "-"
    }
   },
   "outputs": [],
   "source": [
    "def assign_action_output_failure(df, cache_size=2048):\n",
    "    result = []\n",
    "    action_cache = defaultdict(lambda: cachetools.LRUCache(cache_size))\n",
    "    for i, row in tqdm(df.iterrows(), total=len(df)):\n",
    "        failure_lines = []\n",
    "        success_cache = action_cache[row[\"action_fully_qualified_name\"]]\n",
    "        for line in row[\"action_output_message\"].splitlines():\n",
    "            template = parse_line(line)\n",
    "            \n",
    "            if row[\"action_status\"] == \"success\":\n",
    "                success_cache[template] = True\n",
    "            elif not template or template not in success_cache:\n",
    "                failure_lines.append(line)\n",
    "                \n",
    "        result.append(\"\\n\".join(failure_lines))\n",
    "    return result"
   ]
  },
  {
   "cell_type": "code",
   "execution_count": 16,
   "id": "6c7be94a",
   "metadata": {
    "slideshow": {
     "slide_type": "skip"
    }
   },
   "outputs": [
    {
     "name": "stderr",
     "output_type": "stream",
     "text": [
      "100%|█████████████████████████████████████████████████| 341630/341630 [11:47<00:00, 482.88it/s]\n"
     ]
    }
   ],
   "source": [
    "actions =  actions.assign(\n",
    "    action_output_failure = assign_action_output_failure\n",
    ")"
   ]
  },
  {
   "cell_type": "code",
   "execution_count": 17,
   "id": "7f8262ac",
   "metadata": {
    "slideshow": {
     "slide_type": "skip"
    }
   },
   "outputs": [
    {
     "name": "stdout",
     "output_type": "stream",
     "text": [
      "https://app.circleci.com/pipelines/github/facebook/react/50369/workflows/a074d639-5829-4708-b5c1-3bb69610b578/jobs/780483/parallel-runs/10?filterBy=ALL\n",
      "https://app.circleci.com/pipelines/github/facebook/react/50370/workflows/1d411977-e2da-4c0b-aaf1-8afa9f8315ce/jobs/780523/parallel-runs/10?filterBy=ALL\n",
      "https://app.circleci.com/pipelines/github/facebook/react/50372/workflows/9e5ff90c-4a57-4368-b0d1-1a7199651605/jobs/780583/parallel-runs/10?filterBy=ALL\n",
      "https://app.circleci.com/pipelines/github/facebook/react/50813/workflows/69f540c5-c70a-4742-b3de-65ffa3b1c616/jobs/793195/parallel-runs/3?filterBy=ALL\n",
      "https://app.circleci.com/pipelines/github/facebook/react/52545/workflows/25ac236a-e080-4f25-9c64-1fb16534549d/jobs/844606/parallel-runs/2?filterBy=ALL\n"
     ]
    }
   ],
   "source": [
    "# Find examples of jobs with passing and failing tests and short logs.\n",
    "(\n",
    "  actions\n",
    "  .query(\"action_status == 'failed'\")\n",
    "  .query(\"action_output_type == 'out'\")\n",
    "  .query(\"action_output_message.str.contains('PASS')\")\n",
    "  .query(\"action_output_failure.str.contains('FAIL')\")\n",
    "  .assign(action_output_message_length = lambda df: df[\"action_output_message\"].str.len())\n",
    "  .sort_values(\"action_output_message_length\")\n",
    "  .head(5)\n",
    "  .loc[:, \"job_link\"]\n",
    "  .apply(print)\n",
    ")\n",
    "None"
   ]
  },
  {
   "cell_type": "markdown",
   "id": "382ff492",
   "metadata": {
    "slideshow": {
     "slide_type": "subslide"
    }
   },
   "source": [
    "# Extraction: Results"
   ]
  },
  {
   "cell_type": "code",
   "execution_count": 18,
   "id": "009f981f",
   "metadata": {
    "slideshow": {
     "slide_type": "skip"
    }
   },
   "outputs": [],
   "source": [
    "line_num_ecdf_fig = (\n",
    "    actions\n",
    "    .query(\"action_status == 'failed'\")\n",
    "    .query(\"action_output_type == 'out'\")\n",
    "    .rename(columns={\n",
    "        \"action_output_message\":\"original\",\n",
    "        \"action_output_failure\":\"reduced\"\n",
    "    })\n",
    "    .melt(value_vars=[\"original\", \"reduced\"])\n",
    "    .rename(columns={\"variable\":\"version\"})\n",
    "    .assign(line_num = lambda df: df[\"value\"].str.count(\"\\n\"))\n",
    "    .pipe(\n",
    "        px.ecdf,\n",
    "        x=\"line_num\",\n",
    "        color=\"version\"\n",
    "    )\n",
    "    .update_layout(\n",
    "        **default_layout,\n",
    "        title=\"Empirical Cumulative Distribution Plots of Line Numbers\",\n",
    "        xaxis_title=\"Number of Lines\",\n",
    "        xaxis_range=[0, 200],\n",
    "        yaxis_title=\"Probability\",\n",
    "        yaxis_tickformat=\",.0%\"\n",
    "    )\n",
    ")"
   ]
  },
  {
   "cell_type": "code",
   "execution_count": 19,
   "id": "b12838f1",
   "metadata": {},
   "outputs": [
    {
     "data": {
      "image/svg+xml": [
       "<svg class=\"main-svg\" xmlns=\"http://www.w3.org/2000/svg\" xmlns:xlink=\"http://www.w3.org/1999/xlink\" width=\"1200\" height=\"500\" style=\"\" viewBox=\"0 0 1200 500\"><rect x=\"0\" y=\"0\" width=\"1200\" height=\"500\" style=\"fill: rgb(255, 255, 255); fill-opacity: 1;\"/><defs id=\"defs-866924\"><g class=\"clips\"><clipPath id=\"clip866924xyplot\" class=\"plotclip\"><rect width=\"1107\" height=\"403\"/></clipPath><clipPath class=\"axesclip\" id=\"clip866924x\"><rect x=\"72\" y=\"0\" width=\"1107\" height=\"500\"/></clipPath><clipPath class=\"axesclip\" id=\"clip866924y\"><rect x=\"0\" y=\"47\" width=\"1200\" height=\"403\"/></clipPath><clipPath class=\"axesclip\" id=\"clip866924xy\"><rect x=\"72\" y=\"47\" width=\"1107\" height=\"403\"/></clipPath></g><g class=\"gradients\"/><g class=\"patterns\"/></defs><g class=\"bglayer\"/><g class=\"layer-below\"><g class=\"imagelayer\"/><g class=\"shapelayer\"/></g><g class=\"cartesianlayer\"><g class=\"subplot xy\"><g class=\"layer-subplot\"><g class=\"shapelayer\"/><g class=\"imagelayer\"/></g><g class=\"minor-gridlayer\"><g class=\"x\"/><g class=\"y\"/></g><g class=\"gridlayer\"><g class=\"x\"><path class=\"xgrid crisp\" transform=\"translate(348.75,0)\" d=\"M0,47v403\" style=\"stroke: rgb(235, 240, 248); stroke-opacity: 1; stroke-width: 1px;\"/><path class=\"xgrid crisp\" transform=\"translate(625.5,0)\" d=\"M0,47v403\" style=\"stroke: rgb(235, 240, 248); stroke-opacity: 1; stroke-width: 1px;\"/><path class=\"xgrid crisp\" transform=\"translate(902.25,0)\" d=\"M0,47v403\" style=\"stroke: rgb(235, 240, 248); stroke-opacity: 1; stroke-width: 1px;\"/></g><g class=\"y\"><path class=\"ygrid crisp\" transform=\"translate(0,373.43)\" d=\"M72,0h1107\" style=\"stroke: rgb(235, 240, 248); stroke-opacity: 1; stroke-width: 1px;\"/><path class=\"ygrid crisp\" transform=\"translate(0,296.86)\" d=\"M72,0h1107\" style=\"stroke: rgb(235, 240, 248); stroke-opacity: 1; stroke-width: 1px;\"/><path class=\"ygrid crisp\" transform=\"translate(0,220.29)\" d=\"M72,0h1107\" style=\"stroke: rgb(235, 240, 248); stroke-opacity: 1; stroke-width: 1px;\"/><path class=\"ygrid crisp\" transform=\"translate(0,143.72)\" d=\"M72,0h1107\" style=\"stroke: rgb(235, 240, 248); stroke-opacity: 1; stroke-width: 1px;\"/><path class=\"ygrid crisp\" transform=\"translate(0,67.15)\" d=\"M72,0h1107\" style=\"stroke: rgb(235, 240, 248); stroke-opacity: 1; stroke-width: 1px;\"/></g></g><g class=\"zerolinelayer\"><path class=\"xzl zl crisp\" transform=\"translate(72,0)\" d=\"M0,47v403\" style=\"stroke: rgb(235, 240, 248); stroke-opacity: 1; stroke-width: 2px;\"/><path class=\"yzl zl crisp\" transform=\"translate(0,450)\" d=\"M72,0h1107\" style=\"stroke: rgb(235, 240, 248); stroke-opacity: 1; stroke-width: 2px;\"/></g><g class=\"layer-between\"><g class=\"shapelayer\"/><g class=\"imagelayer\"/></g><path class=\"xlines-below\"/><path class=\"ylines-below\"/><g class=\"overlines-below\"/><g class=\"xaxislayer-below\"/><g class=\"yaxislayer-below\"/><g class=\"overaxes-below\"/><g class=\"plot\" transform=\"translate(72,47)\" clip-path=\"url(#clip866924xyplot)\"/><g class=\"overplot\"/><path class=\"xlines-above crisp\" d=\"M0,0\" style=\"fill: none;\"/><path class=\"ylines-above crisp\" d=\"M0,0\" style=\"fill: none;\"/><g class=\"overlines-above\"/><g class=\"xaxislayer-above\"><g class=\"xtick\"><text text-anchor=\"middle\" x=\"0\" y=\"463\" transform=\"translate(72,0)\" style=\"font-family: 'Open Sans', verdana, arial, sans-serif; font-size: 12px; fill: rgb(42, 63, 95); fill-opacity: 1; white-space: pre; opacity: 1;\">0</text></g><g class=\"xtick\"><text text-anchor=\"middle\" x=\"0\" y=\"463\" style=\"font-family: 'Open Sans', verdana, arial, sans-serif; font-size: 12px; fill: rgb(42, 63, 95); fill-opacity: 1; white-space: pre; opacity: 1;\" transform=\"translate(348.75,0)\">50</text></g><g class=\"xtick\"><text text-anchor=\"middle\" x=\"0\" y=\"463\" style=\"font-family: 'Open Sans', verdana, arial, sans-serif; font-size: 12px; fill: rgb(42, 63, 95); fill-opacity: 1; white-space: pre; opacity: 1;\" transform=\"translate(625.5,0)\">100</text></g><g class=\"xtick\"><text text-anchor=\"middle\" x=\"0\" y=\"463\" style=\"font-family: 'Open Sans', verdana, arial, sans-serif; font-size: 12px; fill: rgb(42, 63, 95); fill-opacity: 1; white-space: pre; opacity: 1;\" transform=\"translate(902.25,0)\">150</text></g><g class=\"xtick\"><text text-anchor=\"middle\" x=\"0\" y=\"463\" style=\"font-family: 'Open Sans', verdana, arial, sans-serif; font-size: 12px; fill: rgb(42, 63, 95); fill-opacity: 1; white-space: pre; opacity: 1;\" transform=\"translate(1179,0)\">200</text></g></g><g class=\"yaxislayer-above\"><g class=\"ytick\"><text text-anchor=\"end\" x=\"71\" y=\"4.199999999999999\" transform=\"translate(0,450)\" style=\"font-family: 'Open Sans', verdana, arial, sans-serif; font-size: 12px; fill: rgb(42, 63, 95); fill-opacity: 1; white-space: pre; opacity: 1;\">0%</text></g><g class=\"ytick\"><text text-anchor=\"end\" x=\"71\" y=\"4.199999999999999\" style=\"font-family: 'Open Sans', verdana, arial, sans-serif; font-size: 12px; fill: rgb(42, 63, 95); fill-opacity: 1; white-space: pre; opacity: 1;\" transform=\"translate(0,373.43)\">20%</text></g><g class=\"ytick\"><text text-anchor=\"end\" x=\"71\" y=\"4.199999999999999\" style=\"font-family: 'Open Sans', verdana, arial, sans-serif; font-size: 12px; fill: rgb(42, 63, 95); fill-opacity: 1; white-space: pre; opacity: 1;\" transform=\"translate(0,296.86)\">40%</text></g><g class=\"ytick\"><text text-anchor=\"end\" x=\"71\" y=\"4.199999999999999\" style=\"font-family: 'Open Sans', verdana, arial, sans-serif; font-size: 12px; fill: rgb(42, 63, 95); fill-opacity: 1; white-space: pre; opacity: 1;\" transform=\"translate(0,220.29)\">60%</text></g><g class=\"ytick\"><text text-anchor=\"end\" x=\"71\" y=\"4.199999999999999\" style=\"font-family: 'Open Sans', verdana, arial, sans-serif; font-size: 12px; fill: rgb(42, 63, 95); fill-opacity: 1; white-space: pre; opacity: 1;\" transform=\"translate(0,143.72)\">80%</text></g><g class=\"ytick\"><text text-anchor=\"end\" x=\"71\" y=\"4.199999999999999\" style=\"font-family: 'Open Sans', verdana, arial, sans-serif; font-size: 12px; fill: rgb(42, 63, 95); fill-opacity: 1; white-space: pre; opacity: 1;\" transform=\"translate(0,67.15)\">100%</text></g></g><g class=\"overaxes-above\"/></g></g><g class=\"polarlayer\"/><g class=\"smithlayer\"/><g class=\"ternarylayer\"/><g class=\"geolayer\"/><g class=\"funnelarealayer\"/><g class=\"pielayer\"/><g class=\"iciclelayer\"/><g class=\"treemaplayer\"/><g class=\"sunburstlayer\"/><g class=\"glimages\"><image xmlns=\"http://www.w3.org/2000/svg\" xlink:href=\"data:image/png;base64,iVBORw0KGgoAAAANSUhEUgAACWAAAAPoCAYAAABa3sWVAAAgAElEQVR4XuzdsY4cV3YG4FtNa5hoA8KJN3KwD7DKNQCHDvYNKCgxtICYbEJogXXMoWMHxCRORoCdCdIbMOEMQOX2A9C5DdgD2E5IQV1G9Xi1K0AQz/1narqr++v4nKpbXx0tluSPU0PzI0CAAAECBAgQIECAAAECBAgQIECAAAECBAgQIECAAAECBAgQIECAAIFIYIi6NBEgQIAAAQIECBAgQIAAAQIECBAgQIAAAQIECBAgQIAAAQIECBAgQIBAE8AyBAQIECBAgAABAgQIECBAgAABAgQIECBAgAABAgQIECBAgAABAgQIEAgFBLBCOG0ECBAgQIAAAQIECBAgQIAAAQIECBAgQIAAAQIECBAgQIAAAQIECBAQwDIDBAgQIECAAAECBAgQIECAAAECBAgQIECAAAECBAgQIECAAAECBAgQCAUEsEI4bQQIECBAgAABAgQIECBAgAABAgQIECBAgAABAgQIECBAgAABAgQIEBDAMgMECBAgQIAAAQIECBAgQIAAAQIECBAgQIAAAQIECBAgQIAAAQIECBAIBQSwQjhtBAgQIECAAAECBAgQIECAAAECBAgQIECAAAECBAgQIECAAAECBAgQEMAyAwQIECBAgAABAgQIECBAgAABAgQIECBAgAABAgQIECBAgAABAgQIEAgFBLBCOG0ECBAgQIAAAQIECBAgQIAAAQIECBAgQIAAAQIECBAgQIAAAQIECBAQwDIDBAgQIECAAAECBAgQIECAAAECBAgQIECAAAECBAgQIECAAAECBAgQCAUEsEI4bQQIECBAgAABAgQIECBAgAABAgQIECBAgAABAgQIECBAgAABAgQIEBDAMgMECBAgQIAAAQIECBAgQIAAAQIECBAgQIAAAQIECBAgQIAAAQIECBAIBQSwQjhtBAgQIECAAAECBAgQIECAAAECBAgQIECAAAECBAgQIECAAAECBAgQEMAyAwQIECBAgAABAgQIECBAgAABAgQIECBAgAABAgQIECBAgAABAgQIEAgFBLBCOG0ECBAgQIAAAQIECBAgQIAAAQIECBAgQIAAAQIECBAgQIAAAQIECBAQwDIDBAgQIECAAAECBAgQIECAAAECBAgQIECAAAECBAgQIECAAAECBAgQCAUEsEI4bQQIECBAgAABAgQIECBAgAABAgQIECBAgAABAgQIECBAgAABAgQIEBDAMgMECBAgQIAAAQIECBAgQIAAAQIECBAgQIAAAQIECBAgQIAAAQIECBAIBQSwQjhtBAgQIECAAAECBAgQIECAAAECBAgQIECAAAECBAgQIECAAAECBAgQEMAyAwQIECBAgAABAgQIECBAgAABAgQIECBAgAABAgQIECBAgAABAgQIEAgFBLBCOG0ECBAgQIAAAQIECBAgQIAAAQIECBAgQIAAAQIECBAgQIAAAQIECBAQwDIDBAgQIECAAAECBAgQIECAAAECBAgQIECAAAECBAgQIECAAAECBAgQCAUEsEI4bQQIECBAgAABAgQIECBAgAABAgQIECBAgAABAgQIECBAgAABAgQIEBDAMgMECBAgQIAAAQIECBAgQIAAAQIECBAgQIAAAQIECBAgQIAAAQIECBAIBQSwQjhtBAgQIECAAAECBAgQIECAAAECBAgQIECAAAECBAgQIECAAAECBAgQEMAyAwQIECBAgAABAgQIECBAgAABAgQIECBAgAABAgQIECBAgAABAgQIEAgFBLBCOG0ECBAgQIAAAQIECBAgQIAAAQIECBAgQIAAAQIECBAgQIAAAQIECBAQwDIDBAgQIECAAAECBAgQIECAAAECBAgQIECAAAECBAgQIECAAAECBAgQCAUEsEI4bQQIECBAgAABAgQIECBAgAABAgQIECBAgAABAgQIECBAgAABAgQIEBDAMgMECBAgQIAAAQIECBAgQIAAAQIECBAgQIAAAQIECBAgQIAAAQIECBAIBQSwQjhtBAgQIECAAAECBAgQIECAAAECBAgQIECAAAECBAgQIECAAAECBAgQEMAyAwQIECBAgAABAgQIECBAgAABAgQIECBAgAABAgQIECBAgAABAgQIEAgFBLBCOG0ECBAgQIAAAQIECBAgQIAAAQIECBAgQIAAAQIECBAgQIAAAQIECBAQwDIDBAgQIECAAAECBAgQIECAAAECBAgQIECAAAECBAgQIECAAAECBAgQCAUEsEI4bQQIECBAgAABAgQIECBAgAABAgQIECBAgAABAgQIECBAgAABAgQIEBDAMgMECBAgQIAAAQIECBAgQIAAAQIECBAgQIAAAQIECBAgQIAAAQIECBAIBQSwQjhtBAgQIECAAAECBAgQIECAAAECBAgQIECAAAECBAgQIECAAAECBAgQEMAyAwQIECBAgAABAgQIECBAgAABAgQIECBAgAABAgQIECBAgAABAgQIEAgFBLBCOG0ECBAgQIAAAQIECBAgQIAAAQIECBAgQIAAAQIECBAgQIAAAQIECBAQwDIDBAgQIECAAAECBAgQIECAAAECBAgQIECAAAECBAgQIECAAAECBAgQCAUEsEI4bQQIECBAgAABAgQIECBAgAABAgQIECBAgAABAgQIECBAgAABAgQIEBDAMgMECBAgQIAAAQIECBAgQIAAAQIECBAgQIAAAQIECBAgQIAAAQIECBAIBQSwQjhtBAgQIECAAAECBAgQIECAAAECBAgQIECAAAECBAgQIECAAAECBAgQEMAyAwQIECBAgAABAgQIECBAgAABAgQIECBAgAABAgQIECBAgAABAgQIEAgFBLBCOG0ECBAgQIAAAQIECBAgQIAAAQIECBAgQIAAAQIECBAgQIAAAQIECBAQwDIDBAgQIECAAAECBAgQIECAAAECBAgQIECAAAECBAgQIECAAAECBAgQCAUEsEI4bQQIECBAgAABAgQIECBAgAABAgQIECBAgAABAgQIECBAgAABAgQIEBDAMgMECBAgQIAAAQIECBAgQIAAAQIECBAgQIAAAQIECBAgQIAAAQIECBAIBQSwQjhtBAgQIECAAAECBAgQIECAAAECBAgQIECAAAECBAgQIECAAAECBAgQEMAyAwQIECBAgAABAgQIECBAgAABAgQIECBAgAABAgQIECBAgAABAgQIEAgFBLBCOG0ECBAgQIAAAQIECBAgQIAAAQIECBAgQIAAAQIECBAgQIAAAQIECBAQwDIDBAgQIECAAAECBAgQIECAAAECBAgQIECAAAECBAgQIECAAAECBAgQCAUEsEI4bQQIECBAgAABAgQIECBAgAABAgQIECBAgAABAgQIECBAgAABAgQIEBDAMgMECBAgQIAAAQIECBAgQIAAAQIECBAgQIAAAQIECBAgQIAAAQIECBAIBQSwQjhtBAgQIECAAAECBAgQIECAAAECBAgQIECAAAECBAgQIECAAAECBAgQEMAyAwQIECBAgAABAgQIECBAgAABAgQIECBAgAABAgQIECBAgAABAgQIEAgFBLBCOG0ECBAgQIAAAQIECBAgQIAAAQIECBAgQIAAAQIECBAgQIAAAQIECBAQwDIDBAgQIECAAAECBAgQIECAAAECBAgQIECAAAECBAgQIECAAAECBAgQCAUEsEI4bQQIECBAgAABAgQIECBAgAABAgQIECBAgAABAgQIECBAgAABAgQIEBDAMgMECBAgQIAAAQIECBAgQIAAAQIECBAgQIAAAQIECBAgQIAAAQIECBAIBQSwQjhtBAgQIECAAAECBAgQIECAAAECBAgQIECAAAECBAgQIECAAAECBAgQEMAyAwQIECBAgAABAgQIECBAgAABAgQIECBAgAABAgQIECBAgAABAgQIEAgFBLBCOG0ECBAgQIAAAQIECBAgQIAAAQIECBAgQIAAAQIECBAgQIAAAQIECBAQwDIDBAgQIECAAAECBAgQIECAAAECBAgQIECAAAECBAgQIECAAAECBAgQCAUEsEI4bQQIECBAgAABAgQIECBAgAABAgQIECBAgAABAgQIECBAgAABAgQIEBDAMgMECBAgQIAAAQIECBAgQIAAAQIECBAgQIAAAQIECBAgQIAAAQIECBAIBQSwQjhtBAgQIECAAAECBAgQIECAAAECBAgQIECAAAECBAgQIECAAAECBAgQEMAyAwQIECBAgAABAgQIECBAgAABAgQIECBAgAABAgQIECBAgAABAgQIEAgFBLBCOG0ECBAgQIAAAQIECBAgQIAAAQIECBAgQIAAAQIECBAgQIAAAQIECBAQwDIDBAgQIECAAAECBAgQIECAAAECBAgQIECAAAECBAgQIECAAAECBAgQCAUEsEI4bQQIECBAgAABAgQIECBAgAABAgQIECBAgAABAgQIECBAgAABAgQIEBDAMgMECBAgQIAAAQIECBAgQIAAAQIECBAgQIAAAQIECBAgQIAAAQIECBAIBQSwQjhtBAgQIECAAAECBAgQIECAAAECBAgQIECAAAECBAgQIECAAAECBAgQEMAyAwQIECBAgAABAgQIECBAgAABAgQIECBAgAABAgQIECBAgAABAgQIEAgFBLBCOG0ECBAgQIAAAQIECBAgQIAAAQIECBAgQIAAAQIECBAgQIAAAQIECBAQwDIDBAgQIECAAAECBAgQIECAAAECBAgQIECAAAECBAgQIECAAAECBAgQCAUEsEI4bQQIECBAgAABAgQIECBAgAABAgQIECBAgAABAgQIECBAgAABAgQIEBDAMgMECBAgQIAAAQIECBAgQIAAAQIECBAgQIAAAQIECBAgQIAAAQIECBAIBQSwQjhtBAgQIECAAAECBAgQIECAAAECBAgQIECAAAECBAgQIECAAAECBAgQEMAyAwQIECBAgAABAgQIECBAgAABAgQIECBAgAABAgQIECBAgAABAgQIEAgFBLBCOG0ECBAgQIAAAQIECBAgQIAAAQIECBAgQIAAAQIECBAgQIAAAQIECBAQwDIDBAgQIECAAAECBAgQIECAAAECBAgQIECAAAECBAgQIECAAAECBAgQCAUEsEI4bQQIECBAgAABAgQIECBAgAABAgQIECBAgAABAgQIECBAgAABAgQIEBDAMgMECBAgQIAAAQIECBAgQIAAAQIECBAgQIAAAQIECBAgQIAAAQIECBAIBQSwQjhtBAgQIECAAAECBAgQIECAAAECBAgQIECAAAECBAgQIECAAAECBAgQEMAyAwQIECBAgAABAgQIECBAgAABAgQIECBAgAABAgQIECBAgAABAgQIEAgFBLBCOG0ECBAgQIAAAQIECBAgQIAAAQIECBAgQIAAAQIECBAgQIAAAQIECBAQwDIDBAgQIECAAAECBAgQIECAAAECBAgQIECAAAECBAgQIECAAAECBAgQCAUEsEI4bQQIECBAgAABAgQIECBAgAABAgQIECBAgAABAgQIECBAgAABAgQIEBDAMgMECBAgQIAAAQIECBAgQIAAAQIECBAgQIAAAQIECBAgQIAAAQIECBAIBQSwQjhtBAgQIECAAAECBAgQIECAAAECBAgQIECAAAECBAgQIECAAAECBAgQEMAyAwQIECBAgAABAgQIECBAgAABAgQIECBAgAABAgQIECBAgAABAgQIEAgFBLBCOG0ECBAgQIAAAQIECBAgQIAAAQIECBAgQIAAAQIECBAgQIAAAQIECBAQwDIDBAgQIECAAAECBAgQIECAAAECBAgQIECAAAECBAgQIECAAAECBAgQCAUEsEI4bQQIECBAgAABAgQIECBAgAABAgQIECBAgAABAgQIECBAgAABAgQIEBDAMgMECBAgQIAAAQIECBAgQIAAAQIECBAgQIAAAQIECBAgQIAAAQIECBAIBQSwQjhtBAgQIECAAAECBAgQIECAAAECBAgQIECAAAECBAgQIECAAAECBAgQEMAyAwQIECBAgAABAgQIECBAgAABAgQIECBAgAABAgQIECBAgAABAgQIEAgFBLBCOG0ECBAgQIAAAQIECBAgQIAAAQIECBAgQIAAAQIECBAgQIAAAQIECBAQwDIDBAgQIECAAAECBAgQIECAAAECBAgQIECAAAECBAgQIECAAAECBAgQCAUEsEI4bQQIECBAgAABAgQIECBAgAABAgQIECBAgAABAgQIECBAgAABAgQIEBDAMgMECBAgQIAAAQIECBAgQIAAAQIECBAgQIAAAQIECBAgQIAAAQIECBAIBQSwQjhtBAgQIECAAAECBAgQIECAAAECBAgQIECAAAECBAgQIECAAAECBAgQEMAyAwQIECBAgAABAgQIECBAgAABAgQIECBAgAABAgQIECBAgAABAgQIEAgFBLBCOG0ECBAgQIAAAQIECBAgQIAAAQIECBAgQIAAAQIECBAgQIAAAQIECBAQwDIDBAgQIECAAAECBAgQIECAAAECBAgQIECAAAECBAgQIECAAAECBAgQCAUEsEI4bQQIECBAgAABAgQIECBAgAABAgQIECBAgAABAgQIECBAgAABAgQIEBDAMgMECBAgQIAAAQIECBAgQIAAAQIECBAgQIAAAQIECBAgQIAAAQIECBAIBQSwQjhtBAgQIECAAAECBAgQIECAAAECBAgQIECAAAECBAgQIECAAAECBAgQEMAyAwQIECBAgAABAgQIECBAgAABAgQIECBAgAABAgQIECBAgAABAgQIEAgFBLBCOG0ECBAgQIAAAQIECBAgQIAAAQIECBAgQIAAAQIECBAgQIAAAQIECBAQwDIDBAgQIECAAAECBAgQIECAAAECBAgQIECAAAECBAgQIECAAAECBAgQCAUEsEI4bQQIECBAgAABAgQIECBAgAABAgQIECBAgAABAgQIECBAgAABAgQIEBDAMgMECBAgQIAAAQIECBAgQIAAAQIECBAgQIAAAQIECBAgQIAAAQIECBAIBQSwQjhtBAgQIECAAAECBAgQIECAAAECBAgQIECAAAECBAgQIECAAAECBAgQEMAyAwQIECBAgAABAgQIECBAgAABAgQIECBAgAABAgQIECBAgAABAgQIEAgFBLBCOG0ECBAgQIAAAQIECBAgQIAAAQIECBAgQIAAAQIECBAgQIAAAQIECBAQwDIDBAgQIECAAAECBAgQIECAAAECBAgQIECAAAECBAgQIECAAAECBAgQCAUEsEI4bQQIECBAgAABAgQIECBAgAABAgQIECBAgAABAgQIECBAgAABAgQIEBDAMgMECBAgQIAAAQIECBAgQIAAAQIECBAgQIAAAQIECBAgQIAAAQIECBAIBQSwQjhtBAgQIECAAAECBAgQIECAAAECBAgQIECAAAECBAgQIECAAAECBAgQEMAyAwQIECBAgAABAgQIECBAgAABAgQIECBAgAABAgQIECBAgAABAgQIEAgFBLBCOG0ECBAgQIAAAQIECBAgQIAAAQIECBAgQIAAAQIECBAgQIAAAQIECBAQwDIDBAgQIECAAAECBAgQIECAAAECBAgQIECAAAECBAgQIECAAAECBAgQCAUEsEI4bQQIECBAgAABAgQIECBAgAABAgQIECBAgAABAgQIECBAgAABAgQIEBDAMgMECBAgQIAAAQIECBAgQIAAAQIECBAgQIAAAQIECBAgQIAAAQIECBAIBQSwQjhtBAgQIECAAAECBAgQIECAAAECBAgQIECAAAECBAgQIECAAAECBAgQEMAyAwQIECBAgAABAgQIECBAgAABAgQIECBAgAABAgQIECBAgAABAgQIEAgFBLBCOG0ECBAgQIAAAQIECBAgQIAAAQIECBAgQIAAAQIECBAgQIAAAQIECBAQwDIDBAgQIECAAAECBAgQIECAAAECBAgQIECAAAECBAgQIECAAAECBAgQCAUEsEI4bQQIECBAgAABAgQIECBAgAABAgQIECBAgAABAgQIECBAgAABAgQIEBDAMgMECBAgQIAAAQIECBAgQIAAAQIECBAgQIAAAQIECBAgQIAAAQIECBAIBQSwQjhtBAgQIECAAAECBAgQIECAAAECBAgQIECAAAECBAgQIECAAAECBAgQEMAyAwQIECBAgAABAgQIECBAgAABAgQIECBAgAABAgQIECBAgAABAgQIEAgFBLBCOG0ECBAgQIAAAQIECBAgQIAAAQIECBAgQIAAAQIECBAgQIAAAQIECBAQwDIDBAgQIECAAAECBAgQIECAAAECBAgQIECAAAECBAgQIECAAAECBAgQCAUEsEI4bQQIECBAgAABAgQIECBAgAABAgQIECBAgAABAgQIECBAgAABAgQIEBDAMgMECBAgQIAAAQIECBAgQIAAAQIECBAgQIAAAQIECBAgQIAAAQIECBAIBQSwQjhtBAgQIECAAAECBAgQIECAAAECBAgQIECAAAECBAgQIECAAAECBAgQEMAyAwQIECBAgAABAgQIECBAgAABAgQIECBAgAABAgQIECBAgAABAgQIEAgFBLBCOG0ECBAgQIAAAQIECBAgQIAAAQIECBAgQIAAAQIECBAgQIAAAQIECBAQwDIDBAgQIECAAAECBAgQIECAAAECBAgQIECAAAECBAgQIECAAAECBAgQCAUEsEI4bQQIECBAgAABAgQIECBAgAABAgQIECBAgAABAgQIECBAgAABAgQIEBDAMgMECBAgQIAAAQIECBAgQIAAAQIECBAgQIAAAQIECBAgQIAAAQIECBAIBQSwQjhtBAgQIECAAAECBAgQIECAAAECBAgQIECAAAECBAgQIECAAAECBAgQEMAyAwQIECBAgAABAgQIECBAgAABAgQIECBAgAABAgQIECBAgAABAgQIEAgFBLBCOG0ECBAgQIAAAQIECBAgQIAAAQIECBAgQIAAAQIECBAgQIAAAQIECBAQwDIDBAgQIECAAAECBAgQIECAAAECBAgQIECAAAECBAgQIECAAAECBAgQCAUEsEI4bQQIECBAgAABAgQIECBAgAABAgQIECBAgAABAgQIECBAgAABAgQIEBDAMgMECBAgQIAAAQIECBAgQIAAAQIECBAgQIAAAQIECBAgQIAAAQIECBAIBQSwQjhtBAgQIECAAAECBAgQIECAAAECBAgQIECAAAECBAgQIECAAAECBAgQEMAyAwQIECBAgAABAgQIECBAgAABAgQIECBAgAABAgQIECBAgAABAgQIEAgFBLBCOG0ECBAgQIAAAQIECBAgQIAAAQIECBAgQIAAAQIECBAgQIAAAQIECBAQwDIDBAgQIECAAAECBAgQIECAAAECBAgQIECAAAECBAgQIECAAAECBAgQCAUEsEI4bQQIECBAgAABAgQIECBAgAABAgQIECBAgAABAgQIECBAgAABAgQIEBDAMgMECBAgQIAAAQIECBAgQIAAAQIECBAgQIAAAQIECBAgQIAAAQIECBAIBQSwQjhtBAgQIECAAAECBAgQIECAAAECBAgQIECAAAECBAgQIECAAAECBAgQEMAyAwQIECBAgAABAgQIECBAgAABAgQIECBAgAABAgQIECBAgAABAgQIEAgFBLBCOG0ECBAgQIAAAQIECBAgQIAAAQIECBAgQIAAAQIECBAgQIAAAQIECBAQwDIDBAgQIECAAAECBAgQIECAAAECBAgQIECAAAECBAgQIECAAAECBAgQCAUEsEI4bQQIECBAgAABAgQIECBAgAABAgQIECBAgAABAgQIECBAgAABAgQIEBDAMgMECBAgQIAAAQIECBAgQIAAAQIECBAgQIAAAQIECBAgQIAAAQIECBAIBQSwQjhtBAgQIECAAAECBAgQIECAAAECBAgQIECAAAECBAgQIECAAAECBAgQEMAyAwQIECBAgAABAgQIECBAgAABAgQIECBAgAABAgQIECBAgAABAgQIEAgFBLBCOG0ECBAgQIAAAQIECBAgQIAAAQIECBAgQIAAAQIECBAgQIAAAQIECBAQwDIDBAgQIECAAAECBAgQIECAAAECBAgQIECAAAECBAgQIECAAAECBAgQCAUEsEI4bQQIECBAgAABAgQIECBAgAABAgQIECBAgAABAgQIECBAgAABAgQIEBDAMgMECBAgQIAAAQIECBAgQIAAAQIECBAgQIAAAQIECBAgQIAAAQIECBAIBQSwQjhtBAgQIECAAAECBAgQIECAAAECBAgQIECAAAECBAgQIECAAAECBAgQEMAyAwQIECBAgAABAgQIECBAgAABAgQIECBAgAABAgQIECBAgAABAgQIEAgFBLBCOG0ECBAgQIAAAQIECBAgQIAAAQIECBAgQIAAAQIECBAgQIAAAQIECBAQwDIDBAgQIECAAAECBAgQIECAAAECBAgQIECAAAECBAgQIECAAAECBAgQCAUEsEI4bQQIECBAgAABAgQIECBAgAABAgQIECBAgAABAgQIECBAgAABAgQIEBDAMgMECBAgQIAAAQIECBAgQIAAAQIECBAgQIAAAQIECBAgQIAAAQIECBAIBQSwQjhtBAgQIECAAAECBAgQIECAAAECBAgQIECAAAECBAgQIECAAAECBAgQEMAyAwQIECBAgAABAgQIECBAgAABAgQIECBAgAABAgQIECBAgAABAgQIEAgFBLBCOG0ECBAgQIAAAQIECBAgQIAAAQIECBAgQIAAAQIECBAgQIAAAQIECBAQwDIDBAgQIECAAAECBAgQIECAAAECBAgQIECAAAECBAgQIECAAAECBAgQCAUEsEI4bQQIECBAgAABAgQIECBAgAABAgQIECBAgAABAgQIECBAgAABAgQIEBDAMgMECBAgQIAAAQIECBAgQIAAAQIECBAgQIAAAQIECBAgQIAAAQIECBAIBQSwQjhtBAgQIECAAAECBAgQIECAAAECBAgQIECAAAECBAgQIECAAMu9yawAACAASURBVAECBAgQEMAyAwQIECBAgAABAgQIECBAgAABAgQIECBAgAABAgQIECBAgAABAgQIEAgFBLBCOG0ECBAgQIAAAQIECBAgQIAAAQIECBAgQIAAAQIECBAgQIAAAQIECBAQwDIDBAgQIECAAAECBAgQIECAAAECBAgQIECAAAECBAgQIECAAAECBAgQCAUEsEI4bQQIECBAgAABAgQIECBAgAABAgQIECBAgAABAgQIECBAgAABAgQIEBDAMgMECBAgQIAAAQIECBAgQIAAAQIECBAgQIAAAQIECBAgQIAAAQIECBAIBQSwQjhtBAgQIECAAAECBAgQIECAAAECBAgQIECAAAECBAgQIECAAAECBAgQEMAyAwQIECBAgAABAgQIECBAgAABAgQIECBAgAABAgQIECBAgAABAgQIEAgFBLBCOG0ECBAgQIAAAQIECBAgQIAAAQIECBAgQIAAAQIECBAgQIAAAQIECBAQwDIDBAgQIECAAAECBAgQIECAAAECBAgQIECAAAECBAgQIECAAAECBAgQCAUEsEI4bQQIECBAgAABAgQIECBAgAABAgQIECBAgAABAgQIECBAgAABAgQIEBDAMgMECBAgQIAAAQIECBAgQIAAAQIECBAgQIAAAQIECBAgQIAAAQIECBAIBQSwQjhtBAgQIECAAAECBAgQIECAAAECBAgQIECAAAECBAgQIECAAAECBAgQEMAyAwQIECBAgAABAgQIECBAgAABAgQIECBAgAABAgQIECBAgAABAgQIEAgFBLBCOG0ECBAgQIAAAQIECBAgQIAAAQIECBAgQIAAAQIECBAgQIAAAQIECBAQwDIDBAgQIECAAAECBAgQIECAAAECBAgQIECAAAECBAgQIECAAAECBAgQCAUEsEI4bQQIECBAgAABAgQIECBAgAABAgQIECBAgAABAgQIECBAgAABAgQIEBDAMgMECBAgQIAAAQIECBAgQIAAAQIECBAgQIAAAQIECBAgQIAAAQIECBAIBQSwQjhtBAgQIECAAAECBAgQIECAAAECBAgQIECAAAECBAgQIECAAAECBAgQEMAyAwQIECBAgAABAgQIECBAgAABAgQIECBAgAABAgQIECBAgAABAgQIEAgFBLBCOG0ECBAgQIAAAQIECBAgQIAAAQIECBAgQIAAAQIECBAgQIAAAQIECBAQwDIDBAgQIECAAAECBAgQIECAAAECBAgQIECAAAECBAgQIECAAAECBAgQCAUEsEI4bQQIECBAgAABAgQIECBAgAABAgQIECBAgAABAgQIECBAgAABAgQIEBDAMgMECBAgQIAAAQIECBAgQIAAAQIECBAgQIAAAQIECBAgQIAAAQIECBAIBQSwQjhtBAgQIECAAAECBAgQIECAAAECBAgQIECAAAECBAgQIECAAAECBAgQEMAyAwQIECBAgAABAgQIECBAgAABAgQIECBAgAABAgQIECBAgAABAgQIEAgFBLBCOG0ECBAgQIAAAQIECBAgQIAAAQIECBAgQIAAAQIECBAgQIAAAQIECBAQwDIDBAgQIECAAAECBAgQIECAAAECBAgQIECAAAECBAgQIECAAAECBAgQCAUEsEI4bQQIECBAgAABAgQIECBAgAABAgQIECBAgAABAgQIECBAgAABAgQIEBDAMgMECBAgQIAAAQIECBAgQIAAAQIECBAgQIAAAQIECBAgQIAAAQIECBAIBQSwQjhtBAgQIECAAAECBAgQIECAAAECBAgQIECAAAECBAgQIECAAAECBAgQEMAyAwQIECBAgAABAgQIECBAgAABAgQIECBAgAABAgQIECBAgAABAgQIEAgFBLBCOG0ECBAgQIAAAQIECBAgQIAAAQIECBAgQIAAAQIECBAgQIAAAQIECBAQwDIDBAgQIECAAAECBAgQIECAAAECBAgQIECAAAECBAgQIECAAAECBAgQCAUEsEI4bQQIECBAgAABAgQIECBAgAABAgQIECBAgAABAgQIECBAgAABAgQIEBDAMgMECBAgQIAAAQIECBAgQIAAAQIECBAgQIAAAQIECBAgQIAAAQIECBAIBQSwQjhtBAgQIECAAAECBAgQIECAAAECBAgQIECAAAECBAgQIECAAAECBAgQEMAyAwQIECBAgAABAgQIECBAgAABAgQIECBAgAABAgQIECBAgAABAgQIEAgFBLBCOG0ECBAgQIAAAQIECBAgQIAAAQIECBAgQIAAAQIECBAgQIAAAQIECBAQwDIDBAgQIECAAAECBAgQIECAAAECBAgQIECAAAECBAgQIECAAAECBAgQCAUEsEI4bQQIECBAgAABAgQIECBAgAABAgQIECBAgAABAgQIECBAgAABAgQIEBDAMgMECBAgQIAAAQIECBAgQIAAAQIECBAgQIAAAQIECBAgQIAAAQIECBAIBQSwQjhtBAgQIECAAAECBAgQIECAAAECBAgQIECAAAECBAgQIECAAAECBAgQEMAyAwQIECBAgAABAgQIECBAgAABAgQIECBAgAABAgQIECBAgAABAgQIEAgFBLBCOG0ECBAgQIAAAQIECBAgQIAAAQIECBAgQIAAAQIECBAgQIAAAQIECBAQwDIDBAgQIECAAAECBAgQIECAAAECBAgQIECAAAECBAgQIECAAAECBAgQCAUEsEI4bQQIECBAgAABAgQIECBAgAABAgQIECBAgAABAgQIECBAgAABAgQIEBDAMgMECBAgQIAAAQIECBAgQIAAAQIECBAgQIAAAQIECBAgQIAAAQIECBAIBQSwQjhtBAgQIECAAAECBAgQIECAAAECBAgQIECAAAECBAgQIECAAAECBAgQEMAyAwQIECBAgAABAgQIECBAgAABAgQIECBAgAABAgQIECBAgAABAgQIEAgFBLBCOG0ECBAgQIAAAQIECBAgQIAAAQIECBAgQIAAAQIECBAgQIAAAQIECBAQwDIDBAgQIECAAAECBAgQIECAAAECBAgQIECAAAECBAgQIECAAAECBAgQCAUEsEI4bQQIECBAgAABAgQIECBAgAABAgQIECBAgAABAgQIECBAgAABAgQIEBDAMgMECBAgQIAAAQIECBAgQIAAAQIECBAgQIAAAQIECBAgQIAAAQIECBAIBQSwQjhtBAgQIECAAAECBAgQIECAAAECBAgQIECAAAECBAgQIECAAAECBAgQEMAyAwQIECBAgAABAgQIECBAgAABAgQIECBAgAABAgQIECBAgAABAgQIEAgFBLBCOG0ECBAgQIAAAQIECBAgQIAAAQIECBAgQIAAAQIECBAgQIAAAQIECBAQwDIDBAgQIECAAAECBAgQIECAAAECBAgQIECAAAECBAgQIECAAAECBAgQCAUEsEI4bQQIECBAgAABAgQIECBAgAABAgQIECBAgAABAgQIECBAgAABAgQIEBDAMgMECBAgQIAAAQIECBAgQIAAAQIECBAgQIAAAQIECBAgQIAAAQIECBAIBQSwQjhtBAgQIECAAAECBAgQIECAAAECBAgQIECAAAECBAgQIECAAAECBAgQEMAyAwQIECBAgAABAgQIECBAgAABAgQIECBAgAABAgQIECBAgAABAgQIEAgFBLBCOG0ECBAgQIAAAQIECBAgQIAAAQIECBAgQIAAAQIECBAgQIAAAQIECBAQwDIDBAgQIECAAAECBAgQIECAAAECBAgQIECAAAECBAgQIECAAAECBAgQCAUEsEI4bQQIECBAgAABAgQIECBAgAABAgQIECBAgAABAgQIECBAgAABAgQIEBDAMgMECBAgQIAAAQIECBAgQIAAAQIECBAgQIAAAQIECBAgQIAAAQIECBAIBQSwQjhtBAgQIECAAAECBAgQIECAAAECBAgQIECAAAECBAgQIECAAAECBAgQEMAyAwQIECBAgAABAgQIECBAgAABAgQIECBAgAABAgQIECBAgAABAgQIEAgFBLBCOG0ECBAgQIAAAQIECBAgQIAAAQIECBAgQIAAAQIECBAgQIAAAQIECBAQwDIDBAgQIECAAAECBAgQIECAAAECBAgQIECAAAECBAgQIECAAAECBAgQCAUEsEI4bQQIECBAgAABAgQIECBAgAABAgQIECBAgAABAgQIECBAgAABAgQIEBDAMgMECBAgQIAAAQIECBAgQIAAAQIECBAgQIAAAQIECBAgQIAAAQIECBAIBQSwQjhtBAgQIECAAAECBAgQIECAAAECBAgQIECAAAECBAgQIECAAAECBAgQEMAyAwQIECBAgAABAgQIECBAgAABAgQIECBAgAABAgQIECBAgAABAgQIEAgFBLBCOG0ECBAgQIAAAQIECBAgQIAAAQIECBAgQIAAAQIECBAgQIAAAQIECBAQwDIDBAgQIECAAAECBAgQIECAAAECBAgQIECAAAECBAgQIECAAAECBAgQCAUEsEI4bQQIECBAgAABAgQIECBAgAABAgQIECBAgAABAgQIECBAgAABAgQIEBDAMgMECBAgQIAAAQIECBAgQIAAAQIECBAgQIAAAQIECBAgQIAAAQIECBAIBQSwQjhtBAgQIECAAAECBAgQIECAAAECBAgQIECAAAECBAgQIECAAAECBAgQEMAyAwQIECBAgAABAgQIECBAgAABAgQIECBAgAABAgQIECBAgAABAgQIEAgFBLBCOG0ECBAgQIAAAQIECBAgQIAAAQIECBAgQIAAAQIECBAgQIAAAQIECBAQwDIDBAgQIECAAAECBAgQIECAAAECBAgQIECAAAECBAgQIECAAAECBAgQCAUEsEI4bQQIECBAgAABAgQIECBAgAABAgQIECBAgAABAgQIECBAgAABAgQIEBDAMgMECBAgQIAAAQIECBAgQIAAAQIECBAgQIAAAQIECBAgQIAAAQIECBAIBQSwQjhtBAgQIECAAAECBAgQIECAAAECBAgQIECAAAECBAgQIECAAAECBAgQEMAyAwQIECBAgAABAgQIECBAgAABAgQIECBAgAABAgQIECBAgAABAgQIEAgFBLBCOG0ECBAgQIAAAQIECBAgQIAAAQIECBAgQIAAAQIECBAgQIAAAQIECBAQwDIDBAgQIECAAAECBAgQIECAAAECBAgQIECAAAECBAgQIECAAAECBAgQCAUEsEI4bQQIECBAgAABAgQIECBAgAABAgQIECBAgAABAgQIECBAgAABAgQIEBDAMgMECBAgQIAAAQIECBAgQIAAAQIECBAgQIAAAQIECBAgQIAAAQIECBAIBQSwQjhtBAgQIECAAAECBAgQIECAAAECBAgQIECAAAECBAgQIECAAAECBAgQEMAyAwQIECBAgAABAgQIECBAgAABAgQIECBAgAABAgQIECBAgAABAgQIEAgFBLBCOG0ECBAgQIAAAQIECBAgQIAAAQIECBAgQIAAAQIECBAgQIAAAQIECBAQwDIDBAgQIECAAAECBAgQIECAAAECBAgQIECAAAECBAgQIECAAAECBAgQCAUEsEI4bQQIECBAgAABAgQIECBAgAABAgQIECBAgAABAgQIECBAgAABAgQIEBDAMgMECBAgQIAAAQIECBAgQIAAAQIECBAgQIAAAQIECBAgQIAAAQIECBAIBQSwQjhtBAgQIECAAAECBAgQIECAAAECBAgQIECAAAECBAgQIECAAAECBAgQEMAyAwQIECBAgAABAgQIECBAgAABAgQIECBAgAABAgQIECBAgAABAgQIEAgFBLBCOG0ECBAgQIAAAQIECBAgQIAAAQIECBAgQIAAAQIECBAgQIAAAQIECBAQwDIDBAgQIECAAAECBAgQIECAAAECBAgQIECAAAECBAgQIECAAAECBAgQCAUEsEI4bQQIECBAgAABAgQIECBAgAABAgQIECBAgAABAgQIECBAgAABAgQIEBDAMgMECBAgQIAAAQIECBAgQIAAAQIECBAgQIAAAQIECBAgQIAAAQIECBAIBQSwQjhtBAgQIECAAAECBAgQIECAAAECBAgQIECAAAECBAgQIECAAAECBAgQEMAyAwQIECBAgAABAgQIECBAgAABAgQIECBAgAABAgQIECBAgAABAgQIEAgFBLBCOG0ECBAgQIAAAQIECBAgQIAAAQIECBAgQIAAAQIECBAgQIAAAQIECBAQwDIDBAgQIECAAAECBAgQIECAAAECBAgQIECAAAECBAgQIECAAAECBAgQCAUEsEI4bQQIECBAgAABAgQIECBAgAABAgQIECBAgAABAgQIECBAgAABAgQIEBDAMgMECBAgQIAAAQIECBAgQIAAAQIECBAgQIAAAQIECBAgQIAAAQIECBAIBQSwQjhtBAgQIECAAAECBAgQIECAAAECBAgQIECAAAECBAgQIECAAAECBAgQEMAyAwQIECBAgAABAgQIECBAgAABAgQIECBAgAABAgQIECBAgAABAgQIEAgFBLBCOG0ECBAgQIAAAQIECBAgQIAAAQIECBAgQIAAAQIECBAgQIAAAQIECBAQwDIDBAgQIECAAAECBAgQIECAAAECBAgQIECAAAECBAgQIECAAAECBAgQCAUEsEI4bQQIECBAgAABAgQIECBAgAABAgQIECBAgAABAgQIECBAgAABAgQIEBDAMgMECBAgQIAAAQIECBAgQIAAAQIECBAgQIAAAQIECBAgQIAAAQIECBAIBQSwQjhtBAgQIECAAAECBAgQIECAAAECBAgQIECAAAECBAgQIECAAAECBAgQEMAyAwQIECBAgAABAgQIECBAgAABAgQIECBAgAABAgQIECBAgAABAgQIEAgFBLBCOG0ECBAgQIAAAQIECBAgQIAAAQIECBAgQIAAAQIECBAgQIAAAQIECBAQwDIDBAgQIECAAAECBAgQIECAAAECBAgQIECAAAECBAgQIECAAAECBAgQCAUEsEI4bQQIECBAgAABAgQIECBAgAABAgQIECBAgAABAgQIECBAgAABAgQIEBDAMgMECBAgQIAAAQIECBAgQIAAAQIECBAgQIAAAQIECBAgQIAAAQIECBAIBQSwQjhtBAgQIECAAAECBAgQIECAAAECBAgQIECAAAECBAgQIECAAAECBAgQEMAyAwQIECBAgAABAgQIECBAgAABAgQIECBAgAABAgQIECBAgAABAgQIEAgFBLBCOG0ECBAgQIAAAQIECBAgQIAAAQIECBAgQIAAAQIECBAgQIAAAQIECBAQwDIDBAgQIECAAAECBAgQIECAAAECBAgQIECAAAECBAgQIECAAAECBAgQCAUEsEI4bQQIECBAgAABAgQIECBAgAABAgQIECBAgAABAgQIECBAgAABAgQIEBDAMgMECBAgQIAAAQIECBAgQIAAAQIECBAgQIAAAQIECBAgQIAAAQIECBAIBQSwQjhtBAgQIECAAAECBAgQIECAAAECBAgQIECAAAECBAgQIECAAAECBAgQEMAyAwQIECBAgAABAgQIECBAgAABAgQIECBAgAABAgQIECBAgAABAgQIEAgFBLBCOG0ECBAgQIAAAQIECBAgQIAAAQIECBAgQIAAAQIECBAgQIAAAQIECBAQwDIDBAgQIECAAAECBAgQIECAAAECBAgQIECAAAECBAgQIECAAAECBAgQCAUEsEI4bQQIECBAgAABAgQIECBAgAABAgQIECBAgAABAgQIECBAgAABAgQIEBDAMgMECBAgQIAAAQIECBAgQIAAAQIECBAgQIAAAQIECBAgQIAAAQIECBAIBQSwQjhtBAgQIECAAAECBAgQIECAAAECBAgQIECAAAECBAgQIECAAAECBAgQEMAyAwQIECBAgAABAgQIECBAgAABAgQIECBAgAABAgQIECBAgAABAgQIEAgFBLBCOG0ECBAgQIAAAQIECBAgQIAAAQIECBAgQIAAAQIECBAgQIAAAQIECBAQwDIDBAgQIECAAAECBAgQIECAAAECBAgQIECAAAECBAgQIECAAAECBAgQCAUEsEI4bQQIECBAgAABAgQIECBAgAABAgQIECBAgAABAgQIECBAgAABAgQIEBDAMgMECBAgQIAAAQIECBAgQIAAAQIECBAgQIAAAQIECBAgQIAAAQIECBAIBQSwQjhtBAgQIECAAAECBAgQIECAAAECBAgQIECAAAECBAgQIECAAAECBAgQEMAyAwQIECBAgAABAgQIECBAgAABAgQIECBAgAABAgQIECBAgAABAgQIEAgFBLBCOG0ECBAgQIAAAQIECBAgQIAAAQIECBAgQIAAAQIECBAgQIAAAQIECBAQwDIDBAgQIECAAAECBAgQIECAAAECBAgQIECAAAECBAgQIECAAAECBAgQCAUEsEI4bQQIECBAgAABAgQIECBAgAABAgQIECBAgAABAgQIECBAgAABAgQIEBDAMgMECBAgQIAAAQIECBAgQIAAAQIECBAgQIAAAQIECBAgQIAAAQIECBAIBQSwQjhtBAgQIECAAAECBAgQIECAAAECBAgQIECAAAECBAgQIECAAAECBAgQEMAyAwQIECBAgAABAgQIECBAgAABAgQIECBAgAABAgQIECBAgAABAgQIEAgFBLBCOG0ECBAgQIAAAQIECBAgQIAAAQIECBAgQIAAAQIECBAgQIAAAQIECBAQwDIDBAgQIECAAAECBAgQIECAAAECBAgQIECAAAECBAgQIECAAAECBAgQCAUEsEI4bQQIECBAgAABAgQIECBAgAABAgQIECBAgAABAgQIECBAgAABAgQIEBDAMgMECBAgQIAAAQIECBAgQIAAAQIECBAgQIAAAQIECBAgQIAAAQIECBAIBQSwQjhtBAgQIECAAAECBAgQIECAAAECBAgQIECAAAECBAgQIECAAAECBPZV4MnTt6fVZxvb8Kxa21P35dnRIrJNizhkD7xaAgQIECBAgAABAgQIECBAgAABAgQIECBAgAABAgQIECBAgAABArsk8OSL707aen1SO9NQrKtd7c+rxtYe9ndtr0MAa3v27kyAAAECBAgQIECAAAECBAgQIECAAAECBAgQIECAAAECBAgQIECgW+B661M9ALW0QFM3yJYbBLC2/ALcngABAgQIECBAgAABAgQIECBAgAABAgQIECBAgAABAgQIECBAYLsCm81P1V95Q9R0QSGpKuuS6wSwlvz2nJ0AAQIECBAgQIAAAQIECBAgQIAAAQIECBAgQIAAAQIECBAgcEAC15ufar+xDc9qlaqWLDC08Xn1/Odn98vzU73mkuqGJR3WWQkQIECAAAECBAgQIECAAAECBAgQIECAAAECBAgQIECAAAEChyqw2Sa1HstBF5/H251JGVq7bG28KJ1otarVlS7246LzFx/Mdu3gOHvTIoC1N6/SgxAgQIAAAQIECBAgQIAAAQIECBAgQIAAAQIECBAgQIAAAQJLExCq2q03ttn61BGAEmjarfe3rdMIYG1L3n0JECBAgAABAgQIECBAgAABAgQIECBAgAABAgQIECBAgACBksAmpNTzW6+L9UOxrufm17W2T107XG9+qv6KG6KmywlJVVHV3YGAANYdILsFAQIECBAgQIAAAQIECBAgQIAAAQIECBAgQIAAAQIECBA4BIHrbU618NPYhmeHYLKUZ9xsfir+zs/ulz+DWLyksh0UuPrkuP6ex9YRZhwfVh/3wTffLiLbtIhDVtHVESBAgAABAgQIECBAgAABAgQIECBAgAABAgQIECBAgAABAu8XePL0bT1Y0epbomx9er/9TSo226RWQ/nd+TzeTbSX0Xv16fFJWxfDT5uQVD38tAsCAli78BacgQABAgQIECBAgAABAgQIECBAgAABAgQIECBAgAABAgQILFjg86fvxgUf39ELAkJVBaQDK9lsnpppo9TSKAWwlvbGnJcAAQIECBAgQIAAAQIECBAgQIAAAQIECBAgQIAAAQIECOyYgADW9QvZhJS6fuNFqXy1qtWVLvbjItunArQdaNlslOr57fH2qR6GuWoFsOaSdV0CBAgQIECAAAECBAgQIECAAAECBAgQIECAAAECBAgQILBDAk+++O5kXI+vduhIWzvKdVCqFn46P7tf/pTe1h7IjX9SYLOhqfqzyakqtXt1w/C8fKhVK4cZH3z1ulxbvv+WC4ct39/tCRAgQIAAAQIECBAgQIAAAQIECBAgQIAAAQIECBAgQIDAnQlMYanSzdbrk7ENz0q1Cywa2tgRrKhvibL16U/DUA4pdQWUpuuPDxc4co48m8Bw2YZi+GnVLvYx/DQbbceFBbA6sJQSIECAAAECBAgQIECAAAECBAgQIECAAAECBAgQIECAwHIFlrip6suzI/+u31rr+izc9Em4rlCTQNNy/6ve05NPm6cOfKPU0t6s/6Fe2htzXgIECBAgQIAAAQIECBAgQIAAAQIECBAgQIAAAQIECCxQoLx5anq29fqktaG2qWraB9Ta3m4E+of/+JtH5dc9BY+qv66AUvWivXWCT71i6u9CYLjsuovtU11c+1osgLWvb9ZzESBAgAABAgQIECBAgAABAgQIECBAgAABAgQIECBAYGaBJ0/fnu7zZ/qqfL9696/td//5+47QhuBR1VbdjgpMG5qqP5ucqlLqFiwggLXgl+foBAgQIECAAAECBAgQIECAAAECBAgQIECAAAECBAgcrsBcG6V2YZvUFGia6/erd/9SuvRU96u3tdrSBRUdnkA1pNQRUJoQH3z1+uLwMD0xgd0WEMDa7ffjdAQIECBAgAABAgQIECBAgAABAgQIECBAgAABAgQILFygJyg1rsdXS3rcKSgl0LSkN7bks3Z8Fm76JFxHqEmgaclz4ewEdkNAAGs33oNTECBAgAABAgQIECBAgAABAgQIECBAgAABAgQIECCwIIHPn74bF3TcVSLfzwAAIABJREFU9pv//ed6UMrWpx17tZ3Bo+rpOwJK1Uv21gk+9YqpJ0BgVwUEsHb1zTgXAQIECBAgQIAAAQIECBAgQIAAAQIECBAgQIAAAQJ3KrC0UFUPzu/+6/c+p9cD1l07XLZ77bTaJnhUlVJHgACBZQgIYC3jPTklAQIECBAgQIAAAQIECBAgQIAAAQIECBAgQIAAAQKBwFyhqmmj1LZ/v/mff9r2EWa8f8fWp95TTJ+nq/xW7UJQqgKlhgABAgQEsMwAAQIECBAgQIAAAQIECBAgQIAAAQIECBAgQIAAAQK3LnD16fFJ10XXrVY/Fut+uPn4sOscijsFhssm0NRpppwAAQIE9k1AAGvf3qjnIUCAAAECBAgQIECAAAECBAgQIECAAAECBAgQOHiBrvDTFHwax2cHj7bvAMPwvK1qm59sfdr3YfB8BAgQIHDbAgJYty3qegQIECBAgAABAgQIECBAgAABAgQIECBAgAABAgct0BV+mqTKm5+EpA56sG768PeGR4JVN0XUT4AAAQIEflpAAMtkECBAgAABAgQIECBAgAABAgQIECBAgAABAgQIEHiPwNXjj0dIBH4kMG2U2vLvwdevT7d8BLcnQIAAAQIEWmsCWMaAAAECBAgQIECAAAECBAgQIECAAAECBAgQIEBgbwS6tk9VN09NOj7R1z0jb+5/1NXz5qhW/+9/8deXf/vff18OHtn61PUaFBMgQIAAAQKBgABWgKaFAAECBAgQIECAAAECBAgQIECAAAECBAgQIEDgZgJdQanvWzls09r48GYn24/unvDTFHx6+eFnt/7gQ2uXrY0XpQuvVhfnLz6o1ZYuqIgAAQIECBAgcHcCAlh3Z+1OBAgQIECAAAECBAgQIECAAAECBAgQIECAAIGdECiHn6YNUWM7qR9a+Gmy6gk/beqLm5/mCElN9+8KStWHoTWhqh4ttQQIECBAgMCCBQSwFvzyHJ0AAQIECBAgQIAAAQIECBAgQIAAAQIECBDYX4GrT45PhZ925/3+4ZevducwhZMMbXx+fna/Y3NY4aJKCBAgQIAAAQIEflJAAMtgECBAgAABAgQIECBAgAABAgQIECBAgAABAgRuILDZJjVtiqr8urZJTRe0UarC+uc1Pdunqpunpuv3bJ+ac6NUj4dP+vVoqSVAgAABAgQI5AICWLmdTgIECBAgQIAAAQIECBAgQIAAAQIECBAgQIBAu3p8fCEo1T8IPUGplx/+tnyDN0e/LtcOq+FRtViYqSqljgABAgQIECBweAICWIf3zj0xAQIECBAgQIAAAQIECBAgQIAAAQIECBAg8B6BfQ9VVcNP04aoni1RPeGnuYbwy7Mj//41F67rEiBAgAABAgQI/KSA/wNqMAgQIECAAAECBAgQIECAAAECBAgQIECAAIGdErj65Pi0fKBxfFauXVjhy1/8dnHhpx7ioY3Pq/XnZ/frM1G9qDoCBAgQIECAAAECtyQggHVLkC5DgAABAgQIECBAgAABAgQIECBAgAABAgT2QeDq0+OT8nOsW7127Kht48PyGXagcNomVd0SVa3742PtwkapHmKhqh4ttQQIECBAgAABAvsiIIC1L2/ScxAgQIAAAQIECBAgQIAAAQIECBAgQIAAgVsQuHr88XgLlzmoS/zjX75oywtKtcv6SxovSrWr1cX5iw9qtaULKiJAgAABAgQIECCwDAEBrGW8J6ckQIAAAQIECBAgQIAAAQIECBAgQIAAgQUKbLZJ9WyJqj5j1zap6aLL2ihVZZizbhdCVUPrCUlt3nMt/CQoNefouDYBAgQIECBAgMABCghgHeBL98gECBAgQIAAAQIECBAgQIAAAQIECBAg8GOBrqDUJvwk0DTnDL38xW/Ll3/54Wfl2rkKr4NSxfBTzyEEpXq01BIgQIAAAQIECBDYmoAA1tbo3ZgAAQIECBAgQIAAAQIECBAgQIAAAQIEegWuHh9fCD/1qvXVv7n/UbnhzdFctb8un2GuwmE1PPI5vbl0XZcAAQIECBAgQIDAfgkIYO3X+/Q0BAgQIECAAAECBAgQIECAAAECBAgQWJzAZvtU9fd9OxXAqmJldX/45auscUtdc32m7/zs/umWHsltCRAgQIAAAQIECBBYmIAA1sJemOMSIECAAAECBAgQIECAAAECBAgQIEBgWwJXnxzXAymbz/RVf/v8Ob/hsg3toirx8sPPnlVqezZPTdd7c7T9jVKV5/pjzbR9qlpvS1VVSh0BAgQIECBAgAABAnMJCGDNJeu6BAgQIECAAAECBAgQIECAAAECBAgQWIDA1eOPxwUc8w6O2BGUWrWLB1+9LoWqnjx9e9raUA6jja09vIOHvbVbfHl25N8Zbk3ThQgQIECAAAECBAgQWKqAPxgt9c05NwECBAgQIECAAAECBAgQIECAAAECixfo+vTeumOj1D5vn7o3PKqGn+YakClUNbahtKlqrjP0XrfnM33nZ0flwFjvOdQTIECAAAECBAgQIEBgHwUEsPbxrXomAgQIECBAgAABAgQIECBAgAABAgS2JlD+TN8mJLXPn97reQXDZbn6XjudI4C1tE1VU6BKUKo8NQoJECBAgAABAgQIECAwq4AA1qy8Lk6AAAECBAgQIECAAAECBAgQIECAwC4KbDZPVTdKdW2Tmp52j0NVw/C8/D5XrfSJvul6PYGqJ198d9LW69KGpqVtqZoshjbWjFeri/MXH5SNy+9NIQECBAgQIECAAAECBAh0CwhgdZNpIECAAAECBAgQIECAAAECBAgQIEDgJgJdn92bbtQVlNrj8NNN0H+m98E3387y98RPnr4rh4PG1h7O9Hhbv+wmULValS2Eqrb+yhyAAAECBAgQIECAAAEC3QKz/MG6+xQaCBAgQIAAAQIECBAgQIAAAQIECBBYtED/RilBqesX3vHpvaG+Uap1bJ/6u796VZ+99XhaLd73UNX52f2yRdVMHQECBAgQIECAAAECBAgsU0AAa5nvzakJECBAgAABAgQIECBAgAABAgQIzC7Qtanq+3a615/e69GufqZv1S56Pr33+dN3Y88x1PYJ2FTV56WaAAECBAgQIECAAAECBP4kIIBlGggQIECAAAECBAgQIECAAAECBAgQ+EmBq8fHF/sbqhouW3Gj1MsPP2tvjj56Vh2Tfzv69WW1dp+3RFUNeuuG1i5bG0uf9LOlqldXPQECBAgQIECAAAECBAgkAgJYiZoeAgQIECBAgAABAgQIECBAgAABAnss8MPmq9m2WnV8dm9yLgalps/u9WyUqr7CJ198dzKux47v9FWvvN91w2p4VH3C8xcflAJV1eupI0CAAAECBAgQIECAAAECdykggHWX2u5FgAABAgQIECBAgAABAgQIECBAYAaBq0+OT8uXHcfyJqfyNTeF9Y1ScwWl+s77/uopeNXW48Z2nzdVXW+UKv5WQ3nWhKqKpsoIECBAgAABAgQIECBAYPECAliLf4UegAABAgQIECBAgAABAgQIECBAYB8Frh5/PO7OcxU2Vt1rp3Nsn5rL4DpctT75+esPJ7sUvPry7Mjf5841EK5LgAABAgQIECBAgAABAgRuIOAP7DfA00qAAAECBAgQIECAAAECBAgQIECgR2C3QlWFk98bHi0pVFV4oh9Knjx9ezq2oWsb2GZTVMcGqMp5bImqKKkhQIAAAQIECBAgQIAAAQK7LSCAtdvvx+kIECBAgAABAgQIECBAgAABAgT2SEAAq/9lbjZVVX/r9UlvqKp66aGNz9tqdSEwVRVTR4AAAQIECBAgQIAAAQIEDkdAAOtw3rUnJUCAAAECBAgQIECAAAECBAgQKApcfXpcD/18P74qXna+smF4Xr34g69fn1Zr56rblVBV9fmmzVfnZ0f1maheWB0BAgQIECBAgAABAgQIECCwFwICWHvxGj0EAQIECBAgQIAAAQIECBAgQOAwBcpBqXU7aWPrCNCMD7ct+uCbbxf1d3fTJ/1aG8rGY2tbNd58TrCNF6X3bPNViUkRAQIECBAgQIAAAQIECBA4VIFF/SXOob4kz02AAAECBAgQIECAAAECBAgQWLJAOSQ1PeQmKDU+W/Lz/tzZlxeqenex7aDUXLMwfVLw/Oz+1reBzfV8rkuAAAECBAgQIECAAAECBAjcnYAA1t1ZuxMBAgQIECBAgAABAgQIECBAYG8ENqGqKSxV+W02T21/o1TlqHPX7EIA6/On78a5n/M2r3+9qar6Gy+EqqpW6ggQIECAAAECBAgQIECAAIHbEhDAui1J1yFAgAABAgQIECBAgAABAgQI7KCAoFT6UoZy6OfBN69rQbT0KLfctwsBLKGqW36pLkeAAAECBAgQIECAAAECBAhsVUAAa6v8bk6AAAECBAgQIECAAAECBAgQmFfg6vHxxX5vnyoGpYZ20Vbtoqr94KvX5drqNeese/L07Xs/pTe2YdZPO06f9GurVdnt/MUH5do57VybAAECBAgQIECAAAECBAgQIHBTAQGsmwrqJ0CAAAECBAgQIECAAAECBAjcscDVJ8enbfNZv8pvFz79VwxJTY8ztIsHX79+b5io8uRLr9mJTVWr4ZGg1NInyfkJECBAgAABAgQIECBAgACBuQUEsOYWdn0CBAgQIECAAAECBAgQIEDgYAU2Qanqbxxn3U5UPUa9bricwlKl+lW7WNpGqdJzBUU7EaqaNlW11s7P7tfnM3hWLQQIECBAgAABAgQIECBAgACBQxEQwDqUN+05CRAgQIAAAQIECBAgQIAAgVsRuPr0uLh5qrX2/fjqVm56o4sISt2Ir9C8C6GqwjF/KPny7MjfCfaAqSVAgAABAgQIECBAgAABAgQIvEfAX7YYEQIECBAgQIAAAQIECBAgQIBAh8DV44/HjvLtl94bHtk+Ne9r2IUA1vD/W60qT2rzVUVJDQECBAgQIECAAAECBAgQIECgLiCAVbdSSYAAAQIECBAgQIAAAQIECOypwNXj49qn9DbPPz7cOsMwPG+r2uf/hK+yt7ULoSqbqrJ3p4sAAQIECBAgQIAAAQIECBAgcNcCAlh3Le5+BAgQIECAAAECBAgQIECAQCzQ9fm/dat/KnAcn8WH+rnGKShV/D34+vVpsVTZHQjMFcASqrqDl+cWBAgQIECAAAECBAgQIECAAIE7FhDAumNwtyNAgAABAgQIECBAgAABAgRygd34/N9wWX2CB9+8rofAqhdVFwk8+eK7k3E9voqa39MkVDWHqmsSIECAAAECBAgQIECAAAECBJYjIIC1nHflpAQI/B97d5MbRbK1ATiyEDCu9VxL2Iugxbw9RuzA9g6Qx2aO8CK6LBXr8bhB7bwq/wFlqIxMZ2RFZDyeXH1yZMSJ5+R3bze8OkmAAAECBAgQIECAAIFiBKInVW2mVKWaPpVIa3n51Z+nJLIdsu3x+38jJ4c1h20IST4fKYA1pHOeIUCAAAECBAgQIECAAAECBAjMR8AfGM6nl25CgAABAgQIECBAgAABAgSSClz/dRAXdGk3n/5rkwRdkl3wRXMUu/fy83oVu9a6/gKbSVXh5iZycphQVX9hTxAgQIAAAQIECBAgQIAAAQIECIwtIIA1tqj9CBAgQIAAAQIECBAgQIDADAVuJ1r9l+bzbf244j//F5oQHZRaflnHhcv6FWv1vcBtqCr25+bmsA3NSezyVOtMtUola18CBAgQIECAAAECBAgQIECAwPwEBLDm11M3IkCAAAECBAgQIECAAAECUQK3oarNJwBjfjKZauXzfzHNym/N5jOB+w5VNSFcXZy/invf8yNUEQECBAgQIECAAAECBAgQIECAQMYCAlgZN0dpBAgQIECAAAECBAgQIEBgI3AblIr92QSqbsNSsT+pPhUYOamqCSvTp2J7lde6TagqhCb6XWtDSPJZyia0Z1Eyi8Xq4uPL6KloUXtaRIAAAQIECBAgQIAAAQIECBAgQCCEIIDlNSBAgAABAgQIECBAgAABApkLXP91cBradu+fZAtNExl0Cavl57WgS+bv1XPLSzXVajOpKoQ27v0RqnpuGz1PgAABAgQIECBAgAABAgQIECAwgoAA1giItiBAgAABAgQIECBAgAABAn0F+k+12ncAq7laXq6jpx319bA+D4FUU63uQlWxP+3q4vz1aexq6wgQIECAAAECBAgQIECAAAECBAjsW0AAa98dcD4BAgQIECBAgAABAgQIVClw/fZgFUKqz//FkjZXoQmRk4ZMtYpVzW1dqlBVn3tuPhMoVNVHzFoCBAgQIECAAAECBAgQIECAAIGSBASwSuqWWgkQIECAAAECBAgQIEAga4F0oaomfnrQJlC1iAxVhRB8KjDrV+qPxR1/+B4/jeymPW1DeDP2TTehqrBYxAX4QggXH19Grx27VvsRIECAAAECBAgQIECAAAECBAgQSCkggJVS194ECBAgQIAAAQIECBAgULxAulBVD5qmOVt+WfskWw+yuS89fv9tlSJU1cfNVKs+WtYSIECAAAECBAgQIECAAAECBAjMWUAAa87ddTcCBAgQIECAAAECBAgQ+K3A9dv/tfun6TfVSgBr/x1LXUEuoSpTrVJ32v4ECBAgQIAAAQIECBAgQIAAAQJzExDAmltH3YcAAQIECBAgQIAAAQKVCly/O4j/JNt/7T97Z3rRHPn83967kLyAv99/23vYz6cCk7fZAQQIECBAgAABAgQIECBAgAABApULCGBV/gK4PgECBAgQIECAAAECBHIWEKrKuTv11pZHqCpcRXdg0ZxefHy5il5vIQECBAgQIECAAAECBAgQIECAAAECvQQEsHpxWUyAAAECBAgQIECAAAECUwpk8alAk6qmbPnezsohVNXn8s2iORKq6iNmLQECBAgQIECAAAECBAgQIECAAIF0AgJY6WztTIAAAQIECBAgQIAAAQK/Ebh+e9BjEk/7JgXi8vKrfx9OAZvZnscfvkd/lrK92f9nKYWqMnuBlEOAAAECBAgQIECAAAECBAgQIEAgUsAfOEdCWUaAAAECBAgQIECAAAECfxbIIVQVQhP9Sbbl5To6mKPveQkcv//3NLaiNjQnsWtTrft0/sqfvaTCtS8BAgQIECBAgAABAgQIECBAgACBTAT8IWAmjVAGAQIECBAgQIAAAQIEShZI96lAoapS34v4oFRz2IaQZNJZKjuhqlSy9iVAgAABAgQIECBAgAABAgQIECBQpoAAVpl9UzUBAgQIECBAgAABAgSyEPgx+cqnArNoSOIihKoSA9ueAAECBAgQIECAAAECBAgQIECAAIEiBQSwimybogkQIECAAAECBAgQIJCHwKDJVy+ao9jql5/Xq9i11qUVOP7w/bC9af9Je8q4uzchRH+W8uL8lc9SjstvNwIECBAgQIAAAQIECBAgQIAAAQLVCAhgVdNqFyVAgAABAgQIECBAgMD4Ak8CWBHhKqGq8fswdMfNRKs2NCdDn9/Hc01oz2LPvTh/fRq71joCBAgQIECAAAECBAgQIECAAAECBAgMFRDAGirnOQIECBAgQIAAAQIECBQmcP3u4DD8F3oEUvp/VnB5+dW/Zxb0XqQMYEUHpRaL1cXHlyadFfTeKJUAAQIECBAgQIAAAQIECBAgQIAAgV8F/MG4N4IAAQIECBAgQIAAAQKVCNwFsNJ+Qk4Aa/8vk1DV/nugAgIECBAgQIAAAQIECBAgQIAAAQIE6hIQwKqr325LgAABAgQIECBAgECFAr9Ovuo/1SqGTPAqRmn4mk2oKoTmMHaHNoQ3sWtj1zUhXF2cv4quIXZf6wgQIECAAAECBAgQIECAAAECBAgQIFC6gABW6R1UPwECBAgQIECAAAECVQtMMdUqBlgAK0Zp+JpUU602nwm8OH/d47OUw+/gSQIECBAgQIAAAQIECBAgQIAAAQIECMxVQABrrp11LwIECBAgQIAAAQIEihW4/uvgNLShx6ShvlOtmqvwInSGbpaf16tiEWdS+M+Tr9JMtRLAmsmr4hoECBAgQIAAAQIECBAgQIAAAQIECOxRQABrj/iOJkCAAAECBAgQIECgHoHbSVWxPzfhMLTtSezy+HXN1fJyHV9H/MZWDhCI/axg3+CVqVYDmuERAgQIECBAgAABAgQIECBAgAABAgQIPENAAOsZeB4lQIAAAQIECBAgQIBArMDdVKsUoarYCjbrBLD6aA1Ze/zhe3zA7aY9HRKuCotF52Syi48vO9cMuZ9nCBAgQIAAAQIECBAgQIAAAQIECBAgQOCpgACWt4IAAQIECBAgQIAAAQIJBR4nX5lqlVA5n62P339b9Q1VxVS/mWr1ELwSrooRs4YAAQIECBAgQIAAAQIECBAgQIAAAQLTCQhgTWftJAIECBAgQIAAAQIEKhQYNPmqac7CIkRPMFp+XkevrbAFk1z5cfLVgKlWMQX6rGCMkjUECBAgQIAAAQIECBAgQIAAAQIECBDYj4AA1n7cnUqAAAECBAgQIECAQCUCTwNYzVXn1ZuwWn5Zn3aus2ASgajPCg4IXv081SrmIiZfxShZQ4AAAQIECBAgQIAAAQIECBAgQIAAgekFBLCmN3ciAQIECBAgQIAAAQIVCTwJYDXNmXBVWS/AkM8KNiF0B+0WzalQVVnvgmoJECBAgAABAgQIECBAgAABAgQIECDwOwEBLO8FAQIECBAgQIAAAQIEEgoIYCXEfcbWx+//jZ4w1obmJPaox+CVcFUsmXUECBAgQIAAAQIECBAgQIAAAQIECBAoXkAAq/gWugABAgQIECBAgAABAjkLCGDl2Z2/339rU1TWLJojU61SyNqTAAECBAgQIECAAAECBAgQIECAAAEC+QoIYOXbG5URIECAAAECBAgQIDADAQGsvJr4MPlq0FSrmKuYfBWjZA0BAgQIECBAgAABAgQIECBAgAABAgRmJSCANat2ugwBAgQIECBAgAABArkJCGBN15GYzwr2CV49VG6q1XQ9dBIBAgQIECBAgAABAgQIECBAgAABAgRKFBDAKrFraiZAgAABAgQIECBAoBgBAazpWjXks4JNaM+6Krw4f33atcbvCRAgQIAAAQIECBAgQIAAAQIECBAgQKBeAQGsenvv5gQIECBAgAABAgQITCAggJUeedhnBe+CV8JV6fvjBAIECBAgQIAAAQIECBAgQIAAAQIECMxdQABr7h12PwIECBAgQIAAAQIE9ioggPU8/lSfFfx0/sq/Dz+vNZ4mQIAAAQIECBAgQIAAAQIECBAgQIAAgXsBf+DsVSBAgAABAgQIECBAgEBCAQGsp7gxoaqHp9rQnPRtj88K9hWzngABAgQIECBAgAABAgQIECBAgAABAgSeIyCA9Rw9zxIgQIAAAQIECBAgQKBDQADrKdDf77+1KV6ch+CVzwqm0LUnAQIECBAgQIAAAQIECBAgQIAAAQIECPxJQADLu0GAAAECBAgQIECAAIGEAgJYP3AfJl8NmWoV0yKfFYxRsoYAAQIECBAgQIAAAQIECBAgQIAAAQIExhYQwBpb1H4ECBAgQIAAAQIECFQjcBeuCofdF27fPK5pmrPll/Vp9zNlrTh+/23VVXEbwg+HrsX3v4/5nODDViZfRaJaRoAAAQIECBAgQIAAAQIECBAgQIAAAQKjCghgjcppMwIECBAgQIAAAQIEShe4fndwGG5iQlUh3IWvfgpXxVx+pgGsIZ8VjAlXCVXFvFTWECBAgAABAgQIECBAgAABAgQIECBAgMA+BQSw9qnvbAIECBAgQIAAAQIEshN48snAsSpsmrOwCLdTopaf153TosY6NvU+D5Ov+ky3ahbN0aaui48vZ+OQ2tn+BAgQIECAAAECBAgQIECAAAECBAgQIJCvgABWvr1RGQECBAgQIECAAAECEwo8Tr4aMtUqpk6Trx6VPp2/8u+iMe+MNQQIECBAgAABAgQIECBAgAABAgQIECBQhIA/9C6iTYokQIAAAQIECBAgQOA5AtdvD1a9PxUYc+BPU61ils9p8tXDfbc/Pfgw3WqXh8lXMW+LNQQIECBAgAABAgQIECBAgAABAgQIECBQioAAVimdUicBAgQIECBAgACBCgRuP/8X+9O2J7FLh61rrkJz98nAP/4swmqOoao+XtsBLNOt+uhZS4AAAQIECBAgQIAAAQIECBAgQIAAAQJzEBDAmkMX3YEAAQIECBAgQIDATASu3/6v3ftVZvqpwFSuAlipZO1LgAABAgQIECBAgAABAgQIECBAgAABAqUICGCV0il1EiBAgAABAgQIEChUIItQVR87Aaw+WkEAqxeXxQQIECBAgAABAgQIECBAgAABAgQIECAwQwEBrBk21ZUIECBAgAABAgQIpBYoLlT1ojmq/VOBqd4JAaxUsvYlQIAAAQIECBAgQIAAAQIECBAgQIAAgVIEBLBK6ZQ6CRAgQIAAAQIECCQWyCJU1TRnsddcflmfxq61Lp2AAFY6WzsTIECAAAECBAgQIECAAAECBAgQIECAQBkCAlhl9EmVBAgQIECAAAECBJIL5BDAWl5+9e8oyTs97gECWON62o0AAQIECBAgQIAAAQIECBAgQIAAAQIEyhPwlxvl9UzFBAgQIECAAAECBKIFrv866J4S1bYn0RsOWChUNQCtoEcEsApqllIJECBAgAABAgQIECBAgAABAgQIECBAIImAAFYSVpsSIECAAAECBAgQyEMg1VQroao8+ptDFQJYOXRBDQQIECBAgAABAgQIECBAgAABAgQIECCwTwEBrH3qO5sAAQIECBAgQIBAIoHHyVd9pls1zdmmnOWXdffUrER127Y8AQGs8nqmYgIECBAgQIAAAQIECBAgQIAAAQIECBAYV0AAa1xPuxEgQIAAAQIECBDIQmDI5CtTrbJoXXFFCGAV1zIFEyBAgAABAgQIECBAgAABAgQIECBAgMDIAgJYI4PajgABAgQIECBNiEUFAAAgAElEQVRAgEAOAk8CWPfTrXbVZvJVDp0rrwYBrPJ6pmICBAgQIECAAAECBAgQIECAAAECBAgQGFdAAGtcT7sRIECAAAECBAgQyEJgO4BlulUWbSmuiOP3/3Z+jrINzcnPF/t0/sq/ZxbXaQUTIECAAAECBAgQIECAAAECBAgQIECAwHME/MH4c/Q8S4AAAQIECBAgQCBTAQGsTBuz57KOP3w/DDdtZ6jqocw2hDd9SxbA6itmPQECBAgQIECAAAECBAgQIECAAAECBAiULiCAVXoH1U+AAAECBAgQIFCdwPVfB90Bmrb9ZSqRCVjzfU2mCFXF6DWhPdusuzh/3f1+xmxoDQECBAgQIECAAAECBAgQIECAAAECBAgQKERAAKuQRimTAAECBAgQIEBgvgLX7w4Ow3/tPylvKICVUnf8ve8+/dccxu48ZFJV7N6x60y+ipWyjgABAgQIECBAgAABAgQIECBAgAABAgTmJiCANbeOug8BAgQIECBAgEBxAkkDWE1zO5Vo+WVtKtGe34y7SVU3kaGq5jCHUNXDVKsYOpOvYpSsIUCAAAECBAgQIECAAAECBAgQIECAAIE5CghgzbGr7kSAAAECBAgQILB3gbtQVYgIPbVvUhZr8lVK3X57b6ZataH55dOQ/XZ4/uomhKuwaCLey7uzLj6+XD3/VDsQIECAAAECBAgQIECAAAECBAgQIECAAIF5Cwhgzbu/bkeAAAECBAgQIDCiwPVfB6ehDZETjDYHJwpX3U+1irmayVcxSmnX/Jh8lWaqlVBV2v7ZnQABAgQIECBAgAABAgQIECBAgAABAgQIdAkIYHUJ+T0BAgQIECBAgACBe4G7AFabYIJRcxVe3E3LWn5emzhU0BuXaqrV7af/Fovod8GkqoJeGqUSIECAAAECBAgQIECAAAECBAgQIECAwOwEBLBm11IXIkCAAAECBAgQ6COQLlTVp4rmanm57jFZq8/e1qYUGBLAup1YFdrd4arFYiVUlbJz9iZAgAABAgQIECBAgAABAgQIECBAgAABAuMJCGCNZ2knAgQIECBAgACBTATy+FTgj6lWMSwmX8UoTbNmSKgqprLNVKuL89e3k878ECBAgAABAgQIECBAgAABAgQIECBAgAABAvMREMCaTy/dhAABAgQIECBA4F4g2VSrpjkLixD9WTihqjJfSQGsMvumagIECBAgQIAAAQIECBAgQIAAAQIECBAgsC8BAax9yTuXAAECBAgQIECgl8D1u4PuT/TdhMPQhvt17ZteB8Qsbpqz5Ze1CUYxVgWuGRK8MtWqwEYrmQABAgQIECBAgAABAgQIECBAgAABAgQIjCwggDUyqO0IECBAgAABAgTSCKScaiVUlaZnpe0qgFVax9RLgAABAgQIECBAgAABAgQIECBAgAABAgTyEBDAyqMPqiBAgAABAgQIEPiDwOPkq9vpVu1JHFRzdbuuCauYTwb6VGCcasmrjt9/W7Uh9JqKZrpVyR1XOwECBAgQIECAAAECBAgQIECAAAECBAgQmE5AAGs6aycRIECAAAECBAhsCdxNtXr4ZOAunp6fE/SpQO/aloAAlleCAAECBAgQIECAAAECBAgQIECAAAECBAgQSCUggJVK1r4ECBAgQIAAAQKdAtdvD1Yh9AxXhfvpVrt2b8LKZwU7+atYIHhVRZtdkgABAgQIECBAgAABAgQIECBAgAABAgQI7FVAAGuv/A4nQIAAAQIECNQp8GPyVY/wVdOcPXxO0CcD63xvtm99/OH7YafETXvq04OdShYQIECAAAECBAgQIECAAAECBAgQIECAAAECzxAQwHoGnkcJECBAgAABAgSeCgybahUh6bOCEUh1LRk03WrRHF18fLmqS8ptCRAgQIAAAQIECBAgQIAAAQIECBAgQIAAgZQCAlgpde1NgAABAgQIEJiJwI+JVTEX6jHV6mG7n6Zb7TrB5KsY/7LXbEJVsTfoM9mqCeHqdt9FcyqAFStsHQECBAgQIECAAAECBAgQIECAAAECBAgQIBAjIIAVo2QNAQIECBAgQKBygWRTrV40R0JVlb9cW9f/+/23NoVIY/JVClZ7EiBAgAABAgQIECBAgAABAgQIECBAgAABAiEEASyvAQECBAgQIEBgRgLX7w4Oo6/zX/tP9NpUCwWwUslmte/xh++d72V70/99fJxqFXNbk69ilKwhQIAAAQIECBAgQIAAAQIECBAgQIAAAQIEBggIYA1A8wgBAgQIECBAIFeB67f/SzI9qNd9hap6cdWw2FSrGrrsjgQIECBAgAABAgQIECBAgAABAgQIECBAoF4BAax6e+/mBAgQIECAQCEC138dnEaX2rYn0Wv7LGyas7AIq5hHfFIwRqmONQ+Tr/pMt3qcarVoOt/7i48vo97JOrTdkgABAgQIECBAgAABAgQIECBAgAABAgQIENiXgADWvuSdS4AAAQIECBCIFDDVKhLKsuwEhky++nT+yr+jZNdJBREgQIAAAQIECBAgQIAAAQIECBAgQIAAAQK7BPzlhveDAAECBAgQIJCpwOPkq15TrZqr2OssL9eHsWutIzBEYDuA9TjdasdmF+evvJdDsD1DgAABAgQIECBAgAABAgQIECBAgAABAgQI7E1AAGtv9A4mQIAAAQIECOwWGDL5ann51T/febGyEdgOYJlulU1rFEKAAAECBAgQIECAAAECBAgQIECAAAECBAiMKOAv6EbEtBUBAgQIECBAYEyBJwGspjnr2n/5ZX3atcbvCYwhcPzhe+ekqvam/efnswSwxpC3BwECBAgQIECAAAECBAgQIECAAAECBAgQIJCbgABWbh1RDwECBAgQIFCFwOPnBXfdduvTg6ZbVfFqFHPJ7elWMYULYMUoWUOAAAECBAgQIECAAAECBAgQIECAAAECBAiUJiCAVVrH1EuAAAECBAjMQsDnBWfRxtldYkioKgahCeFqs+7i/FXn1KyY/awhQIAAAQIECBAgQIAAAQIECBAgQIAAAQIECOQkIICVUzfUQoAAAQIECMxe4HHy1dZ0q50Xv//0oM8Lzv712PsFUwWwTL7ae2sVQIAAAQIECBAgQIAAAQIECBAgQIAAAQIECCQUEMBKiGtrAgQIECBAgMC2gMlX3ompBY7ff1t1ndmG8KZrzfbvH6ZaxTxn8lWMkjUECBAgQIAAAQIECBAgQIAAAQIECBAgQIBAqQICWKV2Tt0ECBAgQIBAkQJPAlj30612XcbkqyJbnU3Rplpl0wqFECBAgAABAgQIECBAgAABAgQIECBAgAABAjMVEMCaaWNdiwABAgQIEJhewHSr6c1rPfH4/b+n3XdvDjdr+ky3ahbN0eaZi48vO6dmdZ9vBQECBAgQIECAAAECBAgQIECAAAECBAgQIECgDgEBrDr67JYECBAgQIDABAICWBMgz/iI4w/fbwNTMT/tTftPzLq+az6dv/LvB33RrCdAgAABAgQIECBAgAABAgQIECBAgAABAgSqF/AXLNW/AgAIECBAgACBPwlcvzs4DP+FiElD7Zu+isvLr/45rC/ajNdvwlepQlVNaM9u6RaLzqlWJl/N+CVzNQIECBAgQIAAAQIECBAgQIAAAQIECBAgQCCZgL/4S0ZrYwIECBAgQKB0gbsAVppJQwJYpb8dcfXHfSpws1dz2OdTgXGn360y1aqPlrUECBAgQIAAAQIECBAgQIAAAQIECBAgQIAAgf4CAlj9zTxBgAABAgQIzFzg18lXPaZbvWiONjTLz+vOSUMzJ5zt9fp8JjDc3By2oTlJgfE41Spi84vz1xFT3CI2soQAAQIECBAgQIAAAQIECBAgQIAAAQIECBAgQOC3AgJYXgwCBAgQIECgOoHbgNWun5twGNq2d3DGVKv5v0qbiVbpQlXhKlbw4vzV7nc4diPrCBAgQIAAAQIECBAgQIAAAQIECBAgQIAAAQIEni0ggPVsQhsQIECAAAECJQkM+6xgcxVehM4pQiZflfQm9Kv1cfJVoqlWTQhXQlX9emI1AQIECBAgQIAAAQIECBAgQIAAAQIECBAgQCAXAQGsXDqhDgIECBAgQCC5wG34qvd0q+YqNGG1/LLuDGAlv4ADkgiknWrVnkUVvVisLj6+9OnKKCyLCBAgQIAAAQIECBAgQIAAAQIECBAgQIAAAQJ5CQhg5dUP1RAgQIAAAQKJBIZOvlpern3qLVFPctl2SABrM7Gqu/52dXH+WnCvG8oKAgQIECBAgAABAgQIECBAgAABAgQIECBAgEDRAgJYRbdP8QQIECBAgECswO8DWM3uEI3JV7G82a3bhKpCaDrDc20Ib/oU34T2TKiqj5i1BAgQIECAAAECBAgQIECAAAECBAgQIECAAIH5Cwhgzb/HbkiAAAECBKoQuA1Y7fp58unB5sp0q7JejdhQ1cOt+oarYjQEsGKUrCFAgAABAgQIECBAgAABAgQIECBAgAABAgQI1CUggFVXv92WAAECBAjMUsDnBWfZ1ieXGvKpwBiZTagqLBarzdqLjy9v/9MPAQIECBAgQIAAAQIECBAgQIAAAQIECBAgQIAAgVgBAaxYKesIECBAgACBLAVuw1dPplt1ldpcBZ8X7EKa5PfHH74fhpubjk8F/viUoKlWk7TFIQQIECBAgAABAgQIECBAgAABAgQIECBAgAABAj0EBLB6YFlKgAABAgQITCdw/dfBaWhDRzBnU0/7pl9VPj3Yzyvt6uP331apQlUPU61ibmDyVYySNQQIECBAgAABAgQIECBAgAABAgQIECBAgAABAr8TEMDyXhAgQIAAAQJZCtwFsNqT/sU1VzufMfmqP2mCJx4mX7Whie5xE8JVCO0qNlglVJWgcbYkQIAAAQIECBAgQIAAAQIECBAgQIAAAQIECBB4IiCA5aUgQIAAAQIEshL4dfJV7HSr5iq8CKebiyw/r1dZXUgxvxUYMvmqCe3Zxfnr2z77IUCAAAECBAgQIECAAAECBAgQIECAAAECBAgQIJCLgABWLp1QBwECBAgQIHArMGzylc8K5vT6PEy32lXT9uSrx+lWux5aLFamWuXUabUQIECAAAECBAgQIECAAAECBAgQIECAAAECBAhsBASwvAcECBAgQIBAVgJPAlhNcxYWoXOqlclX+bRx0HSrRXMkXJVPD1VCgAABAgQIECBAgAABAgQIECBAgAABAgQIECAQLyCAFW9lJQECBAgQIPBMgUHTrZrmbPll7bNzz7Sf4vGHyVfb0612nf0w+cqnBafokDMIECBAgAABAgQIECBAgAABAgQIECBAgAABAgRSCAhgpVC1JwECBAgQqEjg+t3BYfR1b8JhaNuT6PWbhQJYvbhSLR7yWcGYWhqTr2KYrCFAgAABAgQIECBAgAABAgQIECBAgAABAgQIEMhYQAAr4+YojQABAgQIlCAwaKpVzMUEr2KUJlsz6LOCIVyF0O78fKTJV5O10EEECBAgQIAAAQIECBAgQIAAAQIECBAgQIAAAQKJBASwEsHalgABAgQIzF3gcfLVkKlWMTgCWDFKydf4rGByYgcQIECAAAECBAgQIECAAAECBAgQIECAAAECBAgULiCAVXgDlU+AAAECBPYlMGjylVDVvto1+NxBk698VnCwtwcJECBAgAABAgQIECBAgAABAgQIECBAgAABAgTKExDAKq9nKiZAgAABAskFbqdbbSZb7fppN79v3/xY0lx1FtaE1fLL+rRznQXZCGwHsBqfFcymNwohQIAAAQIECBAgQIAAAQIECBAgQIAAAQIECBDIQ0AAK48+qIIAAQIECGQlcP32YPVruCqiPNOtIpDKW/IkgGW6VXlNVDEBAgQIECBAgAABAgQIECBAgAABAgQIECBAgEBSAQGspLw2J0CAAAECZQk8Tr5q25P4ypur0IRVWITV8vN6Ff+clSUICGCV0CU1EiBAgAABAgQIECBAgAABAgQIECBAgAABAgQI7FNAAGuf+s4mQIAAAQKZCZh8lVlDMihHACuDJiiBAAECBAgQIECAAAECBAgQIECAAAECBAgQIEAgawEBrKzbozgCBAgQIDCewPVfB6ehDYe7d2zf/Pr7++lWux4y+Wq8JmW4kwBWhk1REgECBAgQIECAAAECBAgQIECAAAECBAgQIECAQFYCAlhZtUMxBAgQIEAgncCg6VYvmiOfFUzXk33vvAlXddXQhvBLKK9ZNEcXH192Pte1r98TIECAAAECBAgQIECAAAECBAgQIECAAAECBAgQmIuAANZcOukeBAgQIEDgDwI/Jl9tT7faQdY0Z8Fkq9m/U3+//9b2vaQAVl8x6wkQIECAAAECBAgQIECAAAECBAgQIECAAAECBOYuIIA19w67HwECBAjMWuD63cFhuOn4rGDbnvRGMPmqN1lJDzxMvtqebrXrDk1oz8JisTL9qqROq5UAAQIECBAgQIAAAQIECBAgQIAAAQIECBAgQGAKAQGsKZSdQYAAAQIEEgkM+qzg/XSrXSX57GCihmWyrclXmTRCGQQIECBAgAABAgQIECBAgAABAgQIECBAgAABArMQEMCaRRtdggABAgTmJHD7ycDYn17TrZqr0ITV8ss6fv/YOqwrSmA7gLX5rGDXBUy+6hLyewIECBAgQIAAAQIECBAgQIAAAQIECBAgQIAAgVoFBLBq7bx7EyBAgEC2Atdv/9cmKc5nBZOwlrjpdgDr0/kr/0xYYiPVTIAAAQIECBAgQIAAAQIECBAgQIAAAQIECBAgkIWAv2zLog2KIECAAIG5C9x9KjD2p30TuzKEu6lWMetNvopRqmONAFYdfXZLAgQIECBAgAABAgQIECBAgAABAgQIECBAgACBaQQEsKZxdgoBAgQIVC5gqlXlL0Bm1xfAyqwhyiFAgAABAgQIECBAgAABAgQIECBAgAABAgQIEChaQACr6PYpngABAgRyF/gx+arHVKumOYu9l6lWsVL1rNsOV8Xc3CcIY5SsIUCAAAECBAgQIECAAAECBAgQIECAAAECBAgQIPB7AQEsbwYBAgQIEBgocP3XwWnno2170rlma8Hy8qv/fe6LZv2jgACWl4EAAQIECBAgQIAAAQIECBAgQIAAAQIECBAgQIDAtAL+gndab6cRIECAwIwEBn1W8EVz1EWw/Lxeda3xewLbAoJX3gkCBAgQIECAAAECBAgQIECAAAECBAgQIECAAAEC+xEQwNqPu1MJECBAoGCBx8lXfaZb3X9W0CcDC2585qULYGXeIOURIECAAAECBAgQIECAAAECBAgQIECAAAECBAjMVkAAa7atdTECBAgQSCUwZPKVzwqm6oZ9HwS2A1ifzl/55zyvBwECBAgQIECAAAECBAgQIECAAAECBAgQIECAAIEJBPzF3ATIjiBAgACBcgSu3x0cdlb7X/vPL2vup1vtes7kq05VC54pIID1TECPEyBAgAABAgQIECBAgAABAgQIECBAgAABAgQIEBgoIIA1EM5jBAgQIDBPAdOt5tnXGm4lgFVDl92RAAECBAgQIECAAAECBAgQIECAAAECBAgQIEAgRwEBrBy7oiYCBAgQGFXg+u3BKn7D9k382uZqs3Z5ue6emhW/qZUEBgkIYA1i8xABAgQIECBAgAABAgQIECBAgAABAgQIECBAgACBZwsIYD2b0AYECBAgkLvAkKlWMXdaXn71v6MxUNZMIiCANQmzQwgQIECAAAECBAgQIECAAAECBAgQIECAAAECBAg8EfAXx14KAgQIEJitwI/JV/2nWsWgmHwVo2TNVAICWFNJO4cAAQIECBAgQIAAAQIECBAgQIAAAQIECBAgQIDArwICWN4IAgQIEChO4PrdwWH4r/0nReGmWqVQtedzBY4/fO/8zGV78+v/T3w6f+Wf854L73kCBAgQIECAAAECBAgQIECAAAECBAgQIECAAAECEQL+Yi4CyRICBAgQyEtgcADrRXPUdZPl5/Wqa43fE5haYHu6Vcz5AlgxStYQIECAAAECBAgQIECAAAECBAgQIECAAAECBAgQeL6AANbzDe1AgAABAhMJDA1emWo1UYMcM7rAw+Sr7elWuw5qQrja/P7i/FXn1KzRC7YhAQIECBAgQIAAAQIECBAgQIAAAQIECBAgQIAAgQoFBLAqbLorEyBAIFeB24DVrp+bcBja9qRv/QJYfcWsz0XA5KtcOqEOAgQIECBAgAABAgQIECBAgAABAgQIECBAgAABAn8WEMDydhAgQIBAFgLDpls1V8vLtSk/WXRQESkEtgNYD9Otdp1l8lWKTtiTAAECBAgQIECAAAECBAgQIECAAAECBAgQIECAwJ8FBLC8HQQIECCwd4Hb8FXv6VbNVWjCavllfbr3CyiAQCKB7QDWp/NX/tktkbVtCRAgQIAAAQIECBAgQIAAAQIECBAgQIAAAQIECAwV8Jd4Q+U8R4AAAQKjCJh8NQqjTWYqIIA108a6FgECBAgQIECAAAECBAgQIECAAAECBAgQIECAwKwEBLBm1U6XIUCAQHkCvw9gNVc7b2LyVXmNVvEgAQGsQWweIkCAAAECBAgQIECAAAECBAgQIECAAAECBAgQIDCpgADWpNwOI0CAAIFtgacBrOZqebk+JEWAQAgCWN4CAgQIECBAgAABAgQIECBAgAABAgQIECBAgAABAvkLCGDl3yMVEiBAoFgBnxcstnUKz0RAACuTRiiDAAECBAgQIECAAAECBAgQIECAAAECBAgQIECAwA4BASyvBwECBAgkExDASkZr40oEBLAqabRrEiBAgAABAgQIECBAgAABAgQIECBAgAABAgQIFC0ggFV0+xRPgACBPAUEr/Lsi6ryEjh+/+9pV0VtaE5+XvPp/JV/dutC83sCBAgQIECAAAECBAgQIECAAAECBAgQIECAAAECEwv4S7yJwR1HgACBGgQEsGrosjs+V2B7ulXMfgJYMUrWECBAgAABAgQIECBAgAABAgQIECBAgAABAgQIEJhWQABrWm+nESBAoAqBpwGs5mp5uT6s4vIuSaBD4GHy1fZ0q12PNaE92/z+4vx159QsDSBAgAABAgQIECBAgAABAgQIECBAgAABAgQIECBAYFoBAaxpvZ1GgACBKgQEsKpos0sOFDD5aiCcxwgQIECAAAECBAgQIECAAAECBAgQIECAAAECBAhkKiCAlWljlEWAAIFcBa7/OjgNbXvSrz4TsPp5WV2qwMN0q131b0++ephutesZk69KfSPUTYAAAQIECBAgQIAAAQIECBAgQIAAAQIECBAgUIOAAFYNXXZHAgQIjCgggDUipq1mJ2C61exa6kIECBAgQIAAAQIECBAgQIAAAQIECBAgQIAAAQIEOgUEsDqJLCBAgACBjYDglfeAwJ8FHiZfbU+32mX2MPnKdCtvFgECBAgQIECAAAECBAgQIECAAAECBAgQIECAAIGyBQSwyu6f6gkQIDCZgADWZNQOykzg+MP3w66S2pv2n64127//dP7KP4f1RbOeAAECBAgQIECAAAECBAgQIECAAAECBAgQIECAQIYC/uIvw6YoiQABAjkKPAlgNc3Z8sv6NMda1URgLIFN+GpIuOphutWuOky+GqtL9iFAgAABAgQIECBAgAABAgQIECBAgAABAgQIECCwXwEBrP36O50AAQLFCAhgFdMqhY4kcDv56ubmsN9nBcPV5viL81edU7NGKtM2BAgQIECAAAECBAgQIECAAAECBAgQIECAAAECBAjsWUAAa88NcDwBAgRKERDAKqVT6hxDYOjkK58VHEPfHgQIECBAgAABAgQIECBAgAABAgQIECBAgAABAgTKEhDAKqtfqiVAgMDeBASw9kbv4D0I/C6A1YS76Va7fky+6hLyewIECBAgQIAAAQIECBAgQIAAAQIECBAgQIAAAQLzExDAml9P3YgAAQJJBASwkrDaNFOB7QDWJnwlXJVps5RFgAABAgQIECBAgAABAgQIECBAgAABAgQIECBAYM8CAlh7boDjCRAgUIqAAFYpnVJnl8AmXBVu2tOudW0Ibx7WCGB1afk9AQIECBAgQIAAAQIECBAgQIAAAQIECBAgQIAAgXoFBLDq7b2bEyBAoJeAAFYvLoszFvjd5wW7yhXA6hLyewIECBAgQIAAAQIECBAgQIAAAQIECBAgQIAAAQL1Cghg1dt7NydAgMCjwJNwVYxN05wtv6w7pwjFbGUNgecKDAlVxZy5CV6FRXP7nl98fLmKecYaAgQIECBAgAABAgQIECBAgAABAgQIECBAgAABAgTqEhDAqqvfbkuAAIHfCghgeTFKF0gZwLo4f3VYuo/6CRAgQIAAAQIECBAgQIAAAQIECBAgQIAAAQIECBBIJyCAlc7WzgQIEMheQPAq+xYpsENgSPDq56lWMcAmX8UoWUOAAAECBAgQIECAAAECBAgQIECAAAECBAgQIECgXgEBrHp77+YECBAIAlhegtIFhgawTLUqvfPqJ0CAAAECBAgQIECAAAECBAgQIECAAAECBAgQIJCPgABWPr1QCQECBCYXeBLAapqz5Zf16eSFOJDAQIHtANZmupVw1UBMjxEgQIAAAQIECBAgQIAAAQIECBAgQIAAAQIECBAgMEhAAGsQm4cIECAwDwEBrHn0saRbHL//9zSE5jC25jaEN7FrN+sEsPpoWUuAAAECBAgQIECAAAECBAgQIECAAAECBAgQIECAwBgCAlhjKNqDAAEChQoIYBXauMzK3oSq2tCc5FCWAFYOXVADAQIECBAgQIAAAQIECBAgQIAAAQIECBAgQIAAgboEBLDq6rfbEiBA4BcBASwvxBgCOQSwBK/G6KQ9CBAgQIAAAQIECBAgQIAAAQIECBAgQIAAAQIECBAYIiCANUTNMwQIEChA4PrdQfdn3m7CYWjbH5OLmuZs+WV9WsD1lDhA4PjD9+534mHfm5vDmE8F9se/g9oAACAASURBVP1E4ICyox4RwIpisogAAQIECBAgQIAAAQIECBAgQIAAAQIECBAgQIAAgQQCAlgJUG1JgACBHASeTLeKKUoAK0ap2DXH77+t9h2YakJ7FhaLVSzixceX0Wtj97SOAAECBAgQIECAAAECBAgQIECAAAECBAgQIECAAAECYwoIYI2paS8CBAhkIPA4+Wp7utXO2pqr2183YWUCVgZN7FFCbqEqgakezbOUAAECBAgQIECAAAECBAgQIECAAAECBAgQIECAAIFZCAhgzaKNLkGAAIEfAiZf5fk2bIJSsZXte0pVbJ0P6zZTrS7OX/t0ZV846wkQIECAAAECBAgQIECAAAECBAgQIECAAAECBAgQmIWAANYs2ugSBAgQ+CHwNIB1P91qF5LJV8lfob/ff2uTH9JxQBPC3aSzqJ925VOBUVAWESBAgAABAgQIECBAgAABAgQIECBAgAABAgQIECBQuYAAVuUvgOsTIDA/gScBrKY581nB/fX5YfJVDlOtmkVz5BOB+3sXnEyAAAECBAgQIECAAAECBAgQIECAAAECBAgQIECAwDwFBLDm2Ve3IkCgYgEBrLyan3rylVBVXv1WDQECBAgQIECAAAECBAgQIECAAAECBAgQIECAAAEC9QkIYNXXczcmQGDmAgJYz2vw8Yfvh9E73Nx0rm1Dc/LzfpvAVNf+plR1Cfk9AQIECBAgQIAAAQIECBAgQIAAAQIECBAgQIAAAQIE8hEQwMqnFyohQIBAp8BduCp0hn5CaN88buYThJ2uPy9IPbHq0/kr/9vbqyMWEyBAgAABAgQIECBAgAABAgQIECBAgAABAgQIECBAIG8Bfwmcd39UR4AAgV8Ert8erH4JV8X4CGCF4/f/nsZQbdZsT6yKfa5rXRPas82ai/PX0bV07en3BAgQIECAAAECBAgQIECAAAECBAgQIECAAAECBAgQILB/AQGs/fdABQQIEOgU+DH56qfJVl1PNc1ZWITVZtny8/r2P+f0k0Ooqo+nyVd9tKwlQIAAAQIECBAgQIAAAQIECBAgQIAAAQIECBAgQIBAOQICWOX0SqUECFQskNPkq+MP3w/DzU3EZxA3DWsi1/VvbhvCj88s9n/8j080IVzFb9dGB9tMvopXtZIAAQIECBAgQIAAAQIECBAgQIAAAQIECBAgQIAAAQIlCQhgldQttRIgUK3AkwDWT9OtdqHETr66myYVH5ZKFX7KocEmVeXQBTUQIECAAAECBAgQIECAAAECBAgQIECAAAECBAgQIECgHAEBrHJ6pVICBCoWeBLAetEcxYarYtg2Aaw2NCcxa0tc04T2LLZuk6pipawjQIAAAQIECBAgQIAAAQIECBAgQIAAAQIECBAgQIAAgY2AAJb3gAABAgUIpApg/Tz5qrSpVkJVBby4SiRAgAABAgQIECBAgAABAgQIECBAgAABAgQIECBAgEAFAgJYFTTZFQkQKF8gZQCr7+SrJoSrENpVlOpiEbcuarNfF118fJls7wHleIQAAQIECBAgQIAAAQIECBAgQIAAAQIECBAgQIAAAQIEKhUQwKq08a5NgEBZAlMFsG6nSkWEpoSfynp/VEuAAAECBAgQIECAAAECBAgQIECAAAECBAgQIECAAAEC6QQEsNLZ2pkAAQKjCUwZwLo4f306WuE2IkCAAAECBAgQIECAAAECBAgQIECAAAECBAgQIECAAAECMxcQwJp5g12PAIF5CAhgzaOPbkGAAAECBAgQIECAAAECBAgQIECAAAECBAgQIECAAAEC8xMQwJpfT92IAIEZCghgzbCprkSAAAECBAgQIECAAAECBAgQIECAAAECBAgQIECAAAECsxAQwJpFG12CAIG5CwwJYB1/+H4Ybm4Od9s0h20Ibx7WNKE98wnCub9N7keAAAECBAgQIECAAAECBAgQIECAAAECBAgQIECAAAECYwoIYI2paS8CBAgkEhgUwHr/72kbmpM+JQlg9dGylgABAgQIECBAgAABAgQIECBAgAABAgQIECBAgAABAgQIhCCA5S0gQIDAngWehKti6nnRHC0/r1e/W/pj8tWv0612bduEcBVCuwqLxeri48vf7htTljUECBAgQIAAAQIECBAgQIAAAQIECBAgQIAAAQIECBAgQKA2AQGs2jruvgQITCIwKFTVp7JdASyTr/pIWkuAAAECBAgQIECAAAECBAgQIECAAAECBAgQIECAAAECBJ4lIID1LD4PEyBA4PcCyQJYO4JXD5UcbwWwHqdb7WqWyVdeZQIECBAgQIAAAQIECBAgQIAAAQIECBAgQIAAAQIECBAgMEhAAGsQm4cIECDwe4FkwauH4wYFsNqzi/PXp3pGgAABAgQIECBAgAABAgQIECBAgAABAgQIECBAgAABAgQIjC8ggDW+qR0JEKhYYFAAKyJU1Yf06QQsAaw+ftYSIECAAAECBAgQIECAAAECBAgQIECAAAECBAgQIECAAIE+AgJYfbSsJUCAQIfAkwDWyOGqmAYIYMUoWUOAAAECBAgQIECAAAECBAgQIECAAAECBAgQIECAAAECBMYREMAax9EuBAhUIHD97uCw85r/hdMQ2jeP6wSwOsksIECAAAECBAgQIECAAAECBAgQIECAAAECBAgQIECAAAECJQsIYJXcPbUTIPBsgbuJVbE/PwWrYh8RwIqVso4AAQIECBAgQIAAAQIECBAgQIAAAQIECBAgQIAAAQIECBQpIIBVZNsUTYDAWALXb//XjrXXr/s0V7f/94twuvy87hHyen41PkH4fEM7ECBAgAABAgQIECBAgAABAgQIECBAgAABAgQIECBAgACBWAEBrFgp6wgQKEYg+VSrGIk9TL56KEsAK6ZB1hAgQIAAAQIECBAgQIAAAQIECBAgQIAAAQIECBAgQIAAgXEEBLDGcbQLAQKJBdJNqupT+P1Uq5hH9jD56qEsAayYBllDgAABAgQIECBAgAABAgQIECBAgAABAgQIECBAgAABAgTGERDAGsfRLgQIDBDIIlT1ojmKLX3qTwnG1rW9TgBrqJznCBAgQIAAAQIECBAgQIAAAQIECBAgQIAAAQIECBAgQIBAfwEBrP5mniBAYIfA9V8Hp9FAbXsSvTbRwuXl19n996AAVqKXxbYECBAgQIAAAQIECBAgQIAAAQIECBAgQIAAAQIECBAgQOA3ArMLHugyAQLjC1y/OziM2vUmHIYMQlVhhlOtovzvFwlg9dGylgABAgQIECBAgAABAgQIECBAgAABAgQIECBAgAABAgQIPE9AAOt5fp4mMHuB2/DVf+0/+77oHCdVpTIVwEola18CBAgQIECAAAECBAgQIECAAAECBAgQIECAAAECBAgQIPBUQADLW0GAwB8FbsNXCadaCVWlefkEsNK42pUAAQIECBAgQIAAAQIECBAgQIAAAQIECBAgQIAAAQIECPxOQADLe0GAwG8FBk++apqzWNLll/Vp7Frr4gUEsOKtrCRAgAABAgQIECBAgAABAgQIECBAgAABAgQIECBAgAABAs8VEMB6rqDnCcxU4PcBrOZq53WbsBKqSvtCHH/4fth5ws3NYRuak4d1TWjPLs5fC7t1wllAgAABAgQIECBAgAABAgQIECBAgAABAgQIECBAgAABAgT6Cwhg9TfzBIEsBW4DU7E/gz4r2FwtL9fxZ8TWYl0vgeP331ZtCG/6PCSA1UfLWgIECBAgQIAAAQIECBAgQIAAAQIECBAgQIAAAQIECBAg0E9AAKufl9UEshW4/uvgNLTt49Sj8QsVwBrfNH7Hx8lXN+1pbACrCeF+Ylm7MgEr3tpKAgQIECBAgAABAgQIECBAgAABAgQIECBAgAABAgQIECDQR0AAq4+WtQQyFHicfDVoqlXMhQSvYpRSrzH5KrWw/QkQIECAAAECBAgQIECAAAECBAgQIECAAAECBAgQIECAwDABAaxhbp4ikI2AyVfZtCJpIdsBrB/TrXYda/JV0qbYnAABAgQIECBAgAABAgQIECBAgAABAgQIECBAgAABAgQIhBAEsLwGBAoXeBrAau4/O7fjYk1YLb+sTwu/elXlPwlgLZqji48vV1UhuCwBAgQIECBAgAABAgQIECBAgAABAgQIECBAgAABAgQIEMhQQAArw6YoiUAfgScBrKY5E67qI1jGWgGsMvqkSgIECBAgQIAAAQIECBAgQIAAAQIECBAgQIAAAQIECBCoT0AAq76eu/HMBASwZtbQP1xHAKuOPrslAQIECBAgQIAAAQIECBAgQIAAAQIECBAgQIAAAQIECJQnIIBVXs9UTOAXAQGsOl4IAaw6+uyWBAgQIECAAAECBAgQIECAAAECBAgQIECAAAECBAgQIFCegABWeT1TMYFfBASw6nghBLDq6LNbEiBAgAABAgQIECBAgAABAgQIECBAgAABAgQIECBAgEB5AgJY5fVMxQR+ERDAquOFEMCqo89uSYAAAQIECBAgQIAAAQIECBAgQIAAAQIECBAgQIAAAQLlCQhgldczFRP4RUAAq44XQgCrjj67JQECBAgQIECAAAECBAgQIECAAAECBAgQIECAAAECBAiUJyCAVV7PVFy4wPW7g8NwEw6jrtFu1rVvotY+LGqas+WX9WmvZyzOXkAAK/sWKZAAAQIECBAgQIAAAQIECBAgQIAAAQIECBAgQIAAAQIEKhUQwKq08a69P4EnE6vGLkUAa2zR5Psdf/h+GG5udoby2tCc/FxIs2iOLj6+XCUvzgEECBAgQIAAAQIECBAgQIAAAQIECBAgQIAAAQIECBAgQIDATgEBLC8IgYkEHidfDZlqFVOj4FWMUpZrtqdbxRQpgBWjZA0BAgQIECBAgAABAgQIECBAgAABAgQIECBAgAABAgQIEEgvIICV3tgJBG4FTL7yImwLPEy+2p5utUuqCeEqhHZ1cf7aZya9UgQIECBAgAABAgQIECBAgAABAgQIECBAgAABAgQIECBAIAMBAawMmqCEOgSeBrCaq9CE3Z+QW4TV8vPaZ+Zm+oqYfDXTxroWAQIECBAgQIAAAQIECBAgQIAAAQIECBAgQIAAAQIECFQlIIBVVbtdNpXA4+cFdx2w/elBnwxM1Y5i9t0OYD1Mt9p1AZOvimmvQgkQIECAAAECBAgQIECAAAECBAgQIECAAAECBAgQIECgEgEBrEoa7ZppBQZ9XlAAK21TCtj9SQBr0RxdfHxp4lkBvVMiAQIECBAgQIAAAQIECBAgQIAAAQIECBAgQIAAAQIECBB4EBDA8i4QeIbA4+Sr7elWO/e8//Sgzws+Q34ejwpgzaOPbkGAAAECBAgQIECAAAECBAgQIECAAAECBAgQIECAAAECdQsIYNXdf7ffITDos4IxoiZfxShVsUYAq4o2uyQBAgQIECBAgAABAgQIECBAgAABAgQIECBAgAABAgQIzFxAAGvmDXa94QLXbw9WIbRv+u1wP91q10MmX/UjnfFqAawZN9fVCBAgQIAAAQIECBAgQIAAAQIECBAgQIAAAQIECBAgQKAaAQGsalrtorECPz4r2J7EPhOCzwrGW5W78vj9v6ex1beh6fH+3O3aLJqji48vV7FnWEeAAAECBAgQIECAAAECBAgQIECAAAECBAgQIECAAAECBAjsX0AAa/89UMGEAnGfFewTvLov3mcFJ+xi91GbyVLdq+5WtCH0nHIWu3P/dQJY/c08QYAAAQIECBAgQIAAAQIECBAgQIAAAQIECBAgQIAAAQIE9i0ggLXvDjh/UgGfFZyUe2+H/f3+W7u3wwccLHg1AM0jBAgQIECAAAECBAgQIECAAAECBAgQIECAAAECBAgQIEAgEwEBrEwaoYzhAnehqtiftse0o7vPCi6/rKM/OxdbhXVpBB4mX+U01SrmpgJYMUrWECBAgAABAgQIECBAgAABAgQIECBAgAABAgQIECBAgACBPAUEsPLsi6p6CFy//V+aaUcvmqPl53WPcFePoi1NIpB68lUT2rPYwi/OXwvuxWJZR4AAAQIECBAgQIAAAQIECBAgQIAAAQIECBAgQIAAAQIEChYQwCq4ebWX/mPyVf+pVjF2Jl/FKOW1ZjuAtZks1VXhxceXQnZdSH5PgAABAgQIECBAgAABAgQIECBAgAABAgQIECBAgAABAgQI/FFAAMvLUazAoMlXploV2++YwrcDWJ/OX/nvuBg4awgQIECAAAECBAgQIECAAAECBAgQIECAAAECBAgQIECAAIHBAsIJg+k8uG+BJwGsF93TjnxScN9dS3u+AFZaX7sTIECAAAECBAgQIECAAAECBAgQIECAAAECBAgQIECAAAECTwUEsLwVxQpsB7CWl1+9z8V2c5zCBbDGcbQLAQIECBAgQIAAAQIECBAgQIAAAQIECBAgQIAAAQIECBAgEC8gsBJvZWVmAgJYmTUkg3IEsDJoghIIECBAgAABAgQIECBAgAABAgQIECBAgAABAgQIECBAgEBlAgJYlTV8TtcVwJpTN8e5iwDWOI52IUCAAAECBAgQIECAAAECBAgQIECAAAECBAgQIECAAAECBOIFBLDirazMTEAAK7OGZFCOAFYGTVACAQIECBAgQIAAAQIECBAgQIAAAQIECBAgQIAAAQIECBCoTEAAq7KGl3Ld67cHq+5a2zc/r1lefvU+d6PNeoUA1qzb63IECBAgQIAAAQIECBAgQIAAAQIECBAgQIAAAQIECBAgQCBLAYGVLNuiqO3pVjEiAlgxSvNeI4A17/66HQECBAgQIECAAAECBAgQIECAAAECBAgQIECAAAECBAgQyFFAACvHrlRc04/JV79Ot9pJ8qI52vx++XkdMTWrYtwKri6AVUGTXZEAAQIECBAgQIAAAQIECBAgQIAAAQIECBAgQIAAAQIECGQmIICVWUNqL8fkq9rfgOfdXwDreX6eJkCAAAECBAgQIECAAAECBAgQIECAAAECBAgQIECAAAECBPoLCGD1N/NEQoEnAaz76Va7jjT5KmFDCttaAKuwhimXAAECBAgQIECAAAECBAgQIECAAAECBAgQIECAAAECBAjMQEAAawZNnNMVtgNYy8uv3tE5NTjxXQSwEgPbngABAgQIECBAgAABAgQIECBAgAABAgQIECBAgAABAgQIEHgiINzipchKQAArq3YUV4wAVnEtUzABAgQIECBAgAABAgQIECBAgAABAgQIECBAgAABAgQIECheQACr+BbO6wICWPPq59S3EcCaWtx5BAgQIECAAAECBAgQIECAAAECBAgQIECAAAECBAgQIECAgACWdyArAQGsrNpRXDECWMW1TMEECBAgQIAAAQIECBAgQIAAAQIECBAgQIAAAQIECBAgQKB4AQGs4ls4rwsIYM2rn1PfRgBranHnESBAgAABAgQIECBAgAABAgQIECBAgAABAgQIECBAgAABAgJY3oGsBASwsmpHccUIYBXXMgUTIECAAAECBAgQIECAAAECBAgQIECAAAECBAgQIECAAIHiBQSwim/hvC4ggDWvfk59GwGsqcWdR4AAAQIECBAgQIAAAQIECBAgQIAAAQIECBAgQIAAAQIECAhgeQeyEhDAyqodxRUjgFVcyxRMgAABAgQIECBAgAABAgQIECBAgAABAgQIECBAgAABAgSKFxDAKr6F87qAANa8+jn1bQSwphZ3HgECBAgQIECAAAECBAgQIECAAAECBAgQIECAAAECBAgQICCA5R3ISkAAK6t2FFeMAFZxLVMwAQIECBAgQIAAAQIECBAgQIAAAQIECBAgQIAAAQIECBAoXkAAq/gWzusCAljz6ufUtxHAmlrceQQIECBAgAABAgQIECBAgAABAgQIECBAgAABAgQIECBAgIAAlncgKwEBrKzaUVwxAljFtUzBBAgQIECAAAECBAgQIECAAAECBAgQIECAAAECBAgQIECgeAEBrOJbOK8LCGDNq59T30YAa2px5xEgQIAAAQIECBAgQIAAAQIECBAgQIAAAQIECBAgQIAAAQICWN6BrAQEsLJqR3HFCGAV1zIFEyBAgAABAgQIECBAgAABAgQIECBAgAABAgQIECBAgACB4gUEsIpv4bwuIIA1r35OfRsBrKnFnUeAAAECBAgQIECAAAECBAgQIECAAAECBAgQIECAAAECBAgIYHkHshIQwMqqHcUVI4BVXMsUTIAAAQIECBAgQIAAAQIECBAgQIAAAQIECBAgQIAAAQIEihcQwCq+hfO6gADWvPo59W0EsKYWdx4BAgQIECBAgAABAgQIECBAgAABAgQIECBAgAABAgQIECAggOUdyEpAACurdhRXjABWcS1TMAECBAgQIECAAAECBAgQIECAAAECBAgQIECAAAECBAgQKF5AAKv4Fs7rAgJY8+rn1LcRwJpa3HkECBAgQIAAAQIECBAgQIAAAQIECBAgQIAAAQIECBAgQICAAJZ3ICsBAays2lFcMQJYxbVMwQQIECBAgAABAgQIECBAgAABAgQIECBAgAABAgQIECBAoHgBAaziWzivCwhgzaufU99GAGtqcecRIECAAAECBAgQIECAAAECBAgQIECAAAECBAgQIECAAAECAljegawEBLCyakdxxQhgFdcyBRMgQIAAAQIECBAgQIAAAQIECBAgQIAAAQIECBAgQIAAgeIFBLCKb+G8LiCANa9+Tn0bAaypxZ1HgAABAgQIECBAgAABAgQIECBAgAABAgQIECBAgAABAgQICGB5B7ISEMDKqh3FFSOAVVzLFEyAAAECBAgQIECAAAECBAgQIECAAAECBAgQIECAAAECBIoXEMAqvoXzuoAA1rz6OfVtBLCmFnceAQIECBAgQIAAAQIECBAgQIAAAQIECBAgQIAAAQIECBAgIIDlHZhM4PrdwWHnYf+1//y8Znn51TvaiWbBg4AAlneBAAECBAgQIECAAAECBAgQIECAAAECBAgQIECAAAECBAgQmFpAuGVq8YrP255uFUMhgBWjZM2DgACWd4EAAQIECBAgQIAAAQIECBAgQIAAAQIECBAgQIAAAQIECBCYWkAAa2rxCs97nHy1Nd1qN0Vztfn98nLdPTWrQlNX/r2AAJY3gwABAgQIECBAgAABAgQIECBAgAABAgQIECBAgAABAgQIEJhaQABravEKzzP5qsKm7+nKAlh7gncsAQIECBAgQIAAAQIECBAgQIAAAQIECBAgQIAAAQIECBCoWEAAq+LmT3X1pwGsu+lWu35MvuoS8vvfCQhgeS8IECBAgAABAgQIECBAgAABAgQIECBAgAABAgQIECBAgACBqQUEsKYWr/C87QDW8vKr967C92CKKwtgTaHsDAIECBAgQIAAAQIECBAgQIAAAQIECBAgQIAAAQIECBAgQOBnAUEY70NyAQGs5MQOuBcQwPIqECBAgAABAgQIECBAgAABAgQIECBAgAABAgQIECBAgAABAlMLCGBNLV7heQJYFTZ9T1cWwNoTvGMJECBAgAABAgQIECBAgAABAgQIECBAgAABAgQIECBAgEDFAgJYFTd/qqsLYE0l7RwBLO8AAQIECBAgQIAAAQIECBAgQIAAAQIECBAgQIAAAQIECBAgMLWAANbU4hWeJ4BVYdP3dGUBrD3BO5YAAQIECBAgQIAAAQIECBAgQIAAAQIECBAgQIAAAQIECFQsIIBVcfOnuroA1lTSzhHA8g4QIECAAAECBAgQIECAAAECBAgQIECAAAECBAgQIECAAAECUwsIYE0tXuF5AlgVNn1PVxbA2hO8YwkQIECAAAECBAgQIECAAAECBAgQIECAAAECBAgQIECAQMUCAlgVN3+qqwtgTSXtHAEs7wABAgQIECBAgAABAgQIECBAgAABAgQIECBAgAABAgQIECAwtYAA1tTiFZ4ngFVh0/d0ZQGsPcE7lgABAgQIECBAgAABAgQIECBAgAABAgQIECBAgAABAgQIVCwggFVx86e6ugDWVNLOEcDyDhAgQIAAAQIECBAgQIAAAQIECBAgQIAAAQIECBAgQIAAAQJTCwhgTS1e4XkCWBU2fU9XFsDaE7xjCRAgQIAAAQIECBAgQIAAAQIECBAgQIAAAQIECBAgQIBAxQICWBU3f6qrC2BNJe0cASzvAAECBAgQIECAAAECBAgQIECAAAECBAgQIECAAAECBAgQIDC1gADW1OIVnieAVWHT93RlAaw9wTuWAAECBAgQIECAAAECBAgQIECAAAECBAgQIECAAAECBAhULCCAVXHzp7q6ANZU0s4RwPIOECBAgAABAgQIECBAgAABAgQIECBAgAABAgQIECBAgAABAlMLCGBNLV7heQJYFTZ9T1cWwNoTvGMJECBAgAABAgQIECBAgAABAgQIECBAgAABAgQIECBAgEDFAgJYFTd/jKtfvz1Yde/Tvvl5zfLyq/euG82KAQICWAPQPEKAAAECBAgQIECAAAECBAgQIECAAAECBAgQIECAAAECBAg8S0AQ5ll8Ht6ebhUjIoAVo2TNEAEBrCFqniFAgAABAgQIECBAgAABAgQIECBAgAABAgQIECBAgAABAgSeIyCA9Rw9z4ZeAawXzdGGbPl5HTE1Cy6B/gICWP3NPEGAAAECBAgQIECAAAECBAgQIECAAAECBAgQIECAAAECBAg8T0AA63l+1T/dJ4Bl8lX1r0tyAAGs5MQOIECAAAECBAgQIECAAAECBAgQIECAAAECBAgQIECAAAECBLYEBLC8Es8SeAxg3U+32rWZyVfPovZwhIAAVgSSJQQIECBAgAABAgQIECBAgAABAgQIECBAgAABAgQIECBAgMCoAgJYo3LWt9lDAMt0q/p6n+ONBbBy7IqaCBAgQIAAAQIECBAgQIAAAQIECBAgQIAAAQIECBAgQIDAvAUEsObd3+S3E8BKTuyAHgICWD2wLCVAgAABAgQI5sWmTwAAIABJREFUECBAgAABAgQIECBAgAABAgQIECBAgAABAgRGERDAGoWx3k0EsOrtfY43F8DKsStqIkCAAAECBAgQIECAAAECBAgQIECAAAECBAgQIECAAAEC8xYQwJp3f5PfTgArObEDeggIYPXAspQAAQIECBAgQIAAAQIECBAgQIAAAQIECBAgQIAAAQIECBAYRUAAaxTGejcRwKq39zneXAArx66oiQABAgQIECBAgAABAgQIECBAgAABAgQIECBAgAABAgQIzFtAAGve/U1+OwGs5MQO6CEggNUDy1ICBAgQIECAAAECBAgQIECAAAECBAgQIECAAAECBAgQIEBgFAEBrFEY691EAKve3ud4cwGsHLuiJgIECBAgQIAAAQIECBAgQIAAAQIECBAgQIAAAQIECBAgMG8BAax59zf57QSwkhM7oIeAAFYPLEsJECBAgAABAgQIECBAgAABAgQIECBAgAABAgQIECBAgACBUQQEsEZhrHcTAax6e5/jzQWwcuyKmggQIECAAAECBAgQIECAAAECBAgQIECAAAECBAgQIECAwLwFBLDm3d/ktxPASk7sgB4CAlg9sCwlQIAAAQIECBAgQIAAAQIECBAgQIAAAQIECBAgQIAAAQIERhEQwBqFsd5NBLDq7X2ONxfAyrEraiJAgAABAgQIECBAgAABAgQIECBAgAABAgQIECBAgAABAvMWEMCad3+T304AKzmxA3oICGD1wLKUAAECBAgQIECAAAECBAgQIECAAAECBAgQIECAAAECBAgQGEVAAGsUxno3EcCqt/c53lwAK8euqIkAAQIECBAgQIAAAQIECBAgQIAAAQIECBAgQIAAAQIECMxbQABr3v1NfjsBrOTEDughIIDVA8tSAgQIECBAgAABAgQIECBAgAABAgQIECBAgAABAgQIECBAYBQBAaxRGOvdRACr3t7neHMBrBy7oiYCBAgQIECAAAECBAgQIECAAAECBAgQIECAAAECBAgQIDBvAQGsefc3+e0EsJITO6CHgABWDyxLCRAgQIAAAQIECBAgQIAAAQIECBAgQIAAAQIECBAgQIAAgVEEBLBGYax3EwGsenuf480FsHLsipoIECBAgAABAgQIECBAgAABAgQIECBAgAABAgQIECBAgMC8BQSw5t3f5LcTwEpO7IAeAgJYPbAsJUCAAAECBAgQIECAAAECBAgQIECAAAECBAgQIECAAAECBEYREMAahbHeTQSw6u19jjcXwMqxK2oiQIAAAQIECBAgQIAAAQIECBAgQIAAAQIECBAgQIAAAQLzFhDAmnd/k99OACs5sQN6CAhg9cCylAABAgQIECBAgAABAgQIECBAgAABAgQIECBAgAABAgQIEBhFQABrFMZ6NxHAqrf3Od5cACvHrqiJAAECBAgQIECAAAECBAgQIECAAAECBAgQIECAAAECBAjMW0AAa979TX47AazkxA7oISCA1QPLUgIECBAgQIAAAQIECBAgQIAAAQIECBAgQIAAAQIECBAgQGAUAQGsURjr3UQAq97e53hzAawcu6ImAgQIECBAgAABAgQIECBAgAABAgQIECBAgAABAgQIECAwbwEBrHn3N/ntBLCSEzugh4AAVg8sSwkQIECAAAECBAgQIECAAAECBAgQIECAAAECBAgQIECAAIFRBASwRmGsdxMBrHp7n+PNBbBy7IqaCBAgQIAAAQIECBAgQIAAAQIECBAgQIAAAQIECBAgQIDAvAUEsObd3+S3E8BKTuyAHgICWD2wLCVAgAABAgQIECBAgAABAgQIECBAgAABAgQIECBAgAABAgRGERDAGoWx3k0EsOrtfY43F8DKsStqIkCAAAECBAgQIECAAAECBAgQIECAAAECBAgQIECAAAEC8xYQwJp3f5PfTgArObEDeggIYPXAspQAAQIECBAgQIAAAQIECBAgQIAAAQIECBAgQIAAAQIECBAYRUAAaxTGejcRwKq39zneXAArx66oiQABAgQIECBAgAABAgQIECBAgAABAgQIECBAgAABAgQIzFtAAGve/U1+OwGs5MQO6CEggNUDy1ICBAgQIECAAAECBAgQIECAAAECBAgQIECAAAECBAgQIEBgFAEBrFEY691EAKve3ud4cwGsHLuiJgIECBAgQIAAAQIECBAgQIAAAQIECBAgQIAAAQIECBAgMG8BAax59zf57QSwkhM7oIeAAFYPLEsJECBAgAABAgQIECBAgAABAgQIECBAgAABAgQIECBAgACBUQQEsEZhrHcTAax6e5/jzQWwcuyKmggQIECAAAECBAgQIECAAAECBAgQIECAAAECBAgQIECAwLwFBLDm3d/ktxPASk7sgB4CAlg9sCwlQIAAAQIECBAgQIAAAQIECBAgQIAAAQIECBAgQIAAAQIERhEQwBqFsd5NBLDq7X2ONxfAyrEraiJAgAABAgQIECBAgAABAgQIECBAgAABAgQIECBAgAABAvMWEMCad3+T304AKzmxA3oICGD1wLKUAAECBAgQIECAAAECBAgQIECAAAECBAgQIECAAAECBAgQGEVAAGsUxno3EcCqt/c53lwAK8euqIkAAQIECBAgQIAAAQIECBAgQIAAAQIECBAgQIAAAQIECMxbQABr3v1NfjsBrOTEDughIIDVA8tSAgQIECBAgAABAgQIECBAgAABAgQIECBAgAABAgQIECBAYBQBAaxRGOvdRACr3t7neHMBrBy7oiYCBAgQIECAAAECBAgQIECAAAECBAgQIECAAAECBAgQIDBvAQGsefc3+e0EsJITO6CHgABWDyxLCRAgQIAAAQIECBAgQIAAAQIECBAgQIAAAQIECBAgQIAAgVEEBLBGYax3EwGsenuf480FsHLsipoIECBAgAABAgQIECBAgAABAgQIECBAgAABAgQIECBAgMC8BQSw5t3f5LcTwEpO7IAeAgJYPbAsJUCAAAECBAgQIECAAAECBAgQIECAAAECBAgQIECAAAECBEYREMAahbHeTQSw6u19jjcXwMqxK2oiQIAAAQIECBAgQIAAAQIECBAgQIAAAQIECBAgQIAAAQLzFhDAmnd/k99OACs5sQN6CAhg9cCylAABAgQIECBAgAABAgQIECBAgAABAgQIECBAgAABAgQIEBhFQABrFMZ6NxHAqrf3Od5cACvHrqiJAAECBAgQIECAAAECBAgQIECAAAECBAgQIECAAAECBAjMW0AAa979TX47AazkxA7oISCA1QPLUgIECBAgQIAAAQIECBAgQIAAAQIECBAgQIAAAQIECBAgQGAUAQGsURjr3UQAq97e53hzAawcu6ImAgQIECBAgAABAgQIECBAgAABAgQIECBAgAABAgQIECAwbwEBrHn3N/ntBLCSEzugh4AAVg8sSwkQIECAAAECBAgQIECAAIH/t3fHuHEdSQCGZwhIjnUeBaYPoROsYsE3sHwDgTF1Ah1i5UDnUWwb0Cwo2rCW6zWn53U9VnV9Thz4zevqrwaOfgwJECBAgAABAgQIECBAgAABAgSmCAiwpjD2fYkAq+/uM95cgJVxK2YiQIAAAQIECBAgQIAAAQIECBAgQIAAAQIECBAgQIAAAQJrCwiw1t5v+O0EWOHEDhgQEGANYHmUAAECBAgQIECAAAECBAgQIECAAAECBAgQIECAAAECBAgQmCIgwJrC2PclAqy+u894cwFWxq2YiQABAgQIECBAgAABAgQIECBAgAABAgQIECBAgAABAgQIrC0gwFp7v+G3E2CFEztgQECANYDlUQIECBAgQIAAAQIECBAgQIAAAQIECBAgQIAAAQIECBAgQGCKgABrCmPflwiw+u4+480FWBm3YiYCBAgQIECAAAECBAgQIECAAAECBAgQIECAAAECBAgQILC2gABr7f2G306AFU7sgAEBAdYAlkcJECBAgAABAgQIECBAgAABAgQIECBAgAABAgQIECBAgACBKQICrCmMfV8iwOq7+4w3F2Bl3IqZCBAgQIAAAQIECBAgQIAAAQIECBAgQIAAAQIECBAgQIDA2gICrLX3G347AVY4sQMGBARYA1geJUCAAAECBAgQIECAAAECBAgQIECAAAECBAgQIECAAAECBKYICLCmMPZ9iQCr7+4z3lyAlXErZiJAgAABAgQIECBAgAABAgQIECBAgAABAgQIECBAgAABAmsLCLDW3m/47QRY4cQOGBAQYA1geZQAAQIECBAgQIAAAQIECBAgQIAAAQIECBAgQIAAAQIECBCYIiDAmsLY9yUCrL67z3hzAVbGrZiJAAECBAgQIECAAAECBAgQIECAAAECBAgQIECAAAECBAisLSDAWnu/4bcTYIUTO2BAQIA1gOVRAgQIECBAgAABAgQIECBAgAABAgQIECBAgAABAgQIECBAYIqAAGsKY9+XCLD67j7jzQVYGbdiJgIECBAgQIAAAQIECBAgQIAAAQIECBAgQIAAAQIECBAgsLaAAGvt/YbfToAVTuyAAQEB1gCWRwkQIECAAAECBAgQIECAAAECBAgQIECAAAECBAgQIECAAIEpAgKsKYx9XyLA6rv7jDcXYGXcipkIECBAgAABAgQIECBAgAABAgQIECBAgAABAgQIECBAgMDaAgKstfcbfjsBVjixAwYEBFgDWB4lQIAAAQIECBAgQIAAAQIECBAgQIAAAQIECBAgQIAAAQIEpggIsKYw9n2JAKvv7jPeXICVcStmIkCAAAECBAgQIECAAAECBAgQIECAAAECBAgQIECAAAECawsIsNbeb/jtBFjhxA4YEBBgDWB5lAABAgQIECBAgAABAgQIECBAgAABAgQIECBAgAABAgQIEJgiIMCawtj3JQKsvrvPeHMBVsatmIkAAQIECBAgQIAAAQIECBAgQIAAAQIECBAgQIAAAQIECKwtIMBae7/htxNghRM7YEBAgDWA5VECBAgQIECAAAECBAgQIECAAAECBAgQIECAAAECBAgQIEBgioAAawpj35cIsPruPuPNBVgZt2ImAgQIECBAgAABAgQIECBAgAABAgQIECBAgAABAgQIECCwtoAAa+39ht9OgBVO7IABAQHWAJZHCRAgQIAAAQIECBAgQIAAAQIECBAgQIAAAQIECBAgQIAAgSkCAqwpjH1fIsDqu/uMNxdgZdyKmQgQIECAAAECBAgQIECAAAECBAgQIECAAAECBAgQIECAwNoCAqy19xt+OwFWOLEDBgQEWANYHiVAgAABAgQIECBAgAABAgQIECBAgAABAgQIECBAgAABAgSmCAiwpjD2fYkAq+/uM95cgJVxK2YiQIAAAQIECBAgQIAAAQIECBAgQIAAAQIECBAgQIAAAQJrCwiw1t5v+O0EWOHEDhgQEGANYHmUAAECBAgQIECAAAECBAgQIECAAAECBAgQIECAAAECBAgQmCIgwJrC2PclAqy+u894cwFWxq2YiQABAgQIECBAgAABAgQIECBAgAABAgQIECBAgAABAgQIrC0gwFp7v+G3E2CFEztgQECANYDlUQIECBAgQIAAAQIECBAgQIAAAQIECBAgQIAAAQIECBAgQGCKgABrCmPflwiw+u4+480FWBm3YiYCBAgQIECAAAECBAgQIECAAAECBAgQIECAAAECBAgQILC2gABr7f2G306AFU7sgAEBAdYAlkcJECBAgAABAgQIECBAgAABAgQIECBAgAABAgQIECBAgACBKQICrCmMfV8iwOq7+4w3F2Bl3IqZCBAgQIAAAQIECBAgQIAAAQIECBAgQIAAAQIECBAgQIDA2gICrLX3G347AVY4sQMGBARYA1geJUCAAAECBAgQIECAAAECBAgQIECAAAECBAgQIECAAAECBKYICLCmMPZ9iQCr7+4z3lyAlXErZiJAgAABAgQIECBAgAABAgQIECBAgAABAgQIECBAgAABAmsLCLDW3m/47QRY4cQOGBAQYA1geZQAAQIECBAgQIAAAQIECBAgQIAAAQIECBAgQIAAAQIECBCYIiDAmsLY9yUCrL67z3hzAVbGrZiJAAECBAgQIECAAAECBAgQIECAAAECBAgQIECAAAECBAisLSDAWnu/4bcTYIUTO2BAQIA1gOVRAgQIECBAgAABAgQIECBAgAABAgQIECBAgAABAgQIECBAYIqAAGsKY9+XCLD67j7jzQVYGbdiJgIECBAgQIAAAQIECBAgQIAAAQIECBAgQIAAAQIECBAgsLaAAGvt/YbfToAVTuyAAQEB1gCWRwkQIECAAAECBAgQIECAAAECBAgQIECAAAECBAgQIECAAIEpAgKsKYx9XyLA6rv7jDcXYGXcipkIECBAgAABAgQIECBAgAABAgQIECBAgAABAgQIECBAgMDaAgKstfcbfjsBVjixAwYEBFgDWB4lQIAAAQIECBAgQIAAAQIECBAgQIAAAQIECBAgQIAAAQIEpggIsKYw9n2JAKvv7jPeXICVcStmIkCAAAECBAgQIECAAAECBAgQIECAAAECBAgQIECAAAECawsIsNbeb/jtBFjhxA4YEBBgDWB5lAABAgQIECBAgAABAgQIECBAgAABAgQIECBAgAABAgQIEJgiIMCawtj3JQKsvrvPeHMBVsatmIkAAQIECBAgQIAAAQIECBAgQIAAAQIECBAgQIAAAQIECKwtIMBae7/htxNghRM7YEBAgDWA5VECBAgQIECAAAECBAgQIECAAAECBAgQIECAAAECBAgQIEBgioAAawpj35cIsPruPuPNBVgZt2ImAgQIECBAgAABAgQIECBAgAABAgQIECBAgAABAgQIECCwtoAAa+39ht9OgBVO7IABAQHWAJZHCRAgQIAAAQIECBAgQIAAAQIECBAgQIAAAQIECBAgQIAAgSkCAqwpjH1fIsDqu/uMNxdgZdyKmQgQIECAAAECBAgQIECAAAECBAgQIECAAAECBAgQIECAwNoCAqy19xt+OwFWOLEDBgQEWANYHiVAgAABAgQIECBAgAABAgQIECBAgAABAgQIECBAgAABAgSmCAiwpjD2fYkAq+/uM95cgJVxK2YiQIAAAQIECBAgQIAAAQIECBAgQIAAAQIECBAgQIAAAQJrCwiw1t5v+O0EWOHEDhgQEGANYHmUAAECBAgQIECAAAECBAgQIECAAAECBAgQIECAAAECBAgQmCIgwJrC2PclAqy+u894cwFWxq2YiQABAgQIECBAgAABAgQIECBAgAABAgQIECBAgAABAgQIrC0gwFp7v+G3E2CFEztgQECANYDlUQIECBAgQIAAAQIECBAgQIAAAQIECBAgQIAAAQIECBAgQGCKgABrCmPflwiw+u4+480FWBm3YiYCBAgQIECAAAECBAgQIECAAAECBAgQIECAAAECBAgQILC2gABr7f2G306AFU7sgAEBAdYAlkcJECBAgAABAgQIECBAgAABAgQIECBAgAABAgQIECBAgACBKQICrCmMfV8iwOq7+4w3F2Bl3IqZCBAgQIAAAQIECBAgQIAAAQIECBAgQIAAAQIECBAgQIDA2gICrLX3G347AVY4sQMGBARYA1geJUCAAAECBAgQIECAAAECBAgQIECAAAECBAgQIECAAAECBKYICLCmMPZ9iQCr7+4z3lyAlXErZiJAgAABAgQIECBAgAABAgQIECBAgAABAgQIECBAgAABAmsLCLDW3m/47QRY4cQOGBAQYA1geZQAAQIECBAgQIAAAQIECBAgQIAAAQIECBAgQIAAAQIECBCYIiDAmsLY9yUCrL67z3hzAVbGrZiJAAECBAgQIECAAAECBAgQIECAAAECBAgQIECAAAECBAisLSDAWnu/4bcTYIUTO2BAQIA1gOVRAgQIECBAgAABAgQIECBAgAABAgQIECBAgAABAgQIECBAYIqAAGsKY9+XCLD67j7jzQVYGbdiJgIECBAgQIAAAQIECBAgQIAAAQIECBAgQIAAAQIECBAgsLaAAGvt/YbfToAVTuyAAQEB1gCWRwkQIECAAAECBAgQIECAAAECBAgQIECAAAECBAgQIECAAIEpAgKsKYx9XyLA6rv7jDcXYGXcipkIECBAgAABAgQIECBAgAABAgQIECBAgAABAgQIECBAgMDaAgKstfcbfjsBVjixAwYEBFgDWB4lQIAAAQIECBAgQIAAAQIECBAgQIAAAQIECBAgQIAAAQIEpggIsKYw9n2JAKvv7jPeXICVcStmIkCAAAECBAgQIECAAAECBAgQIECAAAECBAgQIECAAAECawsIsNbeb/jtBFjhxA4YEBBgDWB5lAABAgQIECBAgAABAgQIECBAgAABAgQIECBAgAABAgQIEJgiIMCawtj3JQKsvrvPeHMBVsatmIkAAQIECBAgQIAAAQIECBAgQIAAAQIECBAgQIAAAQIECKwtIMBae7/htxNghRM7YEBAgDWA5VECBAgQIECAAAECBAgQIECAAAECBAgQIECAAAECBAgQIEBgioAAawpj35cIsPruPuPNBVgZt2ImAgQIECBAgAABAgQIECBAgAABAgQIECBAgAABAgQIECCwtoAAa+39ht9OgBVO7IABAQHWAJZHCRAgQIAAAQIECBAgQIAAAQIECBAgQIAAAQIECBAgQIAAgSkCAqwpjH1fIsDqu/uMNxdgZdyKmQgQIECAAAECBAgQIECAAAECBAgQIECAAAECBAgQIECAwNoCAqy19xt+OwFWOLEDBgQEWANYHiVAgAABAgQIECBAgAABAgQIECBAgAABAgQIECBAgAABAgSmCAiwpjD2fYkAq+/uM95cgJVxK2YiQIAAAQIECBAgQIAAAQIECBAgQIAAAQIECBAgQIAAAQJrCwiw1t5v+O0EWOHEDhgQEGANYHmUAAECBAgQIECAAAECBAgQIECAAAECBAgQIECAAAECBAgQmCIgwJrC2PclAqy+u894cwFWxq2YiQABAgQIECBAgAABAgQIECBAgAABAgQIECBAgAABAgQIrC0gwFp7v+G3E2CFEztgQECANYDlUQIECBAgQIAAAQIECBAgQIAAAQIECBAgQIAAAQIECBAgQGCKgABrCmPflwiw+u4+480FWBm3YiYCBAgQIECAAAECBAgQIECAAAECBAgQIECAAAECBAgQILC2gABr7f2G306AFU7sgAEBAdYAlkcJECBAgAABAgQIECBAgAABAgQIECBAgAABAgQIECBAgACBKQICrCmMfV8iwOq7+4w3F2Bl3IqZCBAgQIAAAQIECBAgQIAAAQIECBAgQIAAAQIECBAgQIDA2gICrLX3G347AVY4sQMGBARYA1geJUCAAAECBAgQIECAAAECBAgQIECAAAECBAgQIECAAAECBKYICLCmMPZ9iQCr7+73vvnDuOqc89/fPPf/uHOgPEOAAAECBAgQIECAAAECBAgQIECAAAECBAgQIECAAAECBAhcLCBOuJjOB+8EBFi+B3sJCLD2knYOAQIECBAgQIAAAQIECBAgQIAAAQIECBAgQIAAAQIECBAgMCIgwBrR8uz/CAiwfCmiBYRX0cLeT4AAAQIECBAgQIAAAQIECBAgQIAAAQIECBAgQIAAAQIECGwREGBt0fNZv4DlOxAuIMAKJ3YAAQIECBAgQIAAAQIECBAgQIAAAQIECBAgQIAAAQIECBAgsEFAgLUBz0f9CULfgXiBhwHW+5vn/r8Vz+4EAgQIECBAgAABAgQIECBAgAABAgQIECBAgAABAgQIECBA4EwBIcOZUB77ewF/gtA3I1pAgBUt7P0ECBAgQIAAAQIECBAgQIAAAQIECBAgQIAAAQIECBAgQIDAFgEB1hY9n/UnCH0HwgUEWOHEDiBAgAABAgQIECBAgAABAgQIECBAgAABAgQIECBAgAABAgQ2CAiwNuD5qD9B6DsQLyDAijd2AgECBAgQIECAAAECBAgQIECAAAECBAgQIECAAAECBAgQIHC5gADrcjufPAiwfAniBQRY8cZOIECAAAECBAgQIECAAAECBAgQIECAAAECBAgQIECAAAECBC4XEGBdbueTAizfgR0EBFg7IDuCAAECBAgQIECAAAECBAgQIECAAAECBAgQIECAAAECBAgQuFhAgHUxnQ/eCXx+9fJ09+8XHz75LvlKhAgIsEJYvZQAAQIECBAgQIAAAQIECBAgQIAAAQIECBAgQIAAAQIECBCYJCCamQTZ9TUCrK6b3+/eAqz9rJ1EgAABAgQIECBAgAABAgQIECBAgAABAgQIECBAgAABAgQIjAsIsMbNfOIbAQGWr0O0gAArWtj7CRAgQIAAAQIECBAgQIAAAQIECBAgQIAAAQIECBAgQIAAgS0CAqwtej7rTxD6DoQLCLDCiR1AgAABAgQIECBAgAABAgQIECBAgAABAgQIECBAgAABAgQIbBAQYG3A89GDAMuXIFxAgBVO7AACBAgQIECAAAECBAgQIECAAAECBAgQIECAAAECBAgQIEBgg4AAawOejwqwfAfiBQRY8cZOIECAAAECBAgQIECAAAECBAgQIECAAAECBAgQIECAAAECBC4XEGBdbueTBwGWL0G8gAAr3tgJBAgQIECAAAECBAgQIECAAAECBAgQIECAAAECBAgQIECAwOUCAqzL7XxSgOU7sIOAAGsHZEcQIECAAAECBAgQIECAAAECBAgQIECAAAECBAgQIECAAAECFwsIsC6m88E7gc+vXp7u/v3iwyffJV+JEAEBVgirlxIgQIAAAQIECBAgQIAAAQIECBAgQIAAAQIECBAgQIAAAQKTBEQzkyC7vkaA1XXz+91bgLWftZMIECBAgAABAgQIECBAgAABAgQIECBAgAABAgQIECBAgACBcQEB1riZT3wjIMDydYgWEGBFC3s/AQIECBAgQIAAAQIECBAgQIAAAQIECBAgQIAAAQIECBBXsww6AAAfU0lEQVQgsEVAgLVFz2f9CULfgXABAVY4sQMIECBAgAABAgQIECBAgAABAgQIECBAgAABAgQIECBAgACBDQICrA14PnoQYPkShAsIsMKJHUCAAAECBAgQIECAAAECBAgQIECAAAECBAgQIECAAAECBAhsEBBgbcDzUQGW70C8gAAr3tgJBAgQIECAAAECBAgQIECAAAECBAgQIECAAAECBAgQIECAwOUCAqzL7XzyIMDyJYgXEGDFGzuBAAECBAgQIECAAAECBAgQIECAAAECBAgQIECAAAECBAgQuFxAgHW5nU8KsHwHdhAQYO2A7AgCBAgQIECAAAECBAgQIECAAAECBAgQIECAAAECBAgQIEDgYgEB1sV0Pngn8PnVy9Pdv198+OS75CsRIiDACmH1UgIECBAgQIAAAQIECBAgQIAAAQIECBAgQIAAAQIECBAgQGCSgGhmEmTX1wiwum5+v3sLsPazdhIBAgQIECBAgAABAgQIECBAgAABAgQIECBAgAABAgQIECAwLiDAGjfziW8EBFi+DtECAqxoYe8nQIAAAQIECBAgQIAAAQIECBAgQIAAAQIECBAgQIAAAQIEtggIsLbo+aw/Qeg7EC4gwAondgABAgQIECBAgAABAgQIECBAgAABAgQIECBAgAABAgQIECCwQUCAtQHPRw8CLF+CcAEBVjixAwgQIECAAAECBAgQIECAAAECBAgQIECAAAECBAgQIECAAIENAgKsDXg+KsDyHYgXEGDFGzuBAAECBAgQIECAAAECBAgQIECAAAECBAgQIECAAAECBAgQuFxAgHW5nU8eBFi+BNsEHsZV57zt/c1z/986B8ozBAgQIECAAAECBAgQIECAAAECBAgQIECAAAECBAgQIECAwC4CQoZdmNc95POrl6e727348Ml3ad01h91MgBVG68UECBAgQIAAAQIECBAgQIAAAQIECBAgQIAAAQIECBAgQIDATgKimZ2gVz1GgLXqZmPvJbyK9fV2AgQIECBAgAABAgQIECBAgAABAgQIECBAgAABAgQIECBAYD8BAdZ+1kueJMBacq3hlxJghRM7gAABAgQIECBAgAABAgQIECBAgAABAgQIECBAgAABAgQIENhJQIC1E/SqxwiwVt1s7L0eBljvb577f1EsubcTIECAAAECBAgQIECAAAECBAgQIECAAAECBAgQIECAAAECQQKihyDYLq8VYHXZ9Nx7CrDmenobAQIECBAgQIAAAQIECBAgQIAAAQIECBAgQIAAAQIECBAg8HQCAqyns1/iZAHWEmvc/RICrN3JHUiAAAECBAgQIECAAAECBAgQIECAAAECBAgQIECAAAECBAgECQiwgmC7vFaA1WXTc+8pwJrr6W0ECBAgQIAAAQIECBAgQIAAAQIECBAgQIAAAQIECBAgQIDA0wkIsJ7OfomTBVhLrHH3Swiwdid3IAECBAgQIECAAAECBAgQIECAAAECBAgQIECAAAECBAgQIBAkIMAKgu3yWgFWl03PvacAa66ntxEgQIAAAQIECBAgQIAAAQIECBAgQIAAAQIECBAgQIAAAQJPJyDAejr7JU4WYC2xxt0vIcDandyBBAgQIECAAAECBAgQIECAAAECBAgQIECAAAECBAgQIECAQJCAACsItstrBVhdNj33ngKsuZ7eRoAAAQIECBAgQIAAAQIECBAgQIAAAQIECBAgQIAAAQIECDydgADr6eyXOFmAtcQad7+EAGt3cgcSIECAAAECBAgQIECAAAECBAgQIECAAAECBAgQIECAAAECQQICrCDYLq8VYHXZ9Nx7CrDmenobAQIECBAgQIAAAQIECBAgQIAAAQIECBAgQIAAAQIECBAg8HQCAqyns1/iZAHWEmt89BKv3/z69tGHvj5wvD7nudPh8P23z72/ee7/RefAeYYAAQIECBAgQIAAAQIECBAgQIAAAQIECBAgQIAAAQIECBBIJyB6SLeSWgMJsGrt65JpX//4+/Xpy+nfl3z23M8IsM6V8hwBAgQIECBAgAABAgQIECBAgAABAgQIECBAgAABAgQIECCQTUCAlW0jxeYRYBVb2OC49798dbx++ItVg6/5v48fr44/3P3H23fPPs56p/cQIECAAAECBAgQIECAAAECBAgQIECAAAECBAgQIECAAAECBPYUEGDtqb3gWQKsBZf6x5X88tW6u3UzAgQIECBAgAABAgQIECBAgAABAgQIECBAgAABAgQIECBAYJ6AAGueZcs3CbDWXfvfBVjHw+nnf7zx1dXQL1n55at1vz9uRoAAAQIECBAgQIAAAQIECBAgQIAAAQIECBAgQIAAAQIEuggIsLpsOuieAqwg2ASvfRhgHQ+HX25vnl8nGM0IBAgQIECAAAECBAgQIECAAAECBAgQIECAAAECBAgQIECAAIE0AgKsNKuoOYgAq+bezplagHWOkmcIECBAgAABAgQIECBAgAABAgQIECBAgAABAgQIECBAgACB7gICrO7fgI33F2BtBEz8cQFW4uUYjQABAgQIECBAgAABAgQIECBAgAABAgQIECBAgAABAgQIEEgjIMBKs4qagwiwau7tnKkFWOcoeYYAAQIECBAgQIAAAQIECBAgQIAAAQIECBAgQIAAAQIECBDoLiDA6v4N2Hh/AdZGwMQfF2AlXo7RCBAgQIAAAQIECBAgQIAAAQIECBAgQIAAAQIECBAgQIAAgTQCAqw0q6g5iACr5t7OmVqAdY6SZwgQIECAAAECBAgQIECAAAECBAgQIECAAAECBAgQIECAAIHuAgKs7t+AjfcXYG0ETPxxAVbi5RiNAAECBAgQIECAAAECBAgQIECAAAECBAgQIECAAAECBAgQSCMgwEqzipqDCLBq7u1u6tdvfn37z9Mfr0+Hw/d/PnM8HH65vXl+XffGJidAgAABAgQIECBAgAABAgQIECBAgAABAgQIECBAgAABAgQIzBcQYM03bfVGAVbsuu8jqePZ0dO3wdTsyQRYs0W9jwABAgQIECBAgAABAgQIECBAgAABAgQIECBAgAABAgQIEFhBQIC1whaf8A4CrFj8uwDrdDj+FHvK428/Hk4/H66uPt6+e/bx8ac9QYAAAQIECBAgQIAAAQIECBAgQIAAAQIECBAgQIAAAQIECBDoIyDA6rPrkJsKsEJY//jzgPe/fBX5q1bnTO+Xr85R8gwBAgQIECBAgAABAgQIECBAgAABAgQIECBAgAABAgQIECDQVUCA1XXzk+4twJoE+eA1e/zy1ddftTrnH798dY6SZwgQIECAAAECBAgQIECAAAECBAgQIECAAAECBAgQIECAAIGmAgKspoufdW0B1izJ/37PwwDrzz8B+Nhp/kTgY0L+OwECBAgQIECAAAECBAgQIECAAAECBAgQIECAAAECBAgQIEBgroAAa65nu7cJsGJW/ncB1u3Nd29jTvNWAgQIECBAgAABAgQIECBAgAABAgQIECBAgAABAgQIECBAgACBSwUEWJfK+dxXAQHW/Rfh9Y+/Xx++fLk+72txPOu50+Hw/Z/vu/sFLAHWebqeIkCAAAECBAgQIECAAAECBAgQIECAAAECBAgQIECAAAECBAjsKSDA2lN7wbMEWPdLffiLVbNXLcCaLep9BAgQIECAAAECBAgQIECAAAECBAgQIECAAAECBAgQIECAAIE5AgKsOY5t39I9wPrrl6+O19/+YtWsL8RdeHW4uvp4977bd8++/ts/BAgQIECAAAECBAgQIECAAAECBAgQIECAAAECBAgQIECAAAECeQQEWHl2UXKSlQOsr3HVY/98+XJ9Ohx/euyxS/+7X766VM7nCBAgQIAAAQIECBAgQIAAAQIECBAgQIAAAQIECBAgQIAAAQL7CAiw9nFe9pSlA6w3v30c/VWr4+Hwy+Fw+udfqvrjF63O/VL45atzpTxHgAABAgQIECBAgAABAgQIECBAgAABAgQIECBAgAABAgQIENhfQIC1v/lSJ1YLsF5fEFWds7D78Orun9PH25vv3p7zGc8QIECAAAECBAgQIECAAAECBAgQIECAAAECBAgQIECAAAECBAjUFxBg1d/hk95AgHXP708FPunX0OEECBAgQIAAAQIECBAgQIAAAQIECBAgQIAAAQIECBAgQIAAgScTEGA9Gf0aB1cJsC755au/ftXqnF355atzlDxDgAABAgQIECBAgAABAgQIECBAgAABAgQIECBAgAABAgQIEFhNQIC12kZ3vs/SAdbV8Yfbd88+7kzqOAIECBAgQIAAAQIECBAgQIAAAQIECBAgQIAAAQIECBAgQIAAgUICAqxCy8o4atUA6yiuyvh1MhMBAgQIECBAgAABAgQIECBAgAABAgQIECBAgAABAgQIECBAoJyAAKvcynINHBVg/evNb6fImwqwInW9mwABAgQIECBAgAABAgQIECBAgAABAgQIECBAgAABAgQIECDQR0CA1WfXITcVYIWweikBAgQIECBAgAABAgQIECBAgAABAgQIECBAgAABAgQIECBAgEARAQFWkUUZkwABAgQIECBAgAABAgQIECBAgAABAgQIECBAgAABAgQIECBAgACBfAICrHw7MREBAgQIECBAgAABAgQIECBAgAABAgQIECBAgAABAgQIECBAgAABAkUEBFhFFmVMAgQIECBAgAABAgQIECBAgAABAgQIECBAgAABAgQIECBAgAABAgTyCQiw8u3ERAQIECBAgAABAgQIECBAgAABAgQIECBAgAABAgQIECBAgAABAgQIFBEQYBVZlDEJECBAgAABAgQIECBAgAABAgQIECBAgAABAgQIECBAgAABAgQIEMgnIMDKtxMTESBAgAABAgQIECBAgAABAgQIECBAgAABAgQIECBAgAABAgQIECBQRECAVWRRxiRAgAABAgQIECBAgAABAgQIECBAgAABAgQIECBAgAABAgQIECBAIJ+AACvfTkxEgAABAgQIECBAgAABAgQIECBAgAABAgQIECBAgAABAgQIECBAgEARAQFWkUUZkwABAgQIECBAgAABAgQIECBAgAABAgQIECBAgAABAgQIECBAgACBfAICrHw7MREBAgQIECBAgAABAgQIECBAgAABAgQIECBAgAABAgQIECBAgAABAkUEBFhFFmVMAgQIECBAgAABAgQIECBAgAABAgQIECBAgAABAgQIECBAgAABAgTyCQiw8u3ERAQIECBAgAABAgQIECBAgAABAgQIECBAgAABAgQIECBAgAABAgQIFBEQYBVZlDEJECBAgAABAgQIECBAgAABAgQIECBAgAABAgQIECBAgAABAgQIEMgnIMDKtxMTESBAgAABAgQIECBAgAABAgQIECBAgAABAgQIECBAgAABAgQIECBQRECAVWRRxiRAgAABAgQIECBAgAABAgQIECBAgAABAgQIECBAgAABAgQIECBAIJ+AACvfTkxEgAABAgQIECBAgAABAgQIECBAgAABAgQIECBAgAABAgQIECBAgEARAQFWkUUZkwABAgQIECBAgAABAgQIECBAgAABAgQIECBAgAABAgQIECBAgACBfAICrHw7MREBAgQIECBAgAABAgQIECBAgAABAgQIECBAgAABAgQIECBAgAABAkUEBFhFFmVMAgQIECBAgAABAgQIECBAgAABAgQIECBAgAABAgQIECBAgAABAgTyCQiw8u3ERAQIECBAgAABAgQIECBAgAABAgQIECBAgAABAgQIECBAgAABAgQIFBEQYBVZlDEJECBAgAABAgQIECBAgAABAgQIECBAgAABAgQIECBAgAABAgQIEMgnIMDKtxMTESBAgAABAgQIECBAgAABAgQIECBAgAABAgQIECBAgAABAgQIECBQRECAVWRRxiRAgAABAgQIECBAgAABAgQIECBAgAABAgQIECBAgAABAgQIECBAIJ+AACvfTkxEgAABAgQIECBAgAABAgQIECBAgAABAgQIECBAgAABAgQIECBAgEARAQFWkUUZkwABAgQIECBAgAABAgQIECBAgAABAgQIECBAgAABAgQIECBAgACBfAICrHw7MREBAgQIECBAgAABAgQIECBAgAABAgQIECBAgAABAgQIECBAgAABAkUEBFhFFmVMAgQIECBAgAABAgQIECBAgAABAgQIECBAgAABAgQIECBAgAABAgTyCQiw8u3ERAQIECBAgAABAgQIECBAgAABAgQIECBAgAABAgQIECBAgAABAgQIFBEQYBVZlDEJECBAgAABAgQIECBAgAABAgQIECBAgAABAgQIECBAgAABAgQIEMgnIMDKtxMTESBAgAABAgQIECBAgAABAgQIECBAgAABAgQIECBAgAABAgQIECBQRECAVWRRxiRAgAABAgQIECBAgAABAgQIECBAgAABAgQIECBAgAABAgQIECBAIJ+AACvfTkxEgAABAgQIECBAgAABAgQIECBAgAABAgQIECBAgAABAgQIECBAgEARAQFWkUUZkwABAgQIECBAgAABAgQIECBAgAABAgQIECBAgAABAgQIECBAgACBfAICrHw7MREBAgQIECBAgAABAgQIECBAgAABAgQIECBAgAABAgQIECBAgAABAkUEBFhFFmVMAgQIECBAgAABAgQIECBAgAABAgQIECBAgAABAgQIECBAgAABAgTyCQiw8u3ERAQIECBAgAABAgQIECBAgAABAgQIECBAgAABAgQIECBAgAABAgQIFBEQYBVZlDEJECBAgAABAgQIECBAgAABAgQIECBAgAABAgQIECBAgAABAgQIEMgnIMDKtxMTESBAgAABAgQIECBAgAABAgQIECBAgAABAgQIECBAgAABAgQIECBQRECAVWRRxiRAgAABAgQIECBAgAABAgQIECBAgAABAgQIECBAgAABAgQIECBAIJ+AACvfTkxEgAABAgQIECBAgAABAgQIECBAgAABAgQIECBAgAABAgQIECBAgEARAQFWkUUZkwABAgQIECBAgAABAgQIECBAgAABAgQIECBAgAABAgQIECBAgACBfAICrHw7MREBAgQIECBAgAABAgQIECBAgAABAgQIECBAgAABAgQIECBAgAABAkUEBFhFFmVMAgQIECBAgAABAgQIECBAgAABAgQIECBAgAABAgQIECBAgAABAgTyCQiw8u3ERAQIECBAgAABAgQIECBAgAABAgQIECBAgAABAgQIECBAgAABAgQIFBEQYBVZlDEJECBAgAABAgQIECBAgAABAgQIECBAgAABAgQIECBAgAABAgQIEMgnIMDKtxMTESBAgAABAgQIECBAgAABAgQIECBAgAABAgQIECBAgAABAgQIECBQRECAVWRRxiRAgAABAgQIECBAgAABAgQIECBAgAABAgQIECBAgAABAgQIECBAIJ+AACvfTkxEgAABAgQIECBAgAABAgQIECBAgAABAgQIECBAgAABAgQIECBAgEARAQFWkUUZkwABAgQIECBAgAABAgQIECBAgAABAgQIECBAgAABAgQIECBAgACBfAICrHw7MREBAgQIECBAgAABAgQIECBAgAABAgQIECBAgAABAgQIECBAgAABAkUEBFhFFmVMAgQIECBAgAABAgQIECBAgAABAgQIECBAgAABAgQIECBAgAABAgTyCQiw8u3ERAQIECBAgAABAgQIECBAgAABAgQIECBAgAABAgQIECBAgAABAgQIFBEQYBVZlDEJECBAgAABAgQIECBAgAABAgQIECBAgAABAgQIECBAgAABAgQIEMgnIMDKtxMTESBAgAABAgQIECBAgAABAgQIECBAgAABAgQIECBAgAABAgQIECBQRECAVWRRxiRAgAABAgQIECBAgAABAgQIECBAgAABAgQIECBAgAABAgQIECBAIJ+AACvfTkxEgAABAgQIECBAgAABAgQIECBAgAABAgQIECBAgAABAgQIECBAgEARAQFWkUUZkwABAgQIECBAgAABAgQIECBAgAABAgQIECBAgAABAgQIECBAgACBfAICrHw7MREBAgQIECBAgAABAgQIECBAgAABAgQIECBAgAABAgQIECBAgAABAkUEBFhFFmVMAgQIECBAgAABAgQIECBAgAABAgQIECBAgAABAgQIECBAgAABAgTyCQiw8u3ERAQIECBAgAABAgQIECBAgAABAgQIECBAgAABAgQIECBAgAABAgQIFBEQYBVZlDEJECBAgAABAgQIECBAgAABAgQIECBAgAABAgQIECBAgAABAgQIEMgnIMDKtxMTESBAgAABAgQIECBAgAABAgQIECBAgAABAgQIECBAgAABAgQIECBQRECAVWRRxiRAgAABAgQIECBAgAABAgQIECBAgAABAgQIECBAgAABAgQIECBAIJ+AACvfTkxEgAABAgQIECBAgAABAgQIECBAgAABAgQIECBAgAABAgQIECBAgEARAQFWkUUZkwABAgQIECBAgAABAgQIECBAgAABAgQIECBAgAABAgQIECBAgACBfAICrHw7MREBAgQIECBAgAABAgQIECBAgAABAgQIECBAgAABAgQIECBAgAABAkUEBFhFFmVMAgQIECBAgAABAgQIECBAgAABAgQIECBAgAABAgQIECBAgAABAgTyCQiw8u3ERAQIECBAgAABAgQIECBAgAABAgQIECBAgAABAgQIECBAgAABAgQIFBEQYBVZlDEJECBAgAABAgQIECBAgAABAgQIECBAgAABAgQIECBAgAABAgQIEMgnIMDKtxMTESBAgAABAgQIECBAgAABAgQIECBAgAABAgQIECBAgAABAgQIECBQRECAVWRRxiRAgAABAgQIECBAgAABAgQIECBAgAABAgQIECBAgAABAgQIECBAIJ+AACvfTkxEgAABAgQIECBAgAABAgQIECBAgAABAgQIECBAgAABAgQIECBAgEARAQFWkUUZkwABAgQIECBAgAABAgQIECBAgAABAgQIECBAgAABAgQIECBAgACBfAICrHw7MREBAgQIECBAgAABAgQIECBAgAABAgQIECBAgAABAgQIECBAgAABAkUEBFhFFmVMAgQIECBAgAABAgQIECBAgAABAgQIECBAgAABAgQIECBAgAABAgTyCQiw8u3ERAQIECBAgAABAgQIECBAgAABAgQIECBAgAABAgQIECBAgAABAgQIFBEQYBVZlDEJECBAgAABAgQIECBAgAABAgQIECBAgAABAgQIECBAgAABAgQIEMgnIMDKtxMTESBAgAABAgQIECBAgAABAgQIECBAgAABAgQIECBAgAABAgQIECBQRECAVWRRxiRAgAABAgQIECBAgAABAgQIECBAgAABAgQIECBAgAABAgQIECBAIJ+AACvfTkxEgAABAgQIECBAgAABAgQIECBAgAABAgQIECBAgAABAgQIECBAgEARAQFWkUUZkwABAgQIECBAgAABAgQIECBAgAABAgQIECBAgAABAgQIECBAgACBfAICrHw7MREBAgQIECBAgAABAgQIECBAgAABAgQIECBAgAABAgQIECBAgAABAkUEBFhFFmVMAgQIECBAgAABAgQIECBAgAABAgQIECBAgAABAgQIECBAgAABAgTyCQiw8u3ERAQIECBAgAABAgQIECBAgAABAgQIECBAgAABAgQIECBAgAABAgQIFBEQYBVZlDEJECBAgAABAgQIECBAgAABAgQIECBAgAABAgQIECBAgAABAgQIEMgnIMDKtxMTESBAgAABAgQIECBAgAABAgQIECBAgAABAgQIECBAgAABAgQIECBQRECAVWRRxiRAgAABAgQIECBAgAABAgQIECBAgAABAgQIECBAgAABAgQIECBAIJ+AACvfTkxEgAABAgQIECBAgAABAgQIECBAgAABAgQIECBAgAABAgQIECBAgEARAQFWkUUZkwABAgQIECBAgAABAgQIECBAgAABAgQIECBAgAABAgQIECBAgACBfAICrHw7MREBAgQIECBAgAABAgQIECBAgAABAgQIECBAgAABAgQIECBAgAABAkUEBFhFFmVMAgQIECBAgAABAgQIECBAgAABAgQIECBAgAABAgQIECBAgAABAgTyCQiw8u3ERAQIECBAgAABAgQIECBAgAABAgQIECBAgAABAgQIECBAgAABAgQIFBEQYBVZlDEJECBAgAABAgQIECBAgAABAgQIECBAgAABAgQIECBAgAABAgQIEMgnIMDKtxMTESBAgAABAgQIECBAgAABAgQIECBAgAABAgQIECBAgAABAgQIECBQRECAVWRRxiRAgAABAgQIECBAgAABAgQIECBAgAABAgQIECBAgAABAgQIECBAIJ+AACvfTkxEgAABAgQIECBAgAABAgQIECBAgAABAgQIECBAgAABAgQIECBAgEARAQFWkUUZkwABAgQIECBAgAABAgQIECBAgAABAgQIECBAgAABAgQIECBAgACBfAICrHw7MREBAgQIECBAgAABAgQIECBAgAABAgQIECBAgAABAgQIECBAgAABAkUEBFhFFmVMAgQIECBAgAABAgQIECBAgAABAgQIECBAgAABAgQIECBAgAABAgTyCQiw8u3ERAQIECBAgAABAgQIECBAgAABAgQIECBAgAABAgQIECBAgAABAgQIFBH4DwzZZ1FaHjUNAAAAAElFTkSuQmCC\" preserveAspectRatio=\"none\" x=\"0\" y=\"0\" width=\"1200px\" height=\"500px\"/><image xmlns=\"http://www.w3.org/2000/svg\" xlink:href=\"data:image/png;base64,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\" preserveAspectRatio=\"none\" x=\"0\" y=\"0\" width=\"1200px\" height=\"500px\"/></g><defs id=\"topdefs-866924\"><g class=\"clips\"/><clipPath id=\"legend866924\"><rect width=\"244\" height=\"29\" x=\"0\" y=\"0\"/></clipPath></defs><g class=\"layer-above\"><g class=\"imagelayer\"/><g class=\"shapelayer\"/></g><g class=\"infolayer\"><g class=\"legend\" pointer-events=\"all\" transform=\"translate(935,9.93999999999999)\"><rect class=\"bg\" shape-rendering=\"crispEdges\" style=\"stroke: rgb(68, 68, 68); stroke-opacity: 1; fill: rgb(255, 255, 255); fill-opacity: 1; stroke-width: 0px;\" width=\"244\" height=\"29\" x=\"0\" y=\"0\"/><g class=\"scrollbox\" transform=\"\" clip-path=\"url(#legend866924)\"><text class=\"legendtitletext\" text-anchor=\"start\" x=\"2\" y=\"18.2\" style=\"font-family: 'Open Sans', verdana, arial, sans-serif; font-size: 14px; fill: rgb(42, 63, 95); fill-opacity: 1; white-space: pre;\">version</text><g class=\"groups\" transform=\"\"><g class=\"traces\" transform=\"translate(61.09375,14.5)\" style=\"opacity: 1;\"><text class=\"legendtext\" text-anchor=\"start\" x=\"40\" y=\"4.680000000000001\" style=\"font-family: 'Open Sans', verdana, arial, sans-serif; font-size: 12px; fill: rgb(42, 63, 95); fill-opacity: 1; white-space: pre;\">original</text><g class=\"layers\" style=\"opacity: 1;\"><g class=\"legendfill\"/><g class=\"legendlines\"><path class=\"js-line\" d=\"M5,0h30\" style=\"fill: none; stroke: rgb(99, 110, 250); stroke-opacity: 1; stroke-width: 2px;\"/></g><g class=\"legendsymbols\"><g class=\"legendpoints\"/></g></g><rect class=\"legendtoggle\" x=\"0\" y=\"-9.5\" width=\"87.0625\" height=\"19\" style=\"fill: rgb(0, 0, 0); fill-opacity: 0;\"/></g></g><g class=\"groups\" transform=\"translate(89.5625,0)\"><g class=\"traces\" transform=\"translate(61.09375,14.5)\" style=\"opacity: 1;\"><text class=\"legendtext\" text-anchor=\"start\" x=\"40\" y=\"4.680000000000001\" style=\"font-family: 'Open Sans', verdana, arial, sans-serif; font-size: 12px; fill: rgb(42, 63, 95); fill-opacity: 1; white-space: pre;\">reduced</text><g class=\"layers\" style=\"opacity: 1;\"><g class=\"legendfill\"/><g class=\"legendlines\"><path class=\"js-line\" d=\"M5,0h30\" style=\"fill: none; stroke: rgb(239, 85, 59); stroke-opacity: 1; stroke-width: 2px;\"/></g><g class=\"legendsymbols\"><g class=\"legendpoints\"/></g></g><rect class=\"legendtoggle\" x=\"0\" y=\"-9.5\" width=\"90.71875\" height=\"19\" style=\"fill: rgb(0, 0, 0); fill-opacity: 0;\"/></g></g></g><rect class=\"scrollbar\" rx=\"20\" ry=\"3\" width=\"0\" height=\"0\" style=\"fill: rgb(128, 139, 164); fill-opacity: 1;\" x=\"0\" y=\"0\"/></g><g class=\"g-gtitle\"><text class=\"gtitle\" x=\"60\" y=\"23.5\" text-anchor=\"start\" dy=\"0em\" style=\"font-family: 'Open Sans', verdana, arial, sans-serif; font-size: 17px; fill: rgb(42, 63, 95); opacity: 1; white-space: pre;\">Empirical Cumulative Distribution Plots of Line Numbers</text></g><g class=\"g-xtitle\"><text class=\"xtitle\" x=\"625.5\" y=\"489.8\" text-anchor=\"middle\" style=\"font-family: 'Open Sans', verdana, arial, sans-serif; font-size: 14px; fill: rgb(42, 63, 95); opacity: 1; white-space: pre;\">Number of Lines</text></g><g class=\"g-ytitle\"><text class=\"ytitle\" transform=\"rotate(-90,15.787500000000001,248.5)\" x=\"15.787500000000001\" y=\"248.5\" text-anchor=\"middle\" style=\"font-family: 'Open Sans', verdana, arial, sans-serif; font-size: 14px; fill: rgb(42, 63, 95); opacity: 1; white-space: pre;\">Probability</text></g></g></svg>"
      ]
     },
     "metadata": {},
     "output_type": "display_data"
    }
   ],
   "source": [
    "line_num_ecdf_fig.show()"
   ]
  },
  {
   "cell_type": "markdown",
   "id": "3847f5dc",
   "metadata": {
    "slideshow": {
     "slide_type": "subslide"
    }
   },
   "source": [
    "# Extraction: Extensions\n",
    "\n",
    "1. Use log parser and diff failures based on log templates  \n",
    "  *Jiang, Z., Liu, J., Huang, J., Li, Y., Huo, Y., Gu, J., Chen, Z., Zhu, J. and Lyu, M.R., 2023. A Large-scale Benchmark for Log Parsing*\n"
   ]
  },
  {
   "cell_type": "markdown",
   "id": "c719eae2",
   "metadata": {
    "slideshow": {
     "slide_type": "slide"
    }
   },
   "source": [
    "# Vectorization"
   ]
  },
  {
   "cell_type": "markdown",
   "id": "1d1e6de3",
   "metadata": {
    "slideshow": {
     "slide_type": "subslide"
    }
   },
   "source": [
    "# Vectorization\n",
    "\n",
    "Convert raw text data into a numerical format that can be efficiently processed.\n",
    "\n",
    "\n",
    "1. Bag-of-word model with open-vocabulary\n",
    "2. Minhash (e.g. with 256 x 16-bit we get a constant 0.5 kB per error)\n",
    "\n",
    "<center>\n",
    "<img src=\"media/jaccard.png\" style=\"height:250px;\"/>\n",
    "</center>\n",
    "\n",
    "*Leskovec J, Rajaraman A, Ullman JD. \"Chapter 3: Finding Similar Items\" Mining of massive data sets. Cambridge university press; 2020 Jan 9.*"
   ]
  },
  {
   "cell_type": "markdown",
   "id": "2a3ed83a",
   "metadata": {
    "slideshow": {
     "slide_type": "subslide"
    }
   },
   "source": [
    "# Vectorization: Normalization\n",
    "Reduce the size of the vocabulary by removing common hashes and common metadata."
   ]
  },
  {
   "cell_type": "code",
   "execution_count": 20,
   "id": "2467c419",
   "metadata": {},
   "outputs": [],
   "source": [
    "normalize_rules = [\n",
    "    (\"{GUID}\", re2.compile(r'[0-9a-f]{8}-[0-9a-f]{4}-[0-9a-f]{4}-[0-9a-f]{4}-[0-9a-f]{12}')),\n",
    "]\n",
    "\n",
    "def normalize(text):\n",
    "    for repl, regex in normalize_rules:\n",
    "        text = regex.sub(repl, text)\n",
    "    return text"
   ]
  },
  {
   "cell_type": "markdown",
   "id": "17bf3ec1",
   "metadata": {
    "slideshow": {
     "slide_type": "subslide"
    }
   },
   "source": [
    "# Vectorization: Tokenization\n",
    "Extract meaningful tokens."
   ]
  },
  {
   "cell_type": "code",
   "execution_count": 21,
   "id": "c8838e56",
   "metadata": {},
   "outputs": [],
   "source": [
    "token_regex = re2.compile(r\"\\b[[:alpha:]_][[:alpha:][:digit:]_-]+\")\n",
    "\n",
    "def tokenize(text):\n",
    "    normalized_text = normalize(text)\n",
    "    return token_regex.findall(normalized_text)"
   ]
  },
  {
   "cell_type": "markdown",
   "id": "90b6bf48",
   "metadata": {
    "slideshow": {
     "slide_type": "subslide"
    }
   },
   "source": [
    "# Vectorization: Minhash\n",
    "Convert set of tokens to Minhash sketches."
   ]
  },
  {
   "cell_type": "code",
   "execution_count": 22,
   "id": "ebdff819",
   "metadata": {},
   "outputs": [],
   "source": [
    "from datasketch import MinHash\n",
    "\n",
    "NUM_PERM = 256\n",
    "\n",
    "def vectorize(tokens):\n",
    "    m = MinHash(num_perm=NUM_PERM)\n",
    "    for token in set(tokens):\n",
    "        m.update(token.encode('utf8'))\n",
    "    return m.hashvalues"
   ]
  },
  {
   "cell_type": "markdown",
   "id": "de87ae36",
   "metadata": {
    "slideshow": {
     "slide_type": "subslide"
    }
   },
   "source": [
    "# Vectorization: Results\n",
    "Minhash representation is more compact and allows for fast nearest-neighbors search.\n",
    "\n",
    "Total size of original text data:"
   ]
  },
  {
   "cell_type": "code",
   "execution_count": 23,
   "id": "97e4990a",
   "metadata": {},
   "outputs": [
    {
     "name": "stdout",
     "output_type": "stream",
     "text": [
      "1.978 GB\n"
     ]
    }
   ],
   "source": [
    "print(\"{:.3f} GB\".format(actions[\"action_output_message\"].str.len().sum() / 2 ** 30))"
   ]
  },
  {
   "cell_type": "markdown",
   "id": "73710f2e",
   "metadata": {},
   "source": [
    "Total size of minhash sketches:"
   ]
  },
  {
   "cell_type": "code",
   "execution_count": 24,
   "id": "70ed4d41",
   "metadata": {},
   "outputs": [
    {
     "name": "stdout",
     "output_type": "stream",
     "text": [
      "0.163 GB\n"
     ]
    }
   ],
   "source": [
    "print(\"{:.3f} GB\".format(actions.shape[0] * np.uint16(0).nbytes * NUM_PERM / 2 ** 30))"
   ]
  },
  {
   "cell_type": "markdown",
   "id": "a6eab3a7",
   "metadata": {
    "slideshow": {
     "slide_type": "subslide"
    }
   },
   "source": [
    "# Vectorization: Extensions\n",
    "1. **Process documents in parallel.** Vectorization is embarrassingly parallelizable.\n",
    "2. **Use Weighted Minhash**. Minhash with Inverse Document Frequency (IDF) weights can automatically ignore common terms such as \"failed\".  \n",
    "  *Chum, O., Philbin, J. and Zisserman, A., 2008, September. Near duplicate image detection: Min-hash and TF-IDF weighting.*\n",
    "3. **Use Neural Network Vector Embeddings (future).** Embeddings are a good alternative to Minhash sketches and they can capture semantics of logs.  \n",
    "  *Meng, W., Liu, Y., Huang, Y., Zhang, S., Zaiter, F., Chen, B. and Pei, D., 2020, August. A semantic-aware representation framework for online log analysis.*"
   ]
  },
  {
   "cell_type": "code",
   "execution_count": 25,
   "id": "a4705339",
   "metadata": {
    "slideshow": {
     "slide_type": "skip"
    }
   },
   "outputs": [
    {
     "name": "stderr",
     "output_type": "stream",
     "text": [
      "100%|█████████████████████████████████████████████████| 341630/341630 [12:47<00:00, 445.22it/s]\n"
     ]
    }
   ],
   "source": [
    "actions = actions.assign(\n",
    "    action_output_sketch=lambda df: [\n",
    "        vectorize(tokenize(x))\n",
    "        for x in tqdm(df[\"action_output_failure\"])])"
   ]
  },
  {
   "cell_type": "markdown",
   "id": "484114db",
   "metadata": {
    "slideshow": {
     "slide_type": "slide"
    }
   },
   "source": [
    "# Clustering"
   ]
  },
  {
   "cell_type": "markdown",
   "id": "678bdda6",
   "metadata": {
    "slideshow": {
     "slide_type": "subslide"
    }
   },
   "source": [
    "# Clustering\n",
    "Given vector representation of the error, find a **near-duplicate cluster** or create a new cluster. \n",
    "\n",
    "- Near-duplicate search is performed on a vector database.\n",
    "- For Minhash the database should support *Generalized Hamming Distance*.\n",
    "- LSH Forest is an efficient data structure and offers time complexity of $O(n log(n))$.\n",
    "\n",
    "*Bawa, M., Condie, T. and Ganesan, P., 2005, May. LSH forest: self-tuning indexes for similarity search.*\n"
   ]
  },
  {
   "cell_type": "code",
   "execution_count": 26,
   "id": "61ac9e82",
   "metadata": {
    "slideshow": {
     "slide_type": "skip"
    }
   },
   "outputs": [],
   "source": [
    "from datasketch import MinHashLSHForest\n",
    "from sortedcontainers import SortedDict\n",
    "\n",
    "def jaccard_distance(a, b):\n",
    "    return 1 - float(np.count_nonzero(a == b)) / len(a)\n",
    "    \n",
    "class DefaultSortedDict(SortedDict):\n",
    "    def __init__(self, default_factory, *args, **kwargs):\n",
    "        super().__init__(*args, **kwargs)\n",
    "        self.default_factory = default_factory\n",
    "\n",
    "    def __missing__(self, key):\n",
    "        self[key] = value = self.default_factory()\n",
    "        return value\n",
    "\n",
    "class MinHashLSHOnlineForest(MinHashLSHForest):\n",
    "    def __init__(self, num_perm, num_trees):\n",
    "        super().__init__(num_perm, num_trees)\n",
    "        hashtables = [DefaultSortedDict(list) for _ in range(num_trees)]\n",
    "\n",
    "    def index(self):\n",
    "        for i, hashtable in enumerate(self.hashtables):\n",
    "            self.sorted_hashtables[i] = list(hashtable.keys())\n",
    "            \n",
    "    def add(self, key, minhash):\n",
    "        super().add(key, minhash)\n",
    "        self.index()"
   ]
  },
  {
   "cell_type": "markdown",
   "id": "6d839efb",
   "metadata": {
    "slideshow": {
     "slide_type": "subslide"
    }
   },
   "source": [
    "# Clustering: Sample Code"
   ]
  },
  {
   "cell_type": "code",
   "execution_count": 27,
   "id": "1b3c7a61",
   "metadata": {},
   "outputs": [],
   "source": [
    "MAX_DISTANCE = 0.25\n",
    "\n",
    "def assign_action_output_cluster_info(df):\n",
    "    cluster_info = []\n",
    "    forest = MinHashLSHOnlineForest(num_perm=NUM_PERM, num_trees=16)\n",
    "    for index, sketch in tqdm(df[\"action_output_sketch\"].items(), total=len(df)):        \n",
    "        neighbors = forest.query(MinHash(hashvalues=sketch), 10)\n",
    "        \n",
    "        if neighbors:\n",
    "            distances = [jaccard_distance(sketch, x) for x in df.loc[neighbors, \"action_output_sketch\"]]\n",
    "            nearest_i = np.argmin(distances)\n",
    "            nearest_index, nearest_dist = (neighbors[nearest_i], distances[nearest_i])\n",
    "        else:\n",
    "            nearest_index, nearest_dist = (0, 1.0)\n",
    "\n",
    "        if nearest_dist < MAX_DISTANCE:\n",
    "            cluster_info.append((nearest_index, nearest_dist)) # Use nearest index as cluster\n",
    "        else:\n",
    "            cluster_info.append((index, 0.0)) # Create new cluster with current index\n",
    "            forest.add(index, MinHash(hashvalues=sketch)) \n",
    "            \n",
    "    return cluster_info"
   ]
  },
  {
   "cell_type": "code",
   "execution_count": 28,
   "id": "68be8a3d",
   "metadata": {
    "slideshow": {
     "slide_type": "skip"
    }
   },
   "outputs": [
    {
     "name": "stderr",
     "output_type": "stream",
     "text": [
      "100%|█████████████████████████████████████████████████| 341630/341630 [16:42<00:00, 340.63it/s]\n"
     ]
    }
   ],
   "source": [
    "actions = (\n",
    "    actions\n",
    "    .assign(\n",
    "        action_output_cluster_info=assign_action_output_cluster_info\n",
    "    )\n",
    "    .assign(\n",
    "        action_output_cluster_id = lambda df:[\n",
    "            i for i, _ in df[\"action_output_cluster_info\"]\n",
    "        ],\n",
    "        action_output_cluster_dist = lambda df:[\n",
    "            d for _, d in df[\"action_output_cluster_info\"]\n",
    "        ]\n",
    "    )\n",
    "    .drop(columns=\"action_output_cluster_info\")\n",
    ")"
   ]
  },
  {
   "cell_type": "markdown",
   "id": "74b52a1e",
   "metadata": {
    "slideshow": {
     "slide_type": "subslide"
    }
   },
   "source": [
    "# Clustering: Resulsts"
   ]
  },
  {
   "cell_type": "code",
   "execution_count": 29,
   "id": "0123614e",
   "metadata": {
    "slideshow": {
     "slide_type": "skip"
    }
   },
   "outputs": [],
   "source": [
    "cluster_size_ecdf_fig = (\n",
    "    actions\n",
    "    .query(\"action_status == 'failed'\")\n",
    "    .query(\"action_output_type == 'out'\")\n",
    "    .groupby(\"action_output_cluster_id\")\n",
    "    .agg(count=(\"action_index\", \"count\"))\n",
    "    .reset_index()\n",
    "    .pipe(\n",
    "        px.ecdf,\n",
    "        x=\"count\",\n",
    "    )\n",
    "    .update_layout(\n",
    "        **default_layout,\n",
    "        title=\"Empirical Cumulative Distribution Plot of Cluster Size\",\n",
    "        xaxis_title=\"Cluster Size\",\n",
    "        xaxis_range=[0, 100],\n",
    "        yaxis_title=\"Probability\",\n",
    "        yaxis_tickformat=\",.0%\",\n",
    "        yaxis_range=[0.9, 1],\n",
    "    )\n",
    "    .update_layout(\n",
    "        margin=dict(\n",
    "            l=10,\n",
    "            r=10,\n",
    "            b=10,\n",
    "            t=40,\n",
    "        ),\n",
    "    )\n",
    ")"
   ]
  },
  {
   "cell_type": "code",
   "execution_count": 30,
   "id": "21d3222e",
   "metadata": {},
   "outputs": [
    {
     "data": {
      "image/svg+xml": [
       "<svg class=\"main-svg\" xmlns=\"http://www.w3.org/2000/svg\" xmlns:xlink=\"http://www.w3.org/1999/xlink\" width=\"1200\" height=\"500\" style=\"\" viewBox=\"0 0 1200 500\"><rect x=\"0\" y=\"0\" width=\"1200\" height=\"500\" style=\"fill: rgb(255, 255, 255); fill-opacity: 1;\"/><defs id=\"defs-2515da\"><g class=\"clips\"><clipPath id=\"clip2515daxyplot\" class=\"plotclip\"><rect width=\"1107\" height=\"410\"/></clipPath><clipPath class=\"axesclip\" id=\"clip2515dax\"><rect x=\"72\" y=\"0\" width=\"1107\" height=\"500\"/></clipPath><clipPath class=\"axesclip\" id=\"clip2515day\"><rect x=\"0\" y=\"40\" width=\"1200\" height=\"410\"/></clipPath><clipPath class=\"axesclip\" id=\"clip2515daxy\"><rect x=\"72\" y=\"40\" width=\"1107\" height=\"410\"/></clipPath></g><g class=\"gradients\"/><g class=\"patterns\"/></defs><g class=\"bglayer\"/><g class=\"layer-below\"><g class=\"imagelayer\"/><g class=\"shapelayer\"/></g><g class=\"cartesianlayer\"><g class=\"subplot xy\"><g class=\"layer-subplot\"><g class=\"shapelayer\"/><g class=\"imagelayer\"/></g><g class=\"minor-gridlayer\"><g class=\"x\"/><g class=\"y\"/></g><g class=\"gridlayer\"><g class=\"x\"><path class=\"xgrid crisp\" transform=\"translate(293.4,0)\" d=\"M0,40v410\" style=\"stroke: rgb(235, 240, 248); stroke-opacity: 1; stroke-width: 1px;\"/><path class=\"xgrid crisp\" transform=\"translate(514.8,0)\" d=\"M0,40v410\" style=\"stroke: rgb(235, 240, 248); stroke-opacity: 1; stroke-width: 1px;\"/><path class=\"xgrid crisp\" transform=\"translate(736.2,0)\" d=\"M0,40v410\" style=\"stroke: rgb(235, 240, 248); stroke-opacity: 1; stroke-width: 1px;\"/><path class=\"xgrid crisp\" transform=\"translate(957.6,0)\" d=\"M0,40v410\" style=\"stroke: rgb(235, 240, 248); stroke-opacity: 1; stroke-width: 1px;\"/></g><g class=\"y\"><path class=\"ygrid crisp\" transform=\"translate(0,368)\" d=\"M72,0h1107\" style=\"stroke: rgb(235, 240, 248); stroke-opacity: 1; stroke-width: 1px;\"/><path class=\"ygrid crisp\" transform=\"translate(0,286)\" d=\"M72,0h1107\" style=\"stroke: rgb(235, 240, 248); stroke-opacity: 1; stroke-width: 1px;\"/><path class=\"ygrid crisp\" transform=\"translate(0,204)\" d=\"M72,0h1107\" style=\"stroke: rgb(235, 240, 248); stroke-opacity: 1; stroke-width: 1px;\"/><path class=\"ygrid crisp\" transform=\"translate(0,122)\" d=\"M72,0h1107\" style=\"stroke: rgb(235, 240, 248); stroke-opacity: 1; stroke-width: 1px;\"/></g></g><g class=\"zerolinelayer\"><path class=\"xzl zl crisp\" transform=\"translate(72,0)\" d=\"M0,40v410\" style=\"stroke: rgb(235, 240, 248); stroke-opacity: 1; stroke-width: 2px;\"/></g><g class=\"layer-between\"><g class=\"shapelayer\"/><g class=\"imagelayer\"/></g><path class=\"xlines-below\"/><path class=\"ylines-below\"/><g class=\"overlines-below\"/><g class=\"xaxislayer-below\"/><g class=\"yaxislayer-below\"/><g class=\"overaxes-below\"/><g class=\"plot\" transform=\"translate(72,40)\" clip-path=\"url(#clip2515daxyplot)\"/><g class=\"overplot\"/><path class=\"xlines-above crisp\" d=\"M0,0\" style=\"fill: none;\"/><path class=\"ylines-above crisp\" d=\"M0,0\" style=\"fill: none;\"/><g class=\"overlines-above\"/><g class=\"xaxislayer-above\"><g class=\"xtick\"><text text-anchor=\"middle\" x=\"0\" y=\"463\" transform=\"translate(72,0)\" style=\"font-family: 'Open Sans', verdana, arial, sans-serif; font-size: 12px; fill: rgb(42, 63, 95); fill-opacity: 1; white-space: pre; opacity: 1;\">0</text></g><g class=\"xtick\"><text text-anchor=\"middle\" x=\"0\" y=\"463\" style=\"font-family: 'Open Sans', verdana, arial, sans-serif; font-size: 12px; fill: rgb(42, 63, 95); fill-opacity: 1; white-space: pre; opacity: 1;\" transform=\"translate(293.4,0)\">20</text></g><g class=\"xtick\"><text text-anchor=\"middle\" x=\"0\" y=\"463\" style=\"font-family: 'Open Sans', verdana, arial, sans-serif; font-size: 12px; fill: rgb(42, 63, 95); fill-opacity: 1; white-space: pre; opacity: 1;\" transform=\"translate(514.8,0)\">40</text></g><g class=\"xtick\"><text text-anchor=\"middle\" x=\"0\" y=\"463\" style=\"font-family: 'Open Sans', verdana, arial, sans-serif; font-size: 12px; fill: rgb(42, 63, 95); fill-opacity: 1; white-space: pre; opacity: 1;\" transform=\"translate(736.2,0)\">60</text></g><g class=\"xtick\"><text text-anchor=\"middle\" x=\"0\" y=\"463\" style=\"font-family: 'Open Sans', verdana, arial, sans-serif; font-size: 12px; fill: rgb(42, 63, 95); fill-opacity: 1; white-space: pre; opacity: 1;\" transform=\"translate(957.6,0)\">80</text></g><g class=\"xtick\"><text text-anchor=\"middle\" x=\"0\" y=\"463\" style=\"font-family: 'Open Sans', verdana, arial, sans-serif; font-size: 12px; fill: rgb(42, 63, 95); fill-opacity: 1; white-space: pre; opacity: 1;\" transform=\"translate(1179,0)\">100</text></g></g><g class=\"yaxislayer-above\"><g class=\"ytick\"><text text-anchor=\"end\" x=\"71\" y=\"4.199999999999999\" transform=\"translate(0,450)\" style=\"font-family: 'Open Sans', verdana, arial, sans-serif; font-size: 12px; fill: rgb(42, 63, 95); fill-opacity: 1; white-space: pre; opacity: 1;\">90%</text></g><g class=\"ytick\"><text text-anchor=\"end\" x=\"71\" y=\"4.199999999999999\" style=\"font-family: 'Open Sans', verdana, arial, sans-serif; font-size: 12px; fill: rgb(42, 63, 95); fill-opacity: 1; white-space: pre; opacity: 1;\" transform=\"translate(0,368)\">92%</text></g><g class=\"ytick\"><text text-anchor=\"end\" x=\"71\" y=\"4.199999999999999\" style=\"font-family: 'Open Sans', verdana, arial, sans-serif; font-size: 12px; fill: rgb(42, 63, 95); fill-opacity: 1; white-space: pre; opacity: 1;\" transform=\"translate(0,286)\">94%</text></g><g class=\"ytick\"><text text-anchor=\"end\" x=\"71\" y=\"4.199999999999999\" style=\"font-family: 'Open Sans', verdana, arial, sans-serif; font-size: 12px; fill: rgb(42, 63, 95); fill-opacity: 1; white-space: pre; opacity: 1;\" transform=\"translate(0,204)\">96%</text></g><g class=\"ytick\"><text text-anchor=\"end\" x=\"71\" y=\"4.199999999999999\" style=\"font-family: 'Open Sans', verdana, arial, sans-serif; font-size: 12px; fill: rgb(42, 63, 95); fill-opacity: 1; white-space: pre; opacity: 1;\" transform=\"translate(0,122)\">98%</text></g><g class=\"ytick\"><text text-anchor=\"end\" x=\"71\" y=\"4.199999999999999\" style=\"font-family: 'Open Sans', verdana, arial, sans-serif; font-size: 12px; fill: rgb(42, 63, 95); fill-opacity: 1; white-space: pre; opacity: 1;\" transform=\"translate(0,40)\">100%</text></g></g><g class=\"overaxes-above\"/></g></g><g class=\"polarlayer\"/><g class=\"smithlayer\"/><g class=\"ternarylayer\"/><g class=\"geolayer\"/><g class=\"funnelarealayer\"/><g class=\"pielayer\"/><g class=\"iciclelayer\"/><g class=\"treemaplayer\"/><g class=\"sunburstlayer\"/><g class=\"glimages\"><image xmlns=\"http://www.w3.org/2000/svg\" xlink:href=\"data:image/png;base64,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\" preserveAspectRatio=\"none\" x=\"0\" y=\"0\" width=\"1200px\" height=\"500px\"/><image xmlns=\"http://www.w3.org/2000/svg\" xlink:href=\"data:image/png;base64,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\" preserveAspectRatio=\"none\" x=\"0\" y=\"0\" width=\"1200px\" height=\"500px\"/></g><defs id=\"topdefs-2515da\"><g class=\"clips\"/></defs><g class=\"layer-above\"><g class=\"imagelayer\"/><g class=\"shapelayer\"/></g><g class=\"infolayer\"><g class=\"g-gtitle\"><text class=\"gtitle\" x=\"60\" y=\"20\" text-anchor=\"start\" dy=\"0em\" style=\"font-family: 'Open Sans', verdana, arial, sans-serif; font-size: 17px; fill: rgb(42, 63, 95); opacity: 1; white-space: pre;\">Empirical Cumulative Distribution Plot of Cluster Size</text></g><g class=\"g-xtitle\"><text class=\"xtitle\" x=\"625.5\" y=\"489.8\" text-anchor=\"middle\" style=\"font-family: 'Open Sans', verdana, arial, sans-serif; font-size: 14px; fill: rgb(42, 63, 95); opacity: 1; white-space: pre;\">Cluster Size</text></g><g class=\"g-ytitle\"><text class=\"ytitle\" transform=\"rotate(-90,15.787500000000001,245)\" x=\"15.787500000000001\" y=\"245\" text-anchor=\"middle\" style=\"font-family: 'Open Sans', verdana, arial, sans-serif; font-size: 14px; fill: rgb(42, 63, 95); opacity: 1; white-space: pre;\">Probability</text></g></g></svg>"
      ]
     },
     "metadata": {},
     "output_type": "display_data"
    }
   ],
   "source": [
    "cluster_size_ecdf_fig.show()"
   ]
  },
  {
   "cell_type": "markdown",
   "id": "9f5eede8",
   "metadata": {
    "slideshow": {
     "slide_type": "subslide"
    }
   },
   "source": [
    "# Clustering: Extensions\n",
    "1. **Partition clusters by creation time.**\n",
    "  Clustering is an append only process. This opens up the opportunity to partition clusters by creation time to optimize database access.\n",
    "2. **Detect and fix duplicate clusters.**\n",
    "  If many similar errors get processed at the same time, they may end up creating many clusters. There is a need of a background job which will detect and fix duplicate clusters. \n",
    "3. **Use different distance thresholds for different classes of errors.** Different frameworks may produce different logs and they may benefit from using criteria for near-duplicate failure.\n",
    "4. **Use Least Recently Used (LRU) policy to manage cluster lifetime**. Most clusters represent unique errors and can be safely deleted after just a few days."
   ]
  },
  {
   "cell_type": "markdown",
   "id": "6b1f1a28",
   "metadata": {
    "slideshow": {
     "slide_type": "slide"
    }
   },
   "source": [
    "# Statistics"
   ]
  },
  {
   "cell_type": "markdown",
   "id": "17bd36fb",
   "metadata": {
    "slideshow": {
     "slide_type": "subslide"
    }
   },
   "source": [
    "# Statistics: Top clusters by number of failed actions"
   ]
  },
  {
   "cell_type": "code",
   "execution_count": 31,
   "id": "5fa88b00",
   "metadata": {
    "slideshow": {
     "slide_type": "skip"
    }
   },
   "outputs": [],
   "source": [
    "cluster_daily_stats = (\n",
    "    actions\n",
    "    .query(\"action_status == 'failed'\")\n",
    "    .query(\"action_output_type == 'out'\")\n",
    "    .groupby([\"action_output_date\", \"action_output_cluster_id\"])\n",
    "    .agg(\n",
    "        unique_users_num=(\"pipeline_actor_login\", \"nunique\"),\n",
    "        actions_num=(\"action_index\", \"count\"),\n",
    "    )\n",
    "    .reset_index()\n",
    "    .sort_values([\"unique_users_num\",\"actions_num\"], ascending=False)\n",
    ")"
   ]
  },
  {
   "cell_type": "code",
   "execution_count": 32,
   "id": "2cf2ae04",
   "metadata": {
    "slideshow": {
     "slide_type": "skip"
    }
   },
   "outputs": [
    {
     "data": {
      "text/html": [
       "<div>\n",
       "<style scoped>\n",
       "    .dataframe tbody tr th:only-of-type {\n",
       "        vertical-align: middle;\n",
       "    }\n",
       "\n",
       "    .dataframe tbody tr th {\n",
       "        vertical-align: top;\n",
       "    }\n",
       "\n",
       "    .dataframe thead th {\n",
       "        text-align: right;\n",
       "    }\n",
       "</style>\n",
       "<table border=\"1\" class=\"dataframe\">\n",
       "  <thead>\n",
       "    <tr style=\"text-align: right;\">\n",
       "      <th></th>\n",
       "      <th>action_output_cluster_id</th>\n",
       "      <th>days_num</th>\n",
       "      <th>actions_num</th>\n",
       "    </tr>\n",
       "  </thead>\n",
       "  <tbody>\n",
       "    <tr>\n",
       "      <th>19714</th>\n",
       "      <td>205629</td>\n",
       "      <td>5</td>\n",
       "      <td>7</td>\n",
       "    </tr>\n",
       "    <tr>\n",
       "      <th>35365</th>\n",
       "      <td>308684</td>\n",
       "      <td>4</td>\n",
       "      <td>217</td>\n",
       "    </tr>\n",
       "    <tr>\n",
       "      <th>35804</th>\n",
       "      <td>310338</td>\n",
       "      <td>4</td>\n",
       "      <td>73</td>\n",
       "    </tr>\n",
       "    <tr>\n",
       "      <th>1477</th>\n",
       "      <td>46717</td>\n",
       "      <td>4</td>\n",
       "      <td>25</td>\n",
       "    </tr>\n",
       "    <tr>\n",
       "      <th>24118</th>\n",
       "      <td>238960</td>\n",
       "      <td>4</td>\n",
       "      <td>10</td>\n",
       "    </tr>\n",
       "  </tbody>\n",
       "</table>\n",
       "</div>"
      ],
      "text/plain": [
       "       action_output_cluster_id  days_num  actions_num\n",
       "19714                    205629         5            7\n",
       "35365                    308684         4          217\n",
       "35804                    310338         4           73\n",
       "1477                      46717         4           25\n",
       "24118                    238960         4           10"
      ]
     },
     "execution_count": 32,
     "metadata": {},
     "output_type": "execute_result"
    }
   ],
   "source": [
    "(\n",
    "    cluster_daily_stats\n",
    "    .groupby(\"action_output_cluster_id\")\n",
    "    .agg(\n",
    "        days_num=(\"unique_users_num\", \"count\"),\n",
    "        actions_num=(\"actions_num\", \"sum\"),\n",
    "    )\n",
    "    .reset_index()\n",
    "    .sort_values([\"days_num\",\"actions_num\"], ascending=False)\n",
    "    .head(5)\n",
    ")"
   ]
  },
  {
   "cell_type": "code",
   "execution_count": 33,
   "id": "db96090a",
   "metadata": {
    "slideshow": {
     "slide_type": "skip"
    }
   },
   "outputs": [],
   "source": [
    "top_clusters_by_number_of_actions_fig = (\n",
    "    cluster_daily_stats\n",
    "    .sort_values(\"actions_num\", ascending=False)  \n",
    "    .head(100)\n",
    "    .assign(action_output_cluster_id = lambda df: df[\"action_output_cluster_id\"].astype(str))\n",
    "    .pipe(\n",
    "        px.bar,\n",
    "        x=\"action_output_date\",\n",
    "        y=\"actions_num\",\n",
    "    )\n",
    "    .update_layout(\n",
    "        **default_layout,\n",
    "        title=\"Top cluster by number of failed actions\",\n",
    "        xaxis_title=\"Date\",\n",
    "        yaxis_title=\"Number of failed actions\",\n",
    "        showlegend=False,\n",
    "    )\n",
    "    .update_layout(\n",
    "        margin=dict(\n",
    "            l=10,\n",
    "            r=10,\n",
    "            b=10,\n",
    "            t=40,\n",
    "        ),\n",
    "    )\n",
    ")"
   ]
  },
  {
   "cell_type": "code",
   "execution_count": 34,
   "id": "e069bf26",
   "metadata": {},
   "outputs": [
    {
     "data": {
      "image/svg+xml": [
       "<svg class=\"main-svg\" xmlns=\"http://www.w3.org/2000/svg\" xmlns:xlink=\"http://www.w3.org/1999/xlink\" width=\"1200\" height=\"500\" style=\"\" viewBox=\"0 0 1200 500\"><rect x=\"0\" y=\"0\" width=\"1200\" height=\"500\" style=\"fill: rgb(255, 255, 255); fill-opacity: 1;\"/><defs id=\"defs-f16dda\"><g class=\"clips\"><clipPath id=\"clipf16ddaxyplot\" class=\"plotclip\"><rect width=\"1131\" height=\"410\"/></clipPath><clipPath class=\"axesclip\" id=\"clipf16ddax\"><rect x=\"59\" y=\"0\" width=\"1131\" height=\"500\"/></clipPath><clipPath class=\"axesclip\" id=\"clipf16dday\"><rect x=\"0\" y=\"40\" width=\"1200\" height=\"410\"/></clipPath><clipPath class=\"axesclip\" id=\"clipf16ddaxy\"><rect x=\"59\" y=\"40\" width=\"1131\" height=\"410\"/></clipPath></g><g class=\"gradients\"/><g class=\"patterns\"/></defs><g class=\"bglayer\"/><g class=\"layer-below\"><g class=\"imagelayer\"/><g class=\"shapelayer\"/></g><g class=\"cartesianlayer\"><g class=\"subplot xy\"><g class=\"layer-subplot\"><g class=\"shapelayer\"/><g class=\"imagelayer\"/></g><g class=\"minor-gridlayer\"><g class=\"x\"/><g class=\"y\"/></g><g class=\"gridlayer\"><g class=\"x\"/><g class=\"y\"><path class=\"ygrid crisp\" transform=\"translate(0,391.69)\" d=\"M59,0h1131\" style=\"stroke: rgb(235, 240, 248); stroke-opacity: 1; stroke-width: 1px;\"/><path class=\"ygrid crisp\" transform=\"translate(0,333.38)\" d=\"M59,0h1131\" style=\"stroke: rgb(235, 240, 248); stroke-opacity: 1; stroke-width: 1px;\"/><path class=\"ygrid crisp\" transform=\"translate(0,275.07)\" d=\"M59,0h1131\" style=\"stroke: rgb(235, 240, 248); stroke-opacity: 1; stroke-width: 1px;\"/><path class=\"ygrid crisp\" transform=\"translate(0,216.77)\" d=\"M59,0h1131\" style=\"stroke: rgb(235, 240, 248); stroke-opacity: 1; stroke-width: 1px;\"/><path class=\"ygrid crisp\" transform=\"translate(0,158.45999999999998)\" d=\"M59,0h1131\" style=\"stroke: rgb(235, 240, 248); stroke-opacity: 1; stroke-width: 1px;\"/><path class=\"ygrid crisp\" transform=\"translate(0,100.15)\" d=\"M59,0h1131\" style=\"stroke: rgb(235, 240, 248); stroke-opacity: 1; stroke-width: 1px;\"/><path class=\"ygrid crisp\" transform=\"translate(0,41.84)\" d=\"M59,0h1131\" style=\"stroke: rgb(235, 240, 248); stroke-opacity: 1; stroke-width: 1px;\"/></g></g><g class=\"zerolinelayer\"><path class=\"yzl zl crisp\" transform=\"translate(0,450)\" d=\"M59,0h1131\" style=\"stroke: rgb(235, 240, 248); stroke-opacity: 1; stroke-width: 2px;\"/></g><g class=\"layer-between\"><g class=\"shapelayer\"/><g class=\"imagelayer\"/></g><path class=\"xlines-below\"/><path class=\"ylines-below\"/><g class=\"overlines-below\"/><g class=\"xaxislayer-below\"/><g class=\"yaxislayer-below\"/><g class=\"overaxes-below\"/><g class=\"plot\" transform=\"translate(59,40)\" clip-path=\"url(#clipf16ddaxyplot)\"><g class=\"barlayer mlayer\"><g class=\"trace bars\" style=\"opacity: 1;\"><g class=\"points\"><g class=\"point\"><path d=\"M19.81,410V95.13H24.92V410Z\" style=\"vector-effect: none; opacity: 1; stroke-width: 0.5px; fill: rgb(99, 110, 250); fill-opacity: 1; stroke: rgb(255, 255, 255); stroke-opacity: 1;\"/></g><g class=\"point\"><path d=\"M1035.79,410V188.43H1040.9V410Z\" style=\"vector-effect: none; opacity: 1; stroke-width: 0.5px; fill: rgb(99, 110, 250); fill-opacity: 1; stroke: rgb(255, 255, 255); stroke-opacity: 1;\"/></g><g class=\"point\"><path d=\"M1054.96,410V191.34H1060.07V410Z\" style=\"vector-effect: none; opacity: 1; stroke-width: 0.5px; fill: rgb(99, 110, 250); fill-opacity: 1; stroke: rgb(255, 255, 255); stroke-opacity: 1;\"/></g><g class=\"point\"><path d=\"M1061.35,410V217.58H1066.46V410Z\" style=\"vector-effect: none; opacity: 1; stroke-width: 0.5px; fill: rgb(99, 110, 250); fill-opacity: 1; stroke: rgb(255, 255, 255); stroke-opacity: 1;\"/></g><g class=\"point\"><path d=\"M1029.4,410V217.58H1034.51V410Z\" style=\"vector-effect: none; opacity: 1; stroke-width: 0.5px; fill: rgb(99, 110, 250); fill-opacity: 1; stroke: rgb(255, 255, 255); stroke-opacity: 1;\"/></g><g class=\"point\"><path d=\"M0.64,410V218.17H5.75V410Z\" style=\"vector-effect: none; opacity: 1; stroke-width: 0.5px; fill: rgb(99, 110, 250); fill-opacity: 1; stroke: rgb(255, 255, 255); stroke-opacity: 1;\"/></g><g class=\"point\"><path d=\"M703.52,410V218.17H708.63V410Z\" style=\"vector-effect: none; opacity: 1; stroke-width: 0.5px; fill: rgb(99, 110, 250); fill-opacity: 1; stroke: rgb(255, 255, 255); stroke-opacity: 1;\"/></g><g class=\"point\"><path d=\"M0.64,218.17V26.33H5.75V218.17Z\" style=\"vector-effect: none; opacity: 1; stroke-width: 0.5px; fill: rgb(99, 110, 250); fill-opacity: 1; stroke: rgb(255, 255, 255); stroke-opacity: 1;\"/></g><g class=\"point\"><path d=\"M13.42,410V218.75H18.53V410Z\" style=\"vector-effect: none; opacity: 1; stroke-width: 0.5px; fill: rgb(99, 110, 250); fill-opacity: 1; stroke: rgb(255, 255, 255); stroke-opacity: 1;\"/></g><g class=\"point\"><path d=\"M96.49,410V232.74H101.6V410Z\" style=\"vector-effect: none; opacity: 1; stroke-width: 0.5px; fill: rgb(99, 110, 250); fill-opacity: 1; stroke: rgb(255, 255, 255); stroke-opacity: 1;\"/></g><g class=\"point\"><path d=\"M594.89,410V241.49H600.01V410Z\" style=\"vector-effect: none; opacity: 1; stroke-width: 0.5px; fill: rgb(99, 110, 250); fill-opacity: 1; stroke: rgb(255, 255, 255); stroke-opacity: 1;\"/></g><g class=\"point\"><path d=\"M269.01,410V248.49H274.12V410Z\" style=\"vector-effect: none; opacity: 1; stroke-width: 0.5px; fill: rgb(99, 110, 250); fill-opacity: 1; stroke: rgb(255, 255, 255); stroke-opacity: 1;\"/></g><g class=\"point\"><path d=\"M1080.52,410V257.82H1085.63V410Z\" style=\"vector-effect: none; opacity: 1; stroke-width: 0.5px; fill: rgb(99, 110, 250); fill-opacity: 1; stroke: rgb(255, 255, 255); stroke-opacity: 1;\"/></g><g class=\"point\"><path d=\"M652.4,410V293.38H657.51V410Z\" style=\"vector-effect: none; opacity: 1; stroke-width: 0.5px; fill: rgb(99, 110, 250); fill-opacity: 1; stroke: rgb(255, 255, 255); stroke-opacity: 1;\"/></g><g class=\"point\"><path d=\"M447.93,410V303.88H453.04V410Z\" style=\"vector-effect: none; opacity: 1; stroke-width: 0.5px; fill: rgb(99, 110, 250); fill-opacity: 1; stroke: rgb(255, 255, 255); stroke-opacity: 1;\"/></g><g class=\"point\"><path d=\"M1093.3,410V307.38H1098.41V410Z\" style=\"vector-effect: none; opacity: 1; stroke-width: 0.5px; fill: rgb(99, 110, 250); fill-opacity: 1; stroke: rgb(255, 255, 255); stroke-opacity: 1;\"/></g><g class=\"point\"><path d=\"M939.94,410V318.46H945.06V410Z\" style=\"vector-effect: none; opacity: 1; stroke-width: 0.5px; fill: rgb(99, 110, 250); fill-opacity: 1; stroke: rgb(255, 255, 255); stroke-opacity: 1;\"/></g><g class=\"point\"><path d=\"M991.06,410V324.87H996.17V410Z\" style=\"vector-effect: none; opacity: 1; stroke-width: 0.5px; fill: rgb(99, 110, 250); fill-opacity: 1; stroke: rgb(255, 255, 255); stroke-opacity: 1;\"/></g><g class=\"point\"><path d=\"M122.05,410V327.79H127.16V410Z\" style=\"vector-effect: none; opacity: 1; stroke-width: 0.5px; fill: rgb(99, 110, 250); fill-opacity: 1; stroke: rgb(255, 255, 255); stroke-opacity: 1;\"/></g><g class=\"point\"><path d=\"M754.64,410V327.79H759.75V410Z\" style=\"vector-effect: none; opacity: 1; stroke-width: 0.5px; fill: rgb(99, 110, 250); fill-opacity: 1; stroke: rgb(255, 255, 255); stroke-opacity: 1;\"/></g><g class=\"point\"><path d=\"M294.57,410V331.28H299.68V410Z\" style=\"vector-effect: none; opacity: 1; stroke-width: 0.5px; fill: rgb(99, 110, 250); fill-opacity: 1; stroke: rgb(255, 255, 255); stroke-opacity: 1;\"/></g><g class=\"point\"><path d=\"M269.01,248.49V178.52H274.12V248.49Z\" style=\"vector-effect: none; opacity: 1; stroke-width: 0.5px; fill: rgb(99, 110, 250); fill-opacity: 1; stroke: rgb(255, 255, 255); stroke-opacity: 1;\"/></g><g class=\"point\"><path d=\"M511.83,410V347.03H516.94V410Z\" style=\"vector-effect: none; opacity: 1; stroke-width: 0.5px; fill: rgb(99, 110, 250); fill-opacity: 1; stroke: rgb(255, 255, 255); stroke-opacity: 1;\"/></g><g class=\"point\"><path d=\"M582.11,410V347.61H587.23V410Z\" style=\"vector-effect: none; opacity: 1; stroke-width: 0.5px; fill: rgb(99, 110, 250); fill-opacity: 1; stroke: rgb(255, 255, 255); stroke-opacity: 1;\"/></g><g class=\"point\"><path d=\"M543.77,410V347.61H548.89V410Z\" style=\"vector-effect: none; opacity: 1; stroke-width: 0.5px; fill: rgb(99, 110, 250); fill-opacity: 1; stroke: rgb(255, 255, 255); stroke-opacity: 1;\"/></g><g class=\"point\"><path d=\"M556.55,410V347.61H561.67V410Z\" style=\"vector-effect: none; opacity: 1; stroke-width: 0.5px; fill: rgb(99, 110, 250); fill-opacity: 1; stroke: rgb(255, 255, 255); stroke-opacity: 1;\"/></g><g class=\"point\"><path d=\"M479.88,410V347.61H484.99V410Z\" style=\"vector-effect: none; opacity: 1; stroke-width: 0.5px; fill: rgb(99, 110, 250); fill-opacity: 1; stroke: rgb(255, 255, 255); stroke-opacity: 1;\"/></g><g class=\"point\"><path d=\"M19.81,95.13V32.74H24.92V95.13Z\" style=\"vector-effect: none; opacity: 1; stroke-width: 0.5px; fill: rgb(99, 110, 250); fill-opacity: 1; stroke: rgb(255, 255, 255); stroke-opacity: 1;\"/></g><g class=\"point\"><path d=\"M313.74,410V347.61H318.85V410Z\" style=\"vector-effect: none; opacity: 1; stroke-width: 0.5px; fill: rgb(99, 110, 250); fill-opacity: 1; stroke: rgb(255, 255, 255); stroke-opacity: 1;\"/></g><g class=\"point\"><path d=\"M422.37,410V347.61H427.48V410Z\" style=\"vector-effect: none; opacity: 1; stroke-width: 0.5px; fill: rgb(99, 110, 250); fill-opacity: 1; stroke: rgb(255, 255, 255); stroke-opacity: 1;\"/></g><g class=\"point\"><path d=\"M652.4,293.38V235.07H657.51V293.38Z\" style=\"vector-effect: none; opacity: 1; stroke-width: 0.5px; fill: rgb(99, 110, 250); fill-opacity: 1; stroke: rgb(255, 255, 255); stroke-opacity: 1;\"/></g><g class=\"point\"><path d=\"M1003.84,410V354.02H1008.95V410Z\" style=\"vector-effect: none; opacity: 1; stroke-width: 0.5px; fill: rgb(99, 110, 250); fill-opacity: 1; stroke: rgb(255, 255, 255); stroke-opacity: 1;\"/></g><g class=\"point\"><path d=\"M658.79,410V357.52H663.9V410Z\" style=\"vector-effect: none; opacity: 1; stroke-width: 0.5px; fill: rgb(99, 110, 250); fill-opacity: 1; stroke: rgb(255, 255, 255); stroke-opacity: 1;\"/></g><g class=\"point\"><path d=\"M294.57,331.28V284.64H299.68V331.28Z\" style=\"vector-effect: none; opacity: 1; stroke-width: 0.5px; fill: rgb(99, 110, 250); fill-opacity: 1; stroke: rgb(255, 255, 255); stroke-opacity: 1;\"/></g><g class=\"point\"><path d=\"M269.01,178.52V131.87H274.12V178.52Z\" style=\"vector-effect: none; opacity: 1; stroke-width: 0.5px; fill: rgb(99, 110, 250); fill-opacity: 1; stroke: rgb(255, 255, 255); stroke-opacity: 1;\"/></g><g class=\"point\"><path d=\"M799.37,410V364.52H804.48V410Z\" style=\"vector-effect: none; opacity: 1; stroke-width: 0.5px; fill: rgb(99, 110, 250); fill-opacity: 1; stroke: rgb(255, 255, 255); stroke-opacity: 1;\"/></g><g class=\"point\"><path d=\"M991.06,324.87V280.56H996.17V324.87Z\" style=\"vector-effect: none; opacity: 1; stroke-width: 0.5px; fill: rgb(99, 110, 250); fill-opacity: 1; stroke: rgb(255, 255, 255); stroke-opacity: 1;\"/></g><g class=\"point\"><path d=\"M102.88,410V368.6H107.99V410Z\" style=\"vector-effect: none; opacity: 1; stroke-width: 0.5px; fill: rgb(99, 110, 250); fill-opacity: 1; stroke: rgb(255, 255, 255); stroke-opacity: 1;\"/></g><g class=\"point\"><path d=\"M102.88,368.6V329.53H107.99V368.6Z\" style=\"vector-effect: none; opacity: 1; stroke-width: 0.5px; fill: rgb(99, 110, 250); fill-opacity: 1; stroke: rgb(255, 255, 255); stroke-opacity: 1;\"/></g><g class=\"point\"><path d=\"M677.96,410V372.68H683.07V410Z\" style=\"vector-effect: none; opacity: 1; stroke-width: 0.5px; fill: rgb(99, 110, 250); fill-opacity: 1; stroke: rgb(255, 255, 255); stroke-opacity: 1;\"/></g><g class=\"point\"><path d=\"M863.27,410V375.01H868.38V410Z\" style=\"vector-effect: none; opacity: 1; stroke-width: 0.5px; fill: rgb(99, 110, 250); fill-opacity: 1; stroke: rgb(255, 255, 255); stroke-opacity: 1;\"/></g><g class=\"point\"><path d=\"M269.01,131.87V97.47H274.12V131.87Z\" style=\"vector-effect: none; opacity: 1; stroke-width: 0.5px; fill: rgb(99, 110, 250); fill-opacity: 1; stroke: rgb(255, 255, 255); stroke-opacity: 1;\"/></g><g class=\"point\"><path d=\"M754.64,327.79V295.72H759.75V327.79Z\" style=\"vector-effect: none; opacity: 1; stroke-width: 0.5px; fill: rgb(99, 110, 250); fill-opacity: 1; stroke: rgb(255, 255, 255); stroke-opacity: 1;\"/></g><g class=\"point\"><path d=\"M364.86,410V380.26H369.97V410Z\" style=\"vector-effect: none; opacity: 1; stroke-width: 0.5px; fill: rgb(99, 110, 250); fill-opacity: 1; stroke: rgb(255, 255, 255); stroke-opacity: 1;\"/></g><g class=\"point\"><path d=\"M607.67,410V380.85H612.78V410Z\" style=\"vector-effect: none; opacity: 1; stroke-width: 0.5px; fill: rgb(99, 110, 250); fill-opacity: 1; stroke: rgb(255, 255, 255); stroke-opacity: 1;\"/></g><g class=\"point\"><path d=\"M582.11,347.61V318.46H587.23V347.61Z\" style=\"vector-effect: none; opacity: 1; stroke-width: 0.5px; fill: rgb(99, 110, 250); fill-opacity: 1; stroke: rgb(255, 255, 255); stroke-opacity: 1;\"/></g><g class=\"point\"><path d=\"M454.32,410V382.01H459.43V410Z\" style=\"vector-effect: none; opacity: 1; stroke-width: 0.5px; fill: rgb(99, 110, 250); fill-opacity: 1; stroke: rgb(255, 255, 255); stroke-opacity: 1;\"/></g><g class=\"point\"><path d=\"M1003.84,354.02V326.04H1008.95V354.02Z\" style=\"vector-effect: none; opacity: 1; stroke-width: 0.5px; fill: rgb(99, 110, 250); fill-opacity: 1; stroke: rgb(255, 255, 255); stroke-opacity: 1;\"/></g><g class=\"point\"><path d=\"M122.05,327.79V300.96H127.16V327.79Z\" style=\"vector-effect: none; opacity: 1; stroke-width: 0.5px; fill: rgb(99, 110, 250); fill-opacity: 1; stroke: rgb(255, 255, 255); stroke-opacity: 1;\"/></g><g class=\"point\"><path d=\"M799.37,364.52V337.7H804.48V364.52Z\" style=\"vector-effect: none; opacity: 1; stroke-width: 0.5px; fill: rgb(99, 110, 250); fill-opacity: 1; stroke: rgb(255, 255, 255); stroke-opacity: 1;\"/></g><g class=\"point\"><path d=\"M1074.13,410V384.34H1079.24V410Z\" style=\"vector-effect: none; opacity: 1; stroke-width: 0.5px; fill: rgb(99, 110, 250); fill-opacity: 1; stroke: rgb(255, 255, 255); stroke-opacity: 1;\"/></g><g class=\"point\"><path d=\"M671.57,410V385.51H676.68V410Z\" style=\"vector-effect: none; opacity: 1; stroke-width: 0.5px; fill: rgb(99, 110, 250); fill-opacity: 1; stroke: rgb(255, 255, 255); stroke-opacity: 1;\"/></g><g class=\"point\"><path d=\"M863.27,375.01V351.69H868.38V375.01Z\" style=\"vector-effect: none; opacity: 1; stroke-width: 0.5px; fill: rgb(99, 110, 250); fill-opacity: 1; stroke: rgb(255, 255, 255); stroke-opacity: 1;\"/></g><g class=\"point\"><path d=\"M735.47,410V386.68H740.58V410Z\" style=\"vector-effect: none; opacity: 1; stroke-width: 0.5px; fill: rgb(99, 110, 250); fill-opacity: 1; stroke: rgb(255, 255, 255); stroke-opacity: 1;\"/></g><g class=\"point\"><path d=\"M7.03,410V386.68H12.14V410Z\" style=\"vector-effect: none; opacity: 1; stroke-width: 0.5px; fill: rgb(99, 110, 250); fill-opacity: 1; stroke: rgb(255, 255, 255); stroke-opacity: 1;\"/></g><g class=\"point\"><path d=\"M102.88,329.53V306.21H107.99V329.53Z\" style=\"vector-effect: none; opacity: 1; stroke-width: 0.5px; fill: rgb(99, 110, 250); fill-opacity: 1; stroke: rgb(255, 255, 255); stroke-opacity: 1;\"/></g><g class=\"point\"><path d=\"M332.91,410V386.68H338.02V410Z\" style=\"vector-effect: none; opacity: 1; stroke-width: 0.5px; fill: rgb(99, 110, 250); fill-opacity: 1; stroke: rgb(255, 255, 255); stroke-opacity: 1;\"/></g><g class=\"point\"><path d=\"M882.44,410V387.26H887.55V410Z\" style=\"vector-effect: none; opacity: 1; stroke-width: 0.5px; fill: rgb(99, 110, 250); fill-opacity: 1; stroke: rgb(255, 255, 255); stroke-opacity: 1;\"/></g><g class=\"point\"><path d=\"M13.42,218.75V197.17H18.53V218.75Z\" style=\"vector-effect: none; opacity: 1; stroke-width: 0.5px; fill: rgb(99, 110, 250); fill-opacity: 1; stroke: rgb(255, 255, 255); stroke-opacity: 1;\"/></g><g class=\"point\"><path d=\"M658.79,357.52V336.53H663.9V357.52Z\" style=\"vector-effect: none; opacity: 1; stroke-width: 0.5px; fill: rgb(99, 110, 250); fill-opacity: 1; stroke: rgb(255, 255, 255); stroke-opacity: 1;\"/></g><g class=\"point\"><path d=\"M518.22,410V389.01H523.33V410Z\" style=\"vector-effect: none; opacity: 1; stroke-width: 0.5px; fill: rgb(99, 110, 250); fill-opacity: 1; stroke: rgb(255, 255, 255); stroke-opacity: 1;\"/></g><g class=\"point\"><path d=\"M269.01,97.47V76.48H274.12V97.47Z\" style=\"vector-effect: none; opacity: 1; stroke-width: 0.5px; fill: rgb(99, 110, 250); fill-opacity: 1; stroke: rgb(255, 255, 255); stroke-opacity: 1;\"/></g><g class=\"point\"><path d=\"M269.01,76.48V55.49H274.12V76.48Z\" style=\"vector-effect: none; opacity: 1; stroke-width: 0.5px; fill: rgb(99, 110, 250); fill-opacity: 1; stroke: rgb(255, 255, 255); stroke-opacity: 1;\"/></g><g class=\"point\"><path d=\"M7.03,386.68V365.69H12.14V386.68Z\" style=\"vector-effect: none; opacity: 1; stroke-width: 0.5px; fill: rgb(99, 110, 250); fill-opacity: 1; stroke: rgb(255, 255, 255); stroke-opacity: 1;\"/></g><g class=\"point\"><path d=\"M1054.96,191.34V170.94H1060.07V191.34Z\" style=\"vector-effect: none; opacity: 1; stroke-width: 0.5px; fill: rgb(99, 110, 250); fill-opacity: 1; stroke: rgb(255, 255, 255); stroke-opacity: 1;\"/></g><g class=\"point\"><path d=\"M735.47,386.68V366.85H740.58V386.68Z\" style=\"vector-effect: none; opacity: 1; stroke-width: 0.5px; fill: rgb(99, 110, 250); fill-opacity: 1; stroke: rgb(255, 255, 255); stroke-opacity: 1;\"/></g><g class=\"point\"><path d=\"M192.33,410V390.18H197.45V410Z\" style=\"vector-effect: none; opacity: 1; stroke-width: 0.5px; fill: rgb(99, 110, 250); fill-opacity: 1; stroke: rgb(255, 255, 255); stroke-opacity: 1;\"/></g><g class=\"point\"><path d=\"M7.03,365.69V346.44H12.14V365.69Z\" style=\"vector-effect: none; opacity: 1; stroke-width: 0.5px; fill: rgb(99, 110, 250); fill-opacity: 1; stroke: rgb(255, 255, 255); stroke-opacity: 1;\"/></g><g class=\"point\"><path d=\"M735.47,366.85V348.19H740.58V366.85Z\" style=\"vector-effect: none; opacity: 1; stroke-width: 0.5px; fill: rgb(99, 110, 250); fill-opacity: 1; stroke: rgb(255, 255, 255); stroke-opacity: 1;\"/></g><g class=\"point\"><path d=\"M607.67,380.85V362.19H612.78V380.85Z\" style=\"vector-effect: none; opacity: 1; stroke-width: 0.5px; fill: rgb(99, 110, 250); fill-opacity: 1; stroke: rgb(255, 255, 255); stroke-opacity: 1;\"/></g><g class=\"point\"><path d=\"M269.01,55.49V37.41H274.12V55.49Z\" style=\"vector-effect: none; opacity: 1; stroke-width: 0.5px; fill: rgb(99, 110, 250); fill-opacity: 1; stroke: rgb(255, 255, 255); stroke-opacity: 1;\"/></g><g class=\"point\"><path d=\"M805.76,410V391.92H810.87V410Z\" style=\"vector-effect: none; opacity: 1; stroke-width: 0.5px; fill: rgb(99, 110, 250); fill-opacity: 1; stroke: rgb(255, 255, 255); stroke-opacity: 1;\"/></g><g class=\"point\"><path d=\"M677.96,372.68V355.19H683.07V372.68Z\" style=\"vector-effect: none; opacity: 1; stroke-width: 0.5px; fill: rgb(99, 110, 250); fill-opacity: 1; stroke: rgb(255, 255, 255); stroke-opacity: 1;\"/></g><g class=\"point\"><path d=\"M269.01,37.41V20.5H274.12V37.41Z\" style=\"vector-effect: none; opacity: 1; stroke-width: 0.5px; fill: rgb(99, 110, 250); fill-opacity: 1; stroke: rgb(255, 255, 255); stroke-opacity: 1;\"/></g><g class=\"point\"><path d=\"M658.79,336.53V319.62H663.9V336.53Z\" style=\"vector-effect: none; opacity: 1; stroke-width: 0.5px; fill: rgb(99, 110, 250); fill-opacity: 1; stroke: rgb(255, 255, 255); stroke-opacity: 1;\"/></g><g class=\"point\"><path d=\"M952.72,410V393.09H957.84V410Z\" style=\"vector-effect: none; opacity: 1; stroke-width: 0.5px; fill: rgb(99, 110, 250); fill-opacity: 1; stroke: rgb(255, 255, 255); stroke-opacity: 1;\"/></g><g class=\"point\"><path d=\"M799.37,337.7V321.37H804.48V337.7Z\" style=\"vector-effect: none; opacity: 1; stroke-width: 0.5px; fill: rgb(99, 110, 250); fill-opacity: 1; stroke: rgb(255, 255, 255); stroke-opacity: 1;\"/></g><g class=\"point\"><path d=\"M856.88,410V393.67H861.99V410Z\" style=\"vector-effect: none; opacity: 1; stroke-width: 0.5px; fill: rgb(99, 110, 250); fill-opacity: 1; stroke: rgb(255, 255, 255); stroke-opacity: 1;\"/></g><g class=\"point\"><path d=\"M96.49,232.74V217H101.6V232.74Z\" style=\"vector-effect: none; opacity: 1; stroke-width: 0.5px; fill: rgb(99, 110, 250); fill-opacity: 1; stroke: rgb(255, 255, 255); stroke-opacity: 1;\"/></g><g class=\"point\"><path d=\"M984.67,410V394.26H989.78V410Z\" style=\"vector-effect: none; opacity: 1; stroke-width: 0.5px; fill: rgb(99, 110, 250); fill-opacity: 1; stroke: rgb(255, 255, 255); stroke-opacity: 1;\"/></g><g class=\"point\"><path d=\"M658.79,319.62V303.88H663.9V319.62Z\" style=\"vector-effect: none; opacity: 1; stroke-width: 0.5px; fill: rgb(99, 110, 250); fill-opacity: 1; stroke: rgb(255, 255, 255); stroke-opacity: 1;\"/></g><g class=\"point\"><path d=\"M812.15,410V394.26H817.26V410Z\" style=\"vector-effect: none; opacity: 1; stroke-width: 0.5px; fill: rgb(99, 110, 250); fill-opacity: 1; stroke: rgb(255, 255, 255); stroke-opacity: 1;\"/></g><g class=\"point\"><path d=\"M1125.25,410V394.26H1130.36V410Z\" style=\"vector-effect: none; opacity: 1; stroke-width: 0.5px; fill: rgb(99, 110, 250); fill-opacity: 1; stroke: rgb(255, 255, 255); stroke-opacity: 1;\"/></g><g class=\"point\"><path d=\"M122.05,300.96V285.22H127.16V300.96Z\" style=\"vector-effect: none; opacity: 1; stroke-width: 0.5px; fill: rgb(99, 110, 250); fill-opacity: 1; stroke: rgb(255, 255, 255); stroke-opacity: 1;\"/></g><g class=\"point\"><path d=\"M658.79,303.88V288.72H663.9V303.88Z\" style=\"vector-effect: none; opacity: 1; stroke-width: 0.5px; fill: rgb(99, 110, 250); fill-opacity: 1; stroke: rgb(255, 255, 255); stroke-opacity: 1;\"/></g><g class=\"point\"><path d=\"M805.76,391.92V376.76H810.87V391.92Z\" style=\"vector-effect: none; opacity: 1; stroke-width: 0.5px; fill: rgb(99, 110, 250); fill-opacity: 1; stroke: rgb(255, 255, 255); stroke-opacity: 1;\"/></g><g class=\"point\"><path d=\"M805.76,376.76V361.6H810.87V376.76Z\" style=\"vector-effect: none; opacity: 1; stroke-width: 0.5px; fill: rgb(99, 110, 250); fill-opacity: 1; stroke: rgb(255, 255, 255); stroke-opacity: 1;\"/></g><g class=\"point\"><path d=\"M447.93,303.88V289.3H453.04V303.88Z\" style=\"vector-effect: none; opacity: 1; stroke-width: 0.5px; fill: rgb(99, 110, 250); fill-opacity: 1; stroke: rgb(255, 255, 255); stroke-opacity: 1;\"/></g><g class=\"point\"><path d=\"M991.06,280.56V265.98H996.17V280.56Z\" style=\"vector-effect: none; opacity: 1; stroke-width: 0.5px; fill: rgb(99, 110, 250); fill-opacity: 1; stroke: rgb(255, 255, 255); stroke-opacity: 1;\"/></g><g class=\"point\"><path d=\"M703.52,218.17V204.17H708.63V218.17Z\" style=\"vector-effect: none; opacity: 1; stroke-width: 0.5px; fill: rgb(99, 110, 250); fill-opacity: 1; stroke: rgb(255, 255, 255); stroke-opacity: 1;\"/></g><g class=\"point\"><path d=\"M991.06,265.98V251.98H996.17V265.98Z\" style=\"vector-effect: none; opacity: 1; stroke-width: 0.5px; fill: rgb(99, 110, 250); fill-opacity: 1; stroke: rgb(255, 255, 255); stroke-opacity: 1;\"/></g><g class=\"point\"><path d=\"M447.93,289.3V275.31H453.04V289.3Z\" style=\"vector-effect: none; opacity: 1; stroke-width: 0.5px; fill: rgb(99, 110, 250); fill-opacity: 1; stroke: rgb(255, 255, 255); stroke-opacity: 1;\"/></g><g class=\"point\"><path d=\"M1074.13,384.34V370.35H1079.24V384.34Z\" style=\"vector-effect: none; opacity: 1; stroke-width: 0.5px; fill: rgb(99, 110, 250); fill-opacity: 1; stroke: rgb(255, 255, 255); stroke-opacity: 1;\"/></g><g class=\"point\"><path d=\"M1074.13,370.35V356.36H1079.24V370.35Z\" style=\"vector-effect: none; opacity: 1; stroke-width: 0.5px; fill: rgb(99, 110, 250); fill-opacity: 1; stroke: rgb(255, 255, 255); stroke-opacity: 1;\"/></g><g class=\"point\"><path d=\"M1003.84,326.04V312.04H1008.95V326.04Z\" style=\"vector-effect: none; opacity: 1; stroke-width: 0.5px; fill: rgb(99, 110, 250); fill-opacity: 1; stroke: rgb(255, 255, 255); stroke-opacity: 1;\"/></g><g class=\"point\"><path d=\"M677.96,355.19V341.2H683.07V355.19Z\" style=\"vector-effect: none; opacity: 1; stroke-width: 0.5px; fill: rgb(99, 110, 250); fill-opacity: 1; stroke: rgb(255, 255, 255); stroke-opacity: 1;\"/></g><g class=\"point\"><path d=\"M288.18,410V396.01H293.29V410Z\" style=\"vector-effect: none; opacity: 1; stroke-width: 0.5px; fill: rgb(99, 110, 250); fill-opacity: 1; stroke: rgb(255, 255, 255); stroke-opacity: 1;\"/></g><g class=\"point\"><path d=\"M422.37,347.61V333.62H427.48V347.61Z\" style=\"vector-effect: none; opacity: 1; stroke-width: 0.5px; fill: rgb(99, 110, 250); fill-opacity: 1; stroke: rgb(255, 255, 255); stroke-opacity: 1;\"/></g><g class=\"point\"><path d=\"M888.83,410V396.01H893.94V410Z\" style=\"vector-effect: none; opacity: 1; stroke-width: 0.5px; fill: rgb(99, 110, 250); fill-opacity: 1; stroke: rgb(255, 255, 255); stroke-opacity: 1;\"/></g><g class=\"point\"><path d=\"M281.79,410V396.01H286.9V410Z\" style=\"vector-effect: none; opacity: 1; stroke-width: 0.5px; fill: rgb(99, 110, 250); fill-opacity: 1; stroke: rgb(255, 255, 255); stroke-opacity: 1;\"/></g></g></g></g></g><g class=\"overplot\"/><path class=\"xlines-above crisp\" d=\"M0,0\" style=\"fill: none;\"/><path class=\"ylines-above crisp\" d=\"M0,0\" style=\"fill: none;\"/><g class=\"overlines-above\"/><g class=\"xaxislayer-above\"><g class=\"xtick\"><text text-anchor=\"middle\" x=\"0\" y=\"463\" transform=\"translate(113.31,0)\" style=\"font-family: 'Open Sans', verdana, arial, sans-serif; font-size: 12px; fill: rgb(42, 63, 95); fill-opacity: 1; white-space: pre; opacity: 1;\">Nov 2023</text></g><g class=\"xtick\"><text text-anchor=\"middle\" x=\"0\" y=\"463\" style=\"font-family: 'Open Sans', verdana, arial, sans-serif; font-size: 12px; fill: rgb(42, 63, 95); fill-opacity: 1; white-space: pre; opacity: 1;\" transform=\"translate(305.01,0)\">Dec 2023</text></g><g class=\"xtick\"><text text-anchor=\"middle\" x=\"0\" y=\"463\" style=\"font-family: 'Open Sans', verdana, arial, sans-serif; font-size: 12px; fill: rgb(42, 63, 95); fill-opacity: 1; white-space: pre; opacity: 1;\" transform=\"translate(503.09,0)\">Jan 2024</text></g><g class=\"xtick\"><text text-anchor=\"middle\" x=\"0\" y=\"463\" style=\"font-family: 'Open Sans', verdana, arial, sans-serif; font-size: 12px; fill: rgb(42, 63, 95); fill-opacity: 1; white-space: pre; opacity: 1;\" transform=\"translate(701.18,0)\">Feb 2024</text></g><g class=\"xtick\"><text text-anchor=\"middle\" x=\"0\" y=\"463\" style=\"font-family: 'Open Sans', verdana, arial, sans-serif; font-size: 12px; fill: rgb(42, 63, 95); fill-opacity: 1; white-space: pre; opacity: 1;\" transform=\"translate(886.48,0)\">Mar 2024</text></g><g class=\"xtick\"><text text-anchor=\"middle\" x=\"0\" y=\"463\" style=\"font-family: 'Open Sans', verdana, arial, sans-serif; font-size: 12px; fill: rgb(42, 63, 95); fill-opacity: 1; white-space: pre; opacity: 1;\" transform=\"translate(1084.57,0)\">Apr 2024</text></g></g><g class=\"yaxislayer-above\"><g class=\"ytick\"><text text-anchor=\"end\" x=\"58\" y=\"4.199999999999999\" transform=\"translate(0,450)\" style=\"font-family: 'Open Sans', verdana, arial, sans-serif; font-size: 12px; fill: rgb(42, 63, 95); fill-opacity: 1; white-space: pre; opacity: 1;\">0</text></g><g class=\"ytick\"><text text-anchor=\"end\" x=\"58\" y=\"4.199999999999999\" style=\"font-family: 'Open Sans', verdana, arial, sans-serif; font-size: 12px; fill: rgb(42, 63, 95); fill-opacity: 1; white-space: pre; opacity: 1;\" transform=\"translate(0,391.69)\">100</text></g><g class=\"ytick\"><text text-anchor=\"end\" x=\"58\" y=\"4.199999999999999\" style=\"font-family: 'Open Sans', verdana, arial, sans-serif; font-size: 12px; fill: rgb(42, 63, 95); fill-opacity: 1; white-space: pre; opacity: 1;\" transform=\"translate(0,333.38)\">200</text></g><g class=\"ytick\"><text text-anchor=\"end\" x=\"58\" y=\"4.199999999999999\" style=\"font-family: 'Open Sans', verdana, arial, sans-serif; font-size: 12px; fill: rgb(42, 63, 95); fill-opacity: 1; white-space: pre; opacity: 1;\" transform=\"translate(0,275.07)\">300</text></g><g class=\"ytick\"><text text-anchor=\"end\" x=\"58\" y=\"4.199999999999999\" style=\"font-family: 'Open Sans', verdana, arial, sans-serif; font-size: 12px; fill: rgb(42, 63, 95); fill-opacity: 1; white-space: pre; opacity: 1;\" transform=\"translate(0,216.77)\">400</text></g><g class=\"ytick\"><text text-anchor=\"end\" x=\"58\" y=\"4.199999999999999\" style=\"font-family: 'Open Sans', verdana, arial, sans-serif; font-size: 12px; fill: rgb(42, 63, 95); fill-opacity: 1; white-space: pre; opacity: 1;\" transform=\"translate(0,158.45999999999998)\">500</text></g><g class=\"ytick\"><text text-anchor=\"end\" x=\"58\" y=\"4.199999999999999\" style=\"font-family: 'Open Sans', verdana, arial, sans-serif; font-size: 12px; fill: rgb(42, 63, 95); fill-opacity: 1; white-space: pre; opacity: 1;\" transform=\"translate(0,100.15)\">600</text></g><g class=\"ytick\"><text text-anchor=\"end\" x=\"58\" y=\"4.199999999999999\" style=\"font-family: 'Open Sans', verdana, arial, sans-serif; font-size: 12px; fill: rgb(42, 63, 95); fill-opacity: 1; white-space: pre; opacity: 1;\" transform=\"translate(0,41.84)\">700</text></g></g><g class=\"overaxes-above\"/></g></g><g class=\"polarlayer\"/><g class=\"smithlayer\"/><g class=\"ternarylayer\"/><g class=\"geolayer\"/><g class=\"funnelarealayer\"/><g class=\"pielayer\"/><g class=\"iciclelayer\"/><g class=\"treemaplayer\"/><g class=\"sunburstlayer\"/><g class=\"glimages\"/><defs id=\"topdefs-f16dda\"><g class=\"clips\"/></defs><g class=\"layer-above\"><g class=\"imagelayer\"/><g class=\"shapelayer\"/></g><g class=\"infolayer\"><g class=\"g-gtitle\"><text class=\"gtitle\" x=\"60\" y=\"20\" text-anchor=\"start\" dy=\"0em\" style=\"font-family: 'Open Sans', verdana, arial, sans-serif; font-size: 17px; fill: rgb(42, 63, 95); opacity: 1; white-space: pre;\">Top cluster by number of failed actions</text></g><g class=\"g-xtitle\"><text class=\"xtitle\" x=\"624.5\" y=\"489.8\" text-anchor=\"middle\" style=\"font-family: 'Open Sans', verdana, arial, sans-serif; font-size: 14px; fill: rgb(42, 63, 95); opacity: 1; white-space: pre;\">Date</text></g><g class=\"g-ytitle\"><text class=\"ytitle\" transform=\"rotate(-90,15.709375000000001,245)\" x=\"15.709375000000001\" y=\"245\" text-anchor=\"middle\" style=\"font-family: 'Open Sans', verdana, arial, sans-serif; font-size: 14px; fill: rgb(42, 63, 95); opacity: 1; white-space: pre;\">Number of failed actions</text></g></g></svg>"
      ]
     },
     "metadata": {},
     "output_type": "display_data"
    }
   ],
   "source": [
    "top_clusters_by_number_of_actions_fig.show()"
   ]
  },
  {
   "cell_type": "markdown",
   "id": "e94c0693",
   "metadata": {
    "slideshow": {
     "slide_type": "subslide"
    }
   },
   "source": [
    "# Statistics: Top clusters by number of failed actions"
   ]
  },
  {
   "cell_type": "code",
   "execution_count": 35,
   "id": "bd090065",
   "metadata": {
    "slideshow": {
     "slide_type": "skip"
    }
   },
   "outputs": [
    {
     "data": {
      "text/html": [
       "<div>\n",
       "<style scoped>\n",
       "    .dataframe tbody tr th:only-of-type {\n",
       "        vertical-align: middle;\n",
       "    }\n",
       "\n",
       "    .dataframe tbody tr th {\n",
       "        vertical-align: top;\n",
       "    }\n",
       "\n",
       "    .dataframe thead th {\n",
       "        text-align: right;\n",
       "    }\n",
       "</style>\n",
       "<table border=\"1\" class=\"dataframe\">\n",
       "  <thead>\n",
       "    <tr style=\"text-align: right;\">\n",
       "      <th></th>\n",
       "      <th>action_output_date</th>\n",
       "      <th>action_output_cluster_id</th>\n",
       "      <th>unique_users_num</th>\n",
       "      <th>actions_num</th>\n",
       "    </tr>\n",
       "  </thead>\n",
       "  <tbody>\n",
       "    <tr>\n",
       "      <th>1721</th>\n",
       "      <td>2023-10-27 00:00:00+00:00</td>\n",
       "      <td>335630</td>\n",
       "      <td>2</td>\n",
       "      <td>540</td>\n",
       "    </tr>\n",
       "    <tr>\n",
       "      <th>32037</th>\n",
       "      <td>2024-04-03 00:00:00+00:00</td>\n",
       "      <td>156330</td>\n",
       "      <td>1</td>\n",
       "      <td>380</td>\n",
       "    </tr>\n",
       "    <tr>\n",
       "      <th>34961</th>\n",
       "      <td>2024-04-06 00:00:00+00:00</td>\n",
       "      <td>131692</td>\n",
       "      <td>1</td>\n",
       "      <td>375</td>\n",
       "    </tr>\n",
       "    <tr>\n",
       "      <th>35843</th>\n",
       "      <td>2024-04-07 00:00:00+00:00</td>\n",
       "      <td>129316</td>\n",
       "      <td>1</td>\n",
       "      <td>330</td>\n",
       "    </tr>\n",
       "    <tr>\n",
       "      <th>29740</th>\n",
       "      <td>2024-04-02 00:00:00+00:00</td>\n",
       "      <td>170200</td>\n",
       "      <td>1</td>\n",
       "      <td>330</td>\n",
       "    </tr>\n",
       "  </tbody>\n",
       "</table>\n",
       "</div>"
      ],
      "text/plain": [
       "             action_output_date  action_output_cluster_id  unique_users_num  \\\n",
       "1721  2023-10-27 00:00:00+00:00                    335630                 2   \n",
       "32037 2024-04-03 00:00:00+00:00                    156330                 1   \n",
       "34961 2024-04-06 00:00:00+00:00                    131692                 1   \n",
       "35843 2024-04-07 00:00:00+00:00                    129316                 1   \n",
       "29740 2024-04-02 00:00:00+00:00                    170200                 1   \n",
       "\n",
       "       actions_num  \n",
       "1721           540  \n",
       "32037          380  \n",
       "34961          375  \n",
       "35843          330  \n",
       "29740          330  "
      ]
     },
     "execution_count": 35,
     "metadata": {},
     "output_type": "execute_result"
    }
   ],
   "source": [
    "cluster_daily_stats.sort_values(\"actions_num\", ascending=False).head()"
   ]
  },
  {
   "cell_type": "code",
   "execution_count": 36,
   "id": "00492267",
   "metadata": {},
   "outputs": [
    {
     "name": "stdout",
     "output_type": "stream",
     "text": [
      "\n",
      "fatal: reference is not a tree: f5b4060fec2bd637a88bfafbcc16b87f0241656c\n"
     ]
    }
   ],
   "source": [
    "print(actions.loc[335630, \"action_output_failure\"])"
   ]
  },
  {
   "cell_type": "code",
   "execution_count": 37,
   "id": "5d25b36d",
   "metadata": {},
   "outputs": [
    {
     "name": "stdout",
     "output_type": "stream",
     "text": [
      "$ jest --build -r=experimental --env=development --ci\n",
      "● Unrecognized CLI Parameter:\n",
      "\n",
      "  Unrecognized option \"build\". Did you mean \"bail\"?\n",
      "\n",
      "  CLI Options Documentation:\n",
      "  https://jestjs.io/docs/cli\n",
      "\n",
      "error Command failed with exit code 1.\n",
      "info Visit https://yarnpkg.com/en/docs/cli/run for documentation about this command.\n"
     ]
    }
   ],
   "source": [
    "print(actions.loc[156330, \"action_output_failure\"])"
   ]
  },
  {
   "cell_type": "markdown",
   "id": "862d4701",
   "metadata": {
    "slideshow": {
     "slide_type": "subslide"
    }
   },
   "source": [
    "# Statistics: Top clusters by number of affected users"
   ]
  },
  {
   "cell_type": "code",
   "execution_count": 38,
   "id": "7a980e49",
   "metadata": {
    "slideshow": {
     "slide_type": "skip"
    }
   },
   "outputs": [],
   "source": [
    "top_clusters_by_unique_users_fig = (\n",
    "    cluster_daily_stats\n",
    "    .head(10)\n",
    "    .assign(action_output_cluster_id = lambda df: df[\"action_output_cluster_id\"].astype(str))\n",
    "    .pipe(\n",
    "        px.bar,\n",
    "        x=\"action_output_date\",\n",
    "        y=\"unique_users_num\",\n",
    "        color=\"action_output_cluster_id\"\n",
    "    )\n",
    "    .update_layout(\n",
    "        **default_layout,\n",
    "        title=\"Top cluster by number of affected users\",\n",
    "        xaxis_title=\"Date\",\n",
    "        yaxis_title=\"Number of failed actions\",\n",
    "    )\n",
    "    .update_layout(\n",
    "        margin=dict(\n",
    "            l=10,\n",
    "            r=10,\n",
    "            b=10,\n",
    "            t=40,\n",
    "        ),\n",
    "        legend=dict(\n",
    "            orientation=\"h\",\n",
    "            yanchor=\"bottom\",\n",
    "            y=0.96,\n",
    "            xanchor=\"right\",\n",
    "            x=1\n",
    "        ),\n",
    "    )\n",
    ")"
   ]
  },
  {
   "cell_type": "code",
   "execution_count": 39,
   "id": "762bd8bc",
   "metadata": {},
   "outputs": [
    {
     "data": {
      "image/svg+xml": [
       "<svg class=\"main-svg\" xmlns=\"http://www.w3.org/2000/svg\" xmlns:xlink=\"http://www.w3.org/1999/xlink\" width=\"1200\" height=\"500\" style=\"\" viewBox=\"0 0 1200 500\"><rect x=\"0\" y=\"0\" width=\"1200\" height=\"500\" style=\"fill: rgb(255, 255, 255); fill-opacity: 1;\"/><defs id=\"defs-6da3ea\"><g class=\"clips\"><clipPath id=\"clip6da3eaxyplot\" class=\"plotclip\"><rect width=\"1135\" height=\"410\"/></clipPath><clipPath class=\"axesclip\" id=\"clip6da3eax\"><rect x=\"55\" y=\"0\" width=\"1135\" height=\"500\"/></clipPath><clipPath class=\"axesclip\" id=\"clip6da3eay\"><rect x=\"0\" y=\"40\" width=\"1200\" height=\"410\"/></clipPath><clipPath class=\"axesclip\" id=\"clip6da3eaxy\"><rect x=\"55\" y=\"40\" width=\"1135\" height=\"410\"/></clipPath></g><g class=\"gradients\"/><g class=\"patterns\"/></defs><g class=\"bglayer\"/><g class=\"layer-below\"><g class=\"imagelayer\"/><g class=\"shapelayer\"/></g><g class=\"cartesianlayer\"><g class=\"subplot xy\"><g class=\"layer-subplot\"><g class=\"shapelayer\"/><g class=\"imagelayer\"/></g><g class=\"minor-gridlayer\"><g class=\"x\"/><g class=\"y\"/></g><g class=\"gridlayer\"><g class=\"x\"/><g class=\"y\"><path class=\"ygrid crisp\" transform=\"translate(0,385.08)\" d=\"M55,0h1135\" style=\"stroke: rgb(235, 240, 248); stroke-opacity: 1; stroke-width: 1px;\"/><path class=\"ygrid crisp\" transform=\"translate(0,320.17)\" d=\"M55,0h1135\" style=\"stroke: rgb(235, 240, 248); stroke-opacity: 1; stroke-width: 1px;\"/><path class=\"ygrid crisp\" transform=\"translate(0,255.25)\" d=\"M55,0h1135\" style=\"stroke: rgb(235, 240, 248); stroke-opacity: 1; stroke-width: 1px;\"/><path class=\"ygrid crisp\" transform=\"translate(0,190.33)\" d=\"M55,0h1135\" style=\"stroke: rgb(235, 240, 248); stroke-opacity: 1; stroke-width: 1px;\"/><path class=\"ygrid crisp\" transform=\"translate(0,125.42)\" d=\"M55,0h1135\" style=\"stroke: rgb(235, 240, 248); stroke-opacity: 1; stroke-width: 1px;\"/><path class=\"ygrid crisp\" transform=\"translate(0,60.5)\" d=\"M55,0h1135\" style=\"stroke: rgb(235, 240, 248); stroke-opacity: 1; stroke-width: 1px;\"/></g></g><g class=\"zerolinelayer\"><path class=\"yzl zl crisp\" transform=\"translate(0,450)\" d=\"M55,0h1135\" style=\"stroke: rgb(235, 240, 248); stroke-opacity: 1; stroke-width: 2px;\"/></g><g class=\"layer-between\"><g class=\"shapelayer\"/><g class=\"imagelayer\"/></g><path class=\"xlines-below\"/><path class=\"ylines-below\"/><g class=\"overlines-below\"/><g class=\"xaxislayer-below\"/><g class=\"yaxislayer-below\"/><g class=\"overaxes-below\"/><g class=\"plot\" transform=\"translate(55,40)\" clip-path=\"url(#clip6da3eaxyplot)\"><g class=\"barlayer mlayer\"><g class=\"trace bars\" style=\"opacity: 1;\"><g class=\"points\"><g class=\"point\"><path d=\"M913.71,410V20.5H918.78V410Z\" style=\"vector-effect: none; opacity: 1; stroke-width: 0.5px; fill: rgb(99, 110, 250); fill-opacity: 1; stroke: rgb(255, 255, 255); stroke-opacity: 1;\"/></g></g></g><g class=\"trace bars\" style=\"opacity: 1;\"><g class=\"points\"><g class=\"point\"><path d=\"M615.69,410V20.5H620.76V410Z\" style=\"vector-effect: none; opacity: 1; stroke-width: 0.5px; fill: rgb(239, 85, 59); fill-opacity: 1; stroke: rgb(255, 255, 255); stroke-opacity: 1;\"/></g></g></g><g class=\"trace bars\" style=\"opacity: 1;\"><g class=\"points\"><g class=\"point\"><path d=\"M469.85,410V20.5H474.92V410Z\" style=\"vector-effect: none; opacity: 1; stroke-width: 0.5px; fill: rgb(0, 204, 150); fill-opacity: 1; stroke: rgb(255, 255, 255); stroke-opacity: 1;\"/></g></g></g><g class=\"trace bars\" style=\"opacity: 1;\"><g class=\"points\"><g class=\"point\"><path d=\"M0.63,410V150.33H5.71V410Z\" style=\"vector-effect: none; opacity: 1; stroke-width: 0.5px; fill: rgb(171, 99, 250); fill-opacity: 1; stroke: rgb(255, 255, 255); stroke-opacity: 1;\"/></g></g></g><g class=\"trace bars\" style=\"opacity: 1;\"><g class=\"points\"><g class=\"point\"><path d=\"M102.09,410V150.33H107.16V410Z\" style=\"vector-effect: none; opacity: 1; stroke-width: 0.5px; fill: rgb(255, 161, 90); fill-opacity: 1; stroke: rgb(255, 255, 255); stroke-opacity: 1;\"/></g></g></g><g class=\"trace bars\" style=\"opacity: 1;\"><g class=\"points\"><g class=\"point\"><path d=\"M488.87,410V150.33H493.95V410Z\" style=\"vector-effect: none; opacity: 1; stroke-width: 0.5px; fill: rgb(25, 211, 243); fill-opacity: 1; stroke: rgb(255, 255, 255); stroke-opacity: 1;\"/></g></g></g><g class=\"trace bars\" style=\"opacity: 1;\"><g class=\"points\"><g class=\"point\"><path d=\"M76.72,410V150.33H81.8V410Z\" style=\"vector-effect: none; opacity: 1; stroke-width: 0.5px; fill: rgb(255, 102, 146); fill-opacity: 1; stroke: rgb(255, 255, 255); stroke-opacity: 1;\"/></g></g></g><g class=\"trace bars\" style=\"opacity: 1;\"><g class=\"points\"><g class=\"point\"><path d=\"M958.09,410V150.33H963.16V410Z\" style=\"vector-effect: none; opacity: 1; stroke-width: 0.5px; fill: rgb(182, 232, 128); fill-opacity: 1; stroke: rgb(255, 255, 255); stroke-opacity: 1;\"/></g></g></g><g class=\"trace bars\" style=\"opacity: 1;\"><g class=\"points\"><g class=\"point\"><path d=\"M964.43,410V150.33H969.51V410Z\" style=\"vector-effect: none; opacity: 1; stroke-width: 0.5px; fill: rgb(255, 151, 255); fill-opacity: 1; stroke: rgb(255, 255, 255); stroke-opacity: 1;\"/></g></g></g><g class=\"trace bars\" style=\"opacity: 1;\"><g class=\"points\"><g class=\"point\"><path d=\"M1129.29,410V150.33H1134.37V410Z\" style=\"vector-effect: none; opacity: 1; stroke-width: 0.5px; fill: rgb(254, 203, 82); fill-opacity: 1; stroke: rgb(255, 255, 255); stroke-opacity: 1;\"/></g></g></g></g></g><g class=\"overplot\"/><path class=\"xlines-above crisp\" d=\"M0,0\" style=\"fill: none;\"/><path class=\"ylines-above crisp\" d=\"M0,0\" style=\"fill: none;\"/><g class=\"overlines-above\"/><g class=\"xaxislayer-above\"><g class=\"xtick\"><text text-anchor=\"middle\" x=\"0\" y=\"463\" transform=\"translate(89.87,0)\" style=\"font-family: 'Open Sans', verdana, arial, sans-serif; font-size: 12px; fill: rgb(42, 63, 95); fill-opacity: 1; white-space: pre; opacity: 1;\">Nov 2023</text></g><g class=\"xtick\"><text text-anchor=\"middle\" x=\"0\" y=\"463\" style=\"font-family: 'Open Sans', verdana, arial, sans-serif; font-size: 12px; fill: rgb(42, 63, 95); fill-opacity: 1; white-space: pre; opacity: 1;\" transform=\"translate(280.1,0)\">Dec 2023</text></g><g class=\"xtick\"><text text-anchor=\"middle\" x=\"0\" y=\"463\" style=\"font-family: 'Open Sans', verdana, arial, sans-serif; font-size: 12px; fill: rgb(42, 63, 95); fill-opacity: 1; white-space: pre; opacity: 1;\" transform=\"translate(476.66,0)\">Jan 2024</text></g><g class=\"xtick\"><text text-anchor=\"middle\" x=\"0\" y=\"463\" style=\"font-family: 'Open Sans', verdana, arial, sans-serif; font-size: 12px; fill: rgb(42, 63, 95); fill-opacity: 1; white-space: pre; opacity: 1;\" transform=\"translate(673.23,0)\">Feb 2024</text></g><g class=\"xtick\"><text text-anchor=\"middle\" x=\"0\" y=\"463\" style=\"font-family: 'Open Sans', verdana, arial, sans-serif; font-size: 12px; fill: rgb(42, 63, 95); fill-opacity: 1; white-space: pre; opacity: 1;\" transform=\"translate(857.11,0)\">Mar 2024</text></g><g class=\"xtick\"><text text-anchor=\"middle\" x=\"0\" y=\"463\" style=\"font-family: 'Open Sans', verdana, arial, sans-serif; font-size: 12px; fill: rgb(42, 63, 95); fill-opacity: 1; white-space: pre; opacity: 1;\" transform=\"translate(1053.67,0)\">Apr 2024</text></g></g><g class=\"yaxislayer-above\"><g class=\"ytick\"><text text-anchor=\"end\" x=\"54\" y=\"4.199999999999999\" transform=\"translate(0,450)\" style=\"font-family: 'Open Sans', verdana, arial, sans-serif; font-size: 12px; fill: rgb(42, 63, 95); fill-opacity: 1; white-space: pre; opacity: 1;\">0</text></g><g class=\"ytick\"><text text-anchor=\"end\" x=\"54\" y=\"4.199999999999999\" style=\"font-family: 'Open Sans', verdana, arial, sans-serif; font-size: 12px; fill: rgb(42, 63, 95); fill-opacity: 1; white-space: pre; opacity: 1;\" transform=\"translate(0,385.08)\">0.5</text></g><g class=\"ytick\"><text text-anchor=\"end\" x=\"54\" y=\"4.199999999999999\" style=\"font-family: 'Open Sans', verdana, arial, sans-serif; font-size: 12px; fill: rgb(42, 63, 95); fill-opacity: 1; white-space: pre; opacity: 1;\" transform=\"translate(0,320.17)\">1</text></g><g class=\"ytick\"><text text-anchor=\"end\" x=\"54\" y=\"4.199999999999999\" style=\"font-family: 'Open Sans', verdana, arial, sans-serif; font-size: 12px; fill: rgb(42, 63, 95); fill-opacity: 1; white-space: pre; opacity: 1;\" transform=\"translate(0,255.25)\">1.5</text></g><g class=\"ytick\"><text text-anchor=\"end\" x=\"54\" y=\"4.199999999999999\" style=\"font-family: 'Open Sans', verdana, arial, sans-serif; font-size: 12px; fill: rgb(42, 63, 95); fill-opacity: 1; white-space: pre; opacity: 1;\" transform=\"translate(0,190.33)\">2</text></g><g class=\"ytick\"><text text-anchor=\"end\" x=\"54\" y=\"4.199999999999999\" style=\"font-family: 'Open Sans', verdana, arial, sans-serif; font-size: 12px; fill: rgb(42, 63, 95); fill-opacity: 1; white-space: pre; opacity: 1;\" transform=\"translate(0,125.42)\">2.5</text></g><g class=\"ytick\"><text text-anchor=\"end\" x=\"54\" y=\"4.199999999999999\" style=\"font-family: 'Open Sans', verdana, arial, sans-serif; font-size: 12px; fill: rgb(42, 63, 95); fill-opacity: 1; white-space: pre; opacity: 1;\" transform=\"translate(0,60.5)\">3</text></g></g><g class=\"overaxes-above\"/></g></g><g class=\"polarlayer\"/><g class=\"smithlayer\"/><g class=\"ternarylayer\"/><g class=\"geolayer\"/><g class=\"funnelarealayer\"/><g class=\"pielayer\"/><g class=\"iciclelayer\"/><g class=\"treemaplayer\"/><g class=\"sunburstlayer\"/><g class=\"glimages\"/><defs id=\"topdefs-6da3ea\"><g class=\"clips\"/><clipPath id=\"legend6da3ea\"><rect width=\"1078\" height=\"29\" x=\"0\" y=\"0\"/></clipPath></defs><g class=\"layer-above\"><g class=\"imagelayer\"/><g class=\"shapelayer\"/></g><g class=\"infolayer\"><g class=\"legend\" pointer-events=\"all\" transform=\"translate(112,27.400000000000013)\"><rect class=\"bg\" shape-rendering=\"crispEdges\" style=\"stroke: rgb(68, 68, 68); stroke-opacity: 1; fill: rgb(255, 255, 255); fill-opacity: 1; stroke-width: 0px;\" width=\"1078\" height=\"29\" x=\"0\" y=\"0\"/><g class=\"scrollbox\" transform=\"\" clip-path=\"url(#legend6da3ea)\"><text class=\"legendtitletext\" text-anchor=\"start\" x=\"2\" y=\"18.2\" style=\"font-family: 'Open Sans', verdana, arial, sans-serif; font-size: 14px; fill: rgb(42, 63, 95); fill-opacity: 1; white-space: pre;\">action_output_cluster_id</text><g class=\"groups\" transform=\"\"><g class=\"traces\" transform=\"translate(184.78125,14.5)\" style=\"opacity: 1;\"><text class=\"legendtext\" text-anchor=\"start\" x=\"40\" y=\"4.680000000000001\" style=\"font-family: 'Open Sans', verdana, arial, sans-serif; font-size: 12px; fill: rgb(42, 63, 95); fill-opacity: 1; white-space: pre;\">204917</text><g class=\"layers\" style=\"opacity: 1;\"><g class=\"legendfill\"/><g class=\"legendlines\"/><g class=\"legendsymbols\"><g class=\"legendpoints\"><path class=\"legendundefined\" d=\"M6,6H-6V-6H6Z\" transform=\"translate(20,0)\" style=\"stroke-width: 0.5px; fill: rgb(99, 110, 250); fill-opacity: 1; stroke: rgb(255, 255, 255); stroke-opacity: 1;\"/></g></g></g><rect class=\"legendtoggle\" x=\"0\" y=\"-9.5\" width=\"88.28125\" height=\"19\" style=\"fill: rgb(0, 0, 0); fill-opacity: 0;\"/></g></g><g class=\"groups\" transform=\"translate(90.78125,0)\"><g class=\"traces\" transform=\"translate(184.78125,14.5)\" style=\"opacity: 1;\"><text class=\"legendtext\" text-anchor=\"start\" x=\"40\" y=\"4.680000000000001\" style=\"font-family: 'Open Sans', verdana, arial, sans-serif; font-size: 12px; fill: rgb(42, 63, 95); fill-opacity: 1; white-space: pre;\">295268</text><g class=\"layers\" style=\"opacity: 1;\"><g class=\"legendfill\"/><g class=\"legendlines\"/><g class=\"legendsymbols\"><g class=\"legendpoints\"><path class=\"legendundefined\" d=\"M6,6H-6V-6H6Z\" transform=\"translate(20,0)\" style=\"stroke-width: 0.5px; fill: rgb(239, 85, 59); fill-opacity: 1; stroke: rgb(255, 255, 255); stroke-opacity: 1;\"/></g></g></g><rect class=\"legendtoggle\" x=\"0\" y=\"-9.5\" width=\"88.28125\" height=\"19\" style=\"fill: rgb(0, 0, 0); fill-opacity: 0;\"/></g></g><g class=\"groups\" transform=\"translate(181.5625,0)\"><g class=\"traces\" transform=\"translate(184.78125,14.5)\" style=\"opacity: 1;\"><text class=\"legendtext\" text-anchor=\"start\" x=\"40\" y=\"4.680000000000001\" style=\"font-family: 'Open Sans', verdana, arial, sans-serif; font-size: 12px; fill: rgb(42, 63, 95); fill-opacity: 1; white-space: pre;\">289341</text><g class=\"layers\" style=\"opacity: 1;\"><g class=\"legendfill\"/><g class=\"legendlines\"/><g class=\"legendsymbols\"><g class=\"legendpoints\"><path class=\"legendundefined\" d=\"M6,6H-6V-6H6Z\" transform=\"translate(20,0)\" style=\"stroke-width: 0.5px; fill: rgb(0, 204, 150); fill-opacity: 1; stroke: rgb(255, 255, 255); stroke-opacity: 1;\"/></g></g></g><rect class=\"legendtoggle\" x=\"0\" y=\"-9.5\" width=\"88.28125\" height=\"19\" style=\"fill: rgb(0, 0, 0); fill-opacity: 0;\"/></g></g><g class=\"groups\" transform=\"translate(272.34375,0)\"><g class=\"traces\" transform=\"translate(184.78125,14.5)\" style=\"opacity: 1;\"><text class=\"legendtext\" text-anchor=\"start\" x=\"40\" y=\"4.680000000000001\" style=\"font-family: 'Open Sans', verdana, arial, sans-serif; font-size: 12px; fill: rgb(42, 63, 95); fill-opacity: 1; white-space: pre;\">335630</text><g class=\"layers\" style=\"opacity: 1;\"><g class=\"legendfill\"/><g class=\"legendlines\"/><g class=\"legendsymbols\"><g class=\"legendpoints\"><path class=\"legendundefined\" d=\"M6,6H-6V-6H6Z\" transform=\"translate(20,0)\" style=\"stroke-width: 0.5px; fill: rgb(171, 99, 250); fill-opacity: 1; stroke: rgb(255, 255, 255); stroke-opacity: 1;\"/></g></g></g><rect class=\"legendtoggle\" x=\"0\" y=\"-9.5\" width=\"88.28125\" height=\"19\" style=\"fill: rgb(0, 0, 0); fill-opacity: 0;\"/></g></g><g class=\"groups\" transform=\"translate(363.125,0)\"><g class=\"traces\" transform=\"translate(184.78125,14.5)\" style=\"opacity: 1;\"><text class=\"legendtext\" text-anchor=\"start\" x=\"40\" y=\"4.680000000000001\" style=\"font-family: 'Open Sans', verdana, arial, sans-serif; font-size: 12px; fill: rgb(42, 63, 95); fill-opacity: 1; white-space: pre;\">329336</text><g class=\"layers\" style=\"opacity: 1;\"><g class=\"legendfill\"/><g class=\"legendlines\"/><g class=\"legendsymbols\"><g class=\"legendpoints\"><path class=\"legendundefined\" d=\"M6,6H-6V-6H6Z\" transform=\"translate(20,0)\" style=\"stroke-width: 0.5px; fill: rgb(255, 161, 90); fill-opacity: 1; stroke: rgb(255, 255, 255); stroke-opacity: 1;\"/></g></g></g><rect class=\"legendtoggle\" x=\"0\" y=\"-9.5\" width=\"88.28125\" height=\"19\" style=\"fill: rgb(0, 0, 0); fill-opacity: 0;\"/></g></g><g class=\"groups\" transform=\"translate(453.90625,0)\"><g class=\"traces\" transform=\"translate(184.78125,14.5)\" style=\"opacity: 1;\"><text class=\"legendtext\" text-anchor=\"start\" x=\"40\" y=\"4.680000000000001\" style=\"font-family: 'Open Sans', verdana, arial, sans-serif; font-size: 12px; fill: rgb(42, 63, 95); fill-opacity: 1; white-space: pre;\">309088</text><g class=\"layers\" style=\"opacity: 1;\"><g class=\"legendfill\"/><g class=\"legendlines\"/><g class=\"legendsymbols\"><g class=\"legendpoints\"><path class=\"legendundefined\" d=\"M6,6H-6V-6H6Z\" transform=\"translate(20,0)\" style=\"stroke-width: 0.5px; fill: rgb(25, 211, 243); fill-opacity: 1; stroke: rgb(255, 255, 255); stroke-opacity: 1;\"/></g></g></g><rect class=\"legendtoggle\" x=\"0\" y=\"-9.5\" width=\"88.28125\" height=\"19\" style=\"fill: rgb(0, 0, 0); fill-opacity: 0;\"/></g></g><g class=\"groups\" transform=\"translate(544.6875,0)\"><g class=\"traces\" transform=\"translate(184.78125,14.5)\" style=\"opacity: 1;\"><text class=\"legendtext\" text-anchor=\"start\" x=\"40\" y=\"4.680000000000001\" style=\"font-family: 'Open Sans', verdana, arial, sans-serif; font-size: 12px; fill: rgb(42, 63, 95); fill-opacity: 1; white-space: pre;\">331542</text><g class=\"layers\" style=\"opacity: 1;\"><g class=\"legendfill\"/><g class=\"legendlines\"/><g class=\"legendsymbols\"><g class=\"legendpoints\"><path class=\"legendundefined\" d=\"M6,6H-6V-6H6Z\" transform=\"translate(20,0)\" style=\"stroke-width: 0.5px; fill: rgb(255, 102, 146); fill-opacity: 1; stroke: rgb(255, 255, 255); stroke-opacity: 1;\"/></g></g></g><rect class=\"legendtoggle\" x=\"0\" y=\"-9.5\" width=\"88.28125\" height=\"19\" style=\"fill: rgb(0, 0, 0); fill-opacity: 0;\"/></g></g><g class=\"groups\" transform=\"translate(635.46875,0)\"><g class=\"traces\" transform=\"translate(184.78125,14.5)\" style=\"opacity: 1;\"><text class=\"legendtext\" text-anchor=\"start\" x=\"40\" y=\"4.680000000000001\" style=\"font-family: 'Open Sans', verdana, arial, sans-serif; font-size: 12px; fill: rgb(42, 63, 95); fill-opacity: 1; white-space: pre;\">191664</text><g class=\"layers\" style=\"opacity: 1;\"><g class=\"legendfill\"/><g class=\"legendlines\"/><g class=\"legendsymbols\"><g class=\"legendpoints\"><path class=\"legendundefined\" d=\"M6,6H-6V-6H6Z\" transform=\"translate(20,0)\" style=\"stroke-width: 0.5px; fill: rgb(182, 232, 128); fill-opacity: 1; stroke: rgb(255, 255, 255); stroke-opacity: 1;\"/></g></g></g><rect class=\"legendtoggle\" x=\"0\" y=\"-9.5\" width=\"88.28125\" height=\"19\" style=\"fill: rgb(0, 0, 0); fill-opacity: 0;\"/></g></g><g class=\"groups\" transform=\"translate(726.25,0)\"><g class=\"traces\" transform=\"translate(184.78125,14.5)\" style=\"opacity: 1;\"><text class=\"legendtext\" text-anchor=\"start\" x=\"40\" y=\"4.680000000000001\" style=\"font-family: 'Open Sans', verdana, arial, sans-serif; font-size: 12px; fill: rgb(42, 63, 95); fill-opacity: 1; white-space: pre;\">183925</text><g class=\"layers\" style=\"opacity: 1;\"><g class=\"legendfill\"/><g class=\"legendlines\"/><g class=\"legendsymbols\"><g class=\"legendpoints\"><path class=\"legendundefined\" d=\"M6,6H-6V-6H6Z\" transform=\"translate(20,0)\" style=\"stroke-width: 0.5px; fill: rgb(255, 151, 255); fill-opacity: 1; stroke: rgb(255, 255, 255); stroke-opacity: 1;\"/></g></g></g><rect class=\"legendtoggle\" x=\"0\" y=\"-9.5\" width=\"88.28125\" height=\"19\" style=\"fill: rgb(0, 0, 0); fill-opacity: 0;\"/></g></g><g class=\"groups\" transform=\"translate(817.03125,0)\"><g class=\"traces\" transform=\"translate(184.78125,14.5)\" style=\"opacity: 1;\"><text class=\"legendtext\" text-anchor=\"start\" x=\"40\" y=\"4.680000000000001\" style=\"font-family: 'Open Sans', verdana, arial, sans-serif; font-size: 12px; fill: rgb(42, 63, 95); fill-opacity: 1; white-space: pre;\">4351</text><g class=\"layers\" style=\"opacity: 1;\"><g class=\"legendfill\"/><g class=\"legendlines\"/><g class=\"legendsymbols\"><g class=\"legendpoints\"><path class=\"legendundefined\" d=\"M6,6H-6V-6H6Z\" transform=\"translate(20,0)\" style=\"stroke-width: 0.5px; fill: rgb(254, 203, 82); fill-opacity: 1; stroke: rgb(255, 255, 255); stroke-opacity: 1;\"/></g></g></g><rect class=\"legendtoggle\" x=\"0\" y=\"-9.5\" width=\"73.015625\" height=\"19\" style=\"fill: rgb(0, 0, 0); fill-opacity: 0;\"/></g></g></g><rect class=\"scrollbar\" rx=\"20\" ry=\"3\" width=\"0\" height=\"0\" style=\"fill: rgb(128, 139, 164); fill-opacity: 1;\" x=\"0\" y=\"0\"/></g><g class=\"g-gtitle\"><text class=\"gtitle\" x=\"60\" y=\"20\" text-anchor=\"start\" dy=\"0em\" style=\"font-family: 'Open Sans', verdana, arial, sans-serif; font-size: 17px; fill: rgb(42, 63, 95); opacity: 1; white-space: pre;\">Top cluster by number of affected users</text></g><g class=\"g-xtitle\"><text class=\"xtitle\" x=\"622.5\" y=\"489.8\" text-anchor=\"middle\" style=\"font-family: 'Open Sans', verdana, arial, sans-serif; font-size: 14px; fill: rgb(42, 63, 95); opacity: 1; white-space: pre;\">Date</text></g><g class=\"g-ytitle\"><text class=\"ytitle\" transform=\"rotate(-90,14.975000000000001,245)\" x=\"14.975000000000001\" y=\"245\" text-anchor=\"middle\" style=\"font-family: 'Open Sans', verdana, arial, sans-serif; font-size: 14px; fill: rgb(42, 63, 95); opacity: 1; white-space: pre;\">Number of failed actions</text></g></g></svg>"
      ]
     },
     "metadata": {},
     "output_type": "display_data"
    }
   ],
   "source": [
    "top_clusters_by_unique_users_fig.show()"
   ]
  },
  {
   "cell_type": "markdown",
   "id": "c0c193ef",
   "metadata": {
    "slideshow": {
     "slide_type": "subslide"
    }
   },
   "source": [
    "# Statistics: Top clusters by number of affected users\n",
    "Outage in external service:"
   ]
  },
  {
   "cell_type": "code",
   "execution_count": 40,
   "id": "24e9bbf5",
   "metadata": {
    "slideshow": {
     "slide_type": "skip"
    }
   },
   "outputs": [
    {
     "data": {
      "text/html": [
       "<div>\n",
       "<style scoped>\n",
       "    .dataframe tbody tr th:only-of-type {\n",
       "        vertical-align: middle;\n",
       "    }\n",
       "\n",
       "    .dataframe tbody tr th {\n",
       "        vertical-align: top;\n",
       "    }\n",
       "\n",
       "    .dataframe thead th {\n",
       "        text-align: right;\n",
       "    }\n",
       "</style>\n",
       "<table border=\"1\" class=\"dataframe\">\n",
       "  <thead>\n",
       "    <tr style=\"text-align: right;\">\n",
       "      <th></th>\n",
       "      <th>action_output_date</th>\n",
       "      <th>action_output_cluster_id</th>\n",
       "      <th>unique_users_num</th>\n",
       "      <th>actions_num</th>\n",
       "    </tr>\n",
       "  </thead>\n",
       "  <tbody>\n",
       "    <tr>\n",
       "      <th>23213</th>\n",
       "      <td>2024-03-19 00:00:00+00:00</td>\n",
       "      <td>204917</td>\n",
       "      <td>3</td>\n",
       "      <td>157</td>\n",
       "    </tr>\n",
       "    <tr>\n",
       "      <th>7157</th>\n",
       "      <td>2024-01-09 00:00:00+00:00</td>\n",
       "      <td>289341</td>\n",
       "      <td>3</td>\n",
       "      <td>3</td>\n",
       "    </tr>\n",
       "    <tr>\n",
       "      <th>9226</th>\n",
       "      <td>2024-02-01 00:00:00+00:00</td>\n",
       "      <td>295268</td>\n",
       "      <td>3</td>\n",
       "      <td>7</td>\n",
       "    </tr>\n",
       "    <tr>\n",
       "      <th>9234</th>\n",
       "      <td>2024-02-03 00:00:00+00:00</td>\n",
       "      <td>288051</td>\n",
       "      <td>2</td>\n",
       "      <td>2</td>\n",
       "    </tr>\n",
       "    <tr>\n",
       "      <th>42596</th>\n",
       "      <td>2024-04-19 00:00:00+00:00</td>\n",
       "      <td>12109</td>\n",
       "      <td>2</td>\n",
       "      <td>2</td>\n",
       "    </tr>\n",
       "    <tr>\n",
       "      <th>42037</th>\n",
       "      <td>2024-04-13 00:00:00+00:00</td>\n",
       "      <td>23787</td>\n",
       "      <td>2</td>\n",
       "      <td>2</td>\n",
       "    </tr>\n",
       "    <tr>\n",
       "      <th>38648</th>\n",
       "      <td>2024-04-10 00:00:00+00:00</td>\n",
       "      <td>57151</td>\n",
       "      <td>2</td>\n",
       "      <td>2</td>\n",
       "    </tr>\n",
       "    <tr>\n",
       "      <th>38647</th>\n",
       "      <td>2024-04-10 00:00:00+00:00</td>\n",
       "      <td>57135</td>\n",
       "      <td>2</td>\n",
       "      <td>2</td>\n",
       "    </tr>\n",
       "    <tr>\n",
       "      <th>35475</th>\n",
       "      <td>2024-04-06 00:00:00+00:00</td>\n",
       "      <td>133678</td>\n",
       "      <td>2</td>\n",
       "      <td>2</td>\n",
       "    </tr>\n",
       "    <tr>\n",
       "      <th>29751</th>\n",
       "      <td>2024-04-02 00:00:00+00:00</td>\n",
       "      <td>170888</td>\n",
       "      <td>2</td>\n",
       "      <td>2</td>\n",
       "    </tr>\n",
       "  </tbody>\n",
       "</table>\n",
       "</div>"
      ],
      "text/plain": [
       "             action_output_date  action_output_cluster_id  unique_users_num  \\\n",
       "23213 2024-03-19 00:00:00+00:00                    204917                 3   \n",
       "7157  2024-01-09 00:00:00+00:00                    289341                 3   \n",
       "9226  2024-02-01 00:00:00+00:00                    295268                 3   \n",
       "9234  2024-02-03 00:00:00+00:00                    288051                 2   \n",
       "42596 2024-04-19 00:00:00+00:00                     12109                 2   \n",
       "42037 2024-04-13 00:00:00+00:00                     23787                 2   \n",
       "38648 2024-04-10 00:00:00+00:00                     57151                 2   \n",
       "38647 2024-04-10 00:00:00+00:00                     57135                 2   \n",
       "35475 2024-04-06 00:00:00+00:00                    133678                 2   \n",
       "29751 2024-04-02 00:00:00+00:00                    170888                 2   \n",
       "\n",
       "       actions_num  \n",
       "23213          157  \n",
       "7157             3  \n",
       "9226             7  \n",
       "9234             2  \n",
       "42596            2  \n",
       "42037            2  \n",
       "38648            2  \n",
       "38647            2  \n",
       "35475            2  \n",
       "29751            2  "
      ]
     },
     "execution_count": 40,
     "metadata": {},
     "output_type": "execute_result"
    }
   ],
   "source": [
    "cluster_daily_stats.sort_values(\"unique_users_num\", ascending=False).head(10)"
   ]
  },
  {
   "cell_type": "code",
   "execution_count": 41,
   "id": "370a28f3",
   "metadata": {},
   "outputs": [
    {
     "name": "stdout",
     "output_type": "stream",
     "text": [
      "error An unexpected error occurred: \"https://registry.yarnpkg.com/whatwg-fetch/-/whatwg-fetch-2.0.4.tgz: Request failed \\\"500 Internal Server Error\\\"\".\n",
      "info If you think this is a bug, please open a bug report with the information provided in \"/home/circleci/project/yarn-error.log\".\n",
      "info Visit https://yarnpkg.com/en/docs/cli/install for documentation about this command.\n"
     ]
    }
   ],
   "source": [
    "print(actions.loc[295268, \"action_output_failure\"])"
   ]
  },
  {
   "cell_type": "markdown",
   "id": "b320c823",
   "metadata": {},
   "source": [
    "Lint error in a commonly edited file(s):"
   ]
  },
  {
   "cell_type": "code",
   "execution_count": 42,
   "id": "daee0417",
   "metadata": {},
   "outputs": [
    {
     "name": "stdout",
     "output_type": "stream",
     "text": [
      "\n",
      "  This project uses prettier to format all JavaScript code.\n",
      "    Please run yarn prettier-all and add changes to files listed below to your commit:\n",
      "\n",
      "\n",
      "packages/react-test-renderer/src/ReactTestRenderer.js\n"
     ]
    }
   ],
   "source": [
    "print(actions.loc[309408, \"action_output_failure\"])"
   ]
  },
  {
   "cell_type": "markdown",
   "id": "e4a192d8",
   "metadata": {
    "slideshow": {
     "slide_type": "slide"
    }
   },
   "source": [
    "# Integrations\n",
    "1. **Incident Management** - widespread errors trigger incident management proc.\n",
    "2. **Impact Assessment** - alerts have information about the number of affected users.\n",
    "3. **Remediation Information** - Users can add remediation steps to error clusters.\n",
    "4. **Error Suppression** - certain widespread errors can be suppressed and the the integration process can be resumed.\n",
    "5. **Batch Retry** - once the root cause is resolved we can batch retry validation process for a precise set of blocked Code Reviews.\n",
    "6. **Topline Metrics** - we estimate the impact of specific widespread errors on the topline metrics measuring developer productivity."
   ]
  },
  {
   "cell_type": "markdown",
   "id": "e9115fbe",
   "metadata": {
    "slideshow": {
     "slide_type": "slide"
    }
   },
   "source": [
    "# Summary\n",
    "\n",
    "1. Clustering of near-identical documents eliminates the need of maintaining a long list of normalization rules.\n",
    "2. Minhash and LSH Forest are efficient solutions for detecting near-identical documents. Proposed settings proposed density of ~2M cluster per 1 GB.\n",
    "3. For the React case study, during the 1 year period we observed 350k erros. Proposed pipeline produced 300k unique error clusters taking 150MB.\n",
    "4. Proposed solution scales well and can be deployed in large CI systems."
   ]
  },
  {
   "cell_type": "code",
   "execution_count": 43,
   "id": "380f8b08",
   "metadata": {
    "slideshow": {
     "slide_type": "skip"
    }
   },
   "outputs": [
    {
     "name": "stdout",
     "output_type": "stream",
     "text": [
      "Density: 2097152.0\n",
      "Number of errors: 341630\n",
      "Number of clusters: 308995\n",
      "Space used in MB: 150.87646484375\n"
     ]
    }
   ],
   "source": [
    "print(\"Density:\", 2 ** 30 / 256 / 2)\n",
    "print(\"Number of errors:\", actions.shape[0])\n",
    "print(\"Number of clusters:\", actions[\"action_output_cluster_id\"].value_counts().shape[0])\n",
    "print(\"Space used in MB:\", actions[\"action_output_cluster_id\"].value_counts().shape[0] * 256 * 2 / 2 ** 20)"
   ]
  }
 ],
 "metadata": {
  "celltoolbar": "Slideshow",
  "kernelspec": {
   "display_name": "Python 3 (ipykernel)",
   "language": "python",
   "name": "python3"
  },
  "language_info": {
   "codemirror_mode": {
    "name": "ipython",
    "version": 3
   },
   "file_extension": ".py",
   "mimetype": "text/x-python",
   "name": "python",
   "nbconvert_exporter": "python",
   "pygments_lexer": "ipython3",
   "version": "3.12.0"
  }
 },
 "nbformat": 4,
 "nbformat_minor": 5
}
