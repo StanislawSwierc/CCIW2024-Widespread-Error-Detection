{
 "cells": [
  {
   "cell_type": "markdown",
   "id": "7c5fa4d7",
   "metadata": {
    "slideshow": {
     "slide_type": "slide"
    }
   },
   "source": [
    "# Widespread Error Detection in Large Scale Continuous Integration Systems\n",
    "\n",
    "---\n",
    "\n",
    "- Stanislaw Swierc (stansw)\n",
    "- James Lu (luchangj)\n",
    "- Thomas Yi (thomasyi)\n",
    "\n",
    "\\* @meta.com\n",
    "\n",
    "https://github.com/StanislawSwierc/CCIW2024-Widespread-Error-Detection\n",
    "\n",
    "<img src=\"http://s21.q4cdn.com/399680738/files/design/2022/01/Meta_lockup_positive-primary_RGB-(1).jpg\" style=\"float:right;\">"
   ]
  },
  {
   "cell_type": "markdown",
   "id": "b918cdd8",
   "metadata": {
    "slideshow": {
     "slide_type": "slide"
    }
   },
   "source": [
    "# Disclaimer\n",
    "\n",
    "> This presentation contains sample code with a basic pipeline for detecting widespread errors in the React open-source project.\n",
    ">\n",
    ">It does NOT contain any code, logs or data internal to Meta Platforms, Inc.\n"
   ]
  },
  {
   "cell_type": "markdown",
   "id": "372e44a7",
   "metadata": {
    "slideshow": {
     "slide_type": "notes"
    }
   },
   "source": [
    "# Notes: Goal\n",
    "\n",
    "> The goal of this presentation is to share enough ideas and sample code for you to go back from this conference, build a prototype and get a green light from your leadership to move forward! Then, you can extend it to meet the unique needs of your company."
   ]
  },
  {
   "cell_type": "markdown",
   "id": "e5d185dc",
   "metadata": {
    "slideshow": {
     "slide_type": "slide"
    }
   },
   "source": [
    "# Motivation\n",
    "\n",
    "> Improve developer productivity by quickly detecting and mitigating the impact of widespread errors.\n",
    "\n"
   ]
  },
  {
   "cell_type": "markdown",
   "id": "b7db93ba",
   "metadata": {
    "slideshow": {
     "slide_type": "subslide"
    }
   },
   "source": [
    "# Motivation: Widespread Errors\n",
    "\n",
    "Widespread errors are commonly infrastructural errors that falsely block developers from integrating their code changes into the mainline branch.\n",
    "\n",
    "Why is this bad?\n",
    "- **Productivity** - Developers waste time trying to fix code, when it is not at fault.\n",
    "- **Trust** - Erodes confidence in CI System's ability to produce validation signals.\n",
    "- **Efficiency** - Need to re-run failing validation, thus, wasting machine resources."
   ]
  },
  {
   "cell_type": "markdown",
   "id": "874dae0c",
   "metadata": {
    "slideshow": {
     "slide_type": "subslide"
    }
   },
   "source": [
    "# Motivation: Impact vs. Frequency\n",
    "\n",
    "We can organize errors by number of affected people and how common they are:\n",
    "\n"
   ]
  },
  {
   "cell_type": "markdown",
   "id": "82ad9103",
   "metadata": {
    "cell_style": "split"
   },
   "source": [
    "<img src=\"media/impact_vs_frequency.png\" style=\"width:550px;\"/>"
   ]
  },
  {
   "cell_type": "markdown",
   "id": "a1f22191",
   "metadata": {
    "cell_style": "split"
   },
   "source": [
    "Challenges\n",
    "- Rare, widespread errors may appear like a group of concentrated errors.\n",
    "- Capturing signatures of rare, widespread errors is only good for retroactive analysis, but not for detection.\n"
   ]
  },
  {
   "cell_type": "code",
   "execution_count": 1,
   "id": "85d0b87a",
   "metadata": {
    "slideshow": {
     "slide_type": "skip"
    }
   },
   "outputs": [],
   "source": [
    "import os\n",
    "import re2\n",
    "import requests\n",
    "import jsonlines\n",
    "import numpy as np\n",
    "import pandas as pd\n",
    "from functools import partial\n",
    "\n",
    "from datetime import datetime\n",
    "#from tqdm.notebook import trange, tqdm\n",
    "from tqdm import tqdm"
   ]
  },
  {
   "cell_type": "code",
   "execution_count": 2,
   "id": "fc74f1b0",
   "metadata": {
    "slideshow": {
     "slide_type": "skip"
    }
   },
   "outputs": [
    {
     "data": {
      "text/html": [
       "<style>.container { width:80% !important; }</style>"
      ],
      "text/plain": [
       "<IPython.core.display.HTML object>"
      ]
     },
     "metadata": {},
     "output_type": "display_data"
    }
   ],
   "source": [
    "from IPython.display import display, HTML\n",
    "display(HTML(\"<style>.container { width:80% !important; }</style>\"))"
   ]
  },
  {
   "cell_type": "code",
   "execution_count": 54,
   "id": "c1834c78",
   "metadata": {
    "slideshow": {
     "slide_type": "skip"
    }
   },
   "outputs": [],
   "source": [
    "import plotly.express as px\n",
    "import plotly.io as pio\n",
    "import plotly.figure_factory as ff\n",
    "import plotly.graph_objects as go\n",
    "\n",
    "pio.templates.default = \"plotly_white\"\n",
    "\n",
    "1209 124th Ave NE, Bellevue, WA 98005, United States = dict(\n",
    "    width=1000,\n",
    "    legend=dict(\n",
    "        orientation=\"h\",\n",
    "        yanchor=\"bottom\",\n",
    "        y=1.02,\n",
    "        xanchor=\"right\",\n",
    "        x=1\n",
    "    ),\n",
    "    margin=dict(\n",
    "        l=10,\n",
    "        r=10,\n",
    "        b=10,\n",
    "        t=20,\n",
    "    ),\n",
    ")\n",
    "\n",
    "# https://plotly.com/python/renderers/\n",
    "# https://plotly.com/python/troubleshooting/#jupyter-classic-notebook-problems\n",
    "CLASSIC = True\n",
    "if CLASSIC:\n",
    "    pio.renderers.default=\"svg\""
   ]
  },
  {
   "cell_type": "markdown",
   "id": "3a8d7f47",
   "metadata": {
    "slideshow": {
     "slide_type": "slide"
    }
   },
   "source": [
    "# React Case Study\n",
    "\n",
    "React uses CircleCI to validate pull requests and the health of the mainline branch.\n",
    "\n",
    "- **Project** - validation configuration for the code repository\n",
    "  - **Pipeline** - group of workflows\n",
    "    - **Workflow** - graph of jobs\n",
    "      - **Job** - set of steps executed sequentially\n",
    "        - **Step/Action** - execution unit\n",
    "          - **Logs** - standard output and summary\n",
    "        \n",
    "        \n",
    "\n",
    "\n",
    "*https://circleci.com/docs/concepts*"
   ]
  },
  {
   "cell_type": "markdown",
   "id": "67803cbb",
   "metadata": {
    "slideshow": {
     "slide_type": "subslide"
    }
   },
   "source": [
    "# React Case Study: CircleCI API\n",
    "CircleCI offers an API to fetch information about pipelines and other resources all the way to individual logs."
   ]
  },
  {
   "cell_type": "code",
   "execution_count": 4,
   "id": "c0c625ab",
   "metadata": {
    "cell_style": "split",
    "slideshow": {
     "slide_type": "-"
    }
   },
   "outputs": [],
   "source": [
    "from pycircleci.api import Api\n",
    "\n",
    "ORG = \"facebook\"\n",
    "PROJECT = \"react\"\n",
    "TOKEN = \"{token}\" \n",
    "\n",
    "client = Api(token=TOKEN)"
   ]
  },
  {
   "cell_type": "code",
   "execution_count": 5,
   "id": "5461244e",
   "metadata": {
    "cell_style": "split"
   },
   "outputs": [],
   "source": [
    "%%script true\n",
    "\n",
    "client.get_project_pipelines(...\n",
    "client.get_pipeline_workflow(...\n",
    "client.get_workflow_jobs(...\n",
    "client.get_job_details_v1(...\n",
    "client._session.get(action[\"output_url\"])"
   ]
  },
  {
   "cell_type": "code",
   "execution_count": 6,
   "id": "5475bbf8",
   "metadata": {
    "slideshow": {
     "slide_type": "skip"
    }
   },
   "outputs": [],
   "source": [
    "from requests_ratelimiter import LimiterAdapter\n",
    "\n",
    "def configure_rate_limiting(client):\n",
    "    adapter = LimiterAdapter(per_second=5)\n",
    "    client._session.mount('http://', adapter)\n",
    "    client._session.mount('https://', adapter)\n",
    "\n",
    "configure_rate_limiting(client)"
   ]
  },
  {
   "cell_type": "code",
   "execution_count": 7,
   "id": "11c5e132",
   "metadata": {
    "slideshow": {
     "slide_type": "skip"
    }
   },
   "outputs": [],
   "source": [
    "# Monkey patch pycircleci.Api and add a new method.\n",
    "\n",
    "def get_job_details_v1(self, username, project, job_number, vcs_type=\"github\"):\n",
    "    \"\"\"Get job details using v1 api.\n",
    "\n",
    "    This api offers additional details about steps.\n",
    "    \"\"\"\n",
    "    slug = self.project_slug(username, project, vcs_type)\n",
    "    endpoint = f\"project/{slug}/{job_number}\"\n",
    "    resp = self._request(\"GET\", endpoint, api_version=\"v1.1\")\n",
    "    return resp\n",
    "\n",
    "Api.get_job_details_v1 = get_job_details_v1"
   ]
  },
  {
   "cell_type": "code",
   "execution_count": 8,
   "id": "7576e76f",
   "metadata": {
    "slideshow": {
     "slide_type": "skip"
    }
   },
   "outputs": [],
   "source": [
    "def update_workflows(client, org, project, pipeline):\n",
    "    \"\"\"Set information about workflows.\"\"\"\n",
    "    if \"workflows\" not in pipeline:\n",
    "        workflows = client.get_pipeline_workflow(pipeline[\"id\"], paginate=True)\n",
    "        pipeline[\"workflows\"] = workflows\n",
    "\n",
    "def update_jobs(client, org, project, pipeline):\n",
    "    \"\"\"Set information about jobs.\"\"\"\n",
    "    for workflow in [\n",
    "        w\n",
    "        for w in pipeline.get(\"workflows\", [])\n",
    "        if \"jobs\" not in w\n",
    "    ]:\n",
    "        jobs = client.get_workflow_jobs(workflow[\"id\"], paginate=True)\n",
    "        workflow[\"jobs\"] = jobs\n",
    "\n",
    "def update_job_details(client, org, project, pipeline, job_status=None):\n",
    "    \"\"\"Set detailed information about jobs.\"\"\"\n",
    "    for job in [\n",
    "        j \n",
    "        for w in pipeline.get(\"workflows\", [])\n",
    "        for j in w.get(\"jobs\", [])\n",
    "        if \"details\" not in j \n",
    "            and \"job_number\" in j \n",
    "            and (job_status is None or j[\"status\"] == job_status)\n",
    "    ]:\n",
    "        job_details = client.get_job_details(org, project, job[\"job_number\"])\n",
    "        job[\"details\"] = job_details\n",
    "\n",
    "def update_steps(client, org, project, pipeline, job_status=None, action_status=None):\n",
    "    \"\"\"Set very detailed information about jobs, steps and actions.\"\"\"\n",
    "    for job in tqdm([\n",
    "        j\n",
    "        for w in pipeline.get(\"workflows\", [])\n",
    "        for j in w.get(\"jobs\", [])\n",
    "        if \"details_v1\" not in j\n",
    "            and \"job_number\" in j\n",
    "            and (job_status is None or j[\"status\"] == job_status)\n",
    "    ], leave=False, desc=\"Jobs\"):\n",
    "        job_details = client.get_job_details_v1(org, project, job[\"job_number\"])\n",
    "\n",
    "        # Fetch output immediately because \"output_url\" has an access\n",
    "        # token, which is valid only for 5 minutes. \n",
    "        for action in [\n",
    "            a \n",
    "            for s in job_details[\"steps\"]\n",
    "            for a in s[\"actions\"]\n",
    "            if \"output_url\" in a \n",
    "                and \"output\" not in a\n",
    "                and (action_status is None or a[\"status\"] == action_status)\n",
    "        ]:\n",
    "            resp = client._session.get(action[\"output_url\"])\n",
    "            resp.raise_for_status()\n",
    "            action[\"output\"] = resp.json()\n",
    "\n",
    "        job[\"details_v1\"] = job_details"
   ]
  },
  {
   "cell_type": "code",
   "execution_count": 9,
   "id": "3c9640a7",
   "metadata": {
    "slideshow": {
     "slide_type": "skip"
    }
   },
   "outputs": [
    {
     "name": "stderr",
     "output_type": "stream",
     "text": [
      "5000it [00:19, 253.87it/s]\n"
     ]
    }
   ],
   "source": [
    "pipelines_path = 'pipelines.jsonl'\n",
    "\n",
    "if os.path.exists(pipelines_path):\n",
    "    with jsonlines.open(pipelines_path) as reader:\n",
    "        pipelines = list(tqdm(reader)) \n",
    "else:\n",
    "    pipelines = client.get_project_pipelines(org, project, paginate=True, limit=1000)\n",
    "\n",
    "    np.random.seed(42)\n",
    "    for pipeline in tqdm(pipelines, desc=\"Pipelines\"):\n",
    "        update_workflows(client, org, project, pipeline)   \n",
    "        update_jobs(client, org, project, pipeline)\n",
    "        if np.random.rand() < 0.99:\n",
    "            update_steps(client, org, project, pipeline,\n",
    "                job_status=\"failed\", action_status=\"failed\")\n",
    "        else:\n",
    "            update_steps(client, org, project, pipeline)\n",
    "\n",
    "    with jsonlines.open(pipelines_path, mode='w') as writer:\n",
    "        for p in pipelines:\n",
    "            writer.write(p)"
   ]
  },
  {
   "cell_type": "code",
   "execution_count": 10,
   "id": "3a8d9068",
   "metadata": {
    "slideshow": {
     "slide_type": "skip"
    }
   },
   "outputs": [],
   "source": [
    "# https://stackoverflow.com/questions/14693701\n",
    "ansi_escape_sequences_regex = re2.compile(\n",
    "    r'\\x1B(?:[@-Z\\\\-_]|\\[[0-?]*[ -/]*[@-~])')\n",
    "\n",
    "def remove_ansi_escape_sequences(text):\n",
    "    return ansi_escape_sequences_regex.sub(\"\", text)"
   ]
  },
  {
   "cell_type": "code",
   "execution_count": 11,
   "id": "40d17271",
   "metadata": {
    "slideshow": {
     "slide_type": "skip"
    }
   },
   "outputs": [
    {
     "name": "stderr",
     "output_type": "stream",
     "text": [
      "100%|██████████████████████████████████████████████████████| 5000/5000 [01:05<00:00, 76.34it/s]\n"
     ]
    }
   ],
   "source": [
    "actions = pd.DataFrame(\n",
    "[\n",
    "    { \n",
    "        \"pipeline_id\": p[\"id\"],\n",
    "        #\"pipeline_number\": p[\"number\"],\n",
    "        #\"pipeline_vcs_branch\": p[\"vcs\"][\"branch\"],\n",
    "        \"pipeline_actor_login\": p[\"trigger\"][\"actor\"][\"login\"],\n",
    "        \"workflow_id\": w[\"id\"],\n",
    "        \"workflow_name\": w[\"name\"],\n",
    "        \"workflow_status\": w[\"status\"],\n",
    "        \"job_id\": j[\"id\"],\n",
    "        #\"job_number\": j[\"job_number\"],\n",
    "        \"job_name\": j[\"name\"],\n",
    "        \"job_status\": j[\"status\"],\n",
    "        \"job_link\": f\"https://app.circleci.com/pipelines/github/facebook/react/{p[\"number\"]}/workflows/{w[\"id\"]}/jobs/{j[\"job_number\"]}/parallel-runs/{a[\"index\"]}?filterBy=ALL\",\n",
    "        \"action_name\": a[\"name\"],\n",
    "        \"action_fully_qualified_name\": \"/\".join([w[\"name\"], j[\"name\"], a[\"name\"]]),\n",
    "        \"action_index\": a[\"index\"],\n",
    "        \"action_status\": a[\"status\"],\n",
    "        \"action_output_time\": datetime.fromisoformat(o[\"time\"]),\n",
    "        \"action_output_message\": remove_ansi_escape_sequences(o[\"message\"]),\n",
    "        \"action_output_type\": o[\"type\"],        \n",
    "    }   \n",
    "    for p in tqdm(pipelines)\n",
    "    for w in p.get(\"workflows\", [])\n",
    "    for j in w.get(\"jobs\", [])\n",
    "    for s in j.get(\"details_v1\", {}).get(\"steps\", [])\n",
    "    for a in s.get(\"actions\", [])\n",
    "    for o in a.get(\"output\", [])\n",
    "]).assign(\n",
    "    action_output_date = lambda df: df[\"action_output_time\"].dt.round(\"1d\")\n",
    ")"
   ]
  },
  {
   "cell_type": "code",
   "execution_count": 12,
   "id": "fc7928f5",
   "metadata": {},
   "outputs": [
    {
     "name": "stdout",
     "output_type": "stream",
     "text": [
      "4.4G\tpipelines.jsonl\r\n"
     ]
    }
   ],
   "source": [
    "!du -h pipelines.jsonl"
   ]
  },
  {
   "cell_type": "markdown",
   "id": "dec5d529",
   "metadata": {},
   "source": [
    "*https://circleci.com/docs/api/v2/index.html*  \n",
    "*https://circleci.com/docs/managing-api-tokens*"
   ]
  },
  {
   "cell_type": "markdown",
   "id": "1d4f2147",
   "metadata": {
    "slideshow": {
     "slide_type": "subslide"
    }
   },
   "source": [
    "# React Case Study: Actions Fact Table\n"
   ]
  },
  {
   "cell_type": "code",
   "execution_count": 13,
   "id": "e725bc2f",
   "metadata": {
    "slideshow": {
     "slide_type": "-"
    }
   },
   "outputs": [
    {
     "name": "stdout",
     "output_type": "stream",
     "text": [
      "<class 'pandas.core.frame.DataFrame'>\n",
      "RangeIndex: 341630 entries, 0 to 341629\n",
      "Data columns (total 17 columns):\n",
      " #   Column                       Non-Null Count   Dtype              \n",
      "---  ------                       --------------   -----              \n",
      " 0   pipeline_id                  341630 non-null  object             \n",
      " 1   pipeline_actor_login         341630 non-null  object             \n",
      " 2   workflow_id                  341630 non-null  object             \n",
      " 3   workflow_name                341630 non-null  object             \n",
      " 4   workflow_status              341630 non-null  object             \n",
      " 5   job_id                       341630 non-null  object             \n",
      " 6   job_name                     341630 non-null  object             \n",
      " 7   job_status                   341630 non-null  object             \n",
      " 8   job_link                     341630 non-null  object             \n",
      " 9   action_name                  341630 non-null  object             \n",
      " 10  action_fully_qualified_name  341630 non-null  object             \n",
      " 11  action_index                 341630 non-null  int64              \n",
      " 12  action_status                341630 non-null  object             \n",
      " 13  action_output_time           341630 non-null  datetime64[ns, UTC]\n",
      " 14  action_output_message        341630 non-null  object             \n",
      " 15  action_output_type           341630 non-null  object             \n",
      " 16  action_output_date           341630 non-null  datetime64[ns, UTC]\n",
      "dtypes: datetime64[ns, UTC](2), int64(1), object(14)\n",
      "memory usage: 44.3+ MB\n"
     ]
    }
   ],
   "source": [
    "actions.info()"
   ]
  },
  {
   "cell_type": "markdown",
   "id": "47791ce9",
   "metadata": {
    "slideshow": {
     "slide_type": "slide"
    }
   },
   "source": [
    "# Pipeline Design\n",
    "\n",
    "<img src=\"media/component_diagram_1.png\" style=\"height:700px;\"/>"
   ]
  },
  {
   "cell_type": "markdown",
   "id": "62fb3f89",
   "metadata": {
    "slideshow": {
     "slide_type": "slide"
    }
   },
   "source": [
    "# Extraction"
   ]
  },
  {
   "cell_type": "markdown",
   "id": "843a7e42",
   "metadata": {
    "slideshow": {
     "slide_type": "subslide"
    }
   },
   "source": [
    "# Extraction\n",
    "\n",
    "Given a log file for a failed build or tests, extracts the snippet describing the error.\n",
    "\n",
    "\n",
    "1. **Federated solution** - allow teams to provide custom rules for extracting relevant error snippets.\n",
    "2. **General solution** - find lines which appear only in logs of failed actions.\n"
   ]
  },
  {
   "cell_type": "markdown",
   "id": "b71d3240",
   "metadata": {
    "slideshow": {
     "slide_type": "subslide"
    }
   },
   "source": [
    "# Extraction: Example\n",
    "\n",
    "<!--![](media/error_snippet.png)-->\n",
    "\n",
    "<img src=\"media/error_snippet.png\" style=\"height:700px;\"/>"
   ]
  },
  {
   "cell_type": "markdown",
   "id": "c8dcfde6",
   "metadata": {
    "slideshow": {
     "slide_type": "skip"
    }
   },
   "source": [
    "https://app.circleci.com/pipelines/github/facebook/react/50369/workflows/a074d639-5829-4708-b5c1-3bb69610b578/jobs/780483/parallel-runs/10?filterBy=ALL"
   ]
  },
  {
   "cell_type": "markdown",
   "id": "5d41244c",
   "metadata": {
    "slideshow": {
     "slide_type": "subslide"
    }
   },
   "source": [
    "# Extraction: Sample Code"
   ]
  },
  {
   "cell_type": "code",
   "execution_count": 14,
   "id": "f349b0a8",
   "metadata": {
    "slideshow": {
     "slide_type": "skip"
    }
   },
   "outputs": [],
   "source": [
    "import cachetools\n",
    "from collections import defaultdict\n",
    "\n",
    "token_regex = re2.compile(r\"\\b[[:alpha:]_][[:alpha:][:digit:]_-]+\")\n",
    "\n",
    "def parse_line(text):\n",
    "    return \";\".join(token_regex.findall(text))"
   ]
  },
  {
   "cell_type": "code",
   "execution_count": 15,
   "id": "4a3ca80b",
   "metadata": {
    "slideshow": {
     "slide_type": "-"
    }
   },
   "outputs": [],
   "source": [
    "def assign_action_output_failure(df, cache_size=2048):\n",
    "    result = []\n",
    "    action_cache = defaultdict(lambda: cachetools.LRUCache(cache_size))\n",
    "    for i, row in tqdm(df.iterrows(), total=len(df)):\n",
    "        failure_lines = []\n",
    "        success_cache = action_cache[row[\"action_fully_qualified_name\"]]\n",
    "        for line in row[\"action_output_message\"].splitlines():\n",
    "            template = parse_line(line)\n",
    "            \n",
    "            if row[\"action_status\"] == \"success\":\n",
    "                success_cache[template] = True\n",
    "            elif not template or template not in success_cache:\n",
    "                failure_lines.append(line)\n",
    "                \n",
    "        result.append(\"\\n\".join(failure_lines))\n",
    "    return result"
   ]
  },
  {
   "cell_type": "code",
   "execution_count": 16,
   "id": "6c7be94a",
   "metadata": {
    "slideshow": {
     "slide_type": "skip"
    }
   },
   "outputs": [
    {
     "name": "stderr",
     "output_type": "stream",
     "text": [
      "100%|█████████████████████████████████████████████████| 341630/341630 [14:32<00:00, 391.45it/s]\n"
     ]
    }
   ],
   "source": [
    "actions =  actions.assign(\n",
    "    action_output_failure = assign_action_output_failure\n",
    ")"
   ]
  },
  {
   "cell_type": "code",
   "execution_count": 17,
   "id": "7f8262ac",
   "metadata": {
    "slideshow": {
     "slide_type": "skip"
    }
   },
   "outputs": [
    {
     "name": "stdout",
     "output_type": "stream",
     "text": [
      "https://app.circleci.com/pipelines/github/facebook/react/50369/workflows/a074d639-5829-4708-b5c1-3bb69610b578/jobs/780483/parallel-runs/10?filterBy=ALL\n",
      "https://app.circleci.com/pipelines/github/facebook/react/50370/workflows/1d411977-e2da-4c0b-aaf1-8afa9f8315ce/jobs/780523/parallel-runs/10?filterBy=ALL\n",
      "https://app.circleci.com/pipelines/github/facebook/react/50372/workflows/9e5ff90c-4a57-4368-b0d1-1a7199651605/jobs/780583/parallel-runs/10?filterBy=ALL\n",
      "https://app.circleci.com/pipelines/github/facebook/react/50813/workflows/69f540c5-c70a-4742-b3de-65ffa3b1c616/jobs/793195/parallel-runs/3?filterBy=ALL\n",
      "https://app.circleci.com/pipelines/github/facebook/react/52545/workflows/25ac236a-e080-4f25-9c64-1fb16534549d/jobs/844606/parallel-runs/2?filterBy=ALL\n"
     ]
    }
   ],
   "source": [
    "# Find examples of jobs with passing and failing tests and short logs.\n",
    "(\n",
    "  actions\n",
    "  .query(\"action_status == 'failed'\")\n",
    "  .query(\"action_output_type == 'out'\")\n",
    "  .query(\"action_output_message.str.contains('PASS')\")\n",
    "  .query(\"action_output_failure.str.contains('FAIL')\")\n",
    "  .assign(action_output_message_length = lambda df: df[\"action_output_message\"].str.len())\n",
    "  .sort_values(\"action_output_message_length\")\n",
    "  .head(5)\n",
    "  .loc[:, \"job_link\"]\n",
    "  .apply(print)\n",
    ")\n",
    "None"
   ]
  },
  {
   "cell_type": "markdown",
   "id": "382ff492",
   "metadata": {
    "slideshow": {
     "slide_type": "subslide"
    }
   },
   "source": [
    "# Extraction: Results"
   ]
  },
  {
   "cell_type": "code",
   "execution_count": 67,
   "id": "009f981f",
   "metadata": {
    "slideshow": {
     "slide_type": "skip"
    }
   },
   "outputs": [],
   "source": [
    "line_num_ecdf_fig = (\n",
    "    actions\n",
    "    .query(\"action_status == 'failed'\")\n",
    "    .query(\"action_output_type == 'out'\")\n",
    "    .rename(columns={\n",
    "        \"action_output_message\":\"original\",\n",
    "        \"action_output_failure\":\"reduced\"\n",
    "    })\n",
    "    .melt(value_vars=[\"original\", \"reduced\"])\n",
    "    .rename(columns={\"variable\":\"version\"})\n",
    "    .assign(line_num = lambda df: df[\"value\"].str.count(\"\\n\"))\n",
    "    .pipe(\n",
    "        px.ecdf,\n",
    "        x=\"line_num\",\n",
    "        color=\"version\"\n",
    "    )\n",
    "    .update_layout(\n",
    "        **default_layout,\n",
    "        title=\"Empirical Cumulative Distribution Plots of Line Numbers\",\n",
    "        xaxis_title=\"Number of Lines\",\n",
    "        xaxis_range=[0, 200],\n",
    "        yaxis_title=\"Proportion\",\n",
    "        yaxis_tickformat=\",.0%\"\n",
    "    )\n",
    ")"
   ]
  },
  {
   "cell_type": "code",
   "execution_count": 69,
   "id": "b12838f1",
   "metadata": {},
   "outputs": [
    {
     "data": {
      "image/svg+xml": [
       "<svg class=\"main-svg\" xmlns=\"http://www.w3.org/2000/svg\" xmlns:xlink=\"http://www.w3.org/1999/xlink\" width=\"1000\" height=\"500\" style=\"\" viewBox=\"0 0 1000 500\"><rect x=\"0\" y=\"0\" width=\"1000\" height=\"500\" style=\"fill: rgb(255, 255, 255); fill-opacity: 1;\"/><defs id=\"defs-fabbcb\"><g class=\"clips\"><clipPath id=\"clipfabbcbxyplot\" class=\"plotclip\"><rect width=\"907\" height=\"403\"/></clipPath><clipPath class=\"axesclip\" id=\"clipfabbcbx\"><rect x=\"72\" y=\"0\" width=\"907\" height=\"500\"/></clipPath><clipPath class=\"axesclip\" id=\"clipfabbcby\"><rect x=\"0\" y=\"47\" width=\"1000\" height=\"403\"/></clipPath><clipPath class=\"axesclip\" id=\"clipfabbcbxy\"><rect x=\"72\" y=\"47\" width=\"907\" height=\"403\"/></clipPath></g><g class=\"gradients\"/><g class=\"patterns\"/></defs><g class=\"bglayer\"/><g class=\"layer-below\"><g class=\"imagelayer\"/><g class=\"shapelayer\"/></g><g class=\"cartesianlayer\"><g class=\"subplot xy\"><g class=\"layer-subplot\"><g class=\"shapelayer\"/><g class=\"imagelayer\"/></g><g class=\"minor-gridlayer\"><g class=\"x\"/><g class=\"y\"/></g><g class=\"gridlayer\"><g class=\"x\"><path class=\"xgrid crisp\" transform=\"translate(298.75,0)\" d=\"M0,47v403\" style=\"stroke: rgb(235, 240, 248); stroke-opacity: 1; stroke-width: 1px;\"/><path class=\"xgrid crisp\" transform=\"translate(525.5,0)\" d=\"M0,47v403\" style=\"stroke: rgb(235, 240, 248); stroke-opacity: 1; stroke-width: 1px;\"/><path class=\"xgrid crisp\" transform=\"translate(752.25,0)\" d=\"M0,47v403\" style=\"stroke: rgb(235, 240, 248); stroke-opacity: 1; stroke-width: 1px;\"/></g><g class=\"y\"><path class=\"ygrid crisp\" transform=\"translate(0,373.43)\" d=\"M72,0h907\" style=\"stroke: rgb(235, 240, 248); stroke-opacity: 1; stroke-width: 1px;\"/><path class=\"ygrid crisp\" transform=\"translate(0,296.86)\" d=\"M72,0h907\" style=\"stroke: rgb(235, 240, 248); stroke-opacity: 1; stroke-width: 1px;\"/><path class=\"ygrid crisp\" transform=\"translate(0,220.29)\" d=\"M72,0h907\" style=\"stroke: rgb(235, 240, 248); stroke-opacity: 1; stroke-width: 1px;\"/><path class=\"ygrid crisp\" transform=\"translate(0,143.72)\" d=\"M72,0h907\" style=\"stroke: rgb(235, 240, 248); stroke-opacity: 1; stroke-width: 1px;\"/><path class=\"ygrid crisp\" transform=\"translate(0,67.15)\" d=\"M72,0h907\" style=\"stroke: rgb(235, 240, 248); stroke-opacity: 1; stroke-width: 1px;\"/></g></g><g class=\"zerolinelayer\"><path class=\"xzl zl crisp\" transform=\"translate(72,0)\" d=\"M0,47v403\" style=\"stroke: rgb(235, 240, 248); stroke-opacity: 1; stroke-width: 2px;\"/><path class=\"yzl zl crisp\" transform=\"translate(0,450)\" d=\"M72,0h907\" style=\"stroke: rgb(235, 240, 248); stroke-opacity: 1; stroke-width: 2px;\"/></g><g class=\"layer-between\"><g class=\"shapelayer\"/><g class=\"imagelayer\"/></g><path class=\"xlines-below\"/><path class=\"ylines-below\"/><g class=\"overlines-below\"/><g class=\"xaxislayer-below\"/><g class=\"yaxislayer-below\"/><g class=\"overaxes-below\"/><g class=\"plot\" transform=\"translate(72,47)\" clip-path=\"url(#clipfabbcbxyplot)\"/><g class=\"overplot\"/><path class=\"xlines-above crisp\" d=\"M0,0\" style=\"fill: none;\"/><path class=\"ylines-above crisp\" d=\"M0,0\" style=\"fill: none;\"/><g class=\"overlines-above\"/><g class=\"xaxislayer-above\"><g class=\"xtick\"><text text-anchor=\"middle\" x=\"0\" y=\"463\" transform=\"translate(72,0)\" style=\"font-family: 'Open Sans', verdana, arial, sans-serif; font-size: 12px; fill: rgb(42, 63, 95); fill-opacity: 1; white-space: pre; opacity: 1;\">0</text></g><g class=\"xtick\"><text text-anchor=\"middle\" x=\"0\" y=\"463\" style=\"font-family: 'Open Sans', verdana, arial, sans-serif; font-size: 12px; fill: rgb(42, 63, 95); fill-opacity: 1; white-space: pre; opacity: 1;\" transform=\"translate(298.75,0)\">50</text></g><g class=\"xtick\"><text text-anchor=\"middle\" x=\"0\" y=\"463\" style=\"font-family: 'Open Sans', verdana, arial, sans-serif; font-size: 12px; fill: rgb(42, 63, 95); fill-opacity: 1; white-space: pre; opacity: 1;\" transform=\"translate(525.5,0)\">100</text></g><g class=\"xtick\"><text text-anchor=\"middle\" x=\"0\" y=\"463\" style=\"font-family: 'Open Sans', verdana, arial, sans-serif; font-size: 12px; fill: rgb(42, 63, 95); fill-opacity: 1; white-space: pre; opacity: 1;\" transform=\"translate(752.25,0)\">150</text></g><g class=\"xtick\"><text text-anchor=\"middle\" x=\"0\" y=\"463\" style=\"font-family: 'Open Sans', verdana, arial, sans-serif; font-size: 12px; fill: rgb(42, 63, 95); fill-opacity: 1; white-space: pre; opacity: 1;\" transform=\"translate(979,0)\">200</text></g></g><g class=\"yaxislayer-above\"><g class=\"ytick\"><text text-anchor=\"end\" x=\"71\" y=\"4.199999999999999\" transform=\"translate(0,450)\" style=\"font-family: 'Open Sans', verdana, arial, sans-serif; font-size: 12px; fill: rgb(42, 63, 95); fill-opacity: 1; white-space: pre; opacity: 1;\">0%</text></g><g class=\"ytick\"><text text-anchor=\"end\" x=\"71\" y=\"4.199999999999999\" style=\"font-family: 'Open Sans', verdana, arial, sans-serif; font-size: 12px; fill: rgb(42, 63, 95); fill-opacity: 1; white-space: pre; opacity: 1;\" transform=\"translate(0,373.43)\">20%</text></g><g class=\"ytick\"><text text-anchor=\"end\" x=\"71\" y=\"4.199999999999999\" style=\"font-family: 'Open Sans', verdana, arial, sans-serif; font-size: 12px; fill: rgb(42, 63, 95); fill-opacity: 1; white-space: pre; opacity: 1;\" transform=\"translate(0,296.86)\">40%</text></g><g class=\"ytick\"><text text-anchor=\"end\" x=\"71\" y=\"4.199999999999999\" style=\"font-family: 'Open Sans', verdana, arial, sans-serif; font-size: 12px; fill: rgb(42, 63, 95); fill-opacity: 1; white-space: pre; opacity: 1;\" transform=\"translate(0,220.29)\">60%</text></g><g class=\"ytick\"><text text-anchor=\"end\" x=\"71\" y=\"4.199999999999999\" style=\"font-family: 'Open Sans', verdana, arial, sans-serif; font-size: 12px; fill: rgb(42, 63, 95); fill-opacity: 1; white-space: pre; opacity: 1;\" transform=\"translate(0,143.72)\">80%</text></g><g class=\"ytick\"><text text-anchor=\"end\" x=\"71\" y=\"4.199999999999999\" style=\"font-family: 'Open Sans', verdana, arial, sans-serif; font-size: 12px; fill: rgb(42, 63, 95); fill-opacity: 1; white-space: pre; opacity: 1;\" transform=\"translate(0,67.15)\">100%</text></g></g><g class=\"overaxes-above\"/></g></g><g class=\"polarlayer\"/><g class=\"smithlayer\"/><g class=\"ternarylayer\"/><g class=\"geolayer\"/><g class=\"funnelarealayer\"/><g class=\"pielayer\"/><g class=\"iciclelayer\"/><g class=\"treemaplayer\"/><g class=\"sunburstlayer\"/><g class=\"glimages\"><image xmlns=\"http://www.w3.org/2000/svg\" xlink:href=\"data:image/png;base64,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\" preserveAspectRatio=\"none\" x=\"0\" y=\"0\" width=\"1000px\" height=\"500px\"/><image xmlns=\"http://www.w3.org/2000/svg\" xlink:href=\"data:image/png;base64,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\" preserveAspectRatio=\"none\" x=\"0\" y=\"0\" width=\"1000px\" height=\"500px\"/></g><defs id=\"topdefs-fabbcb\"><g class=\"clips\"/><clipPath id=\"legendfabbcb\"><rect width=\"244\" height=\"29\" x=\"0\" y=\"0\"/></clipPath></defs><g class=\"layer-above\"><g class=\"imagelayer\"/><g class=\"shapelayer\"/></g><g class=\"infolayer\"><g class=\"legend\" pointer-events=\"all\" transform=\"translate(735,9.93999999999999)\"><rect class=\"bg\" shape-rendering=\"crispEdges\" width=\"244\" height=\"29\" x=\"0\" y=\"0\" style=\"stroke: rgb(68, 68, 68); stroke-opacity: 1; fill: rgb(255, 255, 255); fill-opacity: 1; stroke-width: 0px;\"/><g class=\"scrollbox\" transform=\"\" clip-path=\"url(#legendfabbcb)\"><text class=\"legendtitletext\" text-anchor=\"start\" x=\"2\" y=\"18.2\" style=\"font-family: 'Open Sans', verdana, arial, sans-serif; font-size: 14px; fill: rgb(42, 63, 95); fill-opacity: 1; white-space: pre;\">version</text><g class=\"groups\" transform=\"\"><g class=\"traces\" transform=\"translate(61.09375,14.5)\" style=\"opacity: 1;\"><text class=\"legendtext\" text-anchor=\"start\" x=\"40\" y=\"4.680000000000001\" style=\"font-family: 'Open Sans', verdana, arial, sans-serif; font-size: 12px; fill: rgb(42, 63, 95); fill-opacity: 1; white-space: pre;\">original</text><g class=\"layers\" style=\"opacity: 1;\"><g class=\"legendfill\"/><g class=\"legendlines\"><path class=\"js-line\" d=\"M5,0h30\" style=\"fill: none; stroke: rgb(99, 110, 250); stroke-opacity: 1; stroke-width: 2px;\"/></g><g class=\"legendsymbols\"><g class=\"legendpoints\"/></g></g><rect class=\"legendtoggle\" x=\"0\" y=\"-9.5\" width=\"87.0625\" height=\"19\" style=\"fill: rgb(0, 0, 0); fill-opacity: 0;\"/></g></g><g class=\"groups\" transform=\"translate(89.5625,0)\"><g class=\"traces\" transform=\"translate(61.09375,14.5)\" style=\"opacity: 1;\"><text class=\"legendtext\" text-anchor=\"start\" x=\"40\" y=\"4.680000000000001\" style=\"font-family: 'Open Sans', verdana, arial, sans-serif; font-size: 12px; fill: rgb(42, 63, 95); fill-opacity: 1; white-space: pre;\">reduced</text><g class=\"layers\" style=\"opacity: 1;\"><g class=\"legendfill\"/><g class=\"legendlines\"><path class=\"js-line\" d=\"M5,0h30\" style=\"fill: none; stroke: rgb(239, 85, 59); stroke-opacity: 1; stroke-width: 2px;\"/></g><g class=\"legendsymbols\"><g class=\"legendpoints\"/></g></g><rect class=\"legendtoggle\" x=\"0\" y=\"-9.5\" width=\"90.71875\" height=\"19\" style=\"fill: rgb(0, 0, 0); fill-opacity: 0;\"/></g></g></g><rect class=\"scrollbar\" rx=\"20\" ry=\"3\" width=\"0\" height=\"0\" x=\"0\" y=\"0\" style=\"fill: rgb(128, 139, 164); fill-opacity: 1;\"/></g><g class=\"g-gtitle\"><text class=\"gtitle\" x=\"50\" y=\"23.5\" text-anchor=\"start\" dy=\"0em\" style=\"font-family: 'Open Sans', verdana, arial, sans-serif; font-size: 17px; fill: rgb(42, 63, 95); opacity: 1; white-space: pre;\">Empirical Cumulative Distribution Plots of Line Numbers</text></g><g class=\"g-xtitle\"><text class=\"xtitle\" x=\"525.5\" y=\"489.8\" text-anchor=\"middle\" style=\"font-family: 'Open Sans', verdana, arial, sans-serif; font-size: 14px; fill: rgb(42, 63, 95); opacity: 1; white-space: pre;\">Number of Lines</text></g><g class=\"g-ytitle\"><text class=\"ytitle\" transform=\"rotate(-90,15.787500000000001,248.5)\" x=\"15.787500000000001\" y=\"248.5\" text-anchor=\"middle\" style=\"font-family: 'Open Sans', verdana, arial, sans-serif; font-size: 14px; fill: rgb(42, 63, 95); opacity: 1; white-space: pre;\">Proportion</text></g></g></svg>"
      ]
     },
     "metadata": {},
     "output_type": "display_data"
    }
   ],
   "source": [
    "line_num_ecdf_fig.show()"
   ]
  },
  {
   "cell_type": "markdown",
   "id": "3847f5dc",
   "metadata": {
    "slideshow": {
     "slide_type": "subslide"
    }
   },
   "source": [
    "# Extraction: Extensions\n",
    "\n",
    "1. Use log parser and diff failures based on log templates  \n",
    "  *Jiang, Z., Liu, J., Huang, J., Li, Y., Huo, Y., Gu, J., Chen, Z., Zhu, J. and Lyu, M.R., 2023. A Large-scale Benchmark for Log Parsing*\n"
   ]
  },
  {
   "cell_type": "markdown",
   "id": "c719eae2",
   "metadata": {
    "slideshow": {
     "slide_type": "slide"
    }
   },
   "source": [
    "# Vectorization"
   ]
  },
  {
   "cell_type": "markdown",
   "id": "1d1e6de3",
   "metadata": {
    "slideshow": {
     "slide_type": "subslide"
    }
   },
   "source": [
    "# Vectorization\n",
    "\n",
    "Convert raw text data into a numerical format that can be efficiently processed.\n",
    "\n",
    "\n",
    "1. Bag-of-word model with an open-vocabulary\n",
    "2. Minhash (e.g. with 256 x 16-bit we get a constant 0.5 kB per error)\n",
    "\n",
    "<center>\n",
    "<img src=\"media/jaccard_similarity.png\" style=\"height:300px;\"/>\n",
    "</center>\n",
    "\n",
    "*Leskovec J, Rajaraman A, Ullman JD. \"Chapter 3: Finding Similar Items\" Mining of massive data sets. Cambridge university press; 2020 Jan 9.*"
   ]
  },
  {
   "cell_type": "markdown",
   "id": "2a3ed83a",
   "metadata": {
    "slideshow": {
     "slide_type": "subslide"
    }
   },
   "source": [
    "# Vectorization: Normalization\n",
    "Reduce the size of the vocabulary by removing common hashes and common metadata."
   ]
  },
  {
   "cell_type": "code",
   "execution_count": 70,
   "id": "2467c419",
   "metadata": {},
   "outputs": [],
   "source": [
    "normalize_rules = [\n",
    "    (\n",
    "        \"{GUID}\",\n",
    "        re2.compile(r'[0-9a-f]{8}-[0-9a-f]{4}-[0-9a-f]{4}-[0-9a-f]{4}-[0-9a-f]{12}')\n",
    "    ),\n",
    "]\n",
    "\n",
    "def normalize(text):\n",
    "    for repl, regex in normalize_rules:\n",
    "        text = regex.sub(repl, text)\n",
    "    return text"
   ]
  },
  {
   "cell_type": "markdown",
   "id": "17bf3ec1",
   "metadata": {
    "slideshow": {
     "slide_type": "subslide"
    }
   },
   "source": [
    "# Vectorization: Tokenization\n",
    "Extract meaningful tokens."
   ]
  },
  {
   "cell_type": "code",
   "execution_count": 21,
   "id": "c8838e56",
   "metadata": {},
   "outputs": [],
   "source": [
    "token_regex = re2.compile(r\"\\b[[:alpha:]_][[:alpha:][:digit:]_-]+\")\n",
    "\n",
    "def tokenize(text):\n",
    "    normalized_text = normalize(text)\n",
    "    return token_regex.findall(normalized_text)"
   ]
  },
  {
   "cell_type": "markdown",
   "id": "90b6bf48",
   "metadata": {
    "slideshow": {
     "slide_type": "subslide"
    }
   },
   "source": [
    "# Vectorization: Minhash\n",
    "Convert set of tokens to Minhash sketches."
   ]
  },
  {
   "cell_type": "code",
   "execution_count": 22,
   "id": "ebdff819",
   "metadata": {},
   "outputs": [],
   "source": [
    "from datasketch import MinHash\n",
    "\n",
    "NUM_PERM = 256\n",
    "\n",
    "def vectorize(tokens):\n",
    "    m = MinHash(num_perm=NUM_PERM)\n",
    "    for token in set(tokens):\n",
    "        m.update(token.encode('utf8'))\n",
    "    return m.hashvalues"
   ]
  },
  {
   "cell_type": "markdown",
   "id": "de87ae36",
   "metadata": {
    "slideshow": {
     "slide_type": "subslide"
    }
   },
   "source": [
    "# Vectorization: Results\n",
    "Minhash representation is more compact and allows for fast nearest-neighbors search.\n",
    "\n",
    "Total size of original text data:"
   ]
  },
  {
   "cell_type": "code",
   "execution_count": 23,
   "id": "97e4990a",
   "metadata": {},
   "outputs": [
    {
     "name": "stdout",
     "output_type": "stream",
     "text": [
      "1.978 GB\n"
     ]
    }
   ],
   "source": [
    "print(\"{:.3f} GB\".format(actions[\"action_output_message\"].str.len().sum() / 2 ** 30))"
   ]
  },
  {
   "cell_type": "markdown",
   "id": "73710f2e",
   "metadata": {},
   "source": [
    "Total size of minhash sketches:"
   ]
  },
  {
   "cell_type": "code",
   "execution_count": 24,
   "id": "70ed4d41",
   "metadata": {},
   "outputs": [
    {
     "name": "stdout",
     "output_type": "stream",
     "text": [
      "0.163 GB\n"
     ]
    }
   ],
   "source": [
    "print(\"{:.3f} GB\".format(actions.shape[0] * np.uint16(0).nbytes * NUM_PERM / 2 ** 30))"
   ]
  },
  {
   "cell_type": "markdown",
   "id": "a6eab3a7",
   "metadata": {
    "slideshow": {
     "slide_type": "subslide"
    }
   },
   "source": [
    "# Vectorization: Extensions\n",
    "1. **Process documents in parallel.** Vectorization is embarrassingly parallelizable.\n",
    "2. **Use Weighted Minhash**. Minhash with Inverse Document Frequency (IDF) weights can automatically ignore common terms such as \"failed\".  \n",
    "  *Chum, O., Philbin, J. and Zisserman, A., 2008, September. Near duplicate image detection: Min-hash and TF-IDF weighting.*\n",
    "3. **Use Neural Network Vector Embeddings (future).** Embeddings are a good alternative to Minhash sketches and they can capture semantics of logs.  \n",
    "  *Meng, W., Liu, Y., Huang, Y., Zhang, S., Zaiter, F., Chen, B. and Pei, D., 2020, August. A semantic-aware representation framework for online log analysis.*"
   ]
  },
  {
   "cell_type": "code",
   "execution_count": 25,
   "id": "a4705339",
   "metadata": {
    "slideshow": {
     "slide_type": "skip"
    }
   },
   "outputs": [
    {
     "name": "stderr",
     "output_type": "stream",
     "text": [
      "100%|█████████████████████████████████████████████████| 341630/341630 [15:35<00:00, 365.15it/s]\n"
     ]
    }
   ],
   "source": [
    "actions = actions.assign(\n",
    "    action_output_sketch=lambda df: [\n",
    "        vectorize(tokenize(x))\n",
    "        for x in tqdm(df[\"action_output_failure\"])])"
   ]
  },
  {
   "cell_type": "markdown",
   "id": "484114db",
   "metadata": {
    "slideshow": {
     "slide_type": "slide"
    }
   },
   "source": [
    "# Clustering"
   ]
  },
  {
   "cell_type": "markdown",
   "id": "678bdda6",
   "metadata": {
    "slideshow": {
     "slide_type": "subslide"
    }
   },
   "source": [
    "# Clustering\n",
    "Given vector representation of the error, find a **near-duplicate cluster** or create a new cluster. \n",
    "\n",
    "- Near-duplicate search is performed on a vector database.\n",
    "- For Minhash the database should support *Generalized Hamming Distance*.\n",
    "- LSH Forest is an efficient data structure and offers time complexity of $O(n log(n))$.\n",
    "\n",
    "*Bawa, M., Condie, T. and Ganesan, P., 2005, May. LSH forest: self-tuning indexes for similarity search.*\n"
   ]
  },
  {
   "cell_type": "code",
   "execution_count": 26,
   "id": "61ac9e82",
   "metadata": {
    "slideshow": {
     "slide_type": "skip"
    }
   },
   "outputs": [],
   "source": [
    "def jaccard_distance(a, b):\n",
    "    return 1 - float(np.count_nonzero(a == b)) / len(a)"
   ]
  },
  {
   "cell_type": "markdown",
   "id": "6d839efb",
   "metadata": {
    "slideshow": {
     "slide_type": "subslide"
    }
   },
   "source": [
    "# Clustering: Sample Code"
   ]
  },
  {
   "cell_type": "code",
   "execution_count": 27,
   "id": "1b3c7a61",
   "metadata": {},
   "outputs": [],
   "source": [
    "from datasketch import MinHashLSHForest\n",
    "\n",
    "def assign_action_output_cluster_info(df, max_distance=0.2, num_trees=16):\n",
    "    cluster_info = []\n",
    "    forest = MinHashLSHForest(num_perm=NUM_PERM, l=num_trees)\n",
    "    for index, sketch in tqdm(df[\"action_output_sketch\"].items(), total=len(df)):        \n",
    "        neighbors = forest.query(MinHash(hashvalues=sketch), 10)\n",
    "        \n",
    "        if neighbors:\n",
    "            distances = [jaccard_distance(sketch, x) for x in df.loc[neighbors, \"action_output_sketch\"]]\n",
    "            nearest_i = np.argmin(distances)\n",
    "            nearest_index, nearest_dist = (neighbors[nearest_i], distances[nearest_i])\n",
    "        else:\n",
    "            nearest_index, nearest_dist = (0, 1.0)\n",
    "\n",
    "        if nearest_dist < max_distance:\n",
    "            cluster_info.append((nearest_index, nearest_dist)) # Use nearest index as cluster\n",
    "        else:\n",
    "            cluster_info.append((index, 0.0)) # Create new cluster with current index\n",
    "            forest.add(index, MinHash(hashvalues=sketch)) \n",
    "            forest.index()\n",
    "            \n",
    "    return cluster_info"
   ]
  },
  {
   "cell_type": "code",
   "execution_count": 28,
   "id": "68be8a3d",
   "metadata": {
    "slideshow": {
     "slide_type": "skip"
    }
   },
   "outputs": [
    {
     "name": "stderr",
     "output_type": "stream",
     "text": [
      "100%|█████████████████████████████████████████████████| 341630/341630 [13:54<00:00, 409.31it/s]\n"
     ]
    }
   ],
   "source": [
    "actions = (\n",
    "    actions\n",
    "    .assign(\n",
    "        action_output_cluster_info=partial(assign_action_output_cluster_info)\n",
    "    )\n",
    "    .assign(\n",
    "        action_output_cluster_id = lambda df:[\n",
    "            i for i, _ in df[\"action_output_cluster_info\"]\n",
    "        ],\n",
    "        action_output_cluster_dist = lambda df:[\n",
    "            d for _, d in df[\"action_output_cluster_info\"]\n",
    "        ]\n",
    "    )\n",
    "    .drop(columns=\"action_output_cluster_info\")\n",
    ")"
   ]
  },
  {
   "cell_type": "markdown",
   "id": "74b52a1e",
   "metadata": {
    "slideshow": {
     "slide_type": "subslide"
    }
   },
   "source": [
    "# Clustering: Results"
   ]
  },
  {
   "cell_type": "code",
   "execution_count": 61,
   "id": "04a6e19c",
   "metadata": {
    "slideshow": {
     "slide_type": "skip"
    }
   },
   "outputs": [],
   "source": [
    "nearest_distance_ecdf_fig = (\n",
    "    actions\n",
    "    .query(\"action_status == 'failed'\")\n",
    "    .query(\"action_output_type == 'out'\")\n",
    "    .query(\"action_output_failure.str.len() > 0\")\n",
    "    .pipe(\n",
    "        px.ecdf,\n",
    "        x=\"action_output_cluster_dist\",\n",
    "    )\n",
    "    .update_layout(\n",
    "        **default_layout,\n",
    "        title=\"Empirical Cumulative Distribution Plot of Distance to the Cluster Prototype\",\n",
    "        xaxis_title=\"Cluster Size\",\n",
    "        #xaxis_range=[0, 1],\n",
    "        yaxis_title=\"Proportion\",\n",
    "        yaxis_tickformat=\",.0%\",\n",
    "        #yaxis_range=[0, 1],\n",
    "    )\n",
    "    .update_layout(\n",
    "        margin=dict(\n",
    "            l=10,\n",
    "            r=10,\n",
    "            b=10,\n",
    "            t=40,\n",
    "        ),\n",
    "    )\n",
    ")"
   ]
  },
  {
   "cell_type": "code",
   "execution_count": 62,
   "id": "7c382850",
   "metadata": {},
   "outputs": [
    {
     "data": {
      "image/svg+xml": [
       "<svg class=\"main-svg\" xmlns=\"http://www.w3.org/2000/svg\" xmlns:xlink=\"http://www.w3.org/1999/xlink\" width=\"1000\" height=\"500\" style=\"\" viewBox=\"0 0 1000 500\"><rect x=\"0\" y=\"0\" width=\"1000\" height=\"500\" style=\"fill: rgb(255, 255, 255); fill-opacity: 1;\"/><defs id=\"defs-69af84\"><g class=\"clips\"><clipPath id=\"clip69af84xyplot\" class=\"plotclip\"><rect width=\"918\" height=\"410\"/></clipPath><clipPath class=\"axesclip\" id=\"clip69af84x\"><rect x=\"72\" y=\"0\" width=\"918\" height=\"500\"/></clipPath><clipPath class=\"axesclip\" id=\"clip69af84y\"><rect x=\"0\" y=\"40\" width=\"1000\" height=\"410\"/></clipPath><clipPath class=\"axesclip\" id=\"clip69af84xy\"><rect x=\"72\" y=\"40\" width=\"918\" height=\"410\"/></clipPath></g><g class=\"gradients\"/><g class=\"patterns\"/></defs><g class=\"bglayer\"/><g class=\"layer-below\"><g class=\"imagelayer\"/><g class=\"shapelayer\"/></g><g class=\"cartesianlayer\"><g class=\"subplot xy\"><g class=\"layer-subplot\"><g class=\"shapelayer\"/><g class=\"imagelayer\"/></g><g class=\"minor-gridlayer\"><g class=\"x\"/><g class=\"y\"/></g><g class=\"gridlayer\"><g class=\"x\"><path class=\"xgrid crisp\" transform=\"translate(164.16,0)\" d=\"M0,40v410\" style=\"stroke: rgb(235, 240, 248); stroke-opacity: 1; stroke-width: 1px;\"/><path class=\"xgrid crisp\" transform=\"translate(256.32,0)\" d=\"M0,40v410\" style=\"stroke: rgb(235, 240, 248); stroke-opacity: 1; stroke-width: 1px;\"/><path class=\"xgrid crisp\" transform=\"translate(348.48,0)\" d=\"M0,40v410\" style=\"stroke: rgb(235, 240, 248); stroke-opacity: 1; stroke-width: 1px;\"/><path class=\"xgrid crisp\" transform=\"translate(440.64,0)\" d=\"M0,40v410\" style=\"stroke: rgb(235, 240, 248); stroke-opacity: 1; stroke-width: 1px;\"/><path class=\"xgrid crisp\" transform=\"translate(532.8,0)\" d=\"M0,40v410\" style=\"stroke: rgb(235, 240, 248); stroke-opacity: 1; stroke-width: 1px;\"/><path class=\"xgrid crisp\" transform=\"translate(624.96,0)\" d=\"M0,40v410\" style=\"stroke: rgb(235, 240, 248); stroke-opacity: 1; stroke-width: 1px;\"/><path class=\"xgrid crisp\" transform=\"translate(717.12,0)\" d=\"M0,40v410\" style=\"stroke: rgb(235, 240, 248); stroke-opacity: 1; stroke-width: 1px;\"/><path class=\"xgrid crisp\" transform=\"translate(809.28,0)\" d=\"M0,40v410\" style=\"stroke: rgb(235, 240, 248); stroke-opacity: 1; stroke-width: 1px;\"/><path class=\"xgrid crisp\" transform=\"translate(901.44,0)\" d=\"M0,40v410\" style=\"stroke: rgb(235, 240, 248); stroke-opacity: 1; stroke-width: 1px;\"/></g><g class=\"y\"><path class=\"ygrid crisp\" transform=\"translate(0,372.1)\" d=\"M72,0h918\" style=\"stroke: rgb(235, 240, 248); stroke-opacity: 1; stroke-width: 1px;\"/><path class=\"ygrid crisp\" transform=\"translate(0,294.2)\" d=\"M72,0h918\" style=\"stroke: rgb(235, 240, 248); stroke-opacity: 1; stroke-width: 1px;\"/><path class=\"ygrid crisp\" transform=\"translate(0,216.3)\" d=\"M72,0h918\" style=\"stroke: rgb(235, 240, 248); stroke-opacity: 1; stroke-width: 1px;\"/><path class=\"ygrid crisp\" transform=\"translate(0,138.4)\" d=\"M72,0h918\" style=\"stroke: rgb(235, 240, 248); stroke-opacity: 1; stroke-width: 1px;\"/><path class=\"ygrid crisp\" transform=\"translate(0,60.5)\" d=\"M72,0h918\" style=\"stroke: rgb(235, 240, 248); stroke-opacity: 1; stroke-width: 1px;\"/></g></g><g class=\"zerolinelayer\"><path class=\"xzl zl crisp\" transform=\"translate(72,0)\" d=\"M0,40v410\" style=\"stroke: rgb(235, 240, 248); stroke-opacity: 1; stroke-width: 2px;\"/><path class=\"yzl zl crisp\" transform=\"translate(0,450)\" d=\"M72,0h918\" style=\"stroke: rgb(235, 240, 248); stroke-opacity: 1; stroke-width: 2px;\"/></g><g class=\"layer-between\"><g class=\"shapelayer\"/><g class=\"imagelayer\"/></g><path class=\"xlines-below\"/><path class=\"ylines-below\"/><g class=\"overlines-below\"/><g class=\"xaxislayer-below\"/><g class=\"yaxislayer-below\"/><g class=\"overaxes-below\"/><g class=\"plot\" transform=\"translate(72,40)\" clip-path=\"url(#clip69af84xyplot)\"/><g class=\"overplot\"/><path class=\"xlines-above crisp\" d=\"M0,0\" style=\"fill: none;\"/><path class=\"ylines-above crisp\" d=\"M0,0\" style=\"fill: none;\"/><g class=\"overlines-above\"/><g class=\"xaxislayer-above\"><g class=\"xtick\"><text text-anchor=\"middle\" x=\"0\" y=\"463\" transform=\"translate(72,0)\" style=\"font-family: 'Open Sans', verdana, arial, sans-serif; font-size: 12px; fill: rgb(42, 63, 95); fill-opacity: 1; white-space: pre; opacity: 1;\">0</text></g><g class=\"xtick\"><text text-anchor=\"middle\" x=\"0\" y=\"463\" style=\"font-family: 'Open Sans', verdana, arial, sans-serif; font-size: 12px; fill: rgb(42, 63, 95); fill-opacity: 1; white-space: pre; opacity: 1;\" transform=\"translate(164.16,0)\">0.02</text></g><g class=\"xtick\"><text text-anchor=\"middle\" x=\"0\" y=\"463\" style=\"font-family: 'Open Sans', verdana, arial, sans-serif; font-size: 12px; fill: rgb(42, 63, 95); fill-opacity: 1; white-space: pre; opacity: 1;\" transform=\"translate(256.32,0)\">0.04</text></g><g class=\"xtick\"><text text-anchor=\"middle\" x=\"0\" y=\"463\" style=\"font-family: 'Open Sans', verdana, arial, sans-serif; font-size: 12px; fill: rgb(42, 63, 95); fill-opacity: 1; white-space: pre; opacity: 1;\" transform=\"translate(348.48,0)\">0.06</text></g><g class=\"xtick\"><text text-anchor=\"middle\" x=\"0\" y=\"463\" style=\"font-family: 'Open Sans', verdana, arial, sans-serif; font-size: 12px; fill: rgb(42, 63, 95); fill-opacity: 1; white-space: pre; opacity: 1;\" transform=\"translate(440.64,0)\">0.08</text></g><g class=\"xtick\"><text text-anchor=\"middle\" x=\"0\" y=\"463\" style=\"font-family: 'Open Sans', verdana, arial, sans-serif; font-size: 12px; fill: rgb(42, 63, 95); fill-opacity: 1; white-space: pre; opacity: 1;\" transform=\"translate(532.8,0)\">0.1</text></g><g class=\"xtick\"><text text-anchor=\"middle\" x=\"0\" y=\"463\" style=\"font-family: 'Open Sans', verdana, arial, sans-serif; font-size: 12px; fill: rgb(42, 63, 95); fill-opacity: 1; white-space: pre; opacity: 1;\" transform=\"translate(624.96,0)\">0.12</text></g><g class=\"xtick\"><text text-anchor=\"middle\" x=\"0\" y=\"463\" style=\"font-family: 'Open Sans', verdana, arial, sans-serif; font-size: 12px; fill: rgb(42, 63, 95); fill-opacity: 1; white-space: pre; opacity: 1;\" transform=\"translate(717.12,0)\">0.14</text></g><g class=\"xtick\"><text text-anchor=\"middle\" x=\"0\" y=\"463\" style=\"font-family: 'Open Sans', verdana, arial, sans-serif; font-size: 12px; fill: rgb(42, 63, 95); fill-opacity: 1; white-space: pre; opacity: 1;\" transform=\"translate(809.28,0)\">0.16</text></g><g class=\"xtick\"><text text-anchor=\"middle\" x=\"0\" y=\"463\" style=\"font-family: 'Open Sans', verdana, arial, sans-serif; font-size: 12px; fill: rgb(42, 63, 95); fill-opacity: 1; white-space: pre; opacity: 1;\" transform=\"translate(901.44,0)\">0.18</text></g></g><g class=\"yaxislayer-above\"><g class=\"ytick\"><text text-anchor=\"end\" x=\"71\" y=\"4.199999999999999\" transform=\"translate(0,450)\" style=\"font-family: 'Open Sans', verdana, arial, sans-serif; font-size: 12px; fill: rgb(42, 63, 95); fill-opacity: 1; white-space: pre; opacity: 1;\">0%</text></g><g class=\"ytick\"><text text-anchor=\"end\" x=\"71\" y=\"4.199999999999999\" style=\"font-family: 'Open Sans', verdana, arial, sans-serif; font-size: 12px; fill: rgb(42, 63, 95); fill-opacity: 1; white-space: pre; opacity: 1;\" transform=\"translate(0,372.1)\">20%</text></g><g class=\"ytick\"><text text-anchor=\"end\" x=\"71\" y=\"4.199999999999999\" style=\"font-family: 'Open Sans', verdana, arial, sans-serif; font-size: 12px; fill: rgb(42, 63, 95); fill-opacity: 1; white-space: pre; opacity: 1;\" transform=\"translate(0,294.2)\">40%</text></g><g class=\"ytick\"><text text-anchor=\"end\" x=\"71\" y=\"4.199999999999999\" style=\"font-family: 'Open Sans', verdana, arial, sans-serif; font-size: 12px; fill: rgb(42, 63, 95); fill-opacity: 1; white-space: pre; opacity: 1;\" transform=\"translate(0,216.3)\">60%</text></g><g class=\"ytick\"><text text-anchor=\"end\" x=\"71\" y=\"4.199999999999999\" style=\"font-family: 'Open Sans', verdana, arial, sans-serif; font-size: 12px; fill: rgb(42, 63, 95); fill-opacity: 1; white-space: pre; opacity: 1;\" transform=\"translate(0,138.4)\">80%</text></g><g class=\"ytick\"><text text-anchor=\"end\" x=\"71\" y=\"4.199999999999999\" style=\"font-family: 'Open Sans', verdana, arial, sans-serif; font-size: 12px; fill: rgb(42, 63, 95); fill-opacity: 1; white-space: pre; opacity: 1;\" transform=\"translate(0,60.5)\">100%</text></g></g><g class=\"overaxes-above\"/></g></g><g class=\"polarlayer\"/><g class=\"smithlayer\"/><g class=\"ternarylayer\"/><g class=\"geolayer\"/><g class=\"funnelarealayer\"/><g class=\"pielayer\"/><g class=\"iciclelayer\"/><g class=\"treemaplayer\"/><g class=\"sunburstlayer\"/><g class=\"glimages\"><image xmlns=\"http://www.w3.org/2000/svg\" xlink:href=\"data:image/png;base64,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\" preserveAspectRatio=\"none\" x=\"0\" y=\"0\" width=\"1000px\" height=\"500px\"/><image xmlns=\"http://www.w3.org/2000/svg\" xlink:href=\"data:image/png;base64,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\" preserveAspectRatio=\"none\" x=\"0\" y=\"0\" width=\"1000px\" height=\"500px\"/></g><defs id=\"topdefs-69af84\"><g class=\"clips\"/></defs><g class=\"layer-above\"><g class=\"imagelayer\"/><g class=\"shapelayer\"/></g><g class=\"infolayer\"><g class=\"g-gtitle\"><text class=\"gtitle\" x=\"50\" y=\"20\" text-anchor=\"start\" dy=\"0em\" style=\"font-family: 'Open Sans', verdana, arial, sans-serif; font-size: 17px; fill: rgb(42, 63, 95); opacity: 1; white-space: pre;\">Empirical Cumulative Distribution Plot of Distance to the Cluster Prototype</text></g><g class=\"g-xtitle\"><text class=\"xtitle\" x=\"531\" y=\"489.8\" text-anchor=\"middle\" style=\"font-family: 'Open Sans', verdana, arial, sans-serif; font-size: 14px; fill: rgb(42, 63, 95); opacity: 1; white-space: pre;\">Cluster Size</text></g><g class=\"g-ytitle\"><text class=\"ytitle\" transform=\"rotate(-90,15.787500000000001,245)\" x=\"15.787500000000001\" y=\"245\" text-anchor=\"middle\" style=\"font-family: 'Open Sans', verdana, arial, sans-serif; font-size: 14px; fill: rgb(42, 63, 95); opacity: 1; white-space: pre;\">Proportion</text></g></g></svg>"
      ]
     },
     "metadata": {},
     "output_type": "display_data"
    }
   ],
   "source": [
    "nearest_distance_ecdf_fig.show()"
   ]
  },
  {
   "cell_type": "markdown",
   "id": "d334096a",
   "metadata": {
    "slideshow": {
     "slide_type": "subslide"
    }
   },
   "source": [
    "# Clustering: Results"
   ]
  },
  {
   "cell_type": "code",
   "execution_count": 65,
   "id": "0123614e",
   "metadata": {
    "slideshow": {
     "slide_type": "skip"
    }
   },
   "outputs": [],
   "source": [
    "cluster_size_ecdf_fig = (\n",
    "    actions\n",
    "    .query(\"action_status == 'failed'\")\n",
    "    .query(\"action_output_type == 'out'\")\n",
    "    .groupby(\"action_output_cluster_id\")\n",
    "    .agg(count=(\"action_index\", \"count\"))\n",
    "    .reset_index()\n",
    "    .pipe(\n",
    "        px.ecdf,\n",
    "        x=\"count\",\n",
    "    )\n",
    "    .update_layout(\n",
    "        **default_layout,\n",
    "        title=\"Empirical Cumulative Distribution Plot of Cluster Size\",\n",
    "        xaxis_title=\"Cluster Size\",\n",
    "        xaxis_range=[0, 100],\n",
    "        yaxis_title=\"Proportion\",\n",
    "        yaxis_tickformat=\",.0%\",\n",
    "    )\n",
    "    .update_layout(\n",
    "        margin=dict(\n",
    "            l=10,\n",
    "            r=10,\n",
    "            b=10,\n",
    "            t=40,\n",
    "        ),\n",
    "    )\n",
    "    .add_hline(y=0.985, \n",
    "      annotation_text=\"~2% clusters have more than 100 errors\", \n",
    "      annotation_position=\"top left\",\n",
    "      line_color=\"orange\",\n",
    "        line_width=1,\n",
    "    )\n",
    "\n",
    ")"
   ]
  },
  {
   "cell_type": "code",
   "execution_count": 66,
   "id": "21d3222e",
   "metadata": {},
   "outputs": [
    {
     "data": {
      "image/svg+xml": [
       "<svg class=\"main-svg\" xmlns=\"http://www.w3.org/2000/svg\" xmlns:xlink=\"http://www.w3.org/1999/xlink\" width=\"1000\" height=\"500\" style=\"\" viewBox=\"0 0 1000 500\"><rect x=\"0\" y=\"0\" width=\"1000\" height=\"500\" style=\"fill: rgb(255, 255, 255); fill-opacity: 1;\"/><defs id=\"defs-30b8c0\"><g class=\"clips\"><clipPath id=\"clip30b8c0xyplot\" class=\"plotclip\"><rect width=\"907\" height=\"410\"/></clipPath><clipPath class=\"axesclip\" id=\"clip30b8c0x\"><rect x=\"72\" y=\"0\" width=\"907\" height=\"500\"/></clipPath><clipPath class=\"axesclip\" id=\"clip30b8c0y\"><rect x=\"0\" y=\"40\" width=\"1000\" height=\"410\"/></clipPath><clipPath class=\"axesclip\" id=\"clip30b8c0xy\"><rect x=\"72\" y=\"40\" width=\"907\" height=\"410\"/></clipPath></g><g class=\"gradients\"/><g class=\"patterns\"/></defs><g class=\"bglayer\"/><g class=\"layer-below\"><g class=\"imagelayer\"/><g class=\"shapelayer\"/></g><g class=\"cartesianlayer\"><g class=\"subplot xy\"><g class=\"layer-subplot\"><g class=\"shapelayer\"/><g class=\"imagelayer\"/></g><g class=\"minor-gridlayer\"><g class=\"x\"/><g class=\"y\"/></g><g class=\"gridlayer\"><g class=\"x\"><path class=\"xgrid crisp\" transform=\"translate(253.4,0)\" d=\"M0,40v410\" style=\"stroke: rgb(235, 240, 248); stroke-opacity: 1; stroke-width: 1px;\"/><path class=\"xgrid crisp\" transform=\"translate(434.8,0)\" d=\"M0,40v410\" style=\"stroke: rgb(235, 240, 248); stroke-opacity: 1; stroke-width: 1px;\"/><path class=\"xgrid crisp\" transform=\"translate(616.2,0)\" d=\"M0,40v410\" style=\"stroke: rgb(235, 240, 248); stroke-opacity: 1; stroke-width: 1px;\"/><path class=\"xgrid crisp\" transform=\"translate(797.6,0)\" d=\"M0,40v410\" style=\"stroke: rgb(235, 240, 248); stroke-opacity: 1; stroke-width: 1px;\"/></g><g class=\"y\"><path class=\"ygrid crisp\" transform=\"translate(0,372.1)\" d=\"M72,0h907\" style=\"stroke: rgb(235, 240, 248); stroke-opacity: 1; stroke-width: 1px;\"/><path class=\"ygrid crisp\" transform=\"translate(0,294.2)\" d=\"M72,0h907\" style=\"stroke: rgb(235, 240, 248); stroke-opacity: 1; stroke-width: 1px;\"/><path class=\"ygrid crisp\" transform=\"translate(0,216.3)\" d=\"M72,0h907\" style=\"stroke: rgb(235, 240, 248); stroke-opacity: 1; stroke-width: 1px;\"/><path class=\"ygrid crisp\" transform=\"translate(0,138.4)\" d=\"M72,0h907\" style=\"stroke: rgb(235, 240, 248); stroke-opacity: 1; stroke-width: 1px;\"/><path class=\"ygrid crisp\" transform=\"translate(0,60.5)\" d=\"M72,0h907\" style=\"stroke: rgb(235, 240, 248); stroke-opacity: 1; stroke-width: 1px;\"/></g></g><g class=\"zerolinelayer\"><path class=\"xzl zl crisp\" transform=\"translate(72,0)\" d=\"M0,40v410\" style=\"stroke: rgb(235, 240, 248); stroke-opacity: 1; stroke-width: 2px;\"/><path class=\"yzl zl crisp\" transform=\"translate(0,450)\" d=\"M72,0h907\" style=\"stroke: rgb(235, 240, 248); stroke-opacity: 1; stroke-width: 2px;\"/></g><g class=\"layer-between\"><g class=\"shapelayer\"/><g class=\"imagelayer\"/></g><path class=\"xlines-below\"/><path class=\"ylines-below\"/><g class=\"overlines-below\"/><g class=\"xaxislayer-below\"/><g class=\"yaxislayer-below\"/><g class=\"overaxes-below\"/><g class=\"plot\" transform=\"translate(72,40)\" clip-path=\"url(#clip30b8c0xyplot)\"/><g class=\"overplot\"/><path class=\"xlines-above crisp\" d=\"M0,0\" style=\"fill: none;\"/><path class=\"ylines-above crisp\" d=\"M0,0\" style=\"fill: none;\"/><g class=\"overlines-above\"/><g class=\"xaxislayer-above\"><g class=\"xtick\"><text text-anchor=\"middle\" x=\"0\" y=\"463\" transform=\"translate(72,0)\" style=\"font-family: 'Open Sans', verdana, arial, sans-serif; font-size: 12px; fill: rgb(42, 63, 95); fill-opacity: 1; white-space: pre; opacity: 1;\">0</text></g><g class=\"xtick\"><text text-anchor=\"middle\" x=\"0\" y=\"463\" style=\"font-family: 'Open Sans', verdana, arial, sans-serif; font-size: 12px; fill: rgb(42, 63, 95); fill-opacity: 1; white-space: pre; opacity: 1;\" transform=\"translate(253.4,0)\">20</text></g><g class=\"xtick\"><text text-anchor=\"middle\" x=\"0\" y=\"463\" style=\"font-family: 'Open Sans', verdana, arial, sans-serif; font-size: 12px; fill: rgb(42, 63, 95); fill-opacity: 1; white-space: pre; opacity: 1;\" transform=\"translate(434.8,0)\">40</text></g><g class=\"xtick\"><text text-anchor=\"middle\" x=\"0\" y=\"463\" style=\"font-family: 'Open Sans', verdana, arial, sans-serif; font-size: 12px; fill: rgb(42, 63, 95); fill-opacity: 1; white-space: pre; opacity: 1;\" transform=\"translate(616.2,0)\">60</text></g><g class=\"xtick\"><text text-anchor=\"middle\" x=\"0\" y=\"463\" style=\"font-family: 'Open Sans', verdana, arial, sans-serif; font-size: 12px; fill: rgb(42, 63, 95); fill-opacity: 1; white-space: pre; opacity: 1;\" transform=\"translate(797.6,0)\">80</text></g><g class=\"xtick\"><text text-anchor=\"middle\" x=\"0\" y=\"463\" style=\"font-family: 'Open Sans', verdana, arial, sans-serif; font-size: 12px; fill: rgb(42, 63, 95); fill-opacity: 1; white-space: pre; opacity: 1;\" transform=\"translate(979,0)\">100</text></g></g><g class=\"yaxislayer-above\"><g class=\"ytick\"><text text-anchor=\"end\" x=\"71\" y=\"4.199999999999999\" transform=\"translate(0,450)\" style=\"font-family: 'Open Sans', verdana, arial, sans-serif; font-size: 12px; fill: rgb(42, 63, 95); fill-opacity: 1; white-space: pre; opacity: 1;\">0%</text></g><g class=\"ytick\"><text text-anchor=\"end\" x=\"71\" y=\"4.199999999999999\" style=\"font-family: 'Open Sans', verdana, arial, sans-serif; font-size: 12px; fill: rgb(42, 63, 95); fill-opacity: 1; white-space: pre; opacity: 1;\" transform=\"translate(0,372.1)\">20%</text></g><g class=\"ytick\"><text text-anchor=\"end\" x=\"71\" y=\"4.199999999999999\" style=\"font-family: 'Open Sans', verdana, arial, sans-serif; font-size: 12px; fill: rgb(42, 63, 95); fill-opacity: 1; white-space: pre; opacity: 1;\" transform=\"translate(0,294.2)\">40%</text></g><g class=\"ytick\"><text text-anchor=\"end\" x=\"71\" y=\"4.199999999999999\" style=\"font-family: 'Open Sans', verdana, arial, sans-serif; font-size: 12px; fill: rgb(42, 63, 95); fill-opacity: 1; white-space: pre; opacity: 1;\" transform=\"translate(0,216.3)\">60%</text></g><g class=\"ytick\"><text text-anchor=\"end\" x=\"71\" y=\"4.199999999999999\" style=\"font-family: 'Open Sans', verdana, arial, sans-serif; font-size: 12px; fill: rgb(42, 63, 95); fill-opacity: 1; white-space: pre; opacity: 1;\" transform=\"translate(0,138.4)\">80%</text></g><g class=\"ytick\"><text text-anchor=\"end\" x=\"71\" y=\"4.199999999999999\" style=\"font-family: 'Open Sans', verdana, arial, sans-serif; font-size: 12px; fill: rgb(42, 63, 95); fill-opacity: 1; white-space: pre; opacity: 1;\" transform=\"translate(0,60.5)\">100%</text></g></g><g class=\"overaxes-above\"/></g></g><g class=\"polarlayer\"/><g class=\"smithlayer\"/><g class=\"ternarylayer\"/><g class=\"geolayer\"/><g class=\"funnelarealayer\"/><g class=\"pielayer\"/><g class=\"iciclelayer\"/><g class=\"treemaplayer\"/><g class=\"sunburstlayer\"/><g class=\"glimages\"><image xmlns=\"http://www.w3.org/2000/svg\" xlink:href=\"data:image/png;base64,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\" preserveAspectRatio=\"none\" x=\"0\" y=\"0\" width=\"1000px\" height=\"500px\"/><image xmlns=\"http://www.w3.org/2000/svg\" xlink:href=\"data:image/png;base64,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\" preserveAspectRatio=\"none\" x=\"0\" y=\"0\" width=\"1000px\" height=\"500px\"/></g><defs id=\"topdefs-30b8c0\"><g class=\"clips\"/></defs><g class=\"layer-above\"><g class=\"imagelayer\"/><g class=\"shapelayer\"><g class=\"shape-group\" data-index=\"0\" clip-path=\"url(#clip30b8c0y)\"><path data-index=\"0\" fill-rule=\"evenodd\" d=\"M72,66.34L979,66.34\" style=\"opacity: 1; stroke: rgb(255, 165, 0); stroke-opacity: 1; fill: rgb(0, 0, 0); fill-opacity: 0; stroke-width: 1px;\"/></g></g></g><g class=\"infolayer\"><g class=\"g-gtitle\"><text class=\"gtitle\" x=\"50\" y=\"20\" text-anchor=\"start\" dy=\"0em\" style=\"font-family: 'Open Sans', verdana, arial, sans-serif; font-size: 17px; fill: rgb(42, 63, 95); opacity: 1; white-space: pre;\">Empirical Cumulative Distribution Plot of Cluster Size</text></g><g class=\"g-xtitle\"><text class=\"xtitle\" x=\"525.5\" y=\"489.8\" text-anchor=\"middle\" style=\"font-family: 'Open Sans', verdana, arial, sans-serif; font-size: 14px; fill: rgb(42, 63, 95); opacity: 1; white-space: pre;\">Cluster Size</text></g><g class=\"g-ytitle\"><text class=\"ytitle\" transform=\"rotate(-90,15.787500000000001,245)\" x=\"15.787500000000001\" y=\"245\" text-anchor=\"middle\" style=\"font-family: 'Open Sans', verdana, arial, sans-serif; font-size: 14px; fill: rgb(42, 63, 95); opacity: 1; white-space: pre;\">Proportion</text></g><g class=\"annotation\" data-index=\"0\" style=\"opacity: 1;\"><g class=\"annotation-text-g\" transform=\"rotate(0,198.5,56.839999999999996)\"><g class=\"cursor-pointer\" transform=\"translate(72,47)\"><rect class=\"bg\" x=\"0.5\" y=\"0.5\" width=\"252\" height=\"18\" style=\"stroke-width: 1px; stroke: rgb(0, 0, 0); stroke-opacity: 0; fill: rgb(0, 0, 0); fill-opacity: 0;\"/><text class=\"annotation-text\" text-anchor=\"middle\" x=\"126.328125\" y=\"14\" style=\"font-family: 'Open Sans', verdana, arial, sans-serif; font-size: 12px; fill: rgb(42, 63, 95); fill-opacity: 1; white-space: pre;\">~2% clusters have more than 100 errors</text></g></g></g></g></svg>"
      ]
     },
     "metadata": {},
     "output_type": "display_data"
    }
   ],
   "source": [
    "cluster_size_ecdf_fig.show()"
   ]
  },
  {
   "cell_type": "markdown",
   "id": "9f5eede8",
   "metadata": {
    "slideshow": {
     "slide_type": "subslide"
    }
   },
   "source": [
    "# Clustering: Extensions\n",
    "1. **Partition clusters by creation time.**\n",
    "  Clustering is an append only process. This opens up the opportunity to partition clusters by creation time to optimize database access.\n",
    "2. **Detect and fix duplicate clusters.**\n",
    "  If many similar errors get processed at the same time, they may end up creating many clusters. There is a need of a background job which will detect and fix duplicate clusters. \n",
    "3. **Use different distance thresholds for different classes of errors.** Different frameworks may produce different logs and they may benefit from using criteria for near-duplicate failure.\n",
    "4. **Use Least Recently Used (LRU) policy to manage cluster lifetime**. Most clusters represent unique errors and can be safely deleted after just a few days."
   ]
  },
  {
   "cell_type": "markdown",
   "id": "6b1f1a28",
   "metadata": {
    "slideshow": {
     "slide_type": "slide"
    }
   },
   "source": [
    "# Statistics"
   ]
  },
  {
   "cell_type": "markdown",
   "id": "17bd36fb",
   "metadata": {
    "slideshow": {
     "slide_type": "subslide"
    }
   },
   "source": [
    "# Statistics: Top clusters by failed actions"
   ]
  },
  {
   "cell_type": "code",
   "execution_count": 33,
   "id": "5fa88b00",
   "metadata": {
    "slideshow": {
     "slide_type": "skip"
    }
   },
   "outputs": [],
   "source": [
    "cluster_stats = (\n",
    "    actions\n",
    "    .query(\"action_status == 'failed'\")\n",
    "    .query(\"action_output_type == 'out'\")\n",
    "    .groupby(\"action_output_cluster_id\")\n",
    "    .agg(\n",
    "        unique_users_num=(\"pipeline_actor_login\", \"nunique\"),\n",
    "        actions_num=(\"action_index\", \"count\"),\n",
    "        distance_avg=(\"action_output_cluster_dist\", \"mean\"),\n",
    "    )\n",
    "    .reset_index()\n",
    "    .sort_values([\"actions_num\", \"unique_users_num\"], ascending=False)\n",
    "    .reset_index(drop=True)\n",
    ")"
   ]
  },
  {
   "cell_type": "code",
   "execution_count": 34,
   "id": "62e03207",
   "metadata": {},
   "outputs": [
    {
     "data": {
      "text/html": [
       "<div>\n",
       "<style scoped>\n",
       "    .dataframe tbody tr th:only-of-type {\n",
       "        vertical-align: middle;\n",
       "    }\n",
       "\n",
       "    .dataframe tbody tr th {\n",
       "        vertical-align: top;\n",
       "    }\n",
       "\n",
       "    .dataframe thead th {\n",
       "        text-align: right;\n",
       "    }\n",
       "</style>\n",
       "<table border=\"1\" class=\"dataframe\">\n",
       "  <thead>\n",
       "    <tr style=\"text-align: right;\">\n",
       "      <th></th>\n",
       "      <th>action_output_cluster_id</th>\n",
       "      <th>unique_users_num</th>\n",
       "      <th>actions_num</th>\n",
       "      <th>distance_avg</th>\n",
       "    </tr>\n",
       "  </thead>\n",
       "  <tbody>\n",
       "    <tr>\n",
       "      <th>0</th>\n",
       "      <td>8</td>\n",
       "      <td>21</td>\n",
       "      <td>15966</td>\n",
       "      <td>0.000000</td>\n",
       "    </tr>\n",
       "    <tr>\n",
       "      <th>1</th>\n",
       "      <td>316553</td>\n",
       "      <td>9</td>\n",
       "      <td>1948</td>\n",
       "      <td>0.056021</td>\n",
       "    </tr>\n",
       "    <tr>\n",
       "      <th>2</th>\n",
       "      <td>176294</td>\n",
       "      <td>2</td>\n",
       "      <td>1441</td>\n",
       "      <td>0.052001</td>\n",
       "    </tr>\n",
       "    <tr>\n",
       "      <th>3</th>\n",
       "      <td>306798</td>\n",
       "      <td>6</td>\n",
       "      <td>1329</td>\n",
       "      <td>0.064040</td>\n",
       "    </tr>\n",
       "    <tr>\n",
       "      <th>4</th>\n",
       "      <td>87844</td>\n",
       "      <td>1</td>\n",
       "      <td>1140</td>\n",
       "      <td>0.000021</td>\n",
       "    </tr>\n",
       "    <tr>\n",
       "      <th>5</th>\n",
       "      <td>129316</td>\n",
       "      <td>2</td>\n",
       "      <td>985</td>\n",
       "      <td>0.067536</td>\n",
       "    </tr>\n",
       "    <tr>\n",
       "      <th>6</th>\n",
       "      <td>131692</td>\n",
       "      <td>1</td>\n",
       "      <td>775</td>\n",
       "      <td>0.109340</td>\n",
       "    </tr>\n",
       "    <tr>\n",
       "      <th>7</th>\n",
       "      <td>322598</td>\n",
       "      <td>1</td>\n",
       "      <td>765</td>\n",
       "      <td>0.140508</td>\n",
       "    </tr>\n",
       "    <tr>\n",
       "      <th>8</th>\n",
       "      <td>313562</td>\n",
       "      <td>5</td>\n",
       "      <td>732</td>\n",
       "      <td>0.017306</td>\n",
       "    </tr>\n",
       "    <tr>\n",
       "      <th>9</th>\n",
       "      <td>333598</td>\n",
       "      <td>1</td>\n",
       "      <td>432</td>\n",
       "      <td>0.056993</td>\n",
       "    </tr>\n",
       "  </tbody>\n",
       "</table>\n",
       "</div>"
      ],
      "text/plain": [
       "   action_output_cluster_id  unique_users_num  actions_num  distance_avg\n",
       "0                         8                21        15966      0.000000\n",
       "1                    316553                 9         1948      0.056021\n",
       "2                    176294                 2         1441      0.052001\n",
       "3                    306798                 6         1329      0.064040\n",
       "4                     87844                 1         1140      0.000021\n",
       "5                    129316                 2          985      0.067536\n",
       "6                    131692                 1          775      0.109340\n",
       "7                    322598                 1          765      0.140508\n",
       "8                    313562                 5          732      0.017306\n",
       "9                    333598                 1          432      0.056993"
      ]
     },
     "execution_count": 34,
     "metadata": {},
     "output_type": "execute_result"
    }
   ],
   "source": [
    "cluster_stats.head(10)"
   ]
  },
  {
   "cell_type": "markdown",
   "id": "465c5299",
   "metadata": {},
   "source": [
    "The largest cluster comprises of failures with no message:"
   ]
  },
  {
   "cell_type": "code",
   "execution_count": 35,
   "id": "2575963c",
   "metadata": {},
   "outputs": [
    {
     "name": "stdout",
     "output_type": "stream",
     "text": [
      "''\n"
     ]
    }
   ],
   "source": [
    "empty_cluster_id = 8\n",
    "print(repr(actions.loc[empty_cluster_id, \"action_output_failure\"]))"
   ]
  },
  {
   "cell_type": "markdown",
   "id": "650d2143",
   "metadata": {
    "slideshow": {
     "slide_type": "subslide"
    }
   },
   "source": [
    "# Statistics: Top clusters by failed actions"
   ]
  },
  {
   "cell_type": "code",
   "execution_count": 36,
   "id": "01c10eb7",
   "metadata": {
    "slideshow": {
     "slide_type": "skip"
    }
   },
   "outputs": [],
   "source": [
    "cluster_daily_stats = (\n",
    "    actions\n",
    "    .query(\"action_status == 'failed'\")\n",
    "    .query(\"action_output_type == 'out'\")\n",
    "    .groupby([\"action_output_date\", \"action_output_cluster_id\"])\n",
    "    .agg(\n",
    "        unique_users_num=(\"pipeline_actor_login\", \"nunique\"),\n",
    "        actions_num=(\"action_index\", \"count\"),\n",
    "        distance_avg=(\"action_output_cluster_dist\", \"mean\"),\n",
    "    )\n",
    "    .reset_index()\n",
    "    .sort_values([\"unique_users_num\",\"actions_num\"], ascending=False)\n",
    ")"
   ]
  },
  {
   "cell_type": "code",
   "execution_count": 72,
   "id": "db96090a",
   "metadata": {
    "slideshow": {
     "slide_type": "skip"
    }
   },
   "outputs": [],
   "source": [
    "top_clusters_by_number_of_actions_fig = (\n",
    "    cluster_daily_stats\n",
    "    .query(f\"action_output_cluster_id != {empty_cluster_id}\")\n",
    "    .sort_values(\"actions_num\", ascending=False)  \n",
    "    .head(8)\n",
    "    .assign(action_output_cluster_id = lambda df: df[\"action_output_cluster_id\"].astype(str))\n",
    "    .pipe(\n",
    "        px.bar,\n",
    "        x=\"action_output_date\",\n",
    "        y=\"actions_num\",\n",
    "        color=\"action_output_cluster_id\",\n",
    "    )\n",
    "    .update_layout(\n",
    "        **default_layout,\n",
    "        title=\"Top cluster by number of failed actions\",\n",
    "        xaxis_title=\"Date\",\n",
    "        yaxis_title=\"Number of failed actions\",\n",
    "        legend_title=\"\",\n",
    "    )\n",
    ")"
   ]
  },
  {
   "cell_type": "code",
   "execution_count": 73,
   "id": "e069bf26",
   "metadata": {},
   "outputs": [
    {
     "data": {
      "image/svg+xml": [
       "<svg class=\"main-svg\" xmlns=\"http://www.w3.org/2000/svg\" xmlns:xlink=\"http://www.w3.org/1999/xlink\" width=\"1000\" height=\"500\" style=\"\" viewBox=\"0 0 1000 500\"><rect x=\"0\" y=\"0\" width=\"1000\" height=\"500\" style=\"fill: rgb(255, 255, 255); fill-opacity: 1;\"/><defs id=\"defs-e02373\"><g class=\"clips\"><clipPath id=\"clipe02373xyplot\" class=\"plotclip\"><rect width=\"924\" height=\"403\"/></clipPath><clipPath class=\"axesclip\" id=\"clipe02373x\"><rect x=\"66\" y=\"0\" width=\"924\" height=\"500\"/></clipPath><clipPath class=\"axesclip\" id=\"clipe02373y\"><rect x=\"0\" y=\"47\" width=\"1000\" height=\"403\"/></clipPath><clipPath class=\"axesclip\" id=\"clipe02373xy\"><rect x=\"66\" y=\"47\" width=\"924\" height=\"403\"/></clipPath></g><g class=\"gradients\"/><g class=\"patterns\"/></defs><g class=\"bglayer\"/><g class=\"layer-below\"><g class=\"imagelayer\"/><g class=\"shapelayer\"/></g><g class=\"cartesianlayer\"><g class=\"subplot xy\"><g class=\"layer-subplot\"><g class=\"shapelayer\"/><g class=\"imagelayer\"/></g><g class=\"minor-gridlayer\"><g class=\"x\"/><g class=\"y\"/></g><g class=\"gridlayer\"><g class=\"x\"/><g class=\"y\"><path class=\"ygrid crisp\" transform=\"translate(0,382.83)\" d=\"M66,0h924\" style=\"stroke: rgb(235, 240, 248); stroke-opacity: 1; stroke-width: 1px;\"/><path class=\"ygrid crisp\" transform=\"translate(0,315.67)\" d=\"M66,0h924\" style=\"stroke: rgb(235, 240, 248); stroke-opacity: 1; stroke-width: 1px;\"/><path class=\"ygrid crisp\" transform=\"translate(0,248.5)\" d=\"M66,0h924\" style=\"stroke: rgb(235, 240, 248); stroke-opacity: 1; stroke-width: 1px;\"/><path class=\"ygrid crisp\" transform=\"translate(0,181.33)\" d=\"M66,0h924\" style=\"stroke: rgb(235, 240, 248); stroke-opacity: 1; stroke-width: 1px;\"/><path class=\"ygrid crisp\" transform=\"translate(0,114.17)\" d=\"M66,0h924\" style=\"stroke: rgb(235, 240, 248); stroke-opacity: 1; stroke-width: 1px;\"/></g></g><g class=\"zerolinelayer\"><path class=\"yzl zl crisp\" transform=\"translate(0,450)\" d=\"M66,0h924\" style=\"stroke: rgb(235, 240, 248); stroke-opacity: 1; stroke-width: 2px;\"/></g><g class=\"layer-between\"><g class=\"shapelayer\"/><g class=\"imagelayer\"/></g><path class=\"xlines-below\"/><path class=\"ylines-below\"/><g class=\"overlines-below\"/><g class=\"xaxislayer-below\"/><g class=\"yaxislayer-below\"/><g class=\"overaxes-below\"/><g class=\"plot\" transform=\"translate(66,47)\" clip-path=\"url(#clipe02373xyplot)\"><g class=\"barlayer mlayer\"><g class=\"trace bars\" style=\"opacity: 1;\"><g class=\"points\"><g class=\"point\"><path d=\"M919.02,403V20.15H923.45V403Z\" style=\"vector-effect: none; opacity: 1; stroke-width: 0.5px; fill: rgb(99, 110, 250); fill-opacity: 1; stroke: rgb(255, 255, 255); stroke-opacity: 1;\"/></g></g></g><g class=\"trace bars\" style=\"opacity: 1;\"><g class=\"points\"><g class=\"point\"><path d=\"M216.34,403V146.09H220.76V403Z\" style=\"vector-effect: none; opacity: 1; stroke-width: 0.5px; fill: rgb(239, 85, 59); fill-opacity: 1; stroke: rgb(255, 255, 255); stroke-opacity: 1;\"/></g></g></g><g class=\"trace bars\" style=\"opacity: 1;\"><g class=\"points\"><g class=\"point\"><path d=\"M874.76,403V183.03H879.18V403Z\" style=\"vector-effect: none; opacity: 1; stroke-width: 0.5px; fill: rgb(0, 204, 150); fill-opacity: 1; stroke: rgb(255, 255, 255); stroke-opacity: 1;\"/></g></g></g><g class=\"trace bars\" style=\"opacity: 1;\"><g class=\"points\"><g class=\"point\"><path d=\"M0.55,403V185.72H4.98V403Z\" style=\"vector-effect: none; opacity: 1; stroke-width: 0.5px; fill: rgb(171, 99, 250); fill-opacity: 1; stroke: rgb(255, 255, 255); stroke-opacity: 1;\"/></g></g></g><g class=\"trace bars\" style=\"opacity: 1;\"><g class=\"points\"><g class=\"point\"><path d=\"M852.63,403V268.33H857.05V403Z\" style=\"vector-effect: none; opacity: 1; stroke-width: 0.5px; fill: rgb(255, 161, 90); fill-opacity: 1; stroke: rgb(255, 255, 255); stroke-opacity: 1;\"/></g><g class=\"point\"><path d=\"M636.84,403V271.35H641.27V403Z\" style=\"vector-effect: none; opacity: 1; stroke-width: 0.5px; fill: rgb(255, 161, 90); fill-opacity: 1; stroke: rgb(255, 255, 255); stroke-opacity: 1;\"/></g></g></g><g class=\"trace bars\" style=\"opacity: 1;\"><g class=\"points\"><g class=\"point\"><path d=\"M880.29,403V268.67H884.72V403Z\" style=\"vector-effect: none; opacity: 1; stroke-width: 0.5px; fill: rgb(25, 211, 243); fill-opacity: 1; stroke: rgb(255, 255, 255); stroke-opacity: 1;\"/></g><g class=\"point\"><path d=\"M896.89,403V277.06H901.31V403Z\" style=\"vector-effect: none; opacity: 1; stroke-width: 0.5px; fill: rgb(25, 211, 243); fill-opacity: 1; stroke: rgb(255, 255, 255); stroke-opacity: 1;\"/></g></g></g></g></g><g class=\"overplot\"/><path class=\"xlines-above crisp\" d=\"M0,0\" style=\"fill: none;\"/><path class=\"ylines-above crisp\" d=\"M0,0\" style=\"fill: none;\"/><g class=\"overlines-above\"/><g class=\"xaxislayer-above\"><g class=\"xtick\"><text text-anchor=\"middle\" x=\"0\" y=\"463\" transform=\"translate(96.43,0)\" style=\"font-family: 'Open Sans', verdana, arial, sans-serif; font-size: 12px; fill: rgb(42, 63, 95); fill-opacity: 1; white-space: pre; opacity: 1;\">Nov 2023</text></g><g class=\"xtick\"><text text-anchor=\"middle\" x=\"0\" y=\"463\" style=\"font-family: 'Open Sans', verdana, arial, sans-serif; font-size: 12px; fill: rgb(42, 63, 95); fill-opacity: 1; white-space: pre; opacity: 1;\" transform=\"translate(262.41999999999996,0)\">Dec 2023</text></g><g class=\"xtick\"><text text-anchor=\"middle\" x=\"0\" y=\"463\" style=\"font-family: 'Open Sans', verdana, arial, sans-serif; font-size: 12px; fill: rgb(42, 63, 95); fill-opacity: 1; white-space: pre; opacity: 1;\" transform=\"translate(433.94,0)\">Jan 2024</text></g><g class=\"xtick\"><text text-anchor=\"middle\" x=\"0\" y=\"463\" style=\"font-family: 'Open Sans', verdana, arial, sans-serif; font-size: 12px; fill: rgb(42, 63, 95); fill-opacity: 1; white-space: pre; opacity: 1;\" transform=\"translate(605.46,0)\">Feb 2024</text></g><g class=\"xtick\"><text text-anchor=\"middle\" x=\"0\" y=\"463\" style=\"font-family: 'Open Sans', verdana, arial, sans-serif; font-size: 12px; fill: rgb(42, 63, 95); fill-opacity: 1; white-space: pre; opacity: 1;\" transform=\"translate(765.92,0)\">Mar 2024</text></g><g class=\"xtick\"><text text-anchor=\"middle\" x=\"0\" y=\"463\" style=\"font-family: 'Open Sans', verdana, arial, sans-serif; font-size: 12px; fill: rgb(42, 63, 95); fill-opacity: 1; white-space: pre; opacity: 1;\" transform=\"translate(937.44,0)\">Apr 2024</text></g></g><g class=\"yaxislayer-above\"><g class=\"ytick\"><text text-anchor=\"end\" x=\"65\" y=\"4.199999999999999\" transform=\"translate(0,450)\" style=\"font-family: 'Open Sans', verdana, arial, sans-serif; font-size: 12px; fill: rgb(42, 63, 95); fill-opacity: 1; white-space: pre; opacity: 1;\">0</text></g><g class=\"ytick\"><text text-anchor=\"end\" x=\"65\" y=\"4.199999999999999\" style=\"font-family: 'Open Sans', verdana, arial, sans-serif; font-size: 12px; fill: rgb(42, 63, 95); fill-opacity: 1; white-space: pre; opacity: 1;\" transform=\"translate(0,382.83)\">200</text></g><g class=\"ytick\"><text text-anchor=\"end\" x=\"65\" y=\"4.199999999999999\" style=\"font-family: 'Open Sans', verdana, arial, sans-serif; font-size: 12px; fill: rgb(42, 63, 95); fill-opacity: 1; white-space: pre; opacity: 1;\" transform=\"translate(0,315.67)\">400</text></g><g class=\"ytick\"><text text-anchor=\"end\" x=\"65\" y=\"4.199999999999999\" style=\"font-family: 'Open Sans', verdana, arial, sans-serif; font-size: 12px; fill: rgb(42, 63, 95); fill-opacity: 1; white-space: pre; opacity: 1;\" transform=\"translate(0,248.5)\">600</text></g><g class=\"ytick\"><text text-anchor=\"end\" x=\"65\" y=\"4.199999999999999\" style=\"font-family: 'Open Sans', verdana, arial, sans-serif; font-size: 12px; fill: rgb(42, 63, 95); fill-opacity: 1; white-space: pre; opacity: 1;\" transform=\"translate(0,181.33)\">800</text></g><g class=\"ytick\"><text text-anchor=\"end\" x=\"65\" y=\"4.199999999999999\" style=\"font-family: 'Open Sans', verdana, arial, sans-serif; font-size: 12px; fill: rgb(42, 63, 95); fill-opacity: 1; white-space: pre; opacity: 1;\" transform=\"translate(0,114.17)\">1000</text></g><g class=\"ytick\"><text text-anchor=\"end\" x=\"65\" y=\"4.199999999999999\" style=\"font-family: 'Open Sans', verdana, arial, sans-serif; font-size: 12px; fill: rgb(42, 63, 95); fill-opacity: 1; white-space: pre; opacity: 1;\" transform=\"translate(0,47)\">1200</text></g></g><g class=\"overaxes-above\"/></g></g><g class=\"polarlayer\"/><g class=\"smithlayer\"/><g class=\"ternarylayer\"/><g class=\"geolayer\"/><g class=\"funnelarealayer\"/><g class=\"pielayer\"/><g class=\"iciclelayer\"/><g class=\"treemaplayer\"/><g class=\"sunburstlayer\"/><g class=\"glimages\"/><defs id=\"topdefs-e02373\"><g class=\"clips\"/><clipPath id=\"legende02373\"><rect width=\"538\" height=\"29\" x=\"0\" y=\"0\"/></clipPath></defs><g class=\"layer-above\"><g class=\"imagelayer\"/><g class=\"shapelayer\"/></g><g class=\"infolayer\"><g class=\"legend\" pointer-events=\"all\" transform=\"translate(452,9.93999999999999)\"><rect class=\"bg\" shape-rendering=\"crispEdges\" width=\"538\" height=\"29\" x=\"0\" y=\"0\" style=\"stroke: rgb(68, 68, 68); stroke-opacity: 1; fill: rgb(255, 255, 255); fill-opacity: 1; stroke-width: 0px;\"/><g class=\"scrollbox\" transform=\"\" clip-path=\"url(#legende02373)\"><g class=\"groups\" transform=\"\"><g class=\"traces\" transform=\"translate(0,14.5)\" style=\"opacity: 1;\"><text class=\"legendtext\" text-anchor=\"start\" x=\"40\" y=\"4.680000000000001\" style=\"font-family: 'Open Sans', verdana, arial, sans-serif; font-size: 12px; fill: rgb(42, 63, 95); fill-opacity: 1; white-space: pre;\">87844</text><g class=\"layers\" style=\"opacity: 1;\"><g class=\"legendfill\"/><g class=\"legendlines\"/><g class=\"legendsymbols\"><g class=\"legendpoints\"><path class=\"legendundefined\" d=\"M6,6H-6V-6H6Z\" transform=\"translate(20,0)\" style=\"stroke-width: 0.5px; fill: rgb(99, 110, 250); fill-opacity: 1; stroke: rgb(255, 255, 255); stroke-opacity: 1;\"/></g></g></g><rect class=\"legendtoggle\" x=\"0\" y=\"-9.5\" width=\"80.65625\" height=\"19\" style=\"fill: rgb(0, 0, 0); fill-opacity: 0;\"/></g></g><g class=\"groups\" transform=\"translate(83.15625,0)\"><g class=\"traces\" transform=\"translate(0,14.5)\" style=\"opacity: 1;\"><text class=\"legendtext\" text-anchor=\"start\" x=\"40\" y=\"4.680000000000001\" style=\"font-family: 'Open Sans', verdana, arial, sans-serif; font-size: 12px; fill: rgb(42, 63, 95); fill-opacity: 1; white-space: pre;\">322598</text><g class=\"layers\" style=\"opacity: 1;\"><g class=\"legendfill\"/><g class=\"legendlines\"/><g class=\"legendsymbols\"><g class=\"legendpoints\"><path class=\"legendundefined\" d=\"M6,6H-6V-6H6Z\" transform=\"translate(20,0)\" style=\"stroke-width: 0.5px; fill: rgb(239, 85, 59); fill-opacity: 1; stroke: rgb(255, 255, 255); stroke-opacity: 1;\"/></g></g></g><rect class=\"legendtoggle\" x=\"0\" y=\"-9.5\" width=\"88.28125\" height=\"19\" style=\"fill: rgb(0, 0, 0); fill-opacity: 0;\"/></g></g><g class=\"groups\" transform=\"translate(173.9375,0)\"><g class=\"traces\" transform=\"translate(0,14.5)\" style=\"opacity: 1;\"><text class=\"legendtext\" text-anchor=\"start\" x=\"40\" y=\"4.680000000000001\" style=\"font-family: 'Open Sans', verdana, arial, sans-serif; font-size: 12px; fill: rgb(42, 63, 95); fill-opacity: 1; white-space: pre;\">129316</text><g class=\"layers\" style=\"opacity: 1;\"><g class=\"legendfill\"/><g class=\"legendlines\"/><g class=\"legendsymbols\"><g class=\"legendpoints\"><path class=\"legendundefined\" d=\"M6,6H-6V-6H6Z\" transform=\"translate(20,0)\" style=\"stroke-width: 0.5px; fill: rgb(0, 204, 150); fill-opacity: 1; stroke: rgb(255, 255, 255); stroke-opacity: 1;\"/></g></g></g><rect class=\"legendtoggle\" x=\"0\" y=\"-9.5\" width=\"88.28125\" height=\"19\" style=\"fill: rgb(0, 0, 0); fill-opacity: 0;\"/></g></g><g class=\"groups\" transform=\"translate(264.71875,0)\"><g class=\"traces\" transform=\"translate(0,14.5)\" style=\"opacity: 1;\"><text class=\"legendtext\" text-anchor=\"start\" x=\"40\" y=\"4.680000000000001\" style=\"font-family: 'Open Sans', verdana, arial, sans-serif; font-size: 12px; fill: rgb(42, 63, 95); fill-opacity: 1; white-space: pre;\">316553</text><g class=\"layers\" style=\"opacity: 1;\"><g class=\"legendfill\"/><g class=\"legendlines\"/><g class=\"legendsymbols\"><g class=\"legendpoints\"><path class=\"legendundefined\" d=\"M6,6H-6V-6H6Z\" transform=\"translate(20,0)\" style=\"stroke-width: 0.5px; fill: rgb(171, 99, 250); fill-opacity: 1; stroke: rgb(255, 255, 255); stroke-opacity: 1;\"/></g></g></g><rect class=\"legendtoggle\" x=\"0\" y=\"-9.5\" width=\"88.28125\" height=\"19\" style=\"fill: rgb(0, 0, 0); fill-opacity: 0;\"/></g></g><g class=\"groups\" transform=\"translate(355.5,0)\"><g class=\"traces\" transform=\"translate(0,14.5)\" style=\"opacity: 1;\"><text class=\"legendtext\" text-anchor=\"start\" x=\"40\" y=\"4.680000000000001\" style=\"font-family: 'Open Sans', verdana, arial, sans-serif; font-size: 12px; fill: rgb(42, 63, 95); fill-opacity: 1; white-space: pre;\">176294</text><g class=\"layers\" style=\"opacity: 1;\"><g class=\"legendfill\"/><g class=\"legendlines\"/><g class=\"legendsymbols\"><g class=\"legendpoints\"><path class=\"legendundefined\" d=\"M6,6H-6V-6H6Z\" transform=\"translate(20,0)\" style=\"stroke-width: 0.5px; fill: rgb(255, 161, 90); fill-opacity: 1; stroke: rgb(255, 255, 255); stroke-opacity: 1;\"/></g></g></g><rect class=\"legendtoggle\" x=\"0\" y=\"-9.5\" width=\"88.28125\" height=\"19\" style=\"fill: rgb(0, 0, 0); fill-opacity: 0;\"/></g></g><g class=\"groups\" transform=\"translate(446.28125,0)\"><g class=\"traces\" transform=\"translate(0,14.5)\" style=\"opacity: 1;\"><text class=\"legendtext\" text-anchor=\"start\" x=\"40\" y=\"4.680000000000001\" style=\"font-family: 'Open Sans', verdana, arial, sans-serif; font-size: 12px; fill: rgb(42, 63, 95); fill-opacity: 1; white-space: pre;\">131692</text><g class=\"layers\" style=\"opacity: 1;\"><g class=\"legendfill\"/><g class=\"legendlines\"/><g class=\"legendsymbols\"><g class=\"legendpoints\"><path class=\"legendundefined\" d=\"M6,6H-6V-6H6Z\" transform=\"translate(20,0)\" style=\"stroke-width: 0.5px; fill: rgb(25, 211, 243); fill-opacity: 1; stroke: rgb(255, 255, 255); stroke-opacity: 1;\"/></g></g></g><rect class=\"legendtoggle\" x=\"0\" y=\"-9.5\" width=\"88.28125\" height=\"19\" style=\"fill: rgb(0, 0, 0); fill-opacity: 0;\"/></g></g></g><rect class=\"scrollbar\" rx=\"20\" ry=\"3\" width=\"0\" height=\"0\" x=\"0\" y=\"0\" style=\"fill: rgb(128, 139, 164); fill-opacity: 1;\"/></g><g class=\"g-gtitle\"><text class=\"gtitle\" x=\"50\" y=\"23.5\" text-anchor=\"start\" dy=\"0em\" style=\"font-family: 'Open Sans', verdana, arial, sans-serif; font-size: 17px; fill: rgb(42, 63, 95); opacity: 1; white-space: pre;\">Top cluster by number of failed actions</text></g><g class=\"g-xtitle\"><text class=\"xtitle\" x=\"528\" y=\"489.8\" text-anchor=\"middle\" style=\"font-family: 'Open Sans', verdana, arial, sans-serif; font-size: 14px; fill: rgb(42, 63, 95); opacity: 1; white-space: pre;\">Date</text></g><g class=\"g-ytitle\"><text class=\"ytitle\" transform=\"rotate(-90,15.084375000000001,248.5)\" x=\"15.084375000000001\" y=\"248.5\" text-anchor=\"middle\" style=\"font-family: 'Open Sans', verdana, arial, sans-serif; font-size: 14px; fill: rgb(42, 63, 95); opacity: 1; white-space: pre;\">Number of failed actions</text></g></g></svg>"
      ]
     },
     "metadata": {},
     "output_type": "display_data"
    }
   ],
   "source": [
    "top_clusters_by_number_of_actions_fig.show()"
   ]
  },
  {
   "cell_type": "markdown",
   "id": "e94c0693",
   "metadata": {
    "slideshow": {
     "slide_type": "subslide"
    }
   },
   "source": [
    "# Statistics: Top clusters by failed actions"
   ]
  },
  {
   "cell_type": "code",
   "execution_count": 39,
   "id": "bd090065",
   "metadata": {
    "slideshow": {
     "slide_type": "skip"
    }
   },
   "outputs": [
    {
     "data": {
      "text/html": [
       "<div>\n",
       "<style scoped>\n",
       "    .dataframe tbody tr th:only-of-type {\n",
       "        vertical-align: middle;\n",
       "    }\n",
       "\n",
       "    .dataframe tbody tr th {\n",
       "        vertical-align: top;\n",
       "    }\n",
       "\n",
       "    .dataframe thead th {\n",
       "        text-align: right;\n",
       "    }\n",
       "</style>\n",
       "<table border=\"1\" class=\"dataframe\">\n",
       "  <thead>\n",
       "    <tr style=\"text-align: right;\">\n",
       "      <th></th>\n",
       "      <th>action_output_date</th>\n",
       "      <th>action_output_cluster_id</th>\n",
       "      <th>unique_users_num</th>\n",
       "      <th>actions_num</th>\n",
       "      <th>distance_avg</th>\n",
       "    </tr>\n",
       "  </thead>\n",
       "  <tbody>\n",
       "    <tr>\n",
       "      <th>3645</th>\n",
       "      <td>2024-04-09 00:00:00+00:00</td>\n",
       "      <td>8</td>\n",
       "      <td>2</td>\n",
       "      <td>1205</td>\n",
       "      <td>0.000000</td>\n",
       "    </tr>\n",
       "    <tr>\n",
       "      <th>3914</th>\n",
       "      <td>2024-04-10 00:00:00+00:00</td>\n",
       "      <td>87844</td>\n",
       "      <td>1</td>\n",
       "      <td>1140</td>\n",
       "      <td>0.000021</td>\n",
       "    </tr>\n",
       "    <tr>\n",
       "      <th>3916</th>\n",
       "      <td>2024-04-11 00:00:00+00:00</td>\n",
       "      <td>8</td>\n",
       "      <td>3</td>\n",
       "      <td>996</td>\n",
       "      <td>0.000000</td>\n",
       "    </tr>\n",
       "    <tr>\n",
       "      <th>2183</th>\n",
       "      <td>2024-02-24 00:00:00+00:00</td>\n",
       "      <td>8</td>\n",
       "      <td>3</td>\n",
       "      <td>937</td>\n",
       "      <td>0.000000</td>\n",
       "    </tr>\n",
       "    <tr>\n",
       "      <th>3386</th>\n",
       "      <td>2024-04-04 00:00:00+00:00</td>\n",
       "      <td>8</td>\n",
       "      <td>3</td>\n",
       "      <td>807</td>\n",
       "      <td>0.000000</td>\n",
       "    </tr>\n",
       "  </tbody>\n",
       "</table>\n",
       "</div>"
      ],
      "text/plain": [
       "            action_output_date  action_output_cluster_id  unique_users_num  \\\n",
       "3645 2024-04-09 00:00:00+00:00                         8                 2   \n",
       "3914 2024-04-10 00:00:00+00:00                     87844                 1   \n",
       "3916 2024-04-11 00:00:00+00:00                         8                 3   \n",
       "2183 2024-02-24 00:00:00+00:00                         8                 3   \n",
       "3386 2024-04-04 00:00:00+00:00                         8                 3   \n",
       "\n",
       "      actions_num  distance_avg  \n",
       "3645         1205      0.000000  \n",
       "3914         1140      0.000021  \n",
       "3916          996      0.000000  \n",
       "2183          937      0.000000  \n",
       "3386          807      0.000000  "
      ]
     },
     "execution_count": 39,
     "metadata": {},
     "output_type": "execute_result"
    }
   ],
   "source": [
    "cluster_daily_stats.sort_values(\"actions_num\", ascending=False).head()"
   ]
  },
  {
   "cell_type": "code",
   "execution_count": 40,
   "id": "4477616b",
   "metadata": {
    "scrolled": false
   },
   "outputs": [
    {
     "name": "stdout",
     "output_type": "stream",
     "text": [
      "error eslint-v9@9.0.0: The engine \"node\" is incompatible with this module. Expected version \"^18.18.0 || ^20.9.0 || >=21.1.0\". Got \"16.16.0\"\n",
      "error Found incompatible module.\n",
      "info Visit https://yarnpkg.com/en/docs/cli/install for documentation about this command.\n"
     ]
    }
   ],
   "source": [
    "print(actions.loc[129316, \"action_output_failure\"])"
   ]
  },
  {
   "cell_type": "code",
   "execution_count": 41,
   "id": "b9766e5b",
   "metadata": {},
   "outputs": [
    {
     "name": "stdout",
     "output_type": "stream",
     "text": [
      "\n",
      "FAIL packages/react-reconciler/src/__tests__/ReactIncrementalUpdates-test.js\n",
      "  ● Test suite failed to run\n",
      "\n",
      "    Jest encountered an unexpected token\n",
      "\n",
      "    Jest failed to parse a file. This happens e.g. when your code or its dependencies use non-standard JavaScript syntax, or when Jest is not configured to support such syntax.\n"
     ]
    }
   ],
   "source": [
    "print(\"\\n\".join(actions.loc[176294, \"action_output_failure\"].splitlines()[:7]))"
   ]
  },
  {
   "cell_type": "code",
   "execution_count": 42,
   "id": "00492267",
   "metadata": {},
   "outputs": [
    {
     "name": "stdout",
     "output_type": "stream",
     "text": [
      "\n",
      "fatal: reference is not a tree: f5b4060fec2bd637a88bfafbcc16b87f0241656c\n"
     ]
    }
   ],
   "source": [
    "print(actions.loc[335630, \"action_output_failure\"])"
   ]
  },
  {
   "cell_type": "markdown",
   "id": "862d4701",
   "metadata": {
    "slideshow": {
     "slide_type": "subslide"
    }
   },
   "source": [
    "# Statistics: Top clusters by affected users"
   ]
  },
  {
   "cell_type": "code",
   "execution_count": 74,
   "id": "7a980e49",
   "metadata": {
    "slideshow": {
     "slide_type": "skip"
    }
   },
   "outputs": [],
   "source": [
    "top_clusters_by_unique_users_fig = (\n",
    "    cluster_daily_stats\n",
    "    .query(f\"action_output_cluster_id != {empty_cluster_id}\")\n",
    "    .head(8)\n",
    "    .assign(action_output_cluster_id = lambda df: df[\"action_output_cluster_id\"].astype(str))\n",
    "    .pipe(\n",
    "        px.bar,\n",
    "        x=\"action_output_date\",\n",
    "        y=\"unique_users_num\",\n",
    "        color=\"action_output_cluster_id\"\n",
    "    )\n",
    "    .update_layout(\n",
    "        **default_layout,\n",
    "        title=\"Top cluster by number of affected users\",\n",
    "        xaxis_title=\"Date\",\n",
    "        yaxis_title=\"Number of failed actions\",\n",
    "        legend_title=\"\",\n",
    "    )\n",
    ")"
   ]
  },
  {
   "cell_type": "code",
   "execution_count": 75,
   "id": "762bd8bc",
   "metadata": {},
   "outputs": [
    {
     "data": {
      "image/svg+xml": [
       "<svg class=\"main-svg\" xmlns=\"http://www.w3.org/2000/svg\" xmlns:xlink=\"http://www.w3.org/1999/xlink\" width=\"1000\" height=\"500\" style=\"\" viewBox=\"0 0 1000 500\"><rect x=\"0\" y=\"0\" width=\"1000\" height=\"500\" style=\"fill: rgb(255, 255, 255); fill-opacity: 1;\"/><defs id=\"defs-847d11\"><g class=\"clips\"><clipPath id=\"clip847d11xyplot\" class=\"plotclip\"><rect width=\"947\" height=\"387\"/></clipPath><clipPath class=\"axesclip\" id=\"clip847d11x\"><rect x=\"43\" y=\"0\" width=\"947\" height=\"500\"/></clipPath><clipPath class=\"axesclip\" id=\"clip847d11y\"><rect x=\"0\" y=\"47\" width=\"1000\" height=\"387\"/></clipPath><clipPath class=\"axesclip\" id=\"clip847d11xy\"><rect x=\"43\" y=\"47\" width=\"947\" height=\"387\"/></clipPath></g><g class=\"gradients\"/><g class=\"patterns\"/></defs><g class=\"bglayer\"/><g class=\"layer-below\"><g class=\"imagelayer\"/><g class=\"shapelayer\"/></g><g class=\"cartesianlayer\"><g class=\"subplot xy\"><g class=\"layer-subplot\"><g class=\"shapelayer\"/><g class=\"imagelayer\"/></g><g class=\"minor-gridlayer\"><g class=\"x\"/><g class=\"y\"/></g><g class=\"gridlayer\"><g class=\"x\"/><g class=\"y\"><path class=\"ygrid crisp\" transform=\"translate(0,372.73)\" d=\"M43,0h947\" style=\"stroke: rgb(235, 240, 248); stroke-opacity: 1; stroke-width: 1px;\"/><path class=\"ygrid crisp\" transform=\"translate(0,311.45)\" d=\"M43,0h947\" style=\"stroke: rgb(235, 240, 248); stroke-opacity: 1; stroke-width: 1px;\"/><path class=\"ygrid crisp\" transform=\"translate(0,250.18)\" d=\"M43,0h947\" style=\"stroke: rgb(235, 240, 248); stroke-opacity: 1; stroke-width: 1px;\"/><path class=\"ygrid crisp\" transform=\"translate(0,188.9)\" d=\"M43,0h947\" style=\"stroke: rgb(235, 240, 248); stroke-opacity: 1; stroke-width: 1px;\"/><path class=\"ygrid crisp\" transform=\"translate(0,127.63)\" d=\"M43,0h947\" style=\"stroke: rgb(235, 240, 248); stroke-opacity: 1; stroke-width: 1px;\"/><path class=\"ygrid crisp\" transform=\"translate(0,66.35)\" d=\"M43,0h947\" style=\"stroke: rgb(235, 240, 248); stroke-opacity: 1; stroke-width: 1px;\"/></g></g><g class=\"zerolinelayer\"><path class=\"yzl zl crisp\" transform=\"translate(0,434)\" d=\"M43,0h947\" style=\"stroke: rgb(235, 240, 248); stroke-opacity: 1; stroke-width: 2px;\"/></g><g class=\"layer-between\"><g class=\"shapelayer\"/><g class=\"imagelayer\"/></g><path class=\"xlines-below\"/><path class=\"ylines-below\"/><g class=\"overlines-below\"/><g class=\"xaxislayer-below\"/><g class=\"yaxislayer-below\"/><g class=\"overaxes-below\"/><g class=\"plot\" transform=\"translate(43,47)\" clip-path=\"url(#clip847d11xyplot)\"><g class=\"barlayer mlayer\"><g class=\"trace bars\" style=\"opacity: 1;\"><g class=\"points\"><g class=\"point\"><path d=\"M1.35,387V141.9H12.18V387Z\" style=\"vector-effect: none; opacity: 1; stroke-width: 0.5px; fill: rgb(99, 110, 250); fill-opacity: 1; stroke: rgb(255, 255, 255); stroke-opacity: 1;\"/></g></g></g><g class=\"trace bars\" style=\"opacity: 1;\"><g class=\"points\"><g class=\"point\"><path d=\"M934.82,387V141.9H945.65V387Z\" style=\"vector-effect: none; opacity: 1; stroke-width: 0.5px; fill: rgb(239, 85, 59); fill-opacity: 1; stroke: rgb(255, 255, 255); stroke-opacity: 1;\"/></g></g></g><g class=\"trace bars\" style=\"opacity: 1;\"><g class=\"points\"><g class=\"point\"><path d=\"M447.8,387V141.9H458.62V387Z\" style=\"vector-effect: none; opacity: 1; stroke-width: 0.5px; fill: rgb(0, 204, 150); fill-opacity: 1; stroke: rgb(255, 255, 255); stroke-opacity: 1;\"/></g><g class=\"point\"><path d=\"M217.81,387V203.18H228.63V387Z\" style=\"vector-effect: none; opacity: 1; stroke-width: 0.5px; fill: rgb(0, 204, 150); fill-opacity: 1; stroke: rgb(255, 255, 255); stroke-opacity: 1;\"/></g></g></g><g class=\"trace bars\" style=\"opacity: 1;\"><g class=\"points\"><g class=\"point\"><path d=\"M637.2,387V203.18H648.02V387Z\" style=\"vector-effect: none; opacity: 1; stroke-width: 0.5px; fill: rgb(171, 99, 250); fill-opacity: 1; stroke: rgb(255, 255, 255); stroke-opacity: 1;\"/></g></g></g><g class=\"trace bars\" style=\"opacity: 1;\"><g class=\"points\"><g class=\"point\"><path d=\"M745.42,387V203.18H756.25V387Z\" style=\"vector-effect: none; opacity: 1; stroke-width: 0.5px; fill: rgb(255, 161, 90); fill-opacity: 1; stroke: rgb(255, 255, 255); stroke-opacity: 1;\"/></g></g></g><g class=\"trace bars\" style=\"opacity: 1;\"><g class=\"points\"><g class=\"point\"><path d=\"M731.9,387V203.18H742.72V387Z\" style=\"vector-effect: none; opacity: 1; stroke-width: 0.5px; fill: rgb(25, 211, 243); fill-opacity: 1; stroke: rgb(255, 255, 255); stroke-opacity: 1;\"/></g></g></g><g class=\"trace bars\" style=\"opacity: 1;\"><g class=\"points\"><g class=\"point\"><path d=\"M731.9,203.18V19.35H742.72V203.18Z\" style=\"vector-effect: none; opacity: 1; stroke-width: 0.5px; fill: rgb(255, 102, 146); fill-opacity: 1; stroke: rgb(255, 255, 255); stroke-opacity: 1;\"/></g></g></g></g></g><g class=\"overplot\"/><path class=\"xlines-above crisp\" d=\"M0,0\" style=\"fill: none;\"/><path class=\"ylines-above crisp\" d=\"M0,0\" style=\"fill: none;\"/><g class=\"overlines-above\"/><g class=\"xaxislayer-above\"><g class=\"xtick\"><text text-anchor=\"middle\" x=\"0\" y=\"447\" transform=\"translate(185.05,0)\" style=\"font-family: 'Open Sans', verdana, arial, sans-serif; font-size: 12px; fill: rgb(42, 63, 95); fill-opacity: 1; white-space: pre; opacity: 1;\"><tspan class=\"line\" dy=\"0em\" x=\"0\" y=\"447\">Feb 11</tspan><tspan class=\"line\" dy=\"1.3em\" x=\"0\" y=\"447\">2024</tspan></text></g><g class=\"xtick\"><text text-anchor=\"middle\" x=\"0\" y=\"447\" style=\"font-family: 'Open Sans', verdana, arial, sans-serif; font-size: 12px; fill: rgb(42, 63, 95); fill-opacity: 1; white-space: pre; opacity: 1;\" transform=\"translate(374.45,0)\">Feb 25</text></g><g class=\"xtick\"><text text-anchor=\"middle\" x=\"0\" y=\"447\" style=\"font-family: 'Open Sans', verdana, arial, sans-serif; font-size: 12px; fill: rgb(42, 63, 95); fill-opacity: 1; white-space: pre; opacity: 1;\" transform=\"translate(563.85,0)\">Mar 10</text></g><g class=\"xtick\"><text text-anchor=\"middle\" x=\"0\" y=\"447\" style=\"font-family: 'Open Sans', verdana, arial, sans-serif; font-size: 12px; fill: rgb(42, 63, 95); fill-opacity: 1; white-space: pre; opacity: 1;\" transform=\"translate(753.25,0)\">Mar 24</text></g><g class=\"xtick\"><text text-anchor=\"middle\" x=\"0\" y=\"447\" style=\"font-family: 'Open Sans', verdana, arial, sans-serif; font-size: 12px; fill: rgb(42, 63, 95); fill-opacity: 1; white-space: pre; opacity: 1;\" transform=\"translate(942.65,0)\">Apr 7</text></g></g><g class=\"yaxislayer-above\"><g class=\"ytick\"><text text-anchor=\"end\" x=\"42\" y=\"4.199999999999999\" transform=\"translate(0,434)\" style=\"font-family: 'Open Sans', verdana, arial, sans-serif; font-size: 12px; fill: rgb(42, 63, 95); fill-opacity: 1; white-space: pre; opacity: 1;\">0</text></g><g class=\"ytick\"><text text-anchor=\"end\" x=\"42\" y=\"4.199999999999999\" style=\"font-family: 'Open Sans', verdana, arial, sans-serif; font-size: 12px; fill: rgb(42, 63, 95); fill-opacity: 1; white-space: pre; opacity: 1;\" transform=\"translate(0,372.73)\">1</text></g><g class=\"ytick\"><text text-anchor=\"end\" x=\"42\" y=\"4.199999999999999\" style=\"font-family: 'Open Sans', verdana, arial, sans-serif; font-size: 12px; fill: rgb(42, 63, 95); fill-opacity: 1; white-space: pre; opacity: 1;\" transform=\"translate(0,311.45)\">2</text></g><g class=\"ytick\"><text text-anchor=\"end\" x=\"42\" y=\"4.199999999999999\" style=\"font-family: 'Open Sans', verdana, arial, sans-serif; font-size: 12px; fill: rgb(42, 63, 95); fill-opacity: 1; white-space: pre; opacity: 1;\" transform=\"translate(0,250.18)\">3</text></g><g class=\"ytick\"><text text-anchor=\"end\" x=\"42\" y=\"4.199999999999999\" style=\"font-family: 'Open Sans', verdana, arial, sans-serif; font-size: 12px; fill: rgb(42, 63, 95); fill-opacity: 1; white-space: pre; opacity: 1;\" transform=\"translate(0,188.9)\">4</text></g><g class=\"ytick\"><text text-anchor=\"end\" x=\"42\" y=\"4.199999999999999\" style=\"font-family: 'Open Sans', verdana, arial, sans-serif; font-size: 12px; fill: rgb(42, 63, 95); fill-opacity: 1; white-space: pre; opacity: 1;\" transform=\"translate(0,127.63)\">5</text></g><g class=\"ytick\"><text text-anchor=\"end\" x=\"42\" y=\"4.199999999999999\" style=\"font-family: 'Open Sans', verdana, arial, sans-serif; font-size: 12px; fill: rgb(42, 63, 95); fill-opacity: 1; white-space: pre; opacity: 1;\" transform=\"translate(0,66.35)\">6</text></g></g><g class=\"overaxes-above\"/></g></g><g class=\"polarlayer\"/><g class=\"smithlayer\"/><g class=\"ternarylayer\"/><g class=\"geolayer\"/><g class=\"funnelarealayer\"/><g class=\"pielayer\"/><g class=\"iciclelayer\"/><g class=\"treemaplayer\"/><g class=\"sunburstlayer\"/><g class=\"glimages\"/><defs id=\"topdefs-847d11\"><g class=\"clips\"/><clipPath id=\"legend847d11\"><rect width=\"605\" height=\"29\" x=\"0\" y=\"0\"/></clipPath></defs><g class=\"layer-above\"><g class=\"imagelayer\"/><g class=\"shapelayer\"/></g><g class=\"infolayer\"><g class=\"legend\" pointer-events=\"all\" transform=\"translate(385,10.259999999999991)\"><rect class=\"bg\" shape-rendering=\"crispEdges\" width=\"605\" height=\"29\" x=\"0\" y=\"0\" style=\"stroke: rgb(68, 68, 68); stroke-opacity: 1; fill: rgb(255, 255, 255); fill-opacity: 1; stroke-width: 0px;\"/><g class=\"scrollbox\" transform=\"\" clip-path=\"url(#legend847d11)\"><g class=\"groups\" transform=\"\"><g class=\"traces\" transform=\"translate(0,14.5)\" style=\"opacity: 1;\"><text class=\"legendtext\" text-anchor=\"start\" x=\"40\" y=\"4.680000000000001\" style=\"font-family: 'Open Sans', verdana, arial, sans-serif; font-size: 12px; fill: rgb(42, 63, 95); fill-opacity: 1; white-space: pre;\">154820</text><g class=\"layers\" style=\"opacity: 1;\"><g class=\"legendfill\"/><g class=\"legendlines\"/><g class=\"legendsymbols\"><g class=\"legendpoints\"><path class=\"legendundefined\" d=\"M6,6H-6V-6H6Z\" transform=\"translate(20,0)\" style=\"stroke-width: 0.5px; fill: rgb(99, 110, 250); fill-opacity: 1; stroke: rgb(255, 255, 255); stroke-opacity: 1;\"/></g></g></g><rect class=\"legendtoggle\" x=\"0\" y=\"-9.5\" width=\"88.28125\" height=\"19\" style=\"fill: rgb(0, 0, 0); fill-opacity: 0;\"/></g></g><g class=\"groups\" transform=\"translate(90.78125,0)\"><g class=\"traces\" transform=\"translate(0,14.5)\" style=\"opacity: 1;\"><text class=\"legendtext\" text-anchor=\"start\" x=\"40\" y=\"4.680000000000001\" style=\"font-family: 'Open Sans', verdana, arial, sans-serif; font-size: 12px; fill: rgb(42, 63, 95); fill-opacity: 1; white-space: pre;\">4351</text><g class=\"layers\" style=\"opacity: 1;\"><g class=\"legendfill\"/><g class=\"legendlines\"/><g class=\"legendsymbols\"><g class=\"legendpoints\"><path class=\"legendundefined\" d=\"M6,6H-6V-6H6Z\" transform=\"translate(20,0)\" style=\"stroke-width: 0.5px; fill: rgb(239, 85, 59); fill-opacity: 1; stroke: rgb(255, 255, 255); stroke-opacity: 1;\"/></g></g></g><rect class=\"legendtoggle\" x=\"0\" y=\"-9.5\" width=\"73.015625\" height=\"19\" style=\"fill: rgb(0, 0, 0); fill-opacity: 0;\"/></g></g><g class=\"groups\" transform=\"translate(166.296875,0)\"><g class=\"traces\" transform=\"translate(0,14.5)\" style=\"opacity: 1;\"><text class=\"legendtext\" text-anchor=\"start\" x=\"40\" y=\"4.680000000000001\" style=\"font-family: 'Open Sans', verdana, arial, sans-serif; font-size: 12px; fill: rgb(42, 63, 95); fill-opacity: 1; white-space: pre;\">8414</text><g class=\"layers\" style=\"opacity: 1;\"><g class=\"legendfill\"/><g class=\"legendlines\"/><g class=\"legendsymbols\"><g class=\"legendpoints\"><path class=\"legendundefined\" d=\"M6,6H-6V-6H6Z\" transform=\"translate(20,0)\" style=\"stroke-width: 0.5px; fill: rgb(0, 204, 150); fill-opacity: 1; stroke: rgb(255, 255, 255); stroke-opacity: 1;\"/></g></g></g><rect class=\"legendtoggle\" x=\"0\" y=\"-9.5\" width=\"73.015625\" height=\"19\" style=\"fill: rgb(0, 0, 0); fill-opacity: 0;\"/></g></g><g class=\"groups\" transform=\"translate(241.8125,0)\"><g class=\"traces\" transform=\"translate(0,14.5)\" style=\"opacity: 1;\"><text class=\"legendtext\" text-anchor=\"start\" x=\"40\" y=\"4.680000000000001\" style=\"font-family: 'Open Sans', verdana, arial, sans-serif; font-size: 12px; fill: rgb(42, 63, 95); fill-opacity: 1; white-space: pre;\">204917</text><g class=\"layers\" style=\"opacity: 1;\"><g class=\"legendfill\"/><g class=\"legendlines\"/><g class=\"legendsymbols\"><g class=\"legendpoints\"><path class=\"legendundefined\" d=\"M6,6H-6V-6H6Z\" transform=\"translate(20,0)\" style=\"stroke-width: 0.5px; fill: rgb(171, 99, 250); fill-opacity: 1; stroke: rgb(255, 255, 255); stroke-opacity: 1;\"/></g></g></g><rect class=\"legendtoggle\" x=\"0\" y=\"-9.5\" width=\"88.28125\" height=\"19\" style=\"fill: rgb(0, 0, 0); fill-opacity: 0;\"/></g></g><g class=\"groups\" transform=\"translate(332.59375,0)\"><g class=\"traces\" transform=\"translate(0,14.5)\" style=\"opacity: 1;\"><text class=\"legendtext\" text-anchor=\"start\" x=\"40\" y=\"4.680000000000001\" style=\"font-family: 'Open Sans', verdana, arial, sans-serif; font-size: 12px; fill: rgb(42, 63, 95); fill-opacity: 1; white-space: pre;\">183925</text><g class=\"layers\" style=\"opacity: 1;\"><g class=\"legendfill\"/><g class=\"legendlines\"/><g class=\"legendsymbols\"><g class=\"legendpoints\"><path class=\"legendundefined\" d=\"M6,6H-6V-6H6Z\" transform=\"translate(20,0)\" style=\"stroke-width: 0.5px; fill: rgb(255, 161, 90); fill-opacity: 1; stroke: rgb(255, 255, 255); stroke-opacity: 1;\"/></g></g></g><rect class=\"legendtoggle\" x=\"0\" y=\"-9.5\" width=\"88.28125\" height=\"19\" style=\"fill: rgb(0, 0, 0); fill-opacity: 0;\"/></g></g><g class=\"groups\" transform=\"translate(423.375,0)\"><g class=\"traces\" transform=\"translate(0,14.5)\" style=\"opacity: 1;\"><text class=\"legendtext\" text-anchor=\"start\" x=\"40\" y=\"4.680000000000001\" style=\"font-family: 'Open Sans', verdana, arial, sans-serif; font-size: 12px; fill: rgb(42, 63, 95); fill-opacity: 1; white-space: pre;\">191634</text><g class=\"layers\" style=\"opacity: 1;\"><g class=\"legendfill\"/><g class=\"legendlines\"/><g class=\"legendsymbols\"><g class=\"legendpoints\"><path class=\"legendundefined\" d=\"M6,6H-6V-6H6Z\" transform=\"translate(20,0)\" style=\"stroke-width: 0.5px; fill: rgb(25, 211, 243); fill-opacity: 1; stroke: rgb(255, 255, 255); stroke-opacity: 1;\"/></g></g></g><rect class=\"legendtoggle\" x=\"0\" y=\"-9.5\" width=\"88.28125\" height=\"19\" style=\"fill: rgb(0, 0, 0); fill-opacity: 0;\"/></g></g><g class=\"groups\" transform=\"translate(514.15625,0)\"><g class=\"traces\" transform=\"translate(0,14.5)\" style=\"opacity: 1;\"><text class=\"legendtext\" text-anchor=\"start\" x=\"40\" y=\"4.680000000000001\" style=\"font-family: 'Open Sans', verdana, arial, sans-serif; font-size: 12px; fill: rgb(42, 63, 95); fill-opacity: 1; white-space: pre;\">191448</text><g class=\"layers\" style=\"opacity: 1;\"><g class=\"legendfill\"/><g class=\"legendlines\"/><g class=\"legendsymbols\"><g class=\"legendpoints\"><path class=\"legendundefined\" d=\"M6,6H-6V-6H6Z\" transform=\"translate(20,0)\" style=\"stroke-width: 0.5px; fill: rgb(255, 102, 146); fill-opacity: 1; stroke: rgb(255, 255, 255); stroke-opacity: 1;\"/></g></g></g><rect class=\"legendtoggle\" x=\"0\" y=\"-9.5\" width=\"88.28125\" height=\"19\" style=\"fill: rgb(0, 0, 0); fill-opacity: 0;\"/></g></g></g><rect class=\"scrollbar\" rx=\"20\" ry=\"3\" width=\"0\" height=\"0\" x=\"0\" y=\"0\" style=\"fill: rgb(128, 139, 164); fill-opacity: 1;\"/></g><g class=\"g-gtitle\"><text class=\"gtitle\" x=\"50\" y=\"23.5\" text-anchor=\"start\" dy=\"0em\" style=\"font-family: 'Open Sans', verdana, arial, sans-serif; font-size: 17px; fill: rgb(42, 63, 95); opacity: 1; white-space: pre;\">Top cluster by number of affected users</text></g><g class=\"g-xtitle\"><text class=\"xtitle\" x=\"516.5\" y=\"489.409375\" text-anchor=\"middle\" style=\"font-family: 'Open Sans', verdana, arial, sans-serif; font-size: 14px; fill: rgb(42, 63, 95); opacity: 1; white-space: pre;\">Date</text></g><g class=\"g-ytitle\"><text class=\"ytitle\" transform=\"rotate(-90,14.959375000000001,240.5)\" x=\"14.959375000000001\" y=\"240.5\" text-anchor=\"middle\" style=\"font-family: 'Open Sans', verdana, arial, sans-serif; font-size: 14px; fill: rgb(42, 63, 95); opacity: 1; white-space: pre;\">Number of failed actions</text></g></g></svg>"
      ]
     },
     "metadata": {},
     "output_type": "display_data"
    }
   ],
   "source": [
    "top_clusters_by_unique_users_fig.show()"
   ]
  },
  {
   "cell_type": "markdown",
   "id": "c0c193ef",
   "metadata": {
    "slideshow": {
     "slide_type": "subslide"
    }
   },
   "source": [
    "# Statistics: Top clusters by affected users\n",
    "Outage in an external service:"
   ]
  },
  {
   "cell_type": "code",
   "execution_count": 45,
   "id": "24e9bbf5",
   "metadata": {
    "slideshow": {
     "slide_type": "skip"
    }
   },
   "outputs": [
    {
     "data": {
      "text/html": [
       "<div>\n",
       "<style scoped>\n",
       "    .dataframe tbody tr th:only-of-type {\n",
       "        vertical-align: middle;\n",
       "    }\n",
       "\n",
       "    .dataframe tbody tr th {\n",
       "        vertical-align: top;\n",
       "    }\n",
       "\n",
       "    .dataframe thead th {\n",
       "        text-align: right;\n",
       "    }\n",
       "</style>\n",
       "<table border=\"1\" class=\"dataframe\">\n",
       "  <thead>\n",
       "    <tr style=\"text-align: right;\">\n",
       "      <th></th>\n",
       "      <th>action_output_date</th>\n",
       "      <th>action_output_cluster_id</th>\n",
       "      <th>unique_users_num</th>\n",
       "      <th>actions_num</th>\n",
       "      <th>distance_avg</th>\n",
       "    </tr>\n",
       "  </thead>\n",
       "  <tbody>\n",
       "    <tr>\n",
       "      <th>1277</th>\n",
       "      <td>2024-02-01 00:00:00+00:00</td>\n",
       "      <td>154820</td>\n",
       "      <td>4</td>\n",
       "      <td>9</td>\n",
       "      <td>0.098524</td>\n",
       "    </tr>\n",
       "    <tr>\n",
       "      <th>2378</th>\n",
       "      <td>2024-03-05 00:00:00+00:00</td>\n",
       "      <td>8414</td>\n",
       "      <td>4</td>\n",
       "      <td>4</td>\n",
       "      <td>0.018555</td>\n",
       "    </tr>\n",
       "    <tr>\n",
       "      <th>3848</th>\n",
       "      <td>2024-04-10 00:00:00+00:00</td>\n",
       "      <td>4351</td>\n",
       "      <td>4</td>\n",
       "      <td>5</td>\n",
       "      <td>0.117188</td>\n",
       "    </tr>\n",
       "    <tr>\n",
       "      <th>1947</th>\n",
       "      <td>2024-02-17 00:00:00+00:00</td>\n",
       "      <td>8414</td>\n",
       "      <td>3</td>\n",
       "      <td>3</td>\n",
       "      <td>0.000000</td>\n",
       "    </tr>\n",
       "    <tr>\n",
       "      <th>2838</th>\n",
       "      <td>2024-03-26 00:00:00+00:00</td>\n",
       "      <td>191662</td>\n",
       "      <td>3</td>\n",
       "      <td>3</td>\n",
       "      <td>0.000000</td>\n",
       "    </tr>\n",
       "    <tr>\n",
       "      <th>2797</th>\n",
       "      <td>2024-03-26 00:00:00+00:00</td>\n",
       "      <td>8418</td>\n",
       "      <td>3</td>\n",
       "      <td>3</td>\n",
       "      <td>0.175781</td>\n",
       "    </tr>\n",
       "    <tr>\n",
       "      <th>2620</th>\n",
       "      <td>2024-03-12 00:00:00+00:00</td>\n",
       "      <td>123462</td>\n",
       "      <td>3</td>\n",
       "      <td>3</td>\n",
       "      <td>0.075521</td>\n",
       "    </tr>\n",
       "    <tr>\n",
       "      <th>3307</th>\n",
       "      <td>2024-04-03 00:00:00+00:00</td>\n",
       "      <td>4351</td>\n",
       "      <td>3</td>\n",
       "      <td>3</td>\n",
       "      <td>0.117188</td>\n",
       "    </tr>\n",
       "    <tr>\n",
       "      <th>2836</th>\n",
       "      <td>2024-03-26 00:00:00+00:00</td>\n",
       "      <td>191448</td>\n",
       "      <td>3</td>\n",
       "      <td>40</td>\n",
       "      <td>0.183594</td>\n",
       "    </tr>\n",
       "    <tr>\n",
       "      <th>2837</th>\n",
       "      <td>2024-03-26 00:00:00+00:00</td>\n",
       "      <td>191634</td>\n",
       "      <td>3</td>\n",
       "      <td>42</td>\n",
       "      <td>0.002232</td>\n",
       "    </tr>\n",
       "  </tbody>\n",
       "</table>\n",
       "</div>"
      ],
      "text/plain": [
       "            action_output_date  action_output_cluster_id  unique_users_num  \\\n",
       "1277 2024-02-01 00:00:00+00:00                    154820                 4   \n",
       "2378 2024-03-05 00:00:00+00:00                      8414                 4   \n",
       "3848 2024-04-10 00:00:00+00:00                      4351                 4   \n",
       "1947 2024-02-17 00:00:00+00:00                      8414                 3   \n",
       "2838 2024-03-26 00:00:00+00:00                    191662                 3   \n",
       "2797 2024-03-26 00:00:00+00:00                      8418                 3   \n",
       "2620 2024-03-12 00:00:00+00:00                    123462                 3   \n",
       "3307 2024-04-03 00:00:00+00:00                      4351                 3   \n",
       "2836 2024-03-26 00:00:00+00:00                    191448                 3   \n",
       "2837 2024-03-26 00:00:00+00:00                    191634                 3   \n",
       "\n",
       "      actions_num  distance_avg  \n",
       "1277            9      0.098524  \n",
       "2378            4      0.018555  \n",
       "3848            5      0.117188  \n",
       "1947            3      0.000000  \n",
       "2838            3      0.000000  \n",
       "2797            3      0.175781  \n",
       "2620            3      0.075521  \n",
       "3307            3      0.117188  \n",
       "2836           40      0.183594  \n",
       "2837           42      0.002232  "
      ]
     },
     "execution_count": 45,
     "metadata": {},
     "output_type": "execute_result"
    }
   ],
   "source": [
    "(\n",
    "    cluster_daily_stats\n",
    "    .query(f\"action_output_cluster_id != {empty_cluster_id}\")\n",
    "    .sort_values(\"unique_users_num\", ascending=False)\n",
    "    .head(10)\n",
    ")"
   ]
  },
  {
   "cell_type": "code",
   "execution_count": 46,
   "id": "a76474ba",
   "metadata": {},
   "outputs": [
    {
     "name": "stdout",
     "output_type": "stream",
     "text": [
      "error An unexpected error occurred: \"https://registry.yarnpkg.com/@babel/code-frame/-/code-frame-7.12.13.tgz: Request failed \\\"502 Bad Gateway\\\"\".\n",
      "info If you think this is a bug, please open a bug report with the information provided in \"/home/circleci/project/yarn-error.log\".\n",
      "info Visit https://yarnpkg.com/en/docs/cli/install for documentation about this command.\n"
     ]
    }
   ],
   "source": [
    "print(actions.loc[4351, \"action_output_failure\"])"
   ]
  },
  {
   "cell_type": "markdown",
   "id": "b320c823",
   "metadata": {},
   "source": [
    "Lint error in a commonly edited file(s):"
   ]
  },
  {
   "cell_type": "code",
   "execution_count": 47,
   "id": "daee0417",
   "metadata": {},
   "outputs": [
    {
     "name": "stdout",
     "output_type": "stream",
     "text": [
      "\n",
      "  This project uses prettier to format all JavaScript code.\n",
      "    Please run yarn prettier-all and add changes to files listed below to your commit:\n",
      "\n",
      "\n",
      "packages/react-test-renderer/src/ReactTestRenderer.js\n"
     ]
    }
   ],
   "source": [
    "print(actions.loc[309408, \"action_output_failure\"])"
   ]
  },
  {
   "cell_type": "markdown",
   "id": "8d522700",
   "metadata": {
    "slideshow": {
     "slide_type": "subslide"
    }
   },
   "source": [
    "# Statistics: Top clusters by affected users\n",
    "Flaky test:"
   ]
  },
  {
   "cell_type": "code",
   "execution_count": 48,
   "id": "5dde80df",
   "metadata": {},
   "outputs": [
    {
     "name": "stdout",
     "output_type": "stream",
     "text": [
      "\n",
      "ReferenceError: You are trying to access a property or method of the Jest environment after it has been torn down. From packages/react-devtools-shared/src/__tests__/storeStressTestConcurrent-test.js.\n",
      "\n",
      "      108 |\n",
      "      109 |   if (recursivelyFlush) {\n",
      "    > 110 |     while (jest.getTimerCount() > 0) {\n",
      "          |                 ^\n",
      "      111 |       await actDOM(async () => {\n",
      "      112 |         await actTestRenderer(async () => {\n",
      "      113 |           jest.runAllTimers();\n",
      "\n",
      "      at actAsync (packages/react-devtools-shared/src/__tests__/utils.js:110:17)\n",
      "      at _loop31 (packages/react-devtools-shared/src/__tests__/storeStressTestConcurrent-test.js:1285:9)\n",
      "      at _loop26 (packages/react-devtools-shared/src/__tests__/storeStressTestConcurrent-test.js:1357:304)\n",
      "      at Object.<anonymous> (packages/react-devtools-shared/src/__tests__/storeStressTestConcurrent-test.js:1358:282)\n"
     ]
    }
   ],
   "source": [
    "print(\"\\n\".join(actions.loc[8414, \"action_output_failure\"].splitlines()[1:16]))"
   ]
  },
  {
   "cell_type": "markdown",
   "id": "e4a192d8",
   "metadata": {
    "slideshow": {
     "slide_type": "slide"
    }
   },
   "source": [
    "# Integrations\n",
    "1. **Incident Management** - widespread errors trigger incident management proc.\n",
    "2. **Impact Assessment** - alerts have information about the number of affected users.\n",
    "3. **Remediation Information** - Users can add remediation steps to error clusters.\n",
    "4. **Error Suppression** - certain widespread errors can be suppressed and the the integration process can be resumed.\n",
    "5. **Batch Retry** - once the root cause is resolved we can batch retry validation process for a precise set of blocked Code Reviews.\n",
    "6. **Topline Metrics** - we estimate the impact of specific widespread errors on the topline metrics measuring developer productivity."
   ]
  },
  {
   "cell_type": "markdown",
   "id": "e9115fbe",
   "metadata": {
    "slideshow": {
     "slide_type": "slide"
    }
   },
   "source": [
    "# Summary\n",
    "\n",
    "1. Clustering of near-identical documents eliminates the need of maintaining a long list of normalization rules.\n",
    "2. Minhash and LSH Forest are efficient solutions for detecting near-identical documents. Proposed settings proposed density of ~2M cluster per 1 GB.\n",
    "3. For the React case study, during the 1 year period we observed 350k erros. Proposed pipeline produced 300k unique error clusters taking 150MB.\n",
    "4. Proposed solution scales well and can be deployed in large CI systems."
   ]
  },
  {
   "cell_type": "code",
   "execution_count": 49,
   "id": "380f8b08",
   "metadata": {
    "slideshow": {
     "slide_type": "skip"
    }
   },
   "outputs": [
    {
     "name": "stdout",
     "output_type": "stream",
     "text": [
      "Density: 2097152.0\n",
      "Number of errors: 341630\n",
      "Number of clusters: 2933\n",
      "Space used in MB: 1.43212890625\n"
     ]
    }
   ],
   "source": [
    "print(\"Density:\", 2 ** 30 / 256 / 2)\n",
    "print(\"Number of errors:\", actions.shape[0])\n",
    "print(\"Number of clusters:\", actions[\"action_output_cluster_id\"].value_counts().shape[0])\n",
    "print(\"Space used in MB:\", actions[\"action_output_cluster_id\"].value_counts().shape[0] * 256 * 2 / 2 ** 20)"
   ]
  },
  {
   "cell_type": "markdown",
   "id": "79ef9a86",
   "metadata": {
    "slideshow": {
     "slide_type": "slide"
    }
   },
   "source": [
    "# Appendix"
   ]
  },
  {
   "cell_type": "markdown",
   "id": "33450104",
   "metadata": {
    "slideshow": {
     "slide_type": "subslide"
    }
   },
   "source": [
    "## Can you simply hash error message?\n",
    "\n",
    "Performance of such solution depends heavily on the quality of extraction and normalization steps. In practice, for large-scale systems the maintenance cost becomes prohibitively high because this solution is:\n",
    "- prone to extraction getting stale,\n",
    "- prone to normalization getting stale,\n",
    "- prone to changes in the codebase (e.g. new frame in call stack)."
   ]
  }
 ],
 "metadata": {
  "celltoolbar": "Slideshow",
  "kernelspec": {
   "display_name": "Python 3 (ipykernel)",
   "language": "python",
   "name": "python3"
  },
  "language_info": {
   "codemirror_mode": {
    "name": "ipython",
    "version": 3
   },
   "file_extension": ".py",
   "mimetype": "text/x-python",
   "name": "python",
   "nbconvert_exporter": "python",
   "pygments_lexer": "ipython3",
   "version": "3.12.0"
  }
 },
 "nbformat": 4,
 "nbformat_minor": 5
}
