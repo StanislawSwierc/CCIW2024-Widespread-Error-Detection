{
 "cells": [
  {
   "cell_type": "markdown",
   "id": "7c5fa4d7",
   "metadata": {
    "slideshow": {
     "slide_type": "slide"
    }
   },
   "source": [
    "# Widespread Error Detection in Large Scale Continuous Integration Systems\n",
    "\n",
    "---\n",
    "\n",
    "- Stanislaw Swierc (stansw)\n",
    "- James Lu (luchangj)\n",
    "- Thomas Yi (thomasyi)\n",
    "\n",
    "\\* @meta.com\n",
    "\n",
    "https://github.com/StanislawSwierc/CCIW2024-Widespread-Error-Detection\n",
    "\n",
    "<img src=\"http://s21.q4cdn.com/399680738/files/design/2022/01/Meta_lockup_positive-primary_RGB-(1).jpg\" style=\"float:right;\">"
   ]
  },
  {
   "cell_type": "markdown",
   "id": "b918cdd8",
   "metadata": {
    "slideshow": {
     "slide_type": "slide"
    }
   },
   "source": [
    "# Disclaimer\n",
    "\n",
    "> This presentation contains sample code with a basic pipeline for detecting widespread errors in the React open-source project.\n",
    ">\n",
    ">It does NOT contain any code, logs or data internal to Meta Platforms, Inc.\n"
   ]
  },
  {
   "cell_type": "markdown",
   "id": "372e44a7",
   "metadata": {
    "slideshow": {
     "slide_type": "notes"
    }
   },
   "source": [
    "# Notes: Goal\n",
    "\n",
    "> The goal of this presentation is to share enough ideas and sample code for you to go back from this conference, build a prototype and get a green light from your leadership to move forward! Then, you can extend it to meet the unique needs of your company."
   ]
  },
  {
   "cell_type": "markdown",
   "id": "e5d185dc",
   "metadata": {
    "slideshow": {
     "slide_type": "slide"
    }
   },
   "source": [
    "# Motivation\n",
    "\n",
    "> Improve developer productivity by quickly detecting and mitigating the impact of widespread errors.\n",
    "\n"
   ]
  },
  {
   "cell_type": "markdown",
   "id": "b7db93ba",
   "metadata": {
    "slideshow": {
     "slide_type": "subslide"
    }
   },
   "source": [
    "# Motivation: Widespread Errors\n",
    "\n",
    "Widespread errors are commonly infrastructural errors that falsely block developers from integrating their code changes into the mainline branch.\n",
    "\n",
    "Why is this bad?\n",
    "- **Productivity** - Developers waste time trying to fix code, when it is not at fault.\n",
    "- **Trust** - Erodes confidence in CI System's ability to produce validation signals.\n",
    "- **Efficiency** - Need to re-run failing validation, thus, wasting machine resources."
   ]
  },
  {
   "cell_type": "markdown",
   "id": "874dae0c",
   "metadata": {
    "slideshow": {
     "slide_type": "subslide"
    }
   },
   "source": [
    "# Motivation: Impact vs. Frequency\n",
    "\n",
    "We can organize errors by number of affected people and how common they are:\n",
    "\n"
   ]
  },
  {
   "cell_type": "markdown",
   "id": "82ad9103",
   "metadata": {
    "cell_style": "split"
   },
   "source": [
    "<img src=\"media/impact_vs_frequency.png\" style=\"width:550px;\"/>"
   ]
  },
  {
   "cell_type": "markdown",
   "id": "a1f22191",
   "metadata": {
    "cell_style": "split"
   },
   "source": [
    "Challenges\n",
    "- Rare, widespread errors may appear like a group of concentrated errors.\n",
    "- Capturing signatures of rare, widespread errors is only good for retroactive analysis, but not for detection.\n"
   ]
  },
  {
   "cell_type": "code",
   "execution_count": 45,
   "id": "85d0b87a",
   "metadata": {
    "slideshow": {
     "slide_type": "skip"
    }
   },
   "outputs": [],
   "source": [
    "import os\n",
    "import re2\n",
    "import requests\n",
    "import jsonlines\n",
    "import numpy as np\n",
    "import pandas as pd\n",
    "\n",
    "from datetime import datetime\n",
    "#from tqdm.notebook import trange, tqdm\n",
    "from tqdm import tqdm"
   ]
  },
  {
   "cell_type": "code",
   "execution_count": 388,
   "id": "fc74f1b0",
   "metadata": {
    "slideshow": {
     "slide_type": "skip"
    }
   },
   "outputs": [
    {
     "data": {
      "text/html": [
       "<style>.container { width:80% !important; }</style>"
      ],
      "text/plain": [
       "<IPython.core.display.HTML object>"
      ]
     },
     "metadata": {},
     "output_type": "display_data"
    }
   ],
   "source": [
    "from IPython.display import display, HTML\n",
    "display(HTML(\"<style>.container { width:80% !important; }</style>\"))"
   ]
  },
  {
   "cell_type": "code",
   "execution_count": 188,
   "id": "c1834c78",
   "metadata": {
    "slideshow": {
     "slide_type": "skip"
    }
   },
   "outputs": [],
   "source": [
    "import plotly.express as px\n",
    "import plotly.io as pio\n",
    "import plotly.figure_factory as ff\n",
    "import plotly.graph_objects as go\n",
    "\n",
    "pio.templates.default = \"plotly_white\"\n",
    "\n",
    "default_layout = dict(\n",
    "    width=1200,\n",
    "    legend=dict(\n",
    "        orientation=\"h\",\n",
    "        yanchor=\"bottom\",\n",
    "        y=1.02,\n",
    "        xanchor=\"right\",\n",
    "        x=1\n",
    "    ),\n",
    "    margin=dict(\n",
    "        l=10,\n",
    "        r=10,\n",
    "        b=10,\n",
    "        t=20,\n",
    "    ),\n",
    ")\n",
    "\n",
    "# https://plotly.com/python/renderers/\n",
    "# https://plotly.com/python/troubleshooting/#jupyter-classic-notebook-problems\n",
    "CLASSIC = True\n",
    "if CLASSIC:\n",
    "    pio.renderers.default=\"svg\""
   ]
  },
  {
   "cell_type": "markdown",
   "id": "3a8d7f47",
   "metadata": {
    "slideshow": {
     "slide_type": "slide"
    }
   },
   "source": [
    "# React Case Study\n",
    "\n",
    "React uses CircleCI to validate pull requests and the health of the mainline branch.\n",
    "\n",
    "- **Project** - validation configuration for the code repository\n",
    "  - **Pipeline** - group of workflows\n",
    "    - **Workflow** - graph of jobs\n",
    "      - **Job** - set of steps executed sequentially\n",
    "        - **Step/Action** - execution unit\n",
    "          - **Logs** - standard output and summary\n",
    "        \n",
    "        \n",
    "\n",
    "\n",
    "*https://circleci.com/docs/concepts*"
   ]
  },
  {
   "cell_type": "markdown",
   "id": "67803cbb",
   "metadata": {
    "slideshow": {
     "slide_type": "subslide"
    }
   },
   "source": [
    "# React Case Study: CircleCI API\n",
    "CircleCI offers an API to fetch information about pipelines and other resources all the way to individual logs."
   ]
  },
  {
   "cell_type": "code",
   "execution_count": 3,
   "id": "c0c625ab",
   "metadata": {
    "cell_style": "split",
    "slideshow": {
     "slide_type": "-"
    }
   },
   "outputs": [],
   "source": [
    "from pycircleci.api import Api\n",
    "\n",
    "ORG = \"facebook\"\n",
    "PROJECT = \"react\"\n",
    "TOKEN = \"{token}\" \n",
    "\n",
    "client = Api(token=TOKEN)"
   ]
  },
  {
   "cell_type": "code",
   "execution_count": 37,
   "id": "5461244e",
   "metadata": {
    "cell_style": "split"
   },
   "outputs": [],
   "source": [
    "%%script true\n",
    "\n",
    "client.get_project_pipelines(...\n",
    "client.get_pipeline_workflow(...\n",
    "client.get_workflow_jobs(...\n",
    "client.get_job_details_v1(...\n",
    "client._session.get(action[\"output_url\"])"
   ]
  },
  {
   "cell_type": "code",
   "execution_count": 5,
   "id": "5475bbf8",
   "metadata": {
    "slideshow": {
     "slide_type": "skip"
    }
   },
   "outputs": [],
   "source": [
    "from requests_ratelimiter import LimiterAdapter\n",
    "\n",
    "def configure_rate_limiting(client):\n",
    "    adapter = LimiterAdapter(per_second=5)\n",
    "    client._session.mount('http://', adapter)\n",
    "    client._session.mount('https://', adapter)\n",
    "\n",
    "configure_rate_limiting(client)"
   ]
  },
  {
   "cell_type": "code",
   "execution_count": 6,
   "id": "11c5e132",
   "metadata": {
    "slideshow": {
     "slide_type": "skip"
    }
   },
   "outputs": [],
   "source": [
    "# Monkey patch pycircleci.Api and add a new method.\n",
    "\n",
    "def get_job_details_v1(self, username, project, job_number, vcs_type=\"github\"):\n",
    "    \"\"\"Get job details using v1 api.\n",
    "\n",
    "    This api offers additional details about steps.\n",
    "    \"\"\"\n",
    "    slug = self.project_slug(username, project, vcs_type)\n",
    "    endpoint = f\"project/{slug}/{job_number}\"\n",
    "    resp = self._request(\"GET\", endpoint, api_version=\"v1.1\")\n",
    "    return resp\n",
    "\n",
    "Api.get_job_details_v1 = get_job_details_v1"
   ]
  },
  {
   "cell_type": "code",
   "execution_count": 7,
   "id": "7576e76f",
   "metadata": {
    "slideshow": {
     "slide_type": "skip"
    }
   },
   "outputs": [],
   "source": [
    "def update_workflows(client, org, project, pipeline):\n",
    "    \"\"\"Set information about workflows.\"\"\"\n",
    "    if \"workflows\" not in pipeline:\n",
    "        workflows = client.get_pipeline_workflow(pipeline[\"id\"], paginate=True)\n",
    "        pipeline[\"workflows\"] = workflows\n",
    "\n",
    "def update_jobs(client, org, project, pipeline):\n",
    "    \"\"\"Set information about jobs.\"\"\"\n",
    "    for workflow in [\n",
    "        w\n",
    "        for w in pipeline.get(\"workflows\", [])\n",
    "        if \"jobs\" not in w\n",
    "    ]:\n",
    "        jobs = client.get_workflow_jobs(workflow[\"id\"], paginate=True)\n",
    "        workflow[\"jobs\"] = jobs\n",
    "\n",
    "def update_job_details(client, org, project, pipeline, job_status=None):\n",
    "    \"\"\"Set detailed information about jobs.\"\"\"\n",
    "    for job in [\n",
    "        j \n",
    "        for w in pipeline.get(\"workflows\", [])\n",
    "        for j in w.get(\"jobs\", [])\n",
    "        if \"details\" not in j \n",
    "            and \"job_number\" in j \n",
    "            and (job_status is None or j[\"status\"] == job_status)\n",
    "    ]:\n",
    "        job_details = client.get_job_details(org, project, job[\"job_number\"])\n",
    "        job[\"details\"] = job_details\n",
    "\n",
    "def update_steps(client, org, project, pipeline, job_status=None, action_status=None):\n",
    "    \"\"\"Set very detailed information about jobs, steps and actions.\"\"\"\n",
    "    for job in tqdm([\n",
    "        j\n",
    "        for w in pipeline.get(\"workflows\", [])\n",
    "        for j in w.get(\"jobs\", [])\n",
    "        if \"details_v1\" not in j\n",
    "            and \"job_number\" in j\n",
    "            and (job_status is None or j[\"status\"] == job_status)\n",
    "    ], leave=False, desc=\"Jobs\"):\n",
    "        job_details = client.get_job_details_v1(org, project, job[\"job_number\"])\n",
    "\n",
    "        # Fetch output immediately because \"output_url\" has an access\n",
    "        # token, which is valid only for 5 minutes. \n",
    "        for action in [\n",
    "            a \n",
    "            for s in job_details[\"steps\"]\n",
    "            for a in s[\"actions\"]\n",
    "            if \"output_url\" in a \n",
    "                and \"output\" not in a\n",
    "                and (action_status is None or a[\"status\"] == action_status)\n",
    "        ]:\n",
    "            resp = client._session.get(action[\"output_url\"])\n",
    "            resp.raise_for_status()\n",
    "            action[\"output\"] = resp.json()\n",
    "\n",
    "        job[\"details_v1\"] = job_details"
   ]
  },
  {
   "cell_type": "code",
   "execution_count": 16,
   "id": "3c9640a7",
   "metadata": {
    "slideshow": {
     "slide_type": "skip"
    }
   },
   "outputs": [
    {
     "data": {
      "application/vnd.jupyter.widget-view+json": {
       "model_id": "1b3255cd1dd94045bb6aeeac743dc9ec",
       "version_major": 2,
       "version_minor": 0
      },
      "text/plain": [
       "0it [00:00, ?it/s]"
      ]
     },
     "metadata": {},
     "output_type": "display_data"
    }
   ],
   "source": [
    "pipelines_path = 'pipelines.jsonl'\n",
    "\n",
    "if os.path.exists(pipelines_path):\n",
    "    with jsonlines.open(pipelines_path) as reader:\n",
    "        pipelines = list(tqdm(reader)) \n",
    "else:\n",
    "    pipelines = client.get_project_pipelines(org, project, paginate=True, limit=1000)\n",
    "\n",
    "    np.random.seed(42)\n",
    "    for pipeline in tqdm(pipelines, desc=\"Pipelines\"):\n",
    "        update_workflows(client, org, project, pipeline)   \n",
    "        update_jobs(client, org, project, pipeline)\n",
    "        if np.random.rand() < 0.99:\n",
    "            update_steps(client, org, project, pipeline,\n",
    "                job_status=\"failed\", action_status=\"failed\")\n",
    "        else:\n",
    "            update_steps(client, org, project, pipeline)\n",
    "\n",
    "    with jsonlines.open(pipelines_path, mode='w') as writer:\n",
    "        for p in pipelines:\n",
    "            writer.write(p)"
   ]
  },
  {
   "cell_type": "code",
   "execution_count": 18,
   "id": "3a8d9068",
   "metadata": {
    "slideshow": {
     "slide_type": "skip"
    }
   },
   "outputs": [],
   "source": [
    "# https://stackoverflow.com/questions/14693701\n",
    "ansi_escape_sequences_regex = re2.compile(\n",
    "    r'\\x1B(?:[@-Z\\\\-_]|\\[[0-?]*[ -/]*[@-~])')\n",
    "\n",
    "def remove_ansi_escape_sequences(text):\n",
    "    return ansi_escape_sequences_regex.sub(\"\", text)"
   ]
  },
  {
   "cell_type": "code",
   "execution_count": 67,
   "id": "40d17271",
   "metadata": {
    "slideshow": {
     "slide_type": "skip"
    }
   },
   "outputs": [
    {
     "name": "stderr",
     "output_type": "stream",
     "text": [
      "100%|██████████████████████████████████████████████████████████████████████████████| 5000/5000 [00:52<00:00, 94.67it/s]\n"
     ]
    }
   ],
   "source": [
    "actions = pd.DataFrame(\n",
    "[\n",
    "    { \n",
    "        \"pipeline_id\": p[\"id\"],\n",
    "        #\"pipeline_number\": p[\"number\"],\n",
    "        #\"pipeline_vcs_branch\": p[\"vcs\"][\"branch\"],\n",
    "        \"pipeline_actor_login\": p[\"trigger\"][\"actor\"][\"login\"],\n",
    "        \"workflow_id\": w[\"id\"],\n",
    "        \"workflow_name\": w[\"name\"],\n",
    "        \"workflow_status\": w[\"status\"],\n",
    "        \"job_id\": j[\"id\"],\n",
    "        #\"job_number\": j[\"job_number\"],\n",
    "        \"job_name\": j[\"name\"],\n",
    "        \"job_status\": j[\"status\"],\n",
    "        \"job_link\": f\"https://app.circleci.com/pipelines/github/facebook/react/{p[\"number\"]}/workflows/{w[\"id\"]}/jobs/{j[\"job_number\"]}/parallel-runs/{a[\"index\"]}?filterBy=ALL\",\n",
    "        \"action_name\": a[\"name\"],\n",
    "        \"action_fully_qualified_name\": \"/\".join([w[\"name\"], j[\"name\"], a[\"name\"]]),\n",
    "        \"action_index\": a[\"index\"],\n",
    "        \"action_status\": a[\"status\"],\n",
    "        \"action_output_time\": datetime.fromisoformat(o[\"time\"]),\n",
    "        \"action_output_message\": remove_ansi_escape_sequences(o[\"message\"]),\n",
    "        \"action_output_type\": o[\"type\"],        \n",
    "    }   \n",
    "    for p in tqdm(pipelines)\n",
    "    for w in p.get(\"workflows\", [])\n",
    "    for j in w.get(\"jobs\", [])\n",
    "    for s in j.get(\"details_v1\", {}).get(\"steps\", [])\n",
    "    for a in s.get(\"actions\", [])\n",
    "    for o in a.get(\"output\", [])\n",
    "]).assign(\n",
    "    action_output_date = lambda df: df[\"action_output_time\"].dt.round(\"1d\")\n",
    ")"
   ]
  },
  {
   "cell_type": "code",
   "execution_count": 30,
   "id": "fc7928f5",
   "metadata": {},
   "outputs": [
    {
     "name": "stdout",
     "output_type": "stream",
     "text": [
      "4.4G\tpipelines.jsonl\r\n"
     ]
    }
   ],
   "source": [
    "!du -h pipelines.jsonl"
   ]
  },
  {
   "cell_type": "markdown",
   "id": "dec5d529",
   "metadata": {},
   "source": [
    "*https://circleci.com/docs/api/v2/index.html*  \n",
    "*https://circleci.com/docs/managing-api-tokens*"
   ]
  },
  {
   "cell_type": "markdown",
   "id": "1d4f2147",
   "metadata": {
    "slideshow": {
     "slide_type": "subslide"
    }
   },
   "source": [
    "# # React Case Study: Actions Fact Table\n"
   ]
  },
  {
   "cell_type": "code",
   "execution_count": 29,
   "id": "e725bc2f",
   "metadata": {
    "slideshow": {
     "slide_type": "-"
    }
   },
   "outputs": [
    {
     "name": "stdout",
     "output_type": "stream",
     "text": [
      "<class 'pandas.core.frame.DataFrame'>\n",
      "RangeIndex: 341630 entries, 0 to 341629\n",
      "Data columns (total 17 columns):\n",
      " #   Column                       Non-Null Count   Dtype              \n",
      "---  ------                       --------------   -----              \n",
      " 0   pipeline_id                  341630 non-null  object             \n",
      " 1   pipeline_actor_login         341630 non-null  object             \n",
      " 2   workflow_id                  341630 non-null  object             \n",
      " 3   workflow_name                341630 non-null  object             \n",
      " 4   workflow_status              341630 non-null  object             \n",
      " 5   job_id                       341630 non-null  object             \n",
      " 6   job_name                     341630 non-null  object             \n",
      " 7   job_status                   341630 non-null  object             \n",
      " 8   job_link                     341630 non-null  object             \n",
      " 9   action_name                  341630 non-null  object             \n",
      " 10  action_fully_qualified_name  341630 non-null  object             \n",
      " 11  action_index                 341630 non-null  int64              \n",
      " 12  action_status                341630 non-null  object             \n",
      " 13  action_output_time           341630 non-null  datetime64[ns, UTC]\n",
      " 14  action_output_message        341630 non-null  object             \n",
      " 15  action_output_type           341630 non-null  object             \n",
      " 16  action_output_date           341630 non-null  datetime64[ns, UTC]\n",
      "dtypes: datetime64[ns, UTC](2), int64(1), object(14)\n",
      "memory usage: 44.3+ MB\n"
     ]
    }
   ],
   "source": [
    "actions.info()"
   ]
  },
  {
   "cell_type": "markdown",
   "id": "47791ce9",
   "metadata": {
    "slideshow": {
     "slide_type": "slide"
    }
   },
   "source": [
    "# Pipeline Design\n",
    "\n",
    "<img src=\"media/component_diagram_1.png\" style=\"height:700px;\"/>"
   ]
  },
  {
   "cell_type": "markdown",
   "id": "62fb3f89",
   "metadata": {
    "slideshow": {
     "slide_type": "slide"
    }
   },
   "source": [
    "# Extraction"
   ]
  },
  {
   "cell_type": "markdown",
   "id": "843a7e42",
   "metadata": {
    "slideshow": {
     "slide_type": "subslide"
    }
   },
   "source": [
    "# Extraction\n",
    "\n",
    "Given a log file for a failed build or tests, extracts the snippet describing the error.\n",
    "\n",
    "\n",
    "1. **Federated solution** - allow teams to provide custom rules for extracting relevant error snippets.\n",
    "2. **General solution** - find lines which appear only in logs of failed actions.\n"
   ]
  },
  {
   "cell_type": "markdown",
   "id": "b71d3240",
   "metadata": {
    "slideshow": {
     "slide_type": "subslide"
    }
   },
   "source": [
    "# Extraction: Example\n",
    "\n",
    "<!--![](media/error_snippet.png)-->\n",
    "\n",
    "<img src=\"media/error_snippet.png\" style=\"height:700px;\"/>"
   ]
  },
  {
   "cell_type": "markdown",
   "id": "c8dcfde6",
   "metadata": {
    "slideshow": {
     "slide_type": "skip"
    }
   },
   "source": [
    "https://app.circleci.com/pipelines/github/facebook/react/50369/workflows/a074d639-5829-4708-b5c1-3bb69610b578/jobs/780483/parallel-runs/10?filterBy=ALL"
   ]
  },
  {
   "cell_type": "markdown",
   "id": "5d41244c",
   "metadata": {
    "slideshow": {
     "slide_type": "subslide"
    }
   },
   "source": [
    "# Extraction: Sample Code"
   ]
  },
  {
   "cell_type": "code",
   "execution_count": 142,
   "id": "f349b0a8",
   "metadata": {
    "slideshow": {
     "slide_type": "skip"
    }
   },
   "outputs": [],
   "source": [
    "import cachetools\n",
    "from collections import defaultdict\n",
    "\n",
    "token_regex = re2.compile(r\"\\b[[:alpha:]_][[:alpha:][:digit:]_-]+\")\n",
    "\n",
    "def parse_line(text):\n",
    "    return \";\".join(token_regex.findall(line))"
   ]
  },
  {
   "cell_type": "code",
   "execution_count": 183,
   "id": "4a3ca80b",
   "metadata": {
    "slideshow": {
     "slide_type": "-"
    }
   },
   "outputs": [],
   "source": [
    "def assign_action_output_failure(df, cache_size=2048):\n",
    "    result = []\n",
    "    action_cache = defaultdict(lambda: cachetools.LRUCache(cache_size))\n",
    "    for i, row in tqdm(df.iterrows(), total=len(df)):\n",
    "        failure_lines = []\n",
    "        success_cache = action_cache[row[\"action_fully_qualified_name\"]]\n",
    "        for line in row[\"action_output_message\"].splitlines():\n",
    "            template = parse_line(line)\n",
    "            \n",
    "            if row[\"action_status\"] == \"success\":\n",
    "                success_cache[template] = True\n",
    "            elif not template or template not in success_cache:\n",
    "                failure_lines.append(line)\n",
    "                \n",
    "        result.append(\"\\n\".join(failure_lines))\n",
    "    return result"
   ]
  },
  {
   "cell_type": "code",
   "execution_count": null,
   "id": "6c7be94a",
   "metadata": {
    "slideshow": {
     "slide_type": "skip"
    }
   },
   "outputs": [],
   "source": [
    "actions =  actions.assign(\n",
    "    action_output_failure = assign_action_output_failure\n",
    ")"
   ]
  },
  {
   "cell_type": "code",
   "execution_count": 129,
   "id": "7f8262ac",
   "metadata": {
    "slideshow": {
     "slide_type": "skip"
    }
   },
   "outputs": [
    {
     "name": "stdout",
     "output_type": "stream",
     "text": [
      "https://app.circleci.com/pipelines/github/facebook/react/50369/workflows/a074d639-5829-4708-b5c1-3bb69610b578/jobs/780483/parallel-runs/10?filterBy=ALL\n",
      "https://app.circleci.com/pipelines/github/facebook/react/50370/workflows/1d411977-e2da-4c0b-aaf1-8afa9f8315ce/jobs/780523/parallel-runs/10?filterBy=ALL\n",
      "https://app.circleci.com/pipelines/github/facebook/react/50372/workflows/9e5ff90c-4a57-4368-b0d1-1a7199651605/jobs/780583/parallel-runs/10?filterBy=ALL\n",
      "https://app.circleci.com/pipelines/github/facebook/react/50813/workflows/69f540c5-c70a-4742-b3de-65ffa3b1c616/jobs/793195/parallel-runs/3?filterBy=ALL\n",
      "https://app.circleci.com/pipelines/github/facebook/react/52545/workflows/25ac236a-e080-4f25-9c64-1fb16534549d/jobs/844606/parallel-runs/2?filterBy=ALL\n"
     ]
    }
   ],
   "source": [
    "# Find examples of jobs with passing and failing tests and short logs.\n",
    "(\n",
    "  actions\n",
    "  .query(\"action_status == 'failed'\")\n",
    "  .query(\"action_output_type == 'out'\")\n",
    "  .query(\"action_output_message.str.contains('PASS')\")\n",
    "  .query(\"action_output_failure.str.contains('FAIL')\")\n",
    "  .assign(action_output_message_length = lambda df: df[\"action_output_message\"].str.len())\n",
    "  .sort_values(\"action_output_message_length\")\n",
    "  .head(5)\n",
    "  .loc[:, \"job_link\"]\n",
    "  .apply(print)\n",
    ")\n",
    "None"
   ]
  },
  {
   "cell_type": "markdown",
   "id": "382ff492",
   "metadata": {
    "slideshow": {
     "slide_type": "subslide"
    }
   },
   "source": [
    "# Extraction: Results"
   ]
  },
  {
   "cell_type": "code",
   "execution_count": 432,
   "id": "009f981f",
   "metadata": {
    "slideshow": {
     "slide_type": "skip"
    }
   },
   "outputs": [],
   "source": [
    "line_num_ecdf_fig = (\n",
    "    actions\n",
    "    .query(\"action_status == 'failed'\")\n",
    "    .query(\"action_output_type == 'out'\")\n",
    "    .rename(columns={\n",
    "        \"action_output_message\":\"original\",\n",
    "        \"action_output_failure\":\"reduced\"\n",
    "    })\n",
    "    .melt(value_vars=[\"original\", \"reduced\"])\n",
    "    .rename(columns={\"variable\":\"version\"})\n",
    "    .assign(line_num = lambda df: df[\"value\"].str.count(\"\\n\"))\n",
    "    .pipe(\n",
    "        px.ecdf,\n",
    "        x=\"line_num\",\n",
    "        color=\"version\"\n",
    "    )\n",
    "    .update_layout(\n",
    "        **default_layout,\n",
    "        title=\"Empirical Cumulative Distribution Plots of Line Numbers\",\n",
    "        xaxis_title=\"Number of Lines\",\n",
    "        xaxis_range=[0, 200],\n",
    "        yaxis_title=\"Probability\",\n",
    "        yaxis_tickformat=\",.0%\"\n",
    "    )\n",
    ")"
   ]
  },
  {
   "cell_type": "code",
   "execution_count": 433,
   "id": "b12838f1",
   "metadata": {},
   "outputs": [
    {
     "data": {
      "image/svg+xml": [
       "<svg class=\"main-svg\" xmlns=\"http://www.w3.org/2000/svg\" xmlns:xlink=\"http://www.w3.org/1999/xlink\" width=\"1200\" height=\"500\" style=\"\" viewBox=\"0 0 1200 500\"><rect x=\"0\" y=\"0\" width=\"1200\" height=\"500\" style=\"fill: rgb(255, 255, 255); fill-opacity: 1;\"/><defs id=\"defs-75ffc4\"><g class=\"clips\"><clipPath id=\"clip75ffc4xyplot\" class=\"plotclip\"><rect width=\"1107\" height=\"403\"/></clipPath><clipPath class=\"axesclip\" id=\"clip75ffc4x\"><rect x=\"72\" y=\"0\" width=\"1107\" height=\"500\"/></clipPath><clipPath class=\"axesclip\" id=\"clip75ffc4y\"><rect x=\"0\" y=\"47\" width=\"1200\" height=\"403\"/></clipPath><clipPath class=\"axesclip\" id=\"clip75ffc4xy\"><rect x=\"72\" y=\"47\" width=\"1107\" height=\"403\"/></clipPath></g><g class=\"gradients\"/><g class=\"patterns\"/></defs><g class=\"bglayer\"/><g class=\"layer-below\"><g class=\"imagelayer\"/><g class=\"shapelayer\"/></g><g class=\"cartesianlayer\"><g class=\"subplot xy\"><g class=\"layer-subplot\"><g class=\"shapelayer\"/><g class=\"imagelayer\"/></g><g class=\"minor-gridlayer\"><g class=\"x\"/><g class=\"y\"/></g><g class=\"gridlayer\"><g class=\"x\"><path class=\"xgrid crisp\" transform=\"translate(348.75,0)\" d=\"M0,47v403\" style=\"stroke: rgb(235, 240, 248); stroke-opacity: 1; stroke-width: 1px;\"/><path class=\"xgrid crisp\" transform=\"translate(625.5,0)\" d=\"M0,47v403\" style=\"stroke: rgb(235, 240, 248); stroke-opacity: 1; stroke-width: 1px;\"/><path class=\"xgrid crisp\" transform=\"translate(902.25,0)\" d=\"M0,47v403\" style=\"stroke: rgb(235, 240, 248); stroke-opacity: 1; stroke-width: 1px;\"/></g><g class=\"y\"><path class=\"ygrid crisp\" transform=\"translate(0,373.43)\" d=\"M72,0h1107\" style=\"stroke: rgb(235, 240, 248); stroke-opacity: 1; stroke-width: 1px;\"/><path class=\"ygrid crisp\" transform=\"translate(0,296.86)\" d=\"M72,0h1107\" style=\"stroke: rgb(235, 240, 248); stroke-opacity: 1; stroke-width: 1px;\"/><path class=\"ygrid crisp\" transform=\"translate(0,220.29)\" d=\"M72,0h1107\" style=\"stroke: rgb(235, 240, 248); stroke-opacity: 1; stroke-width: 1px;\"/><path class=\"ygrid crisp\" transform=\"translate(0,143.72)\" d=\"M72,0h1107\" style=\"stroke: rgb(235, 240, 248); stroke-opacity: 1; stroke-width: 1px;\"/><path class=\"ygrid crisp\" transform=\"translate(0,67.15)\" d=\"M72,0h1107\" style=\"stroke: rgb(235, 240, 248); stroke-opacity: 1; stroke-width: 1px;\"/></g></g><g class=\"zerolinelayer\"><path class=\"xzl zl crisp\" transform=\"translate(72,0)\" d=\"M0,47v403\" style=\"stroke: rgb(235, 240, 248); stroke-opacity: 1; stroke-width: 2px;\"/><path class=\"yzl zl crisp\" transform=\"translate(0,450)\" d=\"M72,0h1107\" style=\"stroke: rgb(235, 240, 248); stroke-opacity: 1; stroke-width: 2px;\"/></g><g class=\"layer-between\"><g class=\"shapelayer\"/><g class=\"imagelayer\"/></g><path class=\"xlines-below\"/><path class=\"ylines-below\"/><g class=\"overlines-below\"/><g class=\"xaxislayer-below\"/><g class=\"yaxislayer-below\"/><g class=\"overaxes-below\"/><g class=\"plot\" transform=\"translate(72,47)\" clip-path=\"url(#clip75ffc4xyplot)\"/><g class=\"overplot\"/><path class=\"xlines-above crisp\" d=\"M0,0\" style=\"fill: none;\"/><path class=\"ylines-above crisp\" d=\"M0,0\" style=\"fill: none;\"/><g class=\"overlines-above\"/><g class=\"xaxislayer-above\"><g class=\"xtick\"><text text-anchor=\"middle\" x=\"0\" y=\"463\" transform=\"translate(72,0)\" style=\"font-family: 'Open Sans', verdana, arial, sans-serif; font-size: 12px; fill: rgb(42, 63, 95); fill-opacity: 1; white-space: pre; opacity: 1;\">0</text></g><g class=\"xtick\"><text text-anchor=\"middle\" x=\"0\" y=\"463\" style=\"font-family: 'Open Sans', verdana, arial, sans-serif; font-size: 12px; fill: rgb(42, 63, 95); fill-opacity: 1; white-space: pre; opacity: 1;\" transform=\"translate(348.75,0)\">50</text></g><g class=\"xtick\"><text text-anchor=\"middle\" x=\"0\" y=\"463\" style=\"font-family: 'Open Sans', verdana, arial, sans-serif; font-size: 12px; fill: rgb(42, 63, 95); fill-opacity: 1; white-space: pre; opacity: 1;\" transform=\"translate(625.5,0)\">100</text></g><g class=\"xtick\"><text text-anchor=\"middle\" x=\"0\" y=\"463\" style=\"font-family: 'Open Sans', verdana, arial, sans-serif; font-size: 12px; fill: rgb(42, 63, 95); fill-opacity: 1; white-space: pre; opacity: 1;\" transform=\"translate(902.25,0)\">150</text></g><g class=\"xtick\"><text text-anchor=\"middle\" x=\"0\" y=\"463\" style=\"font-family: 'Open Sans', verdana, arial, sans-serif; font-size: 12px; fill: rgb(42, 63, 95); fill-opacity: 1; white-space: pre; opacity: 1;\" transform=\"translate(1179,0)\">200</text></g></g><g class=\"yaxislayer-above\"><g class=\"ytick\"><text text-anchor=\"end\" x=\"71\" y=\"4.199999999999999\" transform=\"translate(0,450)\" style=\"font-family: 'Open Sans', verdana, arial, sans-serif; font-size: 12px; fill: rgb(42, 63, 95); fill-opacity: 1; white-space: pre; opacity: 1;\">0%</text></g><g class=\"ytick\"><text text-anchor=\"end\" x=\"71\" y=\"4.199999999999999\" style=\"font-family: 'Open Sans', verdana, arial, sans-serif; font-size: 12px; fill: rgb(42, 63, 95); fill-opacity: 1; white-space: pre; opacity: 1;\" transform=\"translate(0,373.43)\">20%</text></g><g class=\"ytick\"><text text-anchor=\"end\" x=\"71\" y=\"4.199999999999999\" style=\"font-family: 'Open Sans', verdana, arial, sans-serif; font-size: 12px; fill: rgb(42, 63, 95); fill-opacity: 1; white-space: pre; opacity: 1;\" transform=\"translate(0,296.86)\">40%</text></g><g class=\"ytick\"><text text-anchor=\"end\" x=\"71\" y=\"4.199999999999999\" style=\"font-family: 'Open Sans', verdana, arial, sans-serif; font-size: 12px; fill: rgb(42, 63, 95); fill-opacity: 1; white-space: pre; opacity: 1;\" transform=\"translate(0,220.29)\">60%</text></g><g class=\"ytick\"><text text-anchor=\"end\" x=\"71\" y=\"4.199999999999999\" style=\"font-family: 'Open Sans', verdana, arial, sans-serif; font-size: 12px; fill: rgb(42, 63, 95); fill-opacity: 1; white-space: pre; opacity: 1;\" transform=\"translate(0,143.72)\">80%</text></g><g class=\"ytick\"><text text-anchor=\"end\" x=\"71\" y=\"4.199999999999999\" style=\"font-family: 'Open Sans', verdana, arial, sans-serif; font-size: 12px; fill: rgb(42, 63, 95); fill-opacity: 1; white-space: pre; opacity: 1;\" transform=\"translate(0,67.15)\">100%</text></g></g><g class=\"overaxes-above\"/></g></g><g class=\"polarlayer\"/><g class=\"smithlayer\"/><g class=\"ternarylayer\"/><g class=\"geolayer\"/><g class=\"funnelarealayer\"/><g class=\"pielayer\"/><g class=\"iciclelayer\"/><g class=\"treemaplayer\"/><g class=\"sunburstlayer\"/><g class=\"glimages\"><image xmlns=\"http://www.w3.org/2000/svg\" xlink:href=\"data:image/png;base64,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\" preserveAspectRatio=\"none\" x=\"0\" y=\"0\" width=\"1200px\" height=\"500px\"/><image xmlns=\"http://www.w3.org/2000/svg\" xlink:href=\"data:image/png;base64,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\" preserveAspectRatio=\"none\" x=\"0\" y=\"0\" width=\"1200px\" height=\"500px\"/></g><defs id=\"topdefs-75ffc4\"><g class=\"clips\"/><clipPath id=\"legend75ffc4\"><rect width=\"244\" height=\"29\" x=\"0\" y=\"0\"/></clipPath></defs><g class=\"layer-above\"><g class=\"imagelayer\"/><g class=\"shapelayer\"/></g><g class=\"infolayer\"><g class=\"legend\" pointer-events=\"all\" transform=\"translate(935,9.93999999999999)\"><rect class=\"bg\" shape-rendering=\"crispEdges\" width=\"244\" height=\"29\" x=\"0\" y=\"0\" style=\"stroke: rgb(68, 68, 68); stroke-opacity: 1; fill: rgb(255, 255, 255); fill-opacity: 1; stroke-width: 0px;\"/><g class=\"scrollbox\" transform=\"\" clip-path=\"url(#legend75ffc4)\"><text class=\"legendtitletext\" text-anchor=\"start\" x=\"2\" y=\"18.2\" style=\"font-family: 'Open Sans', verdana, arial, sans-serif; font-size: 14px; fill: rgb(42, 63, 95); fill-opacity: 1; white-space: pre;\">version</text><g class=\"groups\" transform=\"\"><g class=\"traces\" transform=\"translate(61.09375,14.5)\" style=\"opacity: 1;\"><text class=\"legendtext\" text-anchor=\"start\" x=\"40\" y=\"4.680000000000001\" style=\"font-family: 'Open Sans', verdana, arial, sans-serif; font-size: 12px; fill: rgb(42, 63, 95); fill-opacity: 1; white-space: pre;\">original</text><g class=\"layers\" style=\"opacity: 1;\"><g class=\"legendfill\"/><g class=\"legendlines\"><path class=\"js-line\" d=\"M5,0h30\" style=\"fill: none; stroke: rgb(99, 110, 250); stroke-opacity: 1; stroke-width: 2px;\"/></g><g class=\"legendsymbols\"><g class=\"legendpoints\"/></g></g><rect class=\"legendtoggle\" x=\"0\" y=\"-9.5\" width=\"87.0625\" height=\"19\" style=\"fill: rgb(0, 0, 0); fill-opacity: 0;\"/></g></g><g class=\"groups\" transform=\"translate(89.5625,0)\"><g class=\"traces\" transform=\"translate(61.09375,14.5)\" style=\"opacity: 1;\"><text class=\"legendtext\" text-anchor=\"start\" x=\"40\" y=\"4.680000000000001\" style=\"font-family: 'Open Sans', verdana, arial, sans-serif; font-size: 12px; fill: rgb(42, 63, 95); fill-opacity: 1; white-space: pre;\">reduced</text><g class=\"layers\" style=\"opacity: 1;\"><g class=\"legendfill\"/><g class=\"legendlines\"><path class=\"js-line\" d=\"M5,0h30\" style=\"fill: none; stroke: rgb(239, 85, 59); stroke-opacity: 1; stroke-width: 2px;\"/></g><g class=\"legendsymbols\"><g class=\"legendpoints\"/></g></g><rect class=\"legendtoggle\" x=\"0\" y=\"-9.5\" width=\"90.71875\" height=\"19\" style=\"fill: rgb(0, 0, 0); fill-opacity: 0;\"/></g></g></g><rect class=\"scrollbar\" rx=\"20\" ry=\"3\" width=\"0\" height=\"0\" x=\"0\" y=\"0\" style=\"fill: rgb(128, 139, 164); fill-opacity: 1;\"/></g><g class=\"g-gtitle\"><text class=\"gtitle\" x=\"60\" y=\"23.5\" text-anchor=\"start\" dy=\"0em\" style=\"font-family: 'Open Sans', verdana, arial, sans-serif; font-size: 17px; fill: rgb(42, 63, 95); opacity: 1; white-space: pre;\">Empirical Cumulative Distribution Plots of Line Numbers</text></g><g class=\"g-xtitle\"><text class=\"xtitle\" x=\"625.5\" y=\"489.8\" text-anchor=\"middle\" style=\"font-family: 'Open Sans', verdana, arial, sans-serif; font-size: 14px; fill: rgb(42, 63, 95); opacity: 1; white-space: pre;\">Number of Lines</text></g><g class=\"g-ytitle\"><text class=\"ytitle\" transform=\"rotate(-90,15.787500000000001,248.5)\" x=\"15.787500000000001\" y=\"248.5\" text-anchor=\"middle\" style=\"font-family: 'Open Sans', verdana, arial, sans-serif; font-size: 14px; fill: rgb(42, 63, 95); opacity: 1; white-space: pre;\">Probability</text></g></g></svg>"
      ]
     },
     "metadata": {},
     "output_type": "display_data"
    }
   ],
   "source": [
    "line_num_ecdf_fig.show()"
   ]
  },
  {
   "cell_type": "markdown",
   "id": "3847f5dc",
   "metadata": {
    "slideshow": {
     "slide_type": "subslide"
    }
   },
   "source": [
    "# Extraction: Extensions\n",
    "\n",
    "1. Use log parser and diff failures based on log templates  \n",
    "  *Jiang, Z., Liu, J., Huang, J., Li, Y., Huo, Y., Gu, J., Chen, Z., Zhu, J. and Lyu, M.R., 2023. A Large-scale Benchmark for Log Parsing*\n"
   ]
  },
  {
   "cell_type": "markdown",
   "id": "c719eae2",
   "metadata": {
    "slideshow": {
     "slide_type": "slide"
    }
   },
   "source": [
    "# Vectorization"
   ]
  },
  {
   "cell_type": "markdown",
   "id": "1d1e6de3",
   "metadata": {
    "slideshow": {
     "slide_type": "subslide"
    }
   },
   "source": [
    "# Vectorization\n",
    "\n",
    "Convert raw text data into a numerical format that can be efficiently processed.\n",
    "\n",
    "\n",
    "1. Bag-of-word model with open-vocabulary\n",
    "2. Minhash (e.g. with 256 x 16-bit we get a constant 0.5 kB per error)\n",
    "\n",
    "<center>\n",
    "<img src=\"media/jaccard.png\" style=\"height:250px;\"/>\n",
    "</center>\n",
    "\n",
    "*Leskovec J, Rajaraman A, Ullman JD. \"Chapter 3: Finding Similar Items\" Mining of massive data sets. Cambridge university press; 2020 Jan 9.*"
   ]
  },
  {
   "cell_type": "markdown",
   "id": "2a3ed83a",
   "metadata": {
    "slideshow": {
     "slide_type": "subslide"
    }
   },
   "source": [
    "# Vectorization: Normalization\n",
    "Reduce the size of the vocabulary by removing common hashes and common metadata."
   ]
  },
  {
   "cell_type": "code",
   "execution_count": 236,
   "id": "2467c419",
   "metadata": {},
   "outputs": [],
   "source": [
    "normalize_rules = [\n",
    "    (\"{GUID}\", re2.compile(r'[0-9a-f]{8}-[0-9a-f]{4}-[0-9a-f]{4}-[0-9a-f]{4}-[0-9a-f]{12}')),\n",
    "]\n",
    "\n",
    "def normalize(text):\n",
    "    for repl, regex in normalize_rules:\n",
    "        text = regex.sub(repl, text)\n",
    "    return text"
   ]
  },
  {
   "cell_type": "markdown",
   "id": "17bf3ec1",
   "metadata": {
    "slideshow": {
     "slide_type": "subslide"
    }
   },
   "source": [
    "# Vectorization: Tokenization\n",
    "Extract meaningful tokens."
   ]
  },
  {
   "cell_type": "code",
   "execution_count": 136,
   "id": "c8838e56",
   "metadata": {},
   "outputs": [],
   "source": [
    "token_regex = re2.compile(r\"\\b[[:alpha:]_][[:alpha:][:digit:]_-]+\")\n",
    "\n",
    "def tokenize(text):\n",
    "    normalized_text = normalize(text)\n",
    "    return token_regex.findall(normalized_text)"
   ]
  },
  {
   "cell_type": "markdown",
   "id": "90b6bf48",
   "metadata": {
    "slideshow": {
     "slide_type": "subslide"
    }
   },
   "source": [
    "# Vectorization: Minhash\n",
    "Convert set of tokens to Minhash sketches."
   ]
  },
  {
   "cell_type": "code",
   "execution_count": 182,
   "id": "ebdff819",
   "metadata": {},
   "outputs": [],
   "source": [
    "from datasketch import MinHash\n",
    "\n",
    "NUM_PERM = 256\n",
    "\n",
    "def vectorize(tokens):\n",
    "    m = MinHash(num_perm=NUM_PERM)\n",
    "    for token in set(tokens):\n",
    "        m.update(token.encode('utf8'))\n",
    "    return m.hashvalues"
   ]
  },
  {
   "cell_type": "markdown",
   "id": "de87ae36",
   "metadata": {
    "slideshow": {
     "slide_type": "subslide"
    }
   },
   "source": [
    "# Vectorization: Results\n",
    "Minhash representation is more compact and allows for fast nearest-neighbors search.\n",
    "\n",
    "Total size of original text data:"
   ]
  },
  {
   "cell_type": "code",
   "execution_count": 238,
   "id": "97e4990a",
   "metadata": {},
   "outputs": [
    {
     "name": "stdout",
     "output_type": "stream",
     "text": [
      "1.978 GB\n"
     ]
    }
   ],
   "source": [
    "print(\"{:.3f} GB\".format(actions[\"action_output_message\"].str.len().sum() / 2 ** 30))"
   ]
  },
  {
   "cell_type": "markdown",
   "id": "73710f2e",
   "metadata": {},
   "source": [
    "Total size of minhash sketches:"
   ]
  },
  {
   "cell_type": "code",
   "execution_count": 234,
   "id": "70ed4d41",
   "metadata": {},
   "outputs": [
    {
     "name": "stdout",
     "output_type": "stream",
     "text": [
      "0.163 GB\n"
     ]
    }
   ],
   "source": [
    "print(\"{:.3f} GB\".format(actions.shape[0] * np.uint16(0).nbytes * NUM_PERM / 2 ** 30))"
   ]
  },
  {
   "cell_type": "markdown",
   "id": "a6eab3a7",
   "metadata": {
    "slideshow": {
     "slide_type": "subslide"
    }
   },
   "source": [
    "# Vectorization: Extensions\n",
    "1. **Process documents in parallel.** Vectorization is embarrassingly parallelizable.\n",
    "2. **Use Weighted Minhash**. Minhash with Inverse Document Frequency (IDF) weights can automatically ignore common terms such as \"failed\".  \n",
    "  *Chum, O., Philbin, J. and Zisserman, A., 2008, September. Near duplicate image detection: Min-hash and TF-IDF weighting.*\n",
    "3. **Use Neural Network Vector Embeddings (future).** Embeddings are a good alternative to Minhash sketches and they can capture semantics of logs.  \n",
    "  *Meng, W., Liu, Y., Huang, Y., Zhang, S., Zaiter, F., Chen, B. and Pei, D., 2020, August. A semantic-aware representation framework for online log analysis.*"
   ]
  },
  {
   "cell_type": "code",
   "execution_count": 270,
   "id": "a4705339",
   "metadata": {
    "slideshow": {
     "slide_type": "skip"
    }
   },
   "outputs": [
    {
     "name": "stderr",
     "output_type": "stream",
     "text": [
      "100%|█████████████████████████████████████████████████████████████████████████| 341630/341630 [13:45<00:00, 414.04it/s]\n"
     ]
    }
   ],
   "source": [
    "actions = actions.assign(\n",
    "    action_output_sketch=lambda df: [\n",
    "        vectorize(tokenize(x))\n",
    "        for x in tqdm(df[\"action_output_failure\"])])"
   ]
  },
  {
   "cell_type": "markdown",
   "id": "484114db",
   "metadata": {
    "slideshow": {
     "slide_type": "slide"
    }
   },
   "source": [
    "# Clustering"
   ]
  },
  {
   "cell_type": "markdown",
   "id": "678bdda6",
   "metadata": {
    "slideshow": {
     "slide_type": "subslide"
    }
   },
   "source": [
    "# Clustering\n",
    "Given vector representation of the error, find a **near-duplicate cluster** or create a new cluster. \n",
    "\n",
    "- Near-duplicate search is performed on a vector database.\n",
    "- For Minhash the database should support *Generalized Hamming Distance*.\n",
    "- LSH Forest is an efficient data structure and offers time complexity of $O(n log(n))$.\n",
    "\n",
    "*Bawa, M., Condie, T. and Ganesan, P., 2005, May. LSH forest: self-tuning indexes for similarity search.*\n"
   ]
  },
  {
   "cell_type": "code",
   "execution_count": 273,
   "id": "61ac9e82",
   "metadata": {
    "slideshow": {
     "slide_type": "skip"
    }
   },
   "outputs": [],
   "source": [
    "from datasketch import MinHashLSHForest\n",
    "from sortedcontainers import SortedDict\n",
    "\n",
    "def jaccard_distance(a, b):\n",
    "    return 1 - float(np.count_nonzero(a == b)) / len(a)\n",
    "    \n",
    "class DefaultSortedDict(SortedDict):\n",
    "    def __init__(self, default_factory, *args, **kwargs):\n",
    "        super().__init__(*args, **kwargs)\n",
    "        self.default_factory = default_factory\n",
    "\n",
    "    def __missing__(self, key):\n",
    "        self[key] = value = self.default_factory()\n",
    "        return value\n",
    "\n",
    "class MinHashLSHOnlineForest(MinHashLSHForest):\n",
    "    def __init__(self, num_perm, num_trees):\n",
    "        super().__init__(num_perm, num_trees)\n",
    "        hashtables = [DefaultSortedDict(list) for _ in range(num_trees)]\n",
    "\n",
    "    def index(self):\n",
    "        for i, hashtable in enumerate(self.hashtables):\n",
    "            self.sorted_hashtables[i] = list(hashtable.keys())\n",
    "            \n",
    "    def add(self, key, minhash):\n",
    "        super().add(key, minhash)\n",
    "        self.index()"
   ]
  },
  {
   "cell_type": "markdown",
   "id": "6d839efb",
   "metadata": {
    "slideshow": {
     "slide_type": "subslide"
    }
   },
   "source": [
    "# Clustering: Sample Code"
   ]
  },
  {
   "cell_type": "code",
   "execution_count": 274,
   "id": "1b3c7a61",
   "metadata": {},
   "outputs": [],
   "source": [
    "MAX_DISTANCE = 0.25\n",
    "\n",
    "def assign_action_output_cluster_info(df):\n",
    "    cluster_info = []\n",
    "    forest = MinHashLSHOnlineForest(num_perm=NUM_PERM, num_trees=16)\n",
    "    for index, sketch in tqdm(df[\"action_output_sketch\"].items(), total=len(df)):        \n",
    "        neighbors = forest.query(MinHash(hashvalues=sketch), 10)\n",
    "        \n",
    "        if neighbors:\n",
    "            distances = [jaccard_distance(sketch, x) for x in df.loc[neighbors, \"action_output_sketch\"]]\n",
    "            nearest_i = np.argmin(distances)\n",
    "            nearest_index, nearest_dist = (neighbors[nearest_i], distances[nearest_i])\n",
    "        else:\n",
    "            nearest_index, nearest_dist = (0, 1.0)\n",
    "\n",
    "        if nearest_dist < MAX_DISTANCE:\n",
    "            cluster_info.append((nearest_index, nearest_dist)) # Use nearest index as cluster\n",
    "        else:\n",
    "            cluster_info.append((index, 0.0)) # Create new cluster with current index\n",
    "            forest.add(index, MinHash(hashvalues=sketch)) \n",
    "            \n",
    "    return cluster_info"
   ]
  },
  {
   "cell_type": "code",
   "execution_count": 275,
   "id": "68be8a3d",
   "metadata": {
    "slideshow": {
     "slide_type": "skip"
    }
   },
   "outputs": [
    {
     "name": "stderr",
     "output_type": "stream",
     "text": [
      "100%|█████████████████████████████████████████████████████████████████████████| 341630/341630 [15:52<00:00, 358.79it/s]\n"
     ]
    }
   ],
   "source": [
    "actions = (\n",
    "    actions\n",
    "    .assign(\n",
    "        action_output_cluster_info=assign_action_output_cluster_info\n",
    "    )\n",
    "    .assign(\n",
    "        action_output_cluster_id = lambda df:[\n",
    "            i for i, _ in df[\"action_output_cluster_info\"]\n",
    "        ],\n",
    "        action_output_cluster_dist = lambda df:[\n",
    "            d for _, d in df[\"action_output_cluster_info\"]\n",
    "        ]\n",
    "    )\n",
    "    .drop(columns=\"action_output_cluster_info\")\n",
    ")"
   ]
  },
  {
   "cell_type": "markdown",
   "id": "74b52a1e",
   "metadata": {
    "slideshow": {
     "slide_type": "subslide"
    }
   },
   "source": [
    "# Clustering: Resulsts"
   ]
  },
  {
   "cell_type": "code",
   "execution_count": 427,
   "id": "0123614e",
   "metadata": {
    "slideshow": {
     "slide_type": "skip"
    }
   },
   "outputs": [],
   "source": [
    "cluster_size_ecdf_fig = (\n",
    "    actions\n",
    "    .query(\"action_status == 'failed'\")\n",
    "    .query(\"action_output_type == 'out'\")\n",
    "    .groupby(\"action_output_cluster_id\")\n",
    "    .agg(count=(\"action_index\", \"count\"))\n",
    "    .reset_index()\n",
    "    .pipe(\n",
    "        px.ecdf,\n",
    "        x=\"count\",\n",
    "    )\n",
    "    .update_layout(\n",
    "        **default_layout,\n",
    "        title=\"Empirical Cumulative Distribution Plot of Cluster Size\",\n",
    "        xaxis_title=\"Cluster Size\",\n",
    "        xaxis_range=[0, 100],\n",
    "        yaxis_title=\"Probability\",\n",
    "        yaxis_tickformat=\",.0%\",\n",
    "        yaxis_range=[0.9, 1],\n",
    "    )\n",
    "    .update_layout(\n",
    "        margin=dict(\n",
    "            l=10,\n",
    "            r=10,\n",
    "            b=10,\n",
    "            t=40,\n",
    "        ),\n",
    "    )\n",
    ")"
   ]
  },
  {
   "cell_type": "code",
   "execution_count": 429,
   "id": "21d3222e",
   "metadata": {},
   "outputs": [
    {
     "data": {
      "image/svg+xml": [
       "<svg class=\"main-svg\" xmlns=\"http://www.w3.org/2000/svg\" xmlns:xlink=\"http://www.w3.org/1999/xlink\" width=\"1200\" height=\"500\" style=\"\" viewBox=\"0 0 1200 500\"><rect x=\"0\" y=\"0\" width=\"1200\" height=\"500\" style=\"fill: rgb(255, 255, 255); fill-opacity: 1;\"/><defs id=\"defs-2786d9\"><g class=\"clips\"><clipPath id=\"clip2786d9xyplot\" class=\"plotclip\"><rect width=\"1107\" height=\"410\"/></clipPath><clipPath class=\"axesclip\" id=\"clip2786d9x\"><rect x=\"72\" y=\"0\" width=\"1107\" height=\"500\"/></clipPath><clipPath class=\"axesclip\" id=\"clip2786d9y\"><rect x=\"0\" y=\"40\" width=\"1200\" height=\"410\"/></clipPath><clipPath class=\"axesclip\" id=\"clip2786d9xy\"><rect x=\"72\" y=\"40\" width=\"1107\" height=\"410\"/></clipPath></g><g class=\"gradients\"/><g class=\"patterns\"/></defs><g class=\"bglayer\"/><g class=\"layer-below\"><g class=\"imagelayer\"/><g class=\"shapelayer\"/></g><g class=\"cartesianlayer\"><g class=\"subplot xy\"><g class=\"layer-subplot\"><g class=\"shapelayer\"/><g class=\"imagelayer\"/></g><g class=\"minor-gridlayer\"><g class=\"x\"/><g class=\"y\"/></g><g class=\"gridlayer\"><g class=\"x\"><path class=\"xgrid crisp\" transform=\"translate(293.4,0)\" d=\"M0,40v410\" style=\"stroke: rgb(235, 240, 248); stroke-opacity: 1; stroke-width: 1px;\"/><path class=\"xgrid crisp\" transform=\"translate(514.8,0)\" d=\"M0,40v410\" style=\"stroke: rgb(235, 240, 248); stroke-opacity: 1; stroke-width: 1px;\"/><path class=\"xgrid crisp\" transform=\"translate(736.2,0)\" d=\"M0,40v410\" style=\"stroke: rgb(235, 240, 248); stroke-opacity: 1; stroke-width: 1px;\"/><path class=\"xgrid crisp\" transform=\"translate(957.6,0)\" d=\"M0,40v410\" style=\"stroke: rgb(235, 240, 248); stroke-opacity: 1; stroke-width: 1px;\"/></g><g class=\"y\"><path class=\"ygrid crisp\" transform=\"translate(0,368)\" d=\"M72,0h1107\" style=\"stroke: rgb(235, 240, 248); stroke-opacity: 1; stroke-width: 1px;\"/><path class=\"ygrid crisp\" transform=\"translate(0,286)\" d=\"M72,0h1107\" style=\"stroke: rgb(235, 240, 248); stroke-opacity: 1; stroke-width: 1px;\"/><path class=\"ygrid crisp\" transform=\"translate(0,204)\" d=\"M72,0h1107\" style=\"stroke: rgb(235, 240, 248); stroke-opacity: 1; stroke-width: 1px;\"/><path class=\"ygrid crisp\" transform=\"translate(0,122)\" d=\"M72,0h1107\" style=\"stroke: rgb(235, 240, 248); stroke-opacity: 1; stroke-width: 1px;\"/></g></g><g class=\"zerolinelayer\"><path class=\"xzl zl crisp\" transform=\"translate(72,0)\" d=\"M0,40v410\" style=\"stroke: rgb(235, 240, 248); stroke-opacity: 1; stroke-width: 2px;\"/></g><g class=\"layer-between\"><g class=\"shapelayer\"/><g class=\"imagelayer\"/></g><path class=\"xlines-below\"/><path class=\"ylines-below\"/><g class=\"overlines-below\"/><g class=\"xaxislayer-below\"/><g class=\"yaxislayer-below\"/><g class=\"overaxes-below\"/><g class=\"plot\" transform=\"translate(72,40)\" clip-path=\"url(#clip2786d9xyplot)\"/><g class=\"overplot\"/><path class=\"xlines-above crisp\" d=\"M0,0\" style=\"fill: none;\"/><path class=\"ylines-above crisp\" d=\"M0,0\" style=\"fill: none;\"/><g class=\"overlines-above\"/><g class=\"xaxislayer-above\"><g class=\"xtick\"><text text-anchor=\"middle\" x=\"0\" y=\"463\" transform=\"translate(72,0)\" style=\"font-family: 'Open Sans', verdana, arial, sans-serif; font-size: 12px; fill: rgb(42, 63, 95); fill-opacity: 1; white-space: pre; opacity: 1;\">0</text></g><g class=\"xtick\"><text text-anchor=\"middle\" x=\"0\" y=\"463\" style=\"font-family: 'Open Sans', verdana, arial, sans-serif; font-size: 12px; fill: rgb(42, 63, 95); fill-opacity: 1; white-space: pre; opacity: 1;\" transform=\"translate(293.4,0)\">20</text></g><g class=\"xtick\"><text text-anchor=\"middle\" x=\"0\" y=\"463\" style=\"font-family: 'Open Sans', verdana, arial, sans-serif; font-size: 12px; fill: rgb(42, 63, 95); fill-opacity: 1; white-space: pre; opacity: 1;\" transform=\"translate(514.8,0)\">40</text></g><g class=\"xtick\"><text text-anchor=\"middle\" x=\"0\" y=\"463\" style=\"font-family: 'Open Sans', verdana, arial, sans-serif; font-size: 12px; fill: rgb(42, 63, 95); fill-opacity: 1; white-space: pre; opacity: 1;\" transform=\"translate(736.2,0)\">60</text></g><g class=\"xtick\"><text text-anchor=\"middle\" x=\"0\" y=\"463\" style=\"font-family: 'Open Sans', verdana, arial, sans-serif; font-size: 12px; fill: rgb(42, 63, 95); fill-opacity: 1; white-space: pre; opacity: 1;\" transform=\"translate(957.6,0)\">80</text></g><g class=\"xtick\"><text text-anchor=\"middle\" x=\"0\" y=\"463\" style=\"font-family: 'Open Sans', verdana, arial, sans-serif; font-size: 12px; fill: rgb(42, 63, 95); fill-opacity: 1; white-space: pre; opacity: 1;\" transform=\"translate(1179,0)\">100</text></g></g><g class=\"yaxislayer-above\"><g class=\"ytick\"><text text-anchor=\"end\" x=\"71\" y=\"4.199999999999999\" transform=\"translate(0,450)\" style=\"font-family: 'Open Sans', verdana, arial, sans-serif; font-size: 12px; fill: rgb(42, 63, 95); fill-opacity: 1; white-space: pre; opacity: 1;\">90%</text></g><g class=\"ytick\"><text text-anchor=\"end\" x=\"71\" y=\"4.199999999999999\" style=\"font-family: 'Open Sans', verdana, arial, sans-serif; font-size: 12px; fill: rgb(42, 63, 95); fill-opacity: 1; white-space: pre; opacity: 1;\" transform=\"translate(0,368)\">92%</text></g><g class=\"ytick\"><text text-anchor=\"end\" x=\"71\" y=\"4.199999999999999\" style=\"font-family: 'Open Sans', verdana, arial, sans-serif; font-size: 12px; fill: rgb(42, 63, 95); fill-opacity: 1; white-space: pre; opacity: 1;\" transform=\"translate(0,286)\">94%</text></g><g class=\"ytick\"><text text-anchor=\"end\" x=\"71\" y=\"4.199999999999999\" style=\"font-family: 'Open Sans', verdana, arial, sans-serif; font-size: 12px; fill: rgb(42, 63, 95); fill-opacity: 1; white-space: pre; opacity: 1;\" transform=\"translate(0,204)\">96%</text></g><g class=\"ytick\"><text text-anchor=\"end\" x=\"71\" y=\"4.199999999999999\" style=\"font-family: 'Open Sans', verdana, arial, sans-serif; font-size: 12px; fill: rgb(42, 63, 95); fill-opacity: 1; white-space: pre; opacity: 1;\" transform=\"translate(0,122)\">98%</text></g><g class=\"ytick\"><text text-anchor=\"end\" x=\"71\" y=\"4.199999999999999\" style=\"font-family: 'Open Sans', verdana, arial, sans-serif; font-size: 12px; fill: rgb(42, 63, 95); fill-opacity: 1; white-space: pre; opacity: 1;\" transform=\"translate(0,40)\">100%</text></g></g><g class=\"overaxes-above\"/></g></g><g class=\"polarlayer\"/><g class=\"smithlayer\"/><g class=\"ternarylayer\"/><g class=\"geolayer\"/><g class=\"funnelarealayer\"/><g class=\"pielayer\"/><g class=\"iciclelayer\"/><g class=\"treemaplayer\"/><g class=\"sunburstlayer\"/><g class=\"glimages\"><image xmlns=\"http://www.w3.org/2000/svg\" xlink:href=\"data:image/png;base64,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\" preserveAspectRatio=\"none\" x=\"0\" y=\"0\" width=\"1200px\" height=\"500px\"/><image xmlns=\"http://www.w3.org/2000/svg\" xlink:href=\"data:image/png;base64,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\" preserveAspectRatio=\"none\" x=\"0\" y=\"0\" width=\"1200px\" height=\"500px\"/></g><defs id=\"topdefs-2786d9\"><g class=\"clips\"/></defs><g class=\"layer-above\"><g class=\"imagelayer\"/><g class=\"shapelayer\"/></g><g class=\"infolayer\"><g class=\"g-gtitle\"><text class=\"gtitle\" x=\"60\" y=\"20\" text-anchor=\"start\" dy=\"0em\" style=\"font-family: 'Open Sans', verdana, arial, sans-serif; font-size: 17px; fill: rgb(42, 63, 95); opacity: 1; white-space: pre;\">Empirical Cumulative Distribution Plot of Cluster Size</text></g><g class=\"g-xtitle\"><text class=\"xtitle\" x=\"625.5\" y=\"489.8\" text-anchor=\"middle\" style=\"font-family: 'Open Sans', verdana, arial, sans-serif; font-size: 14px; fill: rgb(42, 63, 95); opacity: 1; white-space: pre;\">Cluster Size</text></g><g class=\"g-ytitle\"><text class=\"ytitle\" transform=\"rotate(-90,15.787500000000001,245)\" x=\"15.787500000000001\" y=\"245\" text-anchor=\"middle\" style=\"font-family: 'Open Sans', verdana, arial, sans-serif; font-size: 14px; fill: rgb(42, 63, 95); opacity: 1; white-space: pre;\">Probability</text></g></g></svg>"
      ]
     },
     "metadata": {},
     "output_type": "display_data"
    }
   ],
   "source": [
    "cluster_size_ecdf_fig.show()"
   ]
  },
  {
   "cell_type": "markdown",
   "id": "9f5eede8",
   "metadata": {
    "slideshow": {
     "slide_type": "subslide"
    }
   },
   "source": [
    "# Clustering: Extensions\n",
    "1. **Partition clusters by creation time.**\n",
    "  Clustering is an append only process. This opens up the opportunity to partition clusters by creation time to optimize database access.\n",
    "2. **Detect and fix duplicate clusters.**\n",
    "  If many similar errors get processed at the same time, they may end up creating many clusters. There is a need of a background job which will detect and fix duplicate clusters. \n",
    "3. **Use different distance thresholds for different classes of errors.** Different frameworks may produce different logs and they may benefit from using criteria for near-duplicate failure.\n",
    "4. **Use Least Recently Used (LRU) policy to manage cluster lifetime**. Most clusters represent unique errors and can be safely deleted after just a few days."
   ]
  },
  {
   "cell_type": "markdown",
   "id": "6b1f1a28",
   "metadata": {
    "slideshow": {
     "slide_type": "slide"
    }
   },
   "source": [
    "# Statistics"
   ]
  },
  {
   "cell_type": "markdown",
   "id": "17bd36fb",
   "metadata": {
    "slideshow": {
     "slide_type": "subslide"
    }
   },
   "source": [
    "# Statistics: Top clusters by number of failed actions"
   ]
  },
  {
   "cell_type": "code",
   "execution_count": 362,
   "id": "5fa88b00",
   "metadata": {
    "slideshow": {
     "slide_type": "skip"
    }
   },
   "outputs": [],
   "source": [
    "cluster_daily_stats = (\n",
    "    actions\n",
    "    .query(\"action_status == 'failed'\")\n",
    "    .query(\"action_output_type == 'out'\")\n",
    "    .groupby([\"action_output_date\", \"action_output_cluster_id\"])\n",
    "    .agg(\n",
    "        unique_users_num=(\"pipeline_actor_login\", \"nunique\"),\n",
    "        actions_num=(\"action_index\", \"count\"),\n",
    "    )\n",
    "    .reset_index()\n",
    "    .sort_values([\"unique_users_num\",\"actions_num\"], ascending=False)\n",
    ")"
   ]
  },
  {
   "cell_type": "code",
   "execution_count": 409,
   "id": "2cf2ae04",
   "metadata": {
    "slideshow": {
     "slide_type": "skip"
    }
   },
   "outputs": [
    {
     "data": {
      "text/html": [
       "<div>\n",
       "<style scoped>\n",
       "    .dataframe tbody tr th:only-of-type {\n",
       "        vertical-align: middle;\n",
       "    }\n",
       "\n",
       "    .dataframe tbody tr th {\n",
       "        vertical-align: top;\n",
       "    }\n",
       "\n",
       "    .dataframe thead th {\n",
       "        text-align: right;\n",
       "    }\n",
       "</style>\n",
       "<table border=\"1\" class=\"dataframe\">\n",
       "  <thead>\n",
       "    <tr style=\"text-align: right;\">\n",
       "      <th></th>\n",
       "      <th>action_output_cluster_id</th>\n",
       "      <th>days_num</th>\n",
       "      <th>actions_num</th>\n",
       "    </tr>\n",
       "  </thead>\n",
       "  <tbody>\n",
       "    <tr>\n",
       "      <th>18873</th>\n",
       "      <td>200347</td>\n",
       "      <td>7</td>\n",
       "      <td>8</td>\n",
       "    </tr>\n",
       "    <tr>\n",
       "      <th>35350</th>\n",
       "      <td>308696</td>\n",
       "      <td>5</td>\n",
       "      <td>229</td>\n",
       "    </tr>\n",
       "    <tr>\n",
       "      <th>20658</th>\n",
       "      <td>226264</td>\n",
       "      <td>4</td>\n",
       "      <td>8</td>\n",
       "    </tr>\n",
       "    <tr>\n",
       "      <th>35417</th>\n",
       "      <td>309408</td>\n",
       "      <td>4</td>\n",
       "      <td>7</td>\n",
       "    </tr>\n",
       "    <tr>\n",
       "      <th>35828</th>\n",
       "      <td>311102</td>\n",
       "      <td>3</td>\n",
       "      <td>11</td>\n",
       "    </tr>\n",
       "  </tbody>\n",
       "</table>\n",
       "</div>"
      ],
      "text/plain": [
       "       action_output_cluster_id  days_num  actions_num\n",
       "18873                    200347         7            8\n",
       "35350                    308696         5          229\n",
       "20658                    226264         4            8\n",
       "35417                    309408         4            7\n",
       "35828                    311102         3           11"
      ]
     },
     "execution_count": 409,
     "metadata": {},
     "output_type": "execute_result"
    }
   ],
   "source": [
    "(\n",
    "    cluster_daily_stats\n",
    "    .groupby(\"action_output_cluster_id\")\n",
    "    .agg(\n",
    "        days_num=(\"unique_users_num\", \"count\"),\n",
    "        actions_num=(\"actions_num\", \"sum\"),\n",
    "    )\n",
    "    .reset_index()\n",
    "    .sort_values([\"days_num\",\"actions_num\"], ascending=False)\n",
    "    .head(5)\n",
    ")"
   ]
  },
  {
   "cell_type": "code",
   "execution_count": 344,
   "id": "db96090a",
   "metadata": {
    "slideshow": {
     "slide_type": "skip"
    }
   },
   "outputs": [],
   "source": [
    "top_clusters_by_number_of_actions_fig = (\n",
    "    cluster_daily_stats\n",
    "    .sort_values(\"actions_num\", ascending=False)  \n",
    "    .head(100)\n",
    "    .assign(action_output_cluster_id = lambda df: df[\"action_output_cluster_id\"].astype(str))\n",
    "    .pipe(\n",
    "        px.bar,\n",
    "        x=\"action_output_date\",\n",
    "        y=\"actions_num\",\n",
    "    )\n",
    "    .update_layout(\n",
    "        **default_layout,\n",
    "        title=\"Top cluster by number of failed actions\",\n",
    "        xaxis_title=\"Date\",\n",
    "        yaxis_title=\"Number of failed actions\",\n",
    "        showlegend=False,\n",
    "    )\n",
    "    .update_layout(\n",
    "        margin=dict(\n",
    "            l=10,\n",
    "            r=10,\n",
    "            b=10,\n",
    "            t=40,\n",
    "        ),\n",
    "    )\n",
    ")"
   ]
  },
  {
   "cell_type": "code",
   "execution_count": 430,
   "id": "e069bf26",
   "metadata": {},
   "outputs": [
    {
     "data": {
      "image/svg+xml": [
       "<svg class=\"main-svg\" xmlns=\"http://www.w3.org/2000/svg\" xmlns:xlink=\"http://www.w3.org/1999/xlink\" width=\"1200\" height=\"500\" style=\"\" viewBox=\"0 0 1200 500\"><rect x=\"0\" y=\"0\" width=\"1200\" height=\"500\" style=\"fill: rgb(255, 255, 255); fill-opacity: 1;\"/><defs id=\"defs-58b36c\"><g class=\"clips\"><clipPath id=\"clip58b36cxyplot\" class=\"plotclip\"><rect width=\"1131\" height=\"410\"/></clipPath><clipPath class=\"axesclip\" id=\"clip58b36cx\"><rect x=\"59\" y=\"0\" width=\"1131\" height=\"500\"/></clipPath><clipPath class=\"axesclip\" id=\"clip58b36cy\"><rect x=\"0\" y=\"40\" width=\"1200\" height=\"410\"/></clipPath><clipPath class=\"axesclip\" id=\"clip58b36cxy\"><rect x=\"59\" y=\"40\" width=\"1131\" height=\"410\"/></clipPath></g><g class=\"gradients\"/><g class=\"patterns\"/></defs><g class=\"bglayer\"/><g class=\"layer-below\"><g class=\"imagelayer\"/><g class=\"shapelayer\"/></g><g class=\"cartesianlayer\"><g class=\"subplot xy\"><g class=\"layer-subplot\"><g class=\"shapelayer\"/><g class=\"imagelayer\"/></g><g class=\"minor-gridlayer\"><g class=\"x\"/><g class=\"y\"/></g><g class=\"gridlayer\"><g class=\"x\"/><g class=\"y\"><path class=\"ygrid crisp\" transform=\"translate(0,389.8)\" d=\"M59,0h1131\" style=\"stroke: rgb(235, 240, 248); stroke-opacity: 1; stroke-width: 1px;\"/><path class=\"ygrid crisp\" transform=\"translate(0,329.6)\" d=\"M59,0h1131\" style=\"stroke: rgb(235, 240, 248); stroke-opacity: 1; stroke-width: 1px;\"/><path class=\"ygrid crisp\" transform=\"translate(0,269.4)\" d=\"M59,0h1131\" style=\"stroke: rgb(235, 240, 248); stroke-opacity: 1; stroke-width: 1px;\"/><path class=\"ygrid crisp\" transform=\"translate(0,209.2)\" d=\"M59,0h1131\" style=\"stroke: rgb(235, 240, 248); stroke-opacity: 1; stroke-width: 1px;\"/><path class=\"ygrid crisp\" transform=\"translate(0,149)\" d=\"M59,0h1131\" style=\"stroke: rgb(235, 240, 248); stroke-opacity: 1; stroke-width: 1px;\"/><path class=\"ygrid crisp\" transform=\"translate(0,88.78999999999999)\" d=\"M59,0h1131\" style=\"stroke: rgb(235, 240, 248); stroke-opacity: 1; stroke-width: 1px;\"/></g></g><g class=\"zerolinelayer\"><path class=\"yzl zl crisp\" transform=\"translate(0,450)\" d=\"M59,0h1131\" style=\"stroke: rgb(235, 240, 248); stroke-opacity: 1; stroke-width: 2px;\"/></g><g class=\"layer-between\"><g class=\"shapelayer\"/><g class=\"imagelayer\"/></g><path class=\"xlines-below\"/><path class=\"ylines-below\"/><g class=\"overlines-below\"/><g class=\"xaxislayer-below\"/><g class=\"yaxislayer-below\"/><g class=\"overaxes-below\"/><g class=\"plot\" transform=\"translate(59,40)\" clip-path=\"url(#clip58b36cxyplot)\"><g class=\"barlayer mlayer\"><g class=\"trace bars\" style=\"opacity: 1;\"><g class=\"points\"><g class=\"point\"><path d=\"M19.7,410V84.91H24.78V410Z\" style=\"vector-effect: none; opacity: 1; stroke-width: 0.5px; fill: rgb(99, 110, 250); fill-opacity: 1; stroke: rgb(255, 255, 255); stroke-opacity: 1;\"/></g><g class=\"point\"><path d=\"M1029.97,410V181.24H1035.06V410Z\" style=\"vector-effect: none; opacity: 1; stroke-width: 0.5px; fill: rgb(99, 110, 250); fill-opacity: 1; stroke: rgb(255, 255, 255); stroke-opacity: 1;\"/></g><g class=\"point\"><path d=\"M648.74,410V181.24H653.82V410Z\" style=\"vector-effect: none; opacity: 1; stroke-width: 0.5px; fill: rgb(99, 110, 250); fill-opacity: 1; stroke: rgb(255, 255, 255); stroke-opacity: 1;\"/></g><g class=\"point\"><path d=\"M1049.03,410V184.25H1054.12V410Z\" style=\"vector-effect: none; opacity: 1; stroke-width: 0.5px; fill: rgb(99, 110, 250); fill-opacity: 1; stroke: rgb(255, 255, 255); stroke-opacity: 1;\"/></g><g class=\"point\"><path d=\"M1055.39,410V211.34H1060.47V410Z\" style=\"vector-effect: none; opacity: 1; stroke-width: 0.5px; fill: rgb(99, 110, 250); fill-opacity: 1; stroke: rgb(255, 255, 255); stroke-opacity: 1;\"/></g><g class=\"point\"><path d=\"M1023.62,410V211.34H1028.7V410Z\" style=\"vector-effect: none; opacity: 1; stroke-width: 0.5px; fill: rgb(99, 110, 250); fill-opacity: 1; stroke: rgb(255, 255, 255); stroke-opacity: 1;\"/></g><g class=\"point\"><path d=\"M0.64,410V211.94H5.72V410Z\" style=\"vector-effect: none; opacity: 1; stroke-width: 0.5px; fill: rgb(99, 110, 250); fill-opacity: 1; stroke: rgb(255, 255, 255); stroke-opacity: 1;\"/></g><g class=\"point\"><path d=\"M699.57,410V211.94H704.65V410Z\" style=\"vector-effect: none; opacity: 1; stroke-width: 0.5px; fill: rgb(99, 110, 250); fill-opacity: 1; stroke: rgb(255, 255, 255); stroke-opacity: 1;\"/></g><g class=\"point\"><path d=\"M13.34,410V212.54H18.43V410Z\" style=\"vector-effect: none; opacity: 1; stroke-width: 0.5px; fill: rgb(99, 110, 250); fill-opacity: 1; stroke: rgb(255, 255, 255); stroke-opacity: 1;\"/></g><g class=\"point\"><path d=\"M591.55,410V236.02H596.63V410Z\" style=\"vector-effect: none; opacity: 1; stroke-width: 0.5px; fill: rgb(99, 110, 250); fill-opacity: 1; stroke: rgb(255, 255, 255); stroke-opacity: 1;\"/></g><g class=\"point\"><path d=\"M1074.45,410V252.88H1079.53V410Z\" style=\"vector-effect: none; opacity: 1; stroke-width: 0.5px; fill: rgb(99, 110, 250); fill-opacity: 1; stroke: rgb(255, 255, 255); stroke-opacity: 1;\"/></g><g class=\"point\"><path d=\"M280.21,410V284.18H285.29V410Z\" style=\"vector-effect: none; opacity: 1; stroke-width: 0.5px; fill: rgb(99, 110, 250); fill-opacity: 1; stroke: rgb(255, 255, 255); stroke-opacity: 1;\"/></g><g class=\"point\"><path d=\"M998.2,410V290.8H1003.29V410Z\" style=\"vector-effect: none; opacity: 1; stroke-width: 0.5px; fill: rgb(99, 110, 250); fill-opacity: 1; stroke: rgb(255, 255, 255); stroke-opacity: 1;\"/></g><g class=\"point\"><path d=\"M750.4,410V296.22H755.48V410Z\" style=\"vector-effect: none; opacity: 1; stroke-width: 0.5px; fill: rgb(99, 110, 250); fill-opacity: 1; stroke: rgb(255, 255, 255); stroke-opacity: 1;\"/></g><g class=\"point\"><path d=\"M140.42,410V302.24H145.51V410Z\" style=\"vector-effect: none; opacity: 1; stroke-width: 0.5px; fill: rgb(99, 110, 250); fill-opacity: 1; stroke: rgb(255, 255, 255); stroke-opacity: 1;\"/></g><g class=\"point\"><path d=\"M1087.16,410V304.05H1092.24V410Z\" style=\"vector-effect: none; opacity: 1; stroke-width: 0.5px; fill: rgb(99, 110, 250); fill-opacity: 1; stroke: rgb(255, 255, 255); stroke-opacity: 1;\"/></g><g class=\"point\"><path d=\"M445.41,410V311.27H450.49V410Z\" style=\"vector-effect: none; opacity: 1; stroke-width: 0.5px; fill: rgb(99, 110, 250); fill-opacity: 1; stroke: rgb(255, 255, 255); stroke-opacity: 1;\"/></g><g class=\"point\"><path d=\"M934.66,410V315.48H939.75V410Z\" style=\"vector-effect: none; opacity: 1; stroke-width: 0.5px; fill: rgb(99, 110, 250); fill-opacity: 1; stroke: rgb(255, 255, 255); stroke-opacity: 1;\"/></g><g class=\"point\"><path d=\"M121.36,410V325.12H126.44V410Z\" style=\"vector-effect: none; opacity: 1; stroke-width: 0.5px; fill: rgb(99, 110, 250); fill-opacity: 1; stroke: rgb(255, 255, 255); stroke-opacity: 1;\"/></g><g class=\"point\"><path d=\"M146.78,410V328.73H151.86V410Z\" style=\"vector-effect: none; opacity: 1; stroke-width: 0.5px; fill: rgb(99, 110, 250); fill-opacity: 1; stroke: rgb(255, 255, 255); stroke-opacity: 1;\"/></g><g class=\"point\"><path d=\"M292.92,410V328.73H298V410Z\" style=\"vector-effect: none; opacity: 1; stroke-width: 0.5px; fill: rgb(99, 110, 250); fill-opacity: 1; stroke: rgb(255, 255, 255); stroke-opacity: 1;\"/></g><g class=\"point\"><path d=\"M267.5,410V334.15H272.58V410Z\" style=\"vector-effect: none; opacity: 1; stroke-width: 0.5px; fill: rgb(99, 110, 250); fill-opacity: 1; stroke: rgb(255, 255, 255); stroke-opacity: 1;\"/></g><g class=\"point\"><path d=\"M267.5,334.15V261.91H272.58V334.15Z\" style=\"vector-effect: none; opacity: 1; stroke-width: 0.5px; fill: rgb(99, 110, 250); fill-opacity: 1; stroke: rgb(255, 255, 255); stroke-opacity: 1;\"/></g><g class=\"point\"><path d=\"M508.95,410V344.98H514.03V410Z\" style=\"vector-effect: none; opacity: 1; stroke-width: 0.5px; fill: rgb(99, 110, 250); fill-opacity: 1; stroke: rgb(255, 255, 255); stroke-opacity: 1;\"/></g><g class=\"point\"><path d=\"M413.64,410V344.98H418.72V410Z\" style=\"vector-effect: none; opacity: 1; stroke-width: 0.5px; fill: rgb(99, 110, 250); fill-opacity: 1; stroke: rgb(255, 255, 255); stroke-opacity: 1;\"/></g><g class=\"point\"><path d=\"M311.98,410V345.59H317.06V410Z\" style=\"vector-effect: none; opacity: 1; stroke-width: 0.5px; fill: rgb(99, 110, 250); fill-opacity: 1; stroke: rgb(255, 255, 255); stroke-opacity: 1;\"/></g><g class=\"point\"><path d=\"M19.7,84.91V20.5H24.78V84.91Z\" style=\"vector-effect: none; opacity: 1; stroke-width: 0.5px; fill: rgb(99, 110, 250); fill-opacity: 1; stroke: rgb(255, 255, 255); stroke-opacity: 1;\"/></g><g class=\"point\"><path d=\"M578.84,410V345.59H583.93V410Z\" style=\"vector-effect: none; opacity: 1; stroke-width: 0.5px; fill: rgb(99, 110, 250); fill-opacity: 1; stroke: rgb(255, 255, 255); stroke-opacity: 1;\"/></g><g class=\"point\"><path d=\"M553.43,410V345.59H558.51V410Z\" style=\"vector-effect: none; opacity: 1; stroke-width: 0.5px; fill: rgb(99, 110, 250); fill-opacity: 1; stroke: rgb(255, 255, 255); stroke-opacity: 1;\"/></g><g class=\"point\"><path d=\"M521.66,410V345.59H526.74V410Z\" style=\"vector-effect: none; opacity: 1; stroke-width: 0.5px; fill: rgb(99, 110, 250); fill-opacity: 1; stroke: rgb(255, 255, 255); stroke-opacity: 1;\"/></g><g class=\"point\"><path d=\"M477.18,410V345.59H482.26V410Z\" style=\"vector-effect: none; opacity: 1; stroke-width: 0.5px; fill: rgb(99, 110, 250); fill-opacity: 1; stroke: rgb(255, 255, 255); stroke-opacity: 1;\"/></g><g class=\"point\"><path d=\"M140.42,302.24V239.63H145.51V302.24Z\" style=\"vector-effect: none; opacity: 1; stroke-width: 0.5px; fill: rgb(99, 110, 250); fill-opacity: 1; stroke: rgb(255, 255, 255); stroke-opacity: 1;\"/></g><g class=\"point\"><path d=\"M985.49,410V352.81H990.58V410Z\" style=\"vector-effect: none; opacity: 1; stroke-width: 0.5px; fill: rgb(99, 110, 250); fill-opacity: 1; stroke: rgb(255, 255, 255); stroke-opacity: 1;\"/></g><g class=\"point\"><path d=\"M998.2,290.8V234.21H1003.29V290.8Z\" style=\"vector-effect: none; opacity: 1; stroke-width: 0.5px; fill: rgb(99, 110, 250); fill-opacity: 1; stroke: rgb(255, 255, 255); stroke-opacity: 1;\"/></g><g class=\"point\"><path d=\"M655.09,410V355.82H660.17V410Z\" style=\"vector-effect: none; opacity: 1; stroke-width: 0.5px; fill: rgb(99, 110, 250); fill-opacity: 1; stroke: rgb(255, 255, 255); stroke-opacity: 1;\"/></g><g class=\"point\"><path d=\"M267.5,261.91V211.94H272.58V261.91Z\" style=\"vector-effect: none; opacity: 1; stroke-width: 0.5px; fill: rgb(99, 110, 250); fill-opacity: 1; stroke: rgb(255, 255, 255); stroke-opacity: 1;\"/></g><g class=\"point\"><path d=\"M292.92,328.73V280.57H298V328.73Z\" style=\"vector-effect: none; opacity: 1; stroke-width: 0.5px; fill: rgb(99, 110, 250); fill-opacity: 1; stroke: rgb(255, 255, 255); stroke-opacity: 1;\"/></g><g class=\"point\"><path d=\"M794.88,410V363.04H799.96V410Z\" style=\"vector-effect: none; opacity: 1; stroke-width: 0.5px; fill: rgb(99, 110, 250); fill-opacity: 1; stroke: rgb(255, 255, 255); stroke-opacity: 1;\"/></g><g class=\"point\"><path d=\"M451.76,410V366.66H456.85V410Z\" style=\"vector-effect: none; opacity: 1; stroke-width: 0.5px; fill: rgb(99, 110, 250); fill-opacity: 1; stroke: rgb(255, 255, 255); stroke-opacity: 1;\"/></g><g class=\"point\"><path d=\"M102.3,410V369.67H107.38V410Z\" style=\"vector-effect: none; opacity: 1; stroke-width: 0.5px; fill: rgb(99, 110, 250); fill-opacity: 1; stroke: rgb(255, 255, 255); stroke-opacity: 1;\"/></g><g class=\"point\"><path d=\"M985.49,352.81V314.28H990.58V352.81Z\" style=\"vector-effect: none; opacity: 1; stroke-width: 0.5px; fill: rgb(99, 110, 250); fill-opacity: 1; stroke: rgb(255, 255, 255); stroke-opacity: 1;\"/></g><g class=\"point\"><path d=\"M674.15,410V371.47H679.24V410Z\" style=\"vector-effect: none; opacity: 1; stroke-width: 0.5px; fill: rgb(99, 110, 250); fill-opacity: 1; stroke: rgb(255, 255, 255); stroke-opacity: 1;\"/></g><g class=\"point\"><path d=\"M750.4,296.22V258.29H755.48V296.22Z\" style=\"vector-effect: none; opacity: 1; stroke-width: 0.5px; fill: rgb(99, 110, 250); fill-opacity: 1; stroke: rgb(255, 255, 255); stroke-opacity: 1;\"/></g><g class=\"point\"><path d=\"M858.42,410V373.88H863.5V410Z\" style=\"vector-effect: none; opacity: 1; stroke-width: 0.5px; fill: rgb(99, 110, 250); fill-opacity: 1; stroke: rgb(255, 255, 255); stroke-opacity: 1;\"/></g><g class=\"point\"><path d=\"M985.49,314.28V279.97H990.58V314.28Z\" style=\"vector-effect: none; opacity: 1; stroke-width: 0.5px; fill: rgb(99, 110, 250); fill-opacity: 1; stroke: rgb(255, 255, 255); stroke-opacity: 1;\"/></g><g class=\"point\"><path d=\"M674.15,371.47V338.96H679.24V371.47Z\" style=\"vector-effect: none; opacity: 1; stroke-width: 0.5px; fill: rgb(99, 110, 250); fill-opacity: 1; stroke: rgb(255, 255, 255); stroke-opacity: 1;\"/></g><g class=\"point\"><path d=\"M362.81,410V379.3H367.89V410Z\" style=\"vector-effect: none; opacity: 1; stroke-width: 0.5px; fill: rgb(99, 110, 250); fill-opacity: 1; stroke: rgb(255, 255, 255); stroke-opacity: 1;\"/></g><g class=\"point\"><path d=\"M578.84,345.59V315.48H583.93V345.59Z\" style=\"vector-effect: none; opacity: 1; stroke-width: 0.5px; fill: rgb(99, 110, 250); fill-opacity: 1; stroke: rgb(255, 255, 255); stroke-opacity: 1;\"/></g><g class=\"point\"><path d=\"M121.36,325.12V297.42H126.44V325.12Z\" style=\"vector-effect: none; opacity: 1; stroke-width: 0.5px; fill: rgb(99, 110, 250); fill-opacity: 1; stroke: rgb(255, 255, 255); stroke-opacity: 1;\"/></g><g class=\"point\"><path d=\"M1068.1,410V383.51H1073.18V410Z\" style=\"vector-effect: none; opacity: 1; stroke-width: 0.5px; fill: rgb(99, 110, 250); fill-opacity: 1; stroke: rgb(255, 255, 255); stroke-opacity: 1;\"/></g><g class=\"point\"><path d=\"M667.8,410V384.72H672.88V410Z\" style=\"vector-effect: none; opacity: 1; stroke-width: 0.5px; fill: rgb(99, 110, 250); fill-opacity: 1; stroke: rgb(255, 255, 255); stroke-opacity: 1;\"/></g><g class=\"point\"><path d=\"M102.3,369.67V345.59H107.38V369.67Z\" style=\"vector-effect: none; opacity: 1; stroke-width: 0.5px; fill: rgb(99, 110, 250); fill-opacity: 1; stroke: rgb(255, 255, 255); stroke-opacity: 1;\"/></g><g class=\"point\"><path d=\"M858.42,373.88V349.8H863.5V373.88Z\" style=\"vector-effect: none; opacity: 1; stroke-width: 0.5px; fill: rgb(99, 110, 250); fill-opacity: 1; stroke: rgb(255, 255, 255); stroke-opacity: 1;\"/></g><g class=\"point\"><path d=\"M6.99,410V385.92H12.07V410Z\" style=\"vector-effect: none; opacity: 1; stroke-width: 0.5px; fill: rgb(99, 110, 250); fill-opacity: 1; stroke: rgb(255, 255, 255); stroke-opacity: 1;\"/></g><g class=\"point\"><path d=\"M13.34,212.54V190.27H18.43V212.54Z\" style=\"vector-effect: none; opacity: 1; stroke-width: 0.5px; fill: rgb(99, 110, 250); fill-opacity: 1; stroke: rgb(255, 255, 255); stroke-opacity: 1;\"/></g><g class=\"point\"><path d=\"M6.99,385.92V364.25H12.07V385.92Z\" style=\"vector-effect: none; opacity: 1; stroke-width: 0.5px; fill: rgb(99, 110, 250); fill-opacity: 1; stroke: rgb(255, 255, 255); stroke-opacity: 1;\"/></g><g class=\"point\"><path d=\"M470.83,410V388.33H475.91V410Z\" style=\"vector-effect: none; opacity: 1; stroke-width: 0.5px; fill: rgb(99, 110, 250); fill-opacity: 1; stroke: rgb(255, 255, 255); stroke-opacity: 1;\"/></g><g class=\"point\"><path d=\"M515.3,410V388.33H520.39V410Z\" style=\"vector-effect: none; opacity: 1; stroke-width: 0.5px; fill: rgb(99, 110, 250); fill-opacity: 1; stroke: rgb(255, 255, 255); stroke-opacity: 1;\"/></g><g class=\"point\"><path d=\"M801.23,410V388.33H806.31V410Z\" style=\"vector-effect: none; opacity: 1; stroke-width: 0.5px; fill: rgb(99, 110, 250); fill-opacity: 1; stroke: rgb(255, 255, 255); stroke-opacity: 1;\"/></g><g class=\"point\"><path d=\"M1049.03,184.25V163.18H1054.12V184.25Z\" style=\"vector-effect: none; opacity: 1; stroke-width: 0.5px; fill: rgb(99, 110, 250); fill-opacity: 1; stroke: rgb(255, 255, 255); stroke-opacity: 1;\"/></g><g class=\"point\"><path d=\"M267.5,211.94V191.47H272.58V211.94Z\" style=\"vector-effect: none; opacity: 1; stroke-width: 0.5px; fill: rgb(99, 110, 250); fill-opacity: 1; stroke: rgb(255, 255, 255); stroke-opacity: 1;\"/></g><g class=\"point\"><path d=\"M674.15,338.96V319.7H679.24V338.96Z\" style=\"vector-effect: none; opacity: 1; stroke-width: 0.5px; fill: rgb(99, 110, 250); fill-opacity: 1; stroke: rgb(255, 255, 255); stroke-opacity: 1;\"/></g><g class=\"point\"><path d=\"M985.49,279.97V261.3H990.58V279.97Z\" style=\"vector-effect: none; opacity: 1; stroke-width: 0.5px; fill: rgb(99, 110, 250); fill-opacity: 1; stroke: rgb(255, 255, 255); stroke-opacity: 1;\"/></g><g class=\"point\"><path d=\"M674.15,319.7V301.64H679.24V319.7Z\" style=\"vector-effect: none; opacity: 1; stroke-width: 0.5px; fill: rgb(99, 110, 250); fill-opacity: 1; stroke: rgb(255, 255, 255); stroke-opacity: 1;\"/></g><g class=\"point\"><path d=\"M794.88,363.04V345.59H799.96V363.04Z\" style=\"vector-effect: none; opacity: 1; stroke-width: 0.5px; fill: rgb(99, 110, 250); fill-opacity: 1; stroke: rgb(255, 255, 255); stroke-opacity: 1;\"/></g><g class=\"point\"><path d=\"M852.06,410V393.14H857.15V410Z\" style=\"vector-effect: none; opacity: 1; stroke-width: 0.5px; fill: rgb(99, 110, 250); fill-opacity: 1; stroke: rgb(255, 255, 255); stroke-opacity: 1;\"/></g><g class=\"point\"><path d=\"M267.5,191.47V174.61H272.58V191.47Z\" style=\"vector-effect: none; opacity: 1; stroke-width: 0.5px; fill: rgb(99, 110, 250); fill-opacity: 1; stroke: rgb(255, 255, 255); stroke-opacity: 1;\"/></g><g class=\"point\"><path d=\"M979.14,410V393.14H984.22V410Z\" style=\"vector-effect: none; opacity: 1; stroke-width: 0.5px; fill: rgb(99, 110, 250); fill-opacity: 1; stroke: rgb(255, 255, 255); stroke-opacity: 1;\"/></g><g class=\"point\"><path d=\"M95.94,410V393.75H101.03V410Z\" style=\"vector-effect: none; opacity: 1; stroke-width: 0.5px; fill: rgb(99, 110, 250); fill-opacity: 1; stroke: rgb(255, 255, 255); stroke-opacity: 1;\"/></g><g class=\"point\"><path d=\"M121.36,297.42V281.17H126.44V297.42Z\" style=\"vector-effect: none; opacity: 1; stroke-width: 0.5px; fill: rgb(99, 110, 250); fill-opacity: 1; stroke: rgb(255, 255, 255); stroke-opacity: 1;\"/></g><g class=\"point\"><path d=\"M858.42,349.8V333.54H863.5V349.8Z\" style=\"vector-effect: none; opacity: 1; stroke-width: 0.5px; fill: rgb(99, 110, 250); fill-opacity: 1; stroke: rgb(255, 255, 255); stroke-opacity: 1;\"/></g><g class=\"point\"><path d=\"M1118.93,410V393.75H1124.01V410Z\" style=\"vector-effect: none; opacity: 1; stroke-width: 0.5px; fill: rgb(99, 110, 250); fill-opacity: 1; stroke: rgb(255, 255, 255); stroke-opacity: 1;\"/></g><g class=\"point\"><path d=\"M267.5,174.61V158.36H272.58V174.61Z\" style=\"vector-effect: none; opacity: 1; stroke-width: 0.5px; fill: rgb(99, 110, 250); fill-opacity: 1; stroke: rgb(255, 255, 255); stroke-opacity: 1;\"/></g><g class=\"point\"><path d=\"M655.09,355.82V340.17H660.17V355.82Z\" style=\"vector-effect: none; opacity: 1; stroke-width: 0.5px; fill: rgb(99, 110, 250); fill-opacity: 1; stroke: rgb(255, 255, 255); stroke-opacity: 1;\"/></g><g class=\"point\"><path d=\"M801.23,388.33V372.68H806.31V388.33Z\" style=\"vector-effect: none; opacity: 1; stroke-width: 0.5px; fill: rgb(99, 110, 250); fill-opacity: 1; stroke: rgb(255, 255, 255); stroke-opacity: 1;\"/></g><g class=\"point\"><path d=\"M998.2,234.21V218.56H1003.29V234.21Z\" style=\"vector-effect: none; opacity: 1; stroke-width: 0.5px; fill: rgb(99, 110, 250); fill-opacity: 1; stroke: rgb(255, 255, 255); stroke-opacity: 1;\"/></g><g class=\"point\"><path d=\"M655.09,340.17V325.12H660.17V340.17Z\" style=\"vector-effect: none; opacity: 1; stroke-width: 0.5px; fill: rgb(99, 110, 250); fill-opacity: 1; stroke: rgb(255, 255, 255); stroke-opacity: 1;\"/></g><g class=\"point\"><path d=\"M6.99,364.25V349.8H12.07V364.25Z\" style=\"vector-effect: none; opacity: 1; stroke-width: 0.5px; fill: rgb(99, 110, 250); fill-opacity: 1; stroke: rgb(255, 255, 255); stroke-opacity: 1;\"/></g><g class=\"point\"><path d=\"M419.99,410V395.55H425.08V410Z\" style=\"vector-effect: none; opacity: 1; stroke-width: 0.5px; fill: rgb(99, 110, 250); fill-opacity: 1; stroke: rgb(255, 255, 255); stroke-opacity: 1;\"/></g><g class=\"point\"><path d=\"M445.41,311.27V296.82H450.49V311.27Z\" style=\"vector-effect: none; opacity: 1; stroke-width: 0.5px; fill: rgb(99, 110, 250); fill-opacity: 1; stroke: rgb(255, 255, 255); stroke-opacity: 1;\"/></g><g class=\"point\"><path d=\"M883.83,410V395.55H888.92V410Z\" style=\"vector-effect: none; opacity: 1; stroke-width: 0.5px; fill: rgb(99, 110, 250); fill-opacity: 1; stroke: rgb(255, 255, 255); stroke-opacity: 1;\"/></g><g class=\"point\"><path d=\"M1068.1,383.51V369.06H1073.18V383.51Z\" style=\"vector-effect: none; opacity: 1; stroke-width: 0.5px; fill: rgb(99, 110, 250); fill-opacity: 1; stroke: rgb(255, 255, 255); stroke-opacity: 1;\"/></g><g class=\"point\"><path d=\"M1068.1,369.06V354.62H1073.18V369.06Z\" style=\"vector-effect: none; opacity: 1; stroke-width: 0.5px; fill: rgb(99, 110, 250); fill-opacity: 1; stroke: rgb(255, 255, 255); stroke-opacity: 1;\"/></g><g class=\"point\"><path d=\"M445.41,296.82V282.37H450.49V296.82Z\" style=\"vector-effect: none; opacity: 1; stroke-width: 0.5px; fill: rgb(99, 110, 250); fill-opacity: 1; stroke: rgb(255, 255, 255); stroke-opacity: 1;\"/></g><g class=\"point\"><path d=\"M610.61,410V396.15H615.7V410Z\" style=\"vector-effect: none; opacity: 1; stroke-width: 0.5px; fill: rgb(99, 110, 250); fill-opacity: 1; stroke: rgb(255, 255, 255); stroke-opacity: 1;\"/></g><g class=\"point\"><path d=\"M985.49,261.3V247.46H990.58V261.3Z\" style=\"vector-effect: none; opacity: 1; stroke-width: 0.5px; fill: rgb(99, 110, 250); fill-opacity: 1; stroke: rgb(255, 255, 255); stroke-opacity: 1;\"/></g><g class=\"point\"><path d=\"M1029.97,181.24V167.99H1035.06V181.24Z\" style=\"vector-effect: none; opacity: 1; stroke-width: 0.5px; fill: rgb(99, 110, 250); fill-opacity: 1; stroke: rgb(255, 255, 255); stroke-opacity: 1;\"/></g><g class=\"point\"><path d=\"M419.99,395.55V382.31H425.08V395.55Z\" style=\"vector-effect: none; opacity: 1; stroke-width: 0.5px; fill: rgb(99, 110, 250); fill-opacity: 1; stroke: rgb(255, 255, 255); stroke-opacity: 1;\"/></g><g class=\"point\"><path d=\"M985.49,247.46V234.21H990.58V247.46Z\" style=\"vector-effect: none; opacity: 1; stroke-width: 0.5px; fill: rgb(99, 110, 250); fill-opacity: 1; stroke: rgb(255, 255, 255); stroke-opacity: 1;\"/></g><g class=\"point\"><path d=\"M1004.56,410V397.36H1009.64V410Z\" style=\"vector-effect: none; opacity: 1; stroke-width: 0.5px; fill: rgb(99, 110, 250); fill-opacity: 1; stroke: rgb(255, 255, 255); stroke-opacity: 1;\"/></g><g class=\"point\"><path d=\"M13.34,190.27V177.62H18.43V190.27Z\" style=\"vector-effect: none; opacity: 1; stroke-width: 0.5px; fill: rgb(99, 110, 250); fill-opacity: 1; stroke: rgb(255, 255, 255); stroke-opacity: 1;\"/></g><g class=\"point\"><path d=\"M413.64,344.98V332.34H418.72V344.98Z\" style=\"vector-effect: none; opacity: 1; stroke-width: 0.5px; fill: rgb(99, 110, 250); fill-opacity: 1; stroke: rgb(255, 255, 255); stroke-opacity: 1;\"/></g><g class=\"point\"><path d=\"M604.26,410V397.36H609.34V410Z\" style=\"vector-effect: none; opacity: 1; stroke-width: 0.5px; fill: rgb(99, 110, 250); fill-opacity: 1; stroke: rgb(255, 255, 255); stroke-opacity: 1;\"/></g><g class=\"point\"><path d=\"M655.09,325.12V312.47H660.17V325.12Z\" style=\"vector-effect: none; opacity: 1; stroke-width: 0.5px; fill: rgb(99, 110, 250); fill-opacity: 1; stroke: rgb(255, 255, 255); stroke-opacity: 1;\"/></g><g class=\"point\"><path d=\"M858.42,333.54V320.9H863.5V333.54Z\" style=\"vector-effect: none; opacity: 1; stroke-width: 0.5px; fill: rgb(99, 110, 250); fill-opacity: 1; stroke: rgb(255, 255, 255); stroke-opacity: 1;\"/></g><g class=\"point\"><path d=\"M64.17,410V397.96H69.26V410Z\" style=\"vector-effect: none; opacity: 1; stroke-width: 0.5px; fill: rgb(99, 110, 250); fill-opacity: 1; stroke: rgb(255, 255, 255); stroke-opacity: 1;\"/></g><g class=\"point\"><path d=\"M1068.1,354.62V342.57H1073.18V354.62Z\" style=\"vector-effect: none; opacity: 1; stroke-width: 0.5px; fill: rgb(99, 110, 250); fill-opacity: 1; stroke: rgb(255, 255, 255); stroke-opacity: 1;\"/></g><g class=\"point\"><path d=\"M1125.28,410V397.96H1130.36V410Z\" style=\"vector-effect: none; opacity: 1; stroke-width: 0.5px; fill: rgb(99, 110, 250); fill-opacity: 1; stroke: rgb(255, 255, 255); stroke-opacity: 1;\"/></g><g class=\"point\"><path d=\"M693.21,410V397.96H698.3V410Z\" style=\"vector-effect: none; opacity: 1; stroke-width: 0.5px; fill: rgb(99, 110, 250); fill-opacity: 1; stroke: rgb(255, 255, 255); stroke-opacity: 1;\"/></g><g class=\"point\"><path d=\"M991.85,410V397.96H996.93V410Z\" style=\"vector-effect: none; opacity: 1; stroke-width: 0.5px; fill: rgb(99, 110, 250); fill-opacity: 1; stroke: rgb(255, 255, 255); stroke-opacity: 1;\"/></g></g></g></g></g><g class=\"overplot\"/><path class=\"xlines-above crisp\" d=\"M0,0\" style=\"fill: none;\"/><path class=\"ylines-above crisp\" d=\"M0,0\" style=\"fill: none;\"/><g class=\"overlines-above\"/><g class=\"xaxislayer-above\"><g class=\"xtick\"><text text-anchor=\"middle\" x=\"0\" y=\"463\" transform=\"translate(113.00999999999999,0)\" style=\"font-family: 'Open Sans', verdana, arial, sans-serif; font-size: 12px; fill: rgb(42, 63, 95); fill-opacity: 1; white-space: pre; opacity: 1;\">Nov 2023</text></g><g class=\"xtick\"><text text-anchor=\"middle\" x=\"0\" y=\"463\" style=\"font-family: 'Open Sans', verdana, arial, sans-serif; font-size: 12px; fill: rgb(42, 63, 95); fill-opacity: 1; white-space: pre; opacity: 1;\" transform=\"translate(303.63,0)\">Dec 2023</text></g><g class=\"xtick\"><text text-anchor=\"middle\" x=\"0\" y=\"463\" style=\"font-family: 'Open Sans', verdana, arial, sans-serif; font-size: 12px; fill: rgb(42, 63, 95); fill-opacity: 1; white-space: pre; opacity: 1;\" transform=\"translate(500.6,0)\">Jan 2024</text></g><g class=\"xtick\"><text text-anchor=\"middle\" x=\"0\" y=\"463\" style=\"font-family: 'Open Sans', verdana, arial, sans-serif; font-size: 12px; fill: rgb(42, 63, 95); fill-opacity: 1; white-space: pre; opacity: 1;\" transform=\"translate(697.57,0)\">Feb 2024</text></g><g class=\"xtick\"><text text-anchor=\"middle\" x=\"0\" y=\"463\" style=\"font-family: 'Open Sans', verdana, arial, sans-serif; font-size: 12px; fill: rgb(42, 63, 95); fill-opacity: 1; white-space: pre; opacity: 1;\" transform=\"translate(881.83,0)\">Mar 2024</text></g><g class=\"xtick\"><text text-anchor=\"middle\" x=\"0\" y=\"463\" style=\"font-family: 'Open Sans', verdana, arial, sans-serif; font-size: 12px; fill: rgb(42, 63, 95); fill-opacity: 1; white-space: pre; opacity: 1;\" transform=\"translate(1078.81,0)\">Apr 2024</text></g></g><g class=\"yaxislayer-above\"><g class=\"ytick\"><text text-anchor=\"end\" x=\"58\" y=\"4.199999999999999\" transform=\"translate(0,450)\" style=\"font-family: 'Open Sans', verdana, arial, sans-serif; font-size: 12px; fill: rgb(42, 63, 95); fill-opacity: 1; white-space: pre; opacity: 1;\">0</text></g><g class=\"ytick\"><text text-anchor=\"end\" x=\"58\" y=\"4.199999999999999\" style=\"font-family: 'Open Sans', verdana, arial, sans-serif; font-size: 12px; fill: rgb(42, 63, 95); fill-opacity: 1; white-space: pre; opacity: 1;\" transform=\"translate(0,389.8)\">100</text></g><g class=\"ytick\"><text text-anchor=\"end\" x=\"58\" y=\"4.199999999999999\" style=\"font-family: 'Open Sans', verdana, arial, sans-serif; font-size: 12px; fill: rgb(42, 63, 95); fill-opacity: 1; white-space: pre; opacity: 1;\" transform=\"translate(0,329.6)\">200</text></g><g class=\"ytick\"><text text-anchor=\"end\" x=\"58\" y=\"4.199999999999999\" style=\"font-family: 'Open Sans', verdana, arial, sans-serif; font-size: 12px; fill: rgb(42, 63, 95); fill-opacity: 1; white-space: pre; opacity: 1;\" transform=\"translate(0,269.4)\">300</text></g><g class=\"ytick\"><text text-anchor=\"end\" x=\"58\" y=\"4.199999999999999\" style=\"font-family: 'Open Sans', verdana, arial, sans-serif; font-size: 12px; fill: rgb(42, 63, 95); fill-opacity: 1; white-space: pre; opacity: 1;\" transform=\"translate(0,209.2)\">400</text></g><g class=\"ytick\"><text text-anchor=\"end\" x=\"58\" y=\"4.199999999999999\" style=\"font-family: 'Open Sans', verdana, arial, sans-serif; font-size: 12px; fill: rgb(42, 63, 95); fill-opacity: 1; white-space: pre; opacity: 1;\" transform=\"translate(0,149)\">500</text></g><g class=\"ytick\"><text text-anchor=\"end\" x=\"58\" y=\"4.199999999999999\" style=\"font-family: 'Open Sans', verdana, arial, sans-serif; font-size: 12px; fill: rgb(42, 63, 95); fill-opacity: 1; white-space: pre; opacity: 1;\" transform=\"translate(0,88.78999999999999)\">600</text></g></g><g class=\"overaxes-above\"/></g></g><g class=\"polarlayer\"/><g class=\"smithlayer\"/><g class=\"ternarylayer\"/><g class=\"geolayer\"/><g class=\"funnelarealayer\"/><g class=\"pielayer\"/><g class=\"iciclelayer\"/><g class=\"treemaplayer\"/><g class=\"sunburstlayer\"/><g class=\"glimages\"/><defs id=\"topdefs-58b36c\"><g class=\"clips\"/></defs><g class=\"layer-above\"><g class=\"imagelayer\"/><g class=\"shapelayer\"/></g><g class=\"infolayer\"><g class=\"g-gtitle\"><text class=\"gtitle\" x=\"60\" y=\"20\" text-anchor=\"start\" dy=\"0em\" style=\"font-family: 'Open Sans', verdana, arial, sans-serif; font-size: 17px; fill: rgb(42, 63, 95); opacity: 1; white-space: pre;\">Top cluster by number of failed actions</text></g><g class=\"g-xtitle\"><text class=\"xtitle\" x=\"624.5\" y=\"489.8\" text-anchor=\"middle\" style=\"font-family: 'Open Sans', verdana, arial, sans-serif; font-size: 14px; fill: rgb(42, 63, 95); opacity: 1; white-space: pre;\">Date</text></g><g class=\"g-ytitle\"><text class=\"ytitle\" transform=\"rotate(-90,15.709375000000001,245)\" x=\"15.709375000000001\" y=\"245\" text-anchor=\"middle\" style=\"font-family: 'Open Sans', verdana, arial, sans-serif; font-size: 14px; fill: rgb(42, 63, 95); opacity: 1; white-space: pre;\">Number of failed actions</text></g></g></svg>"
      ]
     },
     "metadata": {},
     "output_type": "display_data"
    }
   ],
   "source": [
    "top_clusters_by_number_of_actions_fig.show()"
   ]
  },
  {
   "cell_type": "markdown",
   "id": "e94c0693",
   "metadata": {
    "slideshow": {
     "slide_type": "subslide"
    }
   },
   "source": [
    "# Statistics: Top clusters by number of failed actions"
   ]
  },
  {
   "cell_type": "code",
   "execution_count": 365,
   "id": "bd090065",
   "metadata": {
    "slideshow": {
     "slide_type": "skip"
    }
   },
   "outputs": [
    {
     "data": {
      "text/html": [
       "<div>\n",
       "<style scoped>\n",
       "    .dataframe tbody tr th:only-of-type {\n",
       "        vertical-align: middle;\n",
       "    }\n",
       "\n",
       "    .dataframe tbody tr th {\n",
       "        vertical-align: top;\n",
       "    }\n",
       "\n",
       "    .dataframe thead th {\n",
       "        text-align: right;\n",
       "    }\n",
       "</style>\n",
       "<table border=\"1\" class=\"dataframe\">\n",
       "  <thead>\n",
       "    <tr style=\"text-align: right;\">\n",
       "      <th></th>\n",
       "      <th>action_output_date</th>\n",
       "      <th>action_output_cluster_id</th>\n",
       "      <th>unique_users_num</th>\n",
       "      <th>actions_num</th>\n",
       "    </tr>\n",
       "  </thead>\n",
       "  <tbody>\n",
       "    <tr>\n",
       "      <th>2048</th>\n",
       "      <td>2023-10-27 00:00:00+00:00</td>\n",
       "      <td>335630</td>\n",
       "      <td>2</td>\n",
       "      <td>540</td>\n",
       "    </tr>\n",
       "    <tr>\n",
       "      <th>32413</th>\n",
       "      <td>2024-04-03 00:00:00+00:00</td>\n",
       "      <td>156330</td>\n",
       "      <td>1</td>\n",
       "      <td>380</td>\n",
       "    </tr>\n",
       "    <tr>\n",
       "      <th>9925</th>\n",
       "      <td>2024-02-03 00:00:00+00:00</td>\n",
       "      <td>288279</td>\n",
       "      <td>1</td>\n",
       "      <td>380</td>\n",
       "    </tr>\n",
       "    <tr>\n",
       "      <th>35344</th>\n",
       "      <td>2024-04-06 00:00:00+00:00</td>\n",
       "      <td>131692</td>\n",
       "      <td>1</td>\n",
       "      <td>375</td>\n",
       "    </tr>\n",
       "    <tr>\n",
       "      <th>36228</th>\n",
       "      <td>2024-04-07 00:00:00+00:00</td>\n",
       "      <td>129316</td>\n",
       "      <td>1</td>\n",
       "      <td>330</td>\n",
       "    </tr>\n",
       "  </tbody>\n",
       "</table>\n",
       "</div>"
      ],
      "text/plain": [
       "             action_output_date  action_output_cluster_id  unique_users_num  \\\n",
       "2048  2023-10-27 00:00:00+00:00                    335630                 2   \n",
       "32413 2024-04-03 00:00:00+00:00                    156330                 1   \n",
       "9925  2024-02-03 00:00:00+00:00                    288279                 1   \n",
       "35344 2024-04-06 00:00:00+00:00                    131692                 1   \n",
       "36228 2024-04-07 00:00:00+00:00                    129316                 1   \n",
       "\n",
       "       actions_num  \n",
       "2048           540  \n",
       "32413          380  \n",
       "9925           380  \n",
       "35344          375  \n",
       "36228          330  "
      ]
     },
     "execution_count": 365,
     "metadata": {},
     "output_type": "execute_result"
    }
   ],
   "source": [
    "cluster_daily_stats.sort_values(\"actions_num\", ascending=False).head()"
   ]
  },
  {
   "cell_type": "code",
   "execution_count": 367,
   "id": "00492267",
   "metadata": {},
   "outputs": [
    {
     "name": "stdout",
     "output_type": "stream",
     "text": [
      "\n",
      "fatal: reference is not a tree: f5b4060fec2bd637a88bfafbcc16b87f0241656c\n"
     ]
    }
   ],
   "source": [
    "print(actions.loc[335630, \"action_output_failure\"])"
   ]
  },
  {
   "cell_type": "code",
   "execution_count": 366,
   "id": "5d25b36d",
   "metadata": {},
   "outputs": [
    {
     "name": "stdout",
     "output_type": "stream",
     "text": [
      "$ jest --build -r=experimental --env=development --ci\n",
      "● Unrecognized CLI Parameter:\n",
      "\n",
      "  Unrecognized option \"build\". Did you mean \"bail\"?\n",
      "\n",
      "  CLI Options Documentation:\n",
      "  https://jestjs.io/docs/cli\n",
      "\n",
      "error Command failed with exit code 1.\n",
      "info Visit https://yarnpkg.com/en/docs/cli/run for documentation about this command.\n"
     ]
    }
   ],
   "source": [
    "print(actions.loc[156330, \"action_output_failure\"])"
   ]
  },
  {
   "cell_type": "markdown",
   "id": "862d4701",
   "metadata": {
    "slideshow": {
     "slide_type": "subslide"
    }
   },
   "source": [
    "# Statistics: Top clusters by number of affected users"
   ]
  },
  {
   "cell_type": "code",
   "execution_count": 360,
   "id": "7a980e49",
   "metadata": {
    "slideshow": {
     "slide_type": "skip"
    }
   },
   "outputs": [],
   "source": [
    "top_clusters_by_unique_users_fig = (\n",
    "    cluster_daily_stats\n",
    "    .head(10)\n",
    "    .assign(action_output_cluster_id = lambda df: df[\"action_output_cluster_id\"].astype(str))\n",
    "    .pipe(\n",
    "        px.bar,\n",
    "        x=\"action_output_date\",\n",
    "        y=\"unique_users_num\",\n",
    "        color=\"action_output_cluster_id\"\n",
    "    )\n",
    "    .update_layout(\n",
    "        **default_layout,\n",
    "        title=\"Top cluster by number of affected users\",\n",
    "        xaxis_title=\"Date\",\n",
    "        yaxis_title=\"Number of failed actions\",\n",
    "    )\n",
    "    .update_layout(\n",
    "        margin=dict(\n",
    "            l=10,\n",
    "            r=10,\n",
    "            b=10,\n",
    "            t=40,\n",
    "        ),\n",
    "        legend=dict(\n",
    "            orientation=\"h\",\n",
    "            yanchor=\"bottom\",\n",
    "            y=0.96,\n",
    "            xanchor=\"right\",\n",
    "            x=1\n",
    "        ),\n",
    "    )\n",
    ")"
   ]
  },
  {
   "cell_type": "code",
   "execution_count": 431,
   "id": "762bd8bc",
   "metadata": {},
   "outputs": [
    {
     "data": {
      "image/svg+xml": [
       "<svg class=\"main-svg\" xmlns=\"http://www.w3.org/2000/svg\" xmlns:xlink=\"http://www.w3.org/1999/xlink\" width=\"1200\" height=\"500\" style=\"\" viewBox=\"0 0 1200 500\"><rect x=\"0\" y=\"0\" width=\"1200\" height=\"500\" style=\"fill: rgb(255, 255, 255); fill-opacity: 1;\"/><defs id=\"defs-3d201a\"><g class=\"clips\"><clipPath id=\"clip3d201axyplot\" class=\"plotclip\"><rect width=\"1135\" height=\"410\"/></clipPath><clipPath class=\"axesclip\" id=\"clip3d201ax\"><rect x=\"55\" y=\"0\" width=\"1135\" height=\"500\"/></clipPath><clipPath class=\"axesclip\" id=\"clip3d201ay\"><rect x=\"0\" y=\"40\" width=\"1200\" height=\"410\"/></clipPath><clipPath class=\"axesclip\" id=\"clip3d201axy\"><rect x=\"55\" y=\"40\" width=\"1135\" height=\"410\"/></clipPath></g><g class=\"gradients\"/><g class=\"patterns\"/></defs><g class=\"bglayer\"/><g class=\"layer-below\"><g class=\"imagelayer\"/><g class=\"shapelayer\"/></g><g class=\"cartesianlayer\"><g class=\"subplot xy\"><g class=\"layer-subplot\"><g class=\"shapelayer\"/><g class=\"imagelayer\"/></g><g class=\"minor-gridlayer\"><g class=\"x\"/><g class=\"y\"/></g><g class=\"gridlayer\"><g class=\"x\"/><g class=\"y\"><path class=\"ygrid crisp\" transform=\"translate(0,385.08)\" d=\"M55,0h1135\" style=\"stroke: rgb(235, 240, 248); stroke-opacity: 1; stroke-width: 1px;\"/><path class=\"ygrid crisp\" transform=\"translate(0,320.17)\" d=\"M55,0h1135\" style=\"stroke: rgb(235, 240, 248); stroke-opacity: 1; stroke-width: 1px;\"/><path class=\"ygrid crisp\" transform=\"translate(0,255.25)\" d=\"M55,0h1135\" style=\"stroke: rgb(235, 240, 248); stroke-opacity: 1; stroke-width: 1px;\"/><path class=\"ygrid crisp\" transform=\"translate(0,190.33)\" d=\"M55,0h1135\" style=\"stroke: rgb(235, 240, 248); stroke-opacity: 1; stroke-width: 1px;\"/><path class=\"ygrid crisp\" transform=\"translate(0,125.42)\" d=\"M55,0h1135\" style=\"stroke: rgb(235, 240, 248); stroke-opacity: 1; stroke-width: 1px;\"/><path class=\"ygrid crisp\" transform=\"translate(0,60.5)\" d=\"M55,0h1135\" style=\"stroke: rgb(235, 240, 248); stroke-opacity: 1; stroke-width: 1px;\"/></g></g><g class=\"zerolinelayer\"><path class=\"yzl zl crisp\" transform=\"translate(0,450)\" d=\"M55,0h1135\" style=\"stroke: rgb(235, 240, 248); stroke-opacity: 1; stroke-width: 2px;\"/></g><g class=\"layer-between\"><g class=\"shapelayer\"/><g class=\"imagelayer\"/></g><path class=\"xlines-below\"/><path class=\"ylines-below\"/><g class=\"overlines-below\"/><g class=\"xaxislayer-below\"/><g class=\"yaxislayer-below\"/><g class=\"overaxes-below\"/><g class=\"plot\" transform=\"translate(55,40)\" clip-path=\"url(#clip3d201axyplot)\"><g class=\"barlayer mlayer\"><g class=\"trace bars\" style=\"opacity: 1;\"><g class=\"points\"><g class=\"point\"><path d=\"M1063.51,410V20.5H1081.2V410Z\" style=\"vector-effect: none; opacity: 1; stroke-width: 0.5px; fill: rgb(99, 110, 250); fill-opacity: 1; stroke: rgb(255, 255, 255); stroke-opacity: 1;\"/></g></g></g><g class=\"trace bars\" style=\"opacity: 1;\"><g class=\"points\"><g class=\"point\"><path d=\"M717.11,410V20.5H734.8V410Z\" style=\"vector-effect: none; opacity: 1; stroke-width: 0.5px; fill: rgb(239, 85, 59); fill-opacity: 1; stroke: rgb(255, 255, 255); stroke-opacity: 1;\"/></g></g></g><g class=\"trace bars\" style=\"opacity: 1;\"><g class=\"points\"><g class=\"point\"><path d=\"M547.6,410V20.5H565.29V410Z\" style=\"vector-effect: none; opacity: 1; stroke-width: 0.5px; fill: rgb(0, 204, 150); fill-opacity: 1; stroke: rgb(255, 255, 255); stroke-opacity: 1;\"/></g></g></g><g class=\"trace bars\" style=\"opacity: 1;\"><g class=\"points\"><g class=\"point\"><path d=\"M1011.92,410V20.5H1029.61V410Z\" style=\"vector-effect: none; opacity: 1; stroke-width: 0.5px; fill: rgb(171, 99, 250); fill-opacity: 1; stroke: rgb(255, 255, 255); stroke-opacity: 1;\"/></g></g></g><g class=\"trace bars\" style=\"opacity: 1;\"><g class=\"points\"><g class=\"point\"><path d=\"M2.21,410V150.33H19.9V410Z\" style=\"vector-effect: none; opacity: 1; stroke-width: 0.5px; fill: rgb(255, 161, 90); fill-opacity: 1; stroke: rgb(255, 255, 255); stroke-opacity: 1;\"/></g></g></g><g class=\"trace bars\" style=\"opacity: 1;\"><g class=\"points\"><g class=\"point\"><path d=\"M120.13,410V150.33H137.82V410Z\" style=\"vector-effect: none; opacity: 1; stroke-width: 0.5px; fill: rgb(25, 211, 243); fill-opacity: 1; stroke: rgb(255, 255, 255); stroke-opacity: 1;\"/></g></g></g><g class=\"trace bars\" style=\"opacity: 1;\"><g class=\"points\"><g class=\"point\"><path d=\"M149.61,410V150.33H167.3V410Z\" style=\"vector-effect: none; opacity: 1; stroke-width: 0.5px; fill: rgb(255, 102, 146); fill-opacity: 1; stroke: rgb(255, 255, 255); stroke-opacity: 1;\"/></g></g></g><g class=\"trace bars\" style=\"opacity: 1;\"><g class=\"points\"><g class=\"point\"><path d=\"M569.71,410V150.33H587.4V410Z\" style=\"vector-effect: none; opacity: 1; stroke-width: 0.5px; fill: rgb(182, 232, 128); fill-opacity: 1; stroke: rgb(255, 255, 255); stroke-opacity: 1;\"/></g></g></g><g class=\"trace bars\" style=\"opacity: 1;\"><g class=\"points\"><g class=\"point\"><path d=\"M1115.1,410V150.33H1132.79V410Z\" style=\"vector-effect: none; opacity: 1; stroke-width: 0.5px; fill: rgb(255, 151, 255); fill-opacity: 1; stroke: rgb(255, 255, 255); stroke-opacity: 1;\"/></g></g></g><g class=\"trace bars\" style=\"opacity: 1;\"><g class=\"points\"><g class=\"point\"><path d=\"M90.65,410V150.33H108.34V410Z\" style=\"vector-effect: none; opacity: 1; stroke-width: 0.5px; fill: rgb(254, 203, 82); fill-opacity: 1; stroke: rgb(255, 255, 255); stroke-opacity: 1;\"/></g></g></g></g></g><g class=\"overplot\"/><path class=\"xlines-above crisp\" d=\"M0,0\" style=\"fill: none;\"/><path class=\"ylines-above crisp\" d=\"M0,0\" style=\"fill: none;\"/><g class=\"overlines-above\"/><g class=\"xaxislayer-above\"><g class=\"xtick\"><text text-anchor=\"middle\" x=\"0\" y=\"463\" transform=\"translate(102.91,0)\" style=\"font-family: 'Open Sans', verdana, arial, sans-serif; font-size: 12px; fill: rgb(42, 63, 95); fill-opacity: 1; white-space: pre; opacity: 1;\">Nov 2023</text></g><g class=\"xtick\"><text text-anchor=\"middle\" x=\"0\" y=\"463\" style=\"font-family: 'Open Sans', verdana, arial, sans-serif; font-size: 12px; fill: rgb(42, 63, 95); fill-opacity: 1; white-space: pre; opacity: 1;\" transform=\"translate(324.01,0)\">Dec 2023</text></g><g class=\"xtick\"><text text-anchor=\"middle\" x=\"0\" y=\"463\" style=\"font-family: 'Open Sans', verdana, arial, sans-serif; font-size: 12px; fill: rgb(42, 63, 95); fill-opacity: 1; white-space: pre; opacity: 1;\" transform=\"translate(552.48,0)\">Jan 2024</text></g><g class=\"xtick\"><text text-anchor=\"middle\" x=\"0\" y=\"463\" style=\"font-family: 'Open Sans', verdana, arial, sans-serif; font-size: 12px; fill: rgb(42, 63, 95); fill-opacity: 1; white-space: pre; opacity: 1;\" transform=\"translate(780.96,0)\">Feb 2024</text></g><g class=\"xtick\"><text text-anchor=\"middle\" x=\"0\" y=\"463\" style=\"font-family: 'Open Sans', verdana, arial, sans-serif; font-size: 12px; fill: rgb(42, 63, 95); fill-opacity: 1; white-space: pre; opacity: 1;\" transform=\"translate(994.69,0)\">Mar 2024</text></g></g><g class=\"yaxislayer-above\"><g class=\"ytick\"><text text-anchor=\"end\" x=\"54\" y=\"4.199999999999999\" transform=\"translate(0,450)\" style=\"font-family: 'Open Sans', verdana, arial, sans-serif; font-size: 12px; fill: rgb(42, 63, 95); fill-opacity: 1; white-space: pre; opacity: 1;\">0</text></g><g class=\"ytick\"><text text-anchor=\"end\" x=\"54\" y=\"4.199999999999999\" style=\"font-family: 'Open Sans', verdana, arial, sans-serif; font-size: 12px; fill: rgb(42, 63, 95); fill-opacity: 1; white-space: pre; opacity: 1;\" transform=\"translate(0,385.08)\">0.5</text></g><g class=\"ytick\"><text text-anchor=\"end\" x=\"54\" y=\"4.199999999999999\" style=\"font-family: 'Open Sans', verdana, arial, sans-serif; font-size: 12px; fill: rgb(42, 63, 95); fill-opacity: 1; white-space: pre; opacity: 1;\" transform=\"translate(0,320.17)\">1</text></g><g class=\"ytick\"><text text-anchor=\"end\" x=\"54\" y=\"4.199999999999999\" style=\"font-family: 'Open Sans', verdana, arial, sans-serif; font-size: 12px; fill: rgb(42, 63, 95); fill-opacity: 1; white-space: pre; opacity: 1;\" transform=\"translate(0,255.25)\">1.5</text></g><g class=\"ytick\"><text text-anchor=\"end\" x=\"54\" y=\"4.199999999999999\" style=\"font-family: 'Open Sans', verdana, arial, sans-serif; font-size: 12px; fill: rgb(42, 63, 95); fill-opacity: 1; white-space: pre; opacity: 1;\" transform=\"translate(0,190.33)\">2</text></g><g class=\"ytick\"><text text-anchor=\"end\" x=\"54\" y=\"4.199999999999999\" style=\"font-family: 'Open Sans', verdana, arial, sans-serif; font-size: 12px; fill: rgb(42, 63, 95); fill-opacity: 1; white-space: pre; opacity: 1;\" transform=\"translate(0,125.42)\">2.5</text></g><g class=\"ytick\"><text text-anchor=\"end\" x=\"54\" y=\"4.199999999999999\" style=\"font-family: 'Open Sans', verdana, arial, sans-serif; font-size: 12px; fill: rgb(42, 63, 95); fill-opacity: 1; white-space: pre; opacity: 1;\" transform=\"translate(0,60.5)\">3</text></g></g><g class=\"overaxes-above\"/></g></g><g class=\"polarlayer\"/><g class=\"smithlayer\"/><g class=\"ternarylayer\"/><g class=\"geolayer\"/><g class=\"funnelarealayer\"/><g class=\"pielayer\"/><g class=\"iciclelayer\"/><g class=\"treemaplayer\"/><g class=\"sunburstlayer\"/><g class=\"glimages\"/><defs id=\"topdefs-3d201a\"><g class=\"clips\"/><clipPath id=\"legend3d201a\"><rect width=\"1093\" height=\"29\" x=\"0\" y=\"0\"/></clipPath></defs><g class=\"layer-above\"><g class=\"imagelayer\"/><g class=\"shapelayer\"/></g><g class=\"infolayer\"><g class=\"legend\" pointer-events=\"all\" transform=\"translate(97,27.400000000000013)\"><rect class=\"bg\" shape-rendering=\"crispEdges\" width=\"1093\" height=\"29\" x=\"0\" y=\"0\" style=\"stroke: rgb(68, 68, 68); stroke-opacity: 1; fill: rgb(255, 255, 255); fill-opacity: 1; stroke-width: 0px;\"/><g class=\"scrollbox\" transform=\"\" clip-path=\"url(#legend3d201a)\"><text class=\"legendtitletext\" text-anchor=\"start\" x=\"2\" y=\"18.2\" style=\"font-family: 'Open Sans', verdana, arial, sans-serif; font-size: 14px; fill: rgb(42, 63, 95); fill-opacity: 1; white-space: pre;\">action_output_cluster_id</text><g class=\"groups\" transform=\"\"><g class=\"traces\" transform=\"translate(184.78125,14.5)\" style=\"opacity: 1;\"><text class=\"legendtext\" text-anchor=\"start\" x=\"40\" y=\"4.680000000000001\" style=\"font-family: 'Open Sans', verdana, arial, sans-serif; font-size: 12px; fill: rgb(42, 63, 95); fill-opacity: 1; white-space: pre;\">204917</text><g class=\"layers\" style=\"opacity: 1;\"><g class=\"legendfill\"/><g class=\"legendlines\"/><g class=\"legendsymbols\"><g class=\"legendpoints\"><path class=\"legendundefined\" d=\"M6,6H-6V-6H6Z\" transform=\"translate(20,0)\" style=\"stroke-width: 0.5px; fill: rgb(99, 110, 250); fill-opacity: 1; stroke: rgb(255, 255, 255); stroke-opacity: 1;\"/></g></g></g><rect class=\"legendtoggle\" x=\"0\" y=\"-9.5\" width=\"88.28125\" height=\"19\" style=\"fill: rgb(0, 0, 0); fill-opacity: 0;\"/></g></g><g class=\"groups\" transform=\"translate(90.78125,0)\"><g class=\"traces\" transform=\"translate(184.78125,14.5)\" style=\"opacity: 1;\"><text class=\"legendtext\" text-anchor=\"start\" x=\"40\" y=\"4.680000000000001\" style=\"font-family: 'Open Sans', verdana, arial, sans-serif; font-size: 12px; fill: rgb(42, 63, 95); fill-opacity: 1; white-space: pre;\">295268</text><g class=\"layers\" style=\"opacity: 1;\"><g class=\"legendfill\"/><g class=\"legendlines\"/><g class=\"legendsymbols\"><g class=\"legendpoints\"><path class=\"legendundefined\" d=\"M6,6H-6V-6H6Z\" transform=\"translate(20,0)\" style=\"stroke-width: 0.5px; fill: rgb(239, 85, 59); fill-opacity: 1; stroke: rgb(255, 255, 255); stroke-opacity: 1;\"/></g></g></g><rect class=\"legendtoggle\" x=\"0\" y=\"-9.5\" width=\"88.28125\" height=\"19\" style=\"fill: rgb(0, 0, 0); fill-opacity: 0;\"/></g></g><g class=\"groups\" transform=\"translate(181.5625,0)\"><g class=\"traces\" transform=\"translate(184.78125,14.5)\" style=\"opacity: 1;\"><text class=\"legendtext\" text-anchor=\"start\" x=\"40\" y=\"4.680000000000001\" style=\"font-family: 'Open Sans', verdana, arial, sans-serif; font-size: 12px; fill: rgb(42, 63, 95); fill-opacity: 1; white-space: pre;\">309408</text><g class=\"layers\" style=\"opacity: 1;\"><g class=\"legendfill\"/><g class=\"legendlines\"/><g class=\"legendsymbols\"><g class=\"legendpoints\"><path class=\"legendundefined\" d=\"M6,6H-6V-6H6Z\" transform=\"translate(20,0)\" style=\"stroke-width: 0.5px; fill: rgb(0, 204, 150); fill-opacity: 1; stroke: rgb(255, 255, 255); stroke-opacity: 1;\"/></g></g></g><rect class=\"legendtoggle\" x=\"0\" y=\"-9.5\" width=\"88.28125\" height=\"19\" style=\"fill: rgb(0, 0, 0); fill-opacity: 0;\"/></g></g><g class=\"groups\" transform=\"translate(272.34375,0)\"><g class=\"traces\" transform=\"translate(184.78125,14.5)\" style=\"opacity: 1;\"><text class=\"legendtext\" text-anchor=\"start\" x=\"40\" y=\"4.680000000000001\" style=\"font-family: 'Open Sans', verdana, arial, sans-serif; font-size: 12px; fill: rgb(42, 63, 95); fill-opacity: 1; white-space: pre;\">199977</text><g class=\"layers\" style=\"opacity: 1;\"><g class=\"legendfill\"/><g class=\"legendlines\"/><g class=\"legendsymbols\"><g class=\"legendpoints\"><path class=\"legendundefined\" d=\"M6,6H-6V-6H6Z\" transform=\"translate(20,0)\" style=\"stroke-width: 0.5px; fill: rgb(171, 99, 250); fill-opacity: 1; stroke: rgb(255, 255, 255); stroke-opacity: 1;\"/></g></g></g><rect class=\"legendtoggle\" x=\"0\" y=\"-9.5\" width=\"88.28125\" height=\"19\" style=\"fill: rgb(0, 0, 0); fill-opacity: 0;\"/></g></g><g class=\"groups\" transform=\"translate(363.125,0)\"><g class=\"traces\" transform=\"translate(184.78125,14.5)\" style=\"opacity: 1;\"><text class=\"legendtext\" text-anchor=\"start\" x=\"40\" y=\"4.680000000000001\" style=\"font-family: 'Open Sans', verdana, arial, sans-serif; font-size: 12px; fill: rgb(42, 63, 95); fill-opacity: 1; white-space: pre;\">335630</text><g class=\"layers\" style=\"opacity: 1;\"><g class=\"legendfill\"/><g class=\"legendlines\"/><g class=\"legendsymbols\"><g class=\"legendpoints\"><path class=\"legendundefined\" d=\"M6,6H-6V-6H6Z\" transform=\"translate(20,0)\" style=\"stroke-width: 0.5px; fill: rgb(255, 161, 90); fill-opacity: 1; stroke: rgb(255, 255, 255); stroke-opacity: 1;\"/></g></g></g><rect class=\"legendtoggle\" x=\"0\" y=\"-9.5\" width=\"88.28125\" height=\"19\" style=\"fill: rgb(0, 0, 0); fill-opacity: 0;\"/></g></g><g class=\"groups\" transform=\"translate(453.90625,0)\"><g class=\"traces\" transform=\"translate(184.78125,14.5)\" style=\"opacity: 1;\"><text class=\"legendtext\" text-anchor=\"start\" x=\"40\" y=\"4.680000000000001\" style=\"font-family: 'Open Sans', verdana, arial, sans-serif; font-size: 12px; fill: rgb(42, 63, 95); fill-opacity: 1; white-space: pre;\">329336</text><g class=\"layers\" style=\"opacity: 1;\"><g class=\"legendfill\"/><g class=\"legendlines\"/><g class=\"legendsymbols\"><g class=\"legendpoints\"><path class=\"legendundefined\" d=\"M6,6H-6V-6H6Z\" transform=\"translate(20,0)\" style=\"stroke-width: 0.5px; fill: rgb(25, 211, 243); fill-opacity: 1; stroke: rgb(255, 255, 255); stroke-opacity: 1;\"/></g></g></g><rect class=\"legendtoggle\" x=\"0\" y=\"-9.5\" width=\"88.28125\" height=\"19\" style=\"fill: rgb(0, 0, 0); fill-opacity: 0;\"/></g></g><g class=\"groups\" transform=\"translate(544.6875,0)\"><g class=\"traces\" transform=\"translate(184.78125,14.5)\" style=\"opacity: 1;\"><text class=\"legendtext\" text-anchor=\"start\" x=\"40\" y=\"4.680000000000001\" style=\"font-family: 'Open Sans', verdana, arial, sans-serif; font-size: 12px; fill: rgb(42, 63, 95); fill-opacity: 1; white-space: pre;\">326089</text><g class=\"layers\" style=\"opacity: 1;\"><g class=\"legendfill\"/><g class=\"legendlines\"/><g class=\"legendsymbols\"><g class=\"legendpoints\"><path class=\"legendundefined\" d=\"M6,6H-6V-6H6Z\" transform=\"translate(20,0)\" style=\"stroke-width: 0.5px; fill: rgb(255, 102, 146); fill-opacity: 1; stroke: rgb(255, 255, 255); stroke-opacity: 1;\"/></g></g></g><rect class=\"legendtoggle\" x=\"0\" y=\"-9.5\" width=\"88.28125\" height=\"19\" style=\"fill: rgb(0, 0, 0); fill-opacity: 0;\"/></g></g><g class=\"groups\" transform=\"translate(635.46875,0)\"><g class=\"traces\" transform=\"translate(184.78125,14.5)\" style=\"opacity: 1;\"><text class=\"legendtext\" text-anchor=\"start\" x=\"40\" y=\"4.680000000000001\" style=\"font-family: 'Open Sans', verdana, arial, sans-serif; font-size: 12px; fill: rgb(42, 63, 95); fill-opacity: 1; white-space: pre;\">309088</text><g class=\"layers\" style=\"opacity: 1;\"><g class=\"legendfill\"/><g class=\"legendlines\"/><g class=\"legendsymbols\"><g class=\"legendpoints\"><path class=\"legendundefined\" d=\"M6,6H-6V-6H6Z\" transform=\"translate(20,0)\" style=\"stroke-width: 0.5px; fill: rgb(182, 232, 128); fill-opacity: 1; stroke: rgb(255, 255, 255); stroke-opacity: 1;\"/></g></g></g><rect class=\"legendtoggle\" x=\"0\" y=\"-9.5\" width=\"88.28125\" height=\"19\" style=\"fill: rgb(0, 0, 0); fill-opacity: 0;\"/></g></g><g class=\"groups\" transform=\"translate(726.25,0)\"><g class=\"traces\" transform=\"translate(184.78125,14.5)\" style=\"opacity: 1;\"><text class=\"legendtext\" text-anchor=\"start\" x=\"40\" y=\"4.680000000000001\" style=\"font-family: 'Open Sans', verdana, arial, sans-serif; font-size: 12px; fill: rgb(42, 63, 95); fill-opacity: 1; white-space: pre;\">191634</text><g class=\"layers\" style=\"opacity: 1;\"><g class=\"legendfill\"/><g class=\"legendlines\"/><g class=\"legendsymbols\"><g class=\"legendpoints\"><path class=\"legendundefined\" d=\"M6,6H-6V-6H6Z\" transform=\"translate(20,0)\" style=\"stroke-width: 0.5px; fill: rgb(255, 151, 255); fill-opacity: 1; stroke: rgb(255, 255, 255); stroke-opacity: 1;\"/></g></g></g><rect class=\"legendtoggle\" x=\"0\" y=\"-9.5\" width=\"88.28125\" height=\"19\" style=\"fill: rgb(0, 0, 0); fill-opacity: 0;\"/></g></g><g class=\"groups\" transform=\"translate(817.03125,0)\"><g class=\"traces\" transform=\"translate(184.78125,14.5)\" style=\"opacity: 1;\"><text class=\"legendtext\" text-anchor=\"start\" x=\"40\" y=\"4.680000000000001\" style=\"font-family: 'Open Sans', verdana, arial, sans-serif; font-size: 12px; fill: rgb(42, 63, 95); fill-opacity: 1; white-space: pre;\">331542</text><g class=\"layers\" style=\"opacity: 1;\"><g class=\"legendfill\"/><g class=\"legendlines\"/><g class=\"legendsymbols\"><g class=\"legendpoints\"><path class=\"legendundefined\" d=\"M6,6H-6V-6H6Z\" transform=\"translate(20,0)\" style=\"stroke-width: 0.5px; fill: rgb(254, 203, 82); fill-opacity: 1; stroke: rgb(255, 255, 255); stroke-opacity: 1;\"/></g></g></g><rect class=\"legendtoggle\" x=\"0\" y=\"-9.5\" width=\"88.28125\" height=\"19\" style=\"fill: rgb(0, 0, 0); fill-opacity: 0;\"/></g></g></g><rect class=\"scrollbar\" rx=\"20\" ry=\"3\" width=\"0\" height=\"0\" x=\"0\" y=\"0\" style=\"fill: rgb(128, 139, 164); fill-opacity: 1;\"/></g><g class=\"g-gtitle\"><text class=\"gtitle\" x=\"60\" y=\"20\" text-anchor=\"start\" dy=\"0em\" style=\"font-family: 'Open Sans', verdana, arial, sans-serif; font-size: 17px; fill: rgb(42, 63, 95); opacity: 1; white-space: pre;\">Top cluster by number of affected users</text></g><g class=\"g-xtitle\"><text class=\"xtitle\" x=\"622.5\" y=\"489.8\" text-anchor=\"middle\" style=\"font-family: 'Open Sans', verdana, arial, sans-serif; font-size: 14px; fill: rgb(42, 63, 95); opacity: 1; white-space: pre;\">Date</text></g><g class=\"g-ytitle\"><text class=\"ytitle\" transform=\"rotate(-90,14.975000000000001,245)\" x=\"14.975000000000001\" y=\"245\" text-anchor=\"middle\" style=\"font-family: 'Open Sans', verdana, arial, sans-serif; font-size: 14px; fill: rgb(42, 63, 95); opacity: 1; white-space: pre;\">Number of failed actions</text></g></g></svg>"
      ]
     },
     "metadata": {},
     "output_type": "display_data"
    }
   ],
   "source": [
    "top_clusters_by_unique_users_fig.show()"
   ]
  },
  {
   "cell_type": "markdown",
   "id": "c0c193ef",
   "metadata": {
    "slideshow": {
     "slide_type": "subslide"
    }
   },
   "source": [
    "# Statistics: Top clusters by number of affected users\n",
    "Outage in external service:"
   ]
  },
  {
   "cell_type": "code",
   "execution_count": 373,
   "id": "24e9bbf5",
   "metadata": {
    "slideshow": {
     "slide_type": "skip"
    }
   },
   "outputs": [
    {
     "data": {
      "text/html": [
       "<div>\n",
       "<style scoped>\n",
       "    .dataframe tbody tr th:only-of-type {\n",
       "        vertical-align: middle;\n",
       "    }\n",
       "\n",
       "    .dataframe tbody tr th {\n",
       "        vertical-align: top;\n",
       "    }\n",
       "\n",
       "    .dataframe thead th {\n",
       "        text-align: right;\n",
       "    }\n",
       "</style>\n",
       "<table border=\"1\" class=\"dataframe\">\n",
       "  <thead>\n",
       "    <tr style=\"text-align: right;\">\n",
       "      <th></th>\n",
       "      <th>action_output_date</th>\n",
       "      <th>action_output_cluster_id</th>\n",
       "      <th>unique_users_num</th>\n",
       "      <th>actions_num</th>\n",
       "    </tr>\n",
       "  </thead>\n",
       "  <tbody>\n",
       "    <tr>\n",
       "      <th>23853</th>\n",
       "      <td>2024-03-19 00:00:00+00:00</td>\n",
       "      <td>204917</td>\n",
       "      <td>3</td>\n",
       "      <td>157</td>\n",
       "    </tr>\n",
       "    <tr>\n",
       "      <th>7650</th>\n",
       "      <td>2024-01-09 00:00:00+00:00</td>\n",
       "      <td>309408</td>\n",
       "      <td>3</td>\n",
       "      <td>4</td>\n",
       "    </tr>\n",
       "    <tr>\n",
       "      <th>23572</th>\n",
       "      <td>2024-03-12 00:00:00+00:00</td>\n",
       "      <td>199977</td>\n",
       "      <td>3</td>\n",
       "      <td>3</td>\n",
       "    </tr>\n",
       "    <tr>\n",
       "      <th>9803</th>\n",
       "      <td>2024-02-01 00:00:00+00:00</td>\n",
       "      <td>295268</td>\n",
       "      <td>3</td>\n",
       "      <td>7</td>\n",
       "    </tr>\n",
       "    <tr>\n",
       "      <th>24659</th>\n",
       "      <td>2024-03-23 00:00:00+00:00</td>\n",
       "      <td>199341</td>\n",
       "      <td>2</td>\n",
       "      <td>2</td>\n",
       "    </tr>\n",
       "    <tr>\n",
       "      <th>24657</th>\n",
       "      <td>2024-03-23 00:00:00+00:00</td>\n",
       "      <td>199331</td>\n",
       "      <td>2</td>\n",
       "      <td>3</td>\n",
       "    </tr>\n",
       "    <tr>\n",
       "      <th>39402</th>\n",
       "      <td>2024-04-10 00:00:00+00:00</td>\n",
       "      <td>72963</td>\n",
       "      <td>2</td>\n",
       "      <td>3</td>\n",
       "    </tr>\n",
       "    <tr>\n",
       "      <th>5768</th>\n",
       "      <td>2023-12-07 00:00:00+00:00</td>\n",
       "      <td>321665</td>\n",
       "      <td>2</td>\n",
       "      <td>2</td>\n",
       "    </tr>\n",
       "    <tr>\n",
       "      <th>9811</th>\n",
       "      <td>2024-02-03 00:00:00+00:00</td>\n",
       "      <td>288051</td>\n",
       "      <td>2</td>\n",
       "      <td>2</td>\n",
       "    </tr>\n",
       "    <tr>\n",
       "      <th>14111</th>\n",
       "      <td>2024-02-10 00:00:00+00:00</td>\n",
       "      <td>264321</td>\n",
       "      <td>2</td>\n",
       "      <td>2</td>\n",
       "    </tr>\n",
       "  </tbody>\n",
       "</table>\n",
       "</div>"
      ],
      "text/plain": [
       "             action_output_date  action_output_cluster_id  unique_users_num  \\\n",
       "23853 2024-03-19 00:00:00+00:00                    204917                 3   \n",
       "7650  2024-01-09 00:00:00+00:00                    309408                 3   \n",
       "23572 2024-03-12 00:00:00+00:00                    199977                 3   \n",
       "9803  2024-02-01 00:00:00+00:00                    295268                 3   \n",
       "24659 2024-03-23 00:00:00+00:00                    199341                 2   \n",
       "24657 2024-03-23 00:00:00+00:00                    199331                 2   \n",
       "39402 2024-04-10 00:00:00+00:00                     72963                 2   \n",
       "5768  2023-12-07 00:00:00+00:00                    321665                 2   \n",
       "9811  2024-02-03 00:00:00+00:00                    288051                 2   \n",
       "14111 2024-02-10 00:00:00+00:00                    264321                 2   \n",
       "\n",
       "       actions_num  \n",
       "23853          157  \n",
       "7650             4  \n",
       "23572            3  \n",
       "9803             7  \n",
       "24659            2  \n",
       "24657            3  \n",
       "39402            3  \n",
       "5768             2  \n",
       "9811             2  \n",
       "14111            2  "
      ]
     },
     "execution_count": 373,
     "metadata": {},
     "output_type": "execute_result"
    }
   ],
   "source": [
    "cluster_daily_stats.sort_values(\"unique_users_num\", ascending=False).head(10)"
   ]
  },
  {
   "cell_type": "code",
   "execution_count": 378,
   "id": "370a28f3",
   "metadata": {},
   "outputs": [
    {
     "name": "stdout",
     "output_type": "stream",
     "text": [
      "error An unexpected error occurred: \"https://registry.yarnpkg.com/whatwg-fetch/-/whatwg-fetch-2.0.4.tgz: Request failed \\\"500 Internal Server Error\\\"\".\n",
      "info If you think this is a bug, please open a bug report with the information provided in \"/home/circleci/project/yarn-error.log\".\n",
      "info Visit https://yarnpkg.com/en/docs/cli/install for documentation about this command.\n"
     ]
    }
   ],
   "source": [
    "print(actions.loc[295268, \"action_output_failure\"])"
   ]
  },
  {
   "cell_type": "markdown",
   "id": "b320c823",
   "metadata": {},
   "source": [
    "Lint error in a commonly edited file(s):"
   ]
  },
  {
   "cell_type": "code",
   "execution_count": 384,
   "id": "daee0417",
   "metadata": {},
   "outputs": [
    {
     "name": "stdout",
     "output_type": "stream",
     "text": [
      "\n",
      "  This project uses prettier to format all JavaScript code.\n",
      "    Please run yarn prettier-all and add changes to files listed below to your commit:\n",
      "\n",
      "\n",
      "packages/react-test-renderer/src/ReactTestRenderer.js\n"
     ]
    }
   ],
   "source": [
    "print(actions.loc[309408, \"action_output_failure\"])"
   ]
  },
  {
   "cell_type": "markdown",
   "id": "e4a192d8",
   "metadata": {
    "slideshow": {
     "slide_type": "slide"
    }
   },
   "source": [
    "# Integrations\n",
    "1. **Incident Management** - widespread errors trigger incident management proc.\n",
    "2. **Impact Assessment** - alerts have information about the number of affected users.\n",
    "3. **Remediation Information** - Users can add remediation steps to error clusters.\n",
    "4. **Error Suppression** - certain widespread errors can be suppressed and the the integration process can be resumed.\n",
    "5. **Batch Retry** - once the root cause is resolved we can batch retry validation process for a precise set of blocked Code Reviews.\n",
    "6. **Topline Metrics** - we estimate the impact of specific widespread errors on the topline metrics measuring developer productivity."
   ]
  },
  {
   "cell_type": "markdown",
   "id": "e9115fbe",
   "metadata": {
    "slideshow": {
     "slide_type": "slide"
    }
   },
   "source": [
    "# Summary\n",
    "\n",
    "1. Clustering of near-identical documents eliminates the need of maintaining a long list of normalization rules.\n",
    "2. Minhash and LSH Forest are efficient solutions for detecting near-identical documents. Proposed settings proposed density of ~2M cluster per 1 GB.\n",
    "3. For the React case study, during the 1 year period we observed 350k erros. Proposed pipeline produced 300k unique error clusters taking 150MB.\n",
    "4. Proposed solution scales well and can be deployed in large CI systems."
   ]
  },
  {
   "cell_type": "code",
   "execution_count": 405,
   "id": "380f8b08",
   "metadata": {
    "slideshow": {
     "slide_type": "skip"
    }
   },
   "outputs": [
    {
     "name": "stdout",
     "output_type": "stream",
     "text": [
      "Density: 2097152.0\n",
      "Number of clusters: 307883\n",
      "Number of clusters: 341630\n",
      "Space used in MB: 150.33349609375\n"
     ]
    }
   ],
   "source": [
    "print(\"Density:\", 2 ** 30 / 256 / 2)\n",
    "print(\"Number of errors:\", actions.shape[0])\n",
    "print(\"Number of clusters:\", actions[\"action_output_cluster_id\"].value_counts().shape[0])\n",
    "print(\"Space used in MB:\", actions[\"action_output_cluster_id\"].value_counts().shape[0] * 256 * 2 / 2 ** 20)"
   ]
  }
 ],
 "metadata": {
  "celltoolbar": "Slideshow",
  "kernelspec": {
   "display_name": "Python 3 (ipykernel)",
   "language": "python",
   "name": "python3"
  },
  "language_info": {
   "codemirror_mode": {
    "name": "ipython",
    "version": 3
   },
   "file_extension": ".py",
   "mimetype": "text/x-python",
   "name": "python",
   "nbconvert_exporter": "python",
   "pygments_lexer": "ipython3",
   "version": "3.12.0"
  }
 },
 "nbformat": 4,
 "nbformat_minor": 5
}
